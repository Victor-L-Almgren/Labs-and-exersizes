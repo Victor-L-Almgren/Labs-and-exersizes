{
 "cells": [
  {
   "cell_type": "code",
   "execution_count": 1,
   "metadata": {},
   "outputs": [
    {
     "name": "stdout",
     "output_type": "stream",
     "text": [
      "25\n"
     ]
    }
   ],
   "source": [
    "def power(x, n):  # Define a function named \"power\" that takes two parameters, x and n. \n",
    "    if n == 1:  # If n is equal to 1, return x (base case).\n",
    "        return x\n",
    "    else:\n",
    "        return x * power(x, n-1)  # Recursive call: multiply x by the result of the function called with x and n-1.\n",
    "\n",
    "test = power(5, 2)  \n",
    "print(test)"
   ]
  },
  {
   "cell_type": "code",
   "execution_count": 2,
   "metadata": {},
   "outputs": [
    {
     "name": "stdout",
     "output_type": "stream",
     "text": [
      "-25\n"
     ]
    }
   ],
   "source": [
    "#Task 2 - Find smallest number in a list\n",
    "def find_smallest_number(L):  # Define a function named \"find_smallest_number\" that takes a list, L, as a parameter.\n",
    "    if len(L) == 1:  # If the length of the list is 1, return the only element in the list (base case).\n",
    "        return L[0]\n",
    "    else:\n",
    "        tmp_small = find_smallest_number(L[1:])  # Recursive call: find the smallest number in the rest of the list.\n",
    "        if L[0] < tmp_small:  # Compare the first element of the list with the smallest number found in the rest.\n",
    "            return L[0]  # If the first element is smaller, return it as the smallest number.\n",
    "        else:\n",
    "            return tmp_small  # If the smallest number in the rest is smaller, return that as the smallest number.\n",
    "\n",
    "L = [-12, 43, -3, 60, 35, -25, 7, 86, 0]  \n",
    "result_smallest_list = find_smallest_number(L) \n",
    "print(result_smallest_list) "
   ]
  },
  {
   "cell_type": "code",
   "execution_count": 16,
   "metadata": {},
   "outputs": [
    {
     "name": "stdout",
     "output_type": "stream",
     "text": [
      "Target found at index 2\n"
     ]
    }
   ],
   "source": [
    "#Task 3 - Recursive binary search \n",
    "def binary_search(lst, target, low_index, high_index):  # Define a binary search function with parameters: lst, target, low_index, and high_index.\n",
    "    if len(range(low_index, high_index)) > 1:  # If the range between low_index and high_index is greater than 1 (more than one element),\n",
    "        middle_index = (low_index + high_index)//2  # Calculate the middle index.\n",
    "        if target == lst[middle_index]:  # If the target is equal to the element at the middle index,\n",
    "            return f\"Target found at index {middle_index}\"  # Return a message indicating that the target is found at the middle index.\n",
    "        elif target < lst[middle_index]:  # If the target is less than the element at the middle index,\n",
    "            return binary_search(lst, target, low_index, middle_index)  # Recursively call the function with updated high_index.\n",
    "        else:  # If the target is greater than the element at the middle index,\n",
    "            return binary_search(lst, target, middle_index, high_index+1)  # Recursively call the function with updated low_index.\n",
    "    else:\n",
    "        return \"Target not in list\"  # If the range between low_index and high_index is not greater than 1, the target is not in the list.\n",
    "\n",
    "A = [-10, -3, 5, 21, 47, 55, 81]\n",
    "test = binary_search(A, 5, 0, 6)\n",
    "print(test)"
   ]
  },
  {
   "cell_type": "code",
   "execution_count": null,
   "metadata": {},
   "outputs": [],
   "source": []
  }
 ],
 "metadata": {
  "kernelspec": {
   "display_name": "Python 3",
   "language": "python",
   "name": "python3"
  },
  "language_info": {
   "codemirror_mode": {
    "name": "ipython",
    "version": 3
   },
   "file_extension": ".py",
   "mimetype": "text/x-python",
   "name": "python",
   "nbconvert_exporter": "python",
   "pygments_lexer": "ipython3",
   "version": "3.11.5"
  }
 },
 "nbformat": 4,
 "nbformat_minor": 2
}
