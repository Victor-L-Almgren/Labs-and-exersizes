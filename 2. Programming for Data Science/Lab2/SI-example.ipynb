{
 "cells": [
  {
   "cell_type": "code",
   "execution_count": 3,
   "metadata": {},
   "outputs": [],
   "source": [
    "class Employee:\n",
    "    def __init__(self, name, age, salary, title, division):\n",
    "        self.name = name\n",
    "        self.age = age\n",
    "        self.salary = salary\n",
    "        self.title = title\n",
    "        self.division = division\n",
    "\n",
    "    def increase_salary(self, percentage=5):\n",
    "        self.salary *= (1+(percentage/100))\n",
    "        print(f'Increased {self.name}´s salary with {percentage}%.')\n",
    "\n",
    "    def change_title(self, new_title):\n",
    "        old_title = self.title\n",
    "        self.title = new_title\n",
    "        print(f\"Changed {self.name}´s title from {old_title} to {self.title}\")\n",
    "\n",
    "class Manager(Employee):\n",
    "    def __init__(self, name, age, salary, title, division):\n",
    "        super().__init__(name, age, salary, title, division)\n",
    "        self.division = division\n",
    "        self.title = f'Manager of {self.division}.'\n",
    "        self.suboordinates = []\n",
    "\n",
    "    def add_suboordinate(self, employee):\n",
    "        self.suboordinates.append(employee)\n",
    "        print(f'Added {employee.name} to {self.name}´s list of suboordinates')\n",
    "\n",
    "    def __add__(self, employee):\n",
    "        self.suboordinates.append(employee)\n",
    "        print(f'Added {employee.name} to {self.name}´s list of suboordinates')\n",
    "\n",
    "    def fire_employee(self, employee):\n",
    "        if employee in self.suboordinates:\n",
    "            employee.change_title('Fired')\n",
    "            self.suboordinates.remove(employee)\n",
    "            print(f'Fired {employee.name} from {self.division }')\n",
    "        else:\n",
    "            print(f'Provided person is not an employee')\n",
    "\n",
    "    def __sub__(self, employee):\n",
    "        if employee in self.suboordinates:\n",
    "            employee.change_title('Fired')\n",
    "            self.suboordinates.remove(employee)\n",
    "            print(f'Fired {employee.name} from {self.division }')\n",
    "        else:\n",
    "            print(f'Provided person is not an employee')"
   ]
  },
  {
   "cell_type": "code",
   "execution_count": null,
   "metadata": {},
   "outputs": [
    {
     "name": "stdout",
     "output_type": "stream",
     "text": [
      "Melker is the head of the ITE division\n",
      "Added Victor to Melker´s list of suboordinates\n",
      "Added Dennis to Melker´s list of suboordinates\n",
      "Changed Victor´s title from SI-instructor to Fired\n",
      "Fired Victor from ITE\n",
      "Provided person is not an employee\n"
     ]
    }
   ],
   "source": [
    "emp1 = Employee('Victor', 25, 30000, 'SI-instructor', 'ITE')\n",
    "emp2 =Employee('Dennis', 25, 30000, 'SI-instructor', 'ITE')\n",
    "man1 = Manager('Melker', 25, 40000, 'Teacher', 'ITE')\n",
    "\n",
    "print(f'{man1.name} is the head of the {man1.division} division')\n",
    "man1.add_suboordinate(emp1)\n",
    "man1 + emp2\n",
    "man1 - emp1\n",
    "man1 - emp1"
   ]
  },
  {
   "cell_type": "code",
   "execution_count": null,
   "metadata": {},
   "outputs": [],
   "source": []
  }
 ],
 "metadata": {
  "kernelspec": {
   "display_name": "Python 3",
   "language": "python",
   "name": "python3"
  },
  "language_info": {
   "codemirror_mode": {
    "name": "ipython",
    "version": 3
   },
   "file_extension": ".py",
   "mimetype": "text/x-python",
   "name": "python",
   "nbconvert_exporter": "python",
   "pygments_lexer": "ipython3",
   "version": "3.12.7"
  }
 },
 "nbformat": 4,
 "nbformat_minor": 2
}
