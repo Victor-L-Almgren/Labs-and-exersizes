{
 "cells": [
  {
   "cell_type": "code",
   "execution_count": 17,
   "metadata": {},
   "outputs": [],
   "source": [
    "# Exempeluppgifter"
   ]
  },
  {
   "cell_type": "code",
   "execution_count": 18,
   "metadata": {},
   "outputs": [
    {
     "name": "stdout",
     "output_type": "stream",
     "text": [
      "10\n",
      "lekyC\n",
      "Move from A to C.\n",
      "Move from A to B\n",
      "Move from C to B.\n",
      "Move from A to C\n",
      "Move from B to A.\n",
      "Move from B to C\n",
      "Move from A to C.\n"
     ]
    }
   ],
   "source": [
    "#Basic recursive function that returns the sum of all the number leading up to the number given as an argument\n",
    "def sum(n): \n",
    "\tif n == 1:\n",
    "\t\treturn 1      #Base case\n",
    "\telse: \n",
    "\t\treturn n + sum(n-1)   #Recursive call\n",
    "\n",
    "test = sum(4)\n",
    "print(test)\n",
    "\n",
    "#Reverse a string with recursion\n",
    "def reverse_string(string):\n",
    "\tif len(string) == 1:     #Base case\n",
    "\t\treturn string\n",
    "\telse:\n",
    "\t\treturn reverse_string(string[1:]) + string[0]   #Recursion\n",
    "\t\n",
    "test = reverse_string(\"Cykel\")\n",
    "print(test)\n",
    "\n",
    "#Hanois tower with recursion\n",
    "def hanoi(N, A, B, C):\n",
    "\tif N == 1:\n",
    "\t\tprint(f\"Move from {A} to {C}.\")     #Base case\n",
    "\telse:\n",
    "\t\thanoi(N-1, A, C, B)     #Recursion\n",
    "\t\tprint(f\"Move from {A} to {C}\")      \n",
    "\t\thanoi(N-1, B, A, C)\n",
    "\t\t\n",
    "test = hanoi(3, \"A\", \"B\", \"C\")"
   ]
  },
  {
   "cell_type": "code",
   "execution_count": 19,
   "metadata": {},
   "outputs": [
    {
     "name": "stdout",
     "output_type": "stream",
     "text": [
      "2.8284271247461903\n",
      "(1, 2)\n"
     ]
    }
   ],
   "source": [
    "#Simple class\n",
    "class Coordinate(object):   #Definition, the class inherits from the object class. \n",
    "\tdef __init__(self, x, y):      #Constructor of the object in the class.\n",
    "\t\tself.x = x\n",
    "\t\tself.y = y\n",
    "\tdef distance(self, other):      #Method for the objects in the class, in this case we calculate the distance between two points. \n",
    "\t\tx_diff_sq = (self.x - other.x)**2\n",
    "\t\ty_diff_sq = (self.y - other.y)**2\n",
    "\t\treturn (x_diff_sq + y_diff_sq)**0.5\n",
    "\tdef __str__(self):      #String function that lets you print the objects in a desired way. \n",
    "\t\treturn \"(\"+str(self.x)+\", \"+str(self.y)+\")\"\n",
    "\n",
    "a = Coordinate(1, 2)    #Creating an intance (object) of the defined class\n",
    "b = Coordinate(3, 4)\n",
    "print(a.distance(b))    #Calculating the ditance to another point with the method we defined. \n",
    "print(a)       #Printing the object \"a\""
   ]
  },
  {
   "cell_type": "code",
   "execution_count": 20,
   "metadata": {},
   "outputs": [
    {
     "name": "stdout",
     "output_type": "stream",
     "text": [
      "[1, 2, 3, 4] [1, 2, 3, 4]\n"
     ]
    }
   ],
   "source": [
    "#Mutable object\n",
    "myLst = [1, 2, 3]\n",
    "myNewLst = myLst\n",
    "myNewLst.append(4)\n",
    "print(myLst, myNewLst)"
   ]
  },
  {
   "cell_type": "code",
   "execution_count": 21,
   "metadata": {},
   "outputs": [
    {
     "name": "stdout",
     "output_type": "stream",
     "text": [
      "\n",
      "Added Amanda to Emma's team.\n",
      "Added Erik to Emma's team.\n",
      "Added Adrian to Amanda's team.\n",
      "Added Alma to Erik's team.\n",
      "Added Adam to Adrian's team.\n",
      "Added Nicholas to Adrian's team.\n",
      "Added Victor to Adrian's team.\n",
      "Added Elizabete to Adrian's team.\n",
      "Added Norea to Adrian's team.\n",
      "Added Jacob to Adrian's team.\n",
      "\n",
      "ABC Company's employees:\n",
      "Name: Emma, employee_id: 1, email: name@company.com, position: CEO, salary: 35000\n",
      "Name: Amanda, employee_id: 2, email: name@company.com, position: Manager, salary: 35000\n",
      "Name: Erik, employee_id: 3, email: name@company.com, position: Manager, salary: 35000\n",
      "Name: Adrian, employee_id: 4, email: name@company.com, position: Manager, salary: 35000\n",
      "Name: Alma, employee_id: 4, email: name@company.com, position: Manager, salary: 35000\n",
      "Name: Adam, employee_id: 6, email: name@company.com, position: sales, salary: 35000\n",
      "Name: Nicholas, employee_id: 7, email: name@company.com, position: sales, salary: 35000\n",
      "Name: Victor, employee_id: 8, email: name@company.com, position: sales, salary: 35000\n",
      "Name: Elizabete, employee_id: 9, email: name@company.com, position: sales, salary: 35000\n",
      "Name: Norea, employee_id: 10, email: name@company.com, position: sales, salary: 35000\n",
      "Name: Jacob, employee_id: 11, email: name@company.com, position: sales, salary: 35000\n",
      "Total number of employees is 11.\n",
      "\n",
      "Fired Erik from ABC Company.\n",
      "Transferred Erik's subordinates to Emma.\n",
      "Fired Nicholas from ABC Company.\n",
      "Erik is not an employee under ABC Company.\n",
      "Fired Adrian from ABC Company.\n",
      "Transferred Adrian's subordinates to Amanda.\n",
      "Fired Jacob from ABC Company.\n",
      "ERROR: Employees must be added to managers.\n",
      "\n",
      "ABC Company's employees:\n",
      "Name: Emma, employee_id: 1, email: name@company.com, position: CEO, salary: 35000\n",
      "Name: Amanda, employee_id: 2, email: name@company.com, position: Manager, salary: 35000\n",
      "Name: Alma, employee_id: 4, email: name@company.com, position: Manager, salary: 35000\n",
      "Name: Adam, employee_id: 6, email: name@company.com, position: sales, salary: 35000\n",
      "Name: Victor, employee_id: 8, email: name@company.com, position: sales, salary: 35000\n",
      "Name: Elizabete, employee_id: 9, email: name@company.com, position: sales, salary: 35000\n",
      "Name: Norea, employee_id: 10, email: name@company.com, position: sales, salary: 35000\n",
      "Total number of employees is 7.\n",
      "\n",
      "Amanda's Subordinates:\n",
      "Name: Adam, employee_id: 6, email: name@company.com, position: sales, salary: 35000\n",
      "Name: Victor, employee_id: 8, email: name@company.com, position: sales, salary: 35000\n",
      "Name: Elizabete, employee_id: 9, email: name@company.com, position: sales, salary: 35000\n",
      "Name: Norea, employee_id: 10, email: name@company.com, position: sales, salary: 35000\n",
      "\n",
      "\n",
      "Current inventory is:\n",
      " - 5 cars to a price of 10000 per car\n",
      " - 3 boats to a price of 25000 per boat\n",
      " - 4 planes to a price of 100000 per plane\n",
      " - 1 trains to a price of 50000 per train\n",
      " - 1 cars to a price of 15000 per car\n",
      "\n",
      "Victor booked a meeting with Norea at ABC Transportation Company in Halmstad. The date is 25/11 and the time is 13:00.\n",
      "\n",
      "Rescheduled meeting with Norea to the date 1/12 and time 14:00.\n",
      "\n",
      "Booked meetings:\n",
      "Employee: Victor, Client: Norea, Date: 1/12, Time: 14:00.\n",
      "\n",
      "Victor sold 4 planes to the price of 100000 each.\n",
      "\n"
     ]
    },
    {
     "ename": "TypeError",
     "evalue": "unsupported operand type(s) for -: 'generator' and 'int'",
     "output_type": "error",
     "traceback": [
      "\u001b[1;31m---------------------------------------------------------------------------\u001b[0m",
      "\u001b[1;31mTypeError\u001b[0m                                 Traceback (most recent call last)",
      "Cell \u001b[1;32mIn[21], line 284\u001b[0m\n\u001b[0;32m    282\u001b[0m emp8\u001b[38;5;241m.\u001b[39mmake_sale(inventory1, item3, \u001b[38;5;241m4\u001b[39m)\n\u001b[0;32m    283\u001b[0m \u001b[38;5;28mprint\u001b[39m()\n\u001b[1;32m--> 284\u001b[0m \u001b[43mman2\u001b[49m\u001b[38;5;241;43m.\u001b[39;49m\u001b[43mget_subordinates_sales\u001b[49m\u001b[43m(\u001b[49m\u001b[43m)\u001b[49m\n\u001b[0;32m    285\u001b[0m \u001b[38;5;28mprint\u001b[39m()\n\u001b[0;32m    286\u001b[0m inventory1\u001b[38;5;241m.\u001b[39mdisplay_inventory()\n",
      "Cell \u001b[1;32mIn[21], line 58\u001b[0m, in \u001b[0;36mManager.get_subordinates_sales\u001b[1;34m(self)\u001b[0m\n\u001b[0;32m     57\u001b[0m \u001b[38;5;28;01mdef\u001b[39;00m \u001b[38;5;21mget_subordinates_sales\u001b[39m(\u001b[38;5;28mself\u001b[39m):\n\u001b[1;32m---> 58\u001b[0m     total_sum \u001b[38;5;241m=\u001b[39m \u001b[38;5;28;43msum\u001b[39;49m\u001b[43m(\u001b[49m\u001b[38;5;28;43msum\u001b[39;49m\u001b[43m(\u001b[49m\u001b[43msubordinate\u001b[49m\u001b[38;5;241;43m.\u001b[39;49m\u001b[43mearnings\u001b[49m\u001b[43m)\u001b[49m\u001b[43m \u001b[49m\u001b[38;5;28;43;01mfor\u001b[39;49;00m\u001b[43m \u001b[49m\u001b[43msubordinate\u001b[49m\u001b[43m \u001b[49m\u001b[38;5;129;43;01min\u001b[39;49;00m\u001b[43m \u001b[49m\u001b[38;5;28;43mself\u001b[39;49m\u001b[38;5;241;43m.\u001b[39;49m\u001b[43msubordinates\u001b[49m\u001b[43m)\u001b[49m\n\u001b[0;32m     59\u001b[0m     \u001b[38;5;28mprint\u001b[39m(\u001b[38;5;124mf\u001b[39m\u001b[38;5;124m\"\u001b[39m\u001b[38;5;124mThe total earnings of \u001b[39m\u001b[38;5;132;01m{\u001b[39;00m\u001b[38;5;28mself\u001b[39m\u001b[38;5;241m.\u001b[39mname\u001b[38;5;132;01m}\u001b[39;00m\u001b[38;5;124m'\u001b[39m\u001b[38;5;124ms subordinates is \u001b[39m\u001b[38;5;132;01m{\u001b[39;00mtotal_sum\u001b[38;5;132;01m}\u001b[39;00m\u001b[38;5;124m.\u001b[39m\u001b[38;5;124m\"\u001b[39m)\n",
      "Cell \u001b[1;32mIn[18], line 6\u001b[0m, in \u001b[0;36msum\u001b[1;34m(n)\u001b[0m\n\u001b[0;32m      4\u001b[0m \t\u001b[38;5;28;01mreturn\u001b[39;00m \u001b[38;5;241m1\u001b[39m      \u001b[38;5;66;03m#Base case\u001b[39;00m\n\u001b[0;32m      5\u001b[0m \u001b[38;5;28;01melse\u001b[39;00m: \n\u001b[1;32m----> 6\u001b[0m \t\u001b[38;5;28;01mreturn\u001b[39;00m n \u001b[38;5;241m+\u001b[39m \u001b[38;5;28msum\u001b[39m(\u001b[43mn\u001b[49m\u001b[38;5;241;43m-\u001b[39;49m\u001b[38;5;241;43m1\u001b[39;49m)\n",
      "\u001b[1;31mTypeError\u001b[0m: unsupported operand type(s) for -: 'generator' and 'int'"
     ]
    }
   ],
   "source": [
    "#Lab 2 -part 1 and 2 toghether. \n",
    "\n",
    "class Employee:\n",
    "    def __init__(self, name, employee_id, email, position, salary):\n",
    "        self.name = name\n",
    "        self.employee_id = employee_id\n",
    "        self.email = email\n",
    "        self.position = position\n",
    "        self.salary = salary\n",
    "        self.earnings = []\n",
    "        self.manager = None\n",
    "\n",
    "    def get_details(self):\n",
    "        return f\"Name: {self.name}, employee_id: {self.employee_id}, email: {self.email}, position: {self.position}, salary: {self.salary}\"\n",
    "   \n",
    "    def salary_raise(self, percent):\n",
    "        print(f\"Increased {self.name}'s salary by {percent}%.\")\n",
    "        percent = (percent / 100) + 1\n",
    "        self.salary *= percent\n",
    "\n",
    "    def calculate_bonus(self):\n",
    "        bonus = self.salary * 0.05\n",
    "        return bonus\n",
    "    \n",
    "    def make_sale(self, inventory, item, amount):\n",
    "        sale = inventory.remove_item(item, amount)\n",
    "        if sale is not None:\n",
    "            print(f\"{self.name} sold {amount} {item.name}s to the price of {item.price} each.\")\n",
    "            self.earnings.append(sale.price * amount)\n",
    "\n",
    "class Manager(Employee):\n",
    "    def __init__(self, name, employee_id, email, position, salary):\n",
    "        super().__init__(name, employee_id, email, position, salary)\n",
    "        self.subordinates = []\n",
    "        self.subordinates_sales = []\n",
    "        self.manager = None\n",
    "\n",
    "    def add_subordinate(self, employee):\n",
    "        if employee in self.subordinates:\n",
    "            return\n",
    "        else: \n",
    "            self.subordinates.append(employee)\n",
    "            employee.manager = self\n",
    "\n",
    "    def remove_subordinate(self, subordinate_to_remove):\n",
    "        if subordinate_to_remove in self.subordinates:\n",
    "            self.subordinates.remove(subordinate_to_remove)\n",
    "            subordinate_to_remove.manager = None\n",
    "        else:\n",
    "            return\n",
    "\n",
    "    def get_subordinates(self):\n",
    "        print(f\"{self.name}'s Subordinates:\")\n",
    "        for employee in self.subordinates:\n",
    "            print(employee.get_details())\n",
    "\n",
    "    def get_subordinates_sales(self):\n",
    "        total_sum = sum(sum(subordinate.earnings) for subordinate in self.subordinates)\n",
    "        print(f\"The total earnings of {self.name}'s subordinates is {total_sum}.\")\n",
    "\n",
    "    def calculate_bonus(self):\n",
    "        subordinates_salaries = 0\n",
    "        for subordinate in self.subordinates:\n",
    "            subordinates_salaries += subordinate.salary\n",
    "        manager_bonus = super().calculate_bonus() + (subordinates_salaries * 0.01)\n",
    "        return manager_bonus\n",
    "    \n",
    "class Company:\n",
    "    def __init__(self, name, general_manager):\n",
    "        self.name = name\n",
    "        self.employees = [general_manager] #Adding the general manager to the list of employees imidiatly. \n",
    "        self.general_manager = general_manager #Adding the attribute general manager\n",
    "        \n",
    "    def add_employee(self, employee, manager_id):\n",
    "        try:    # I use a try except block to rule the exception that is raised when an instnce of manager is added to an instance om employee. \n",
    "            stack = [self.general_manager]  #Creating the stack for the DFS. \n",
    "            while stack:    #Creating a while loop that will itterate as long as the stack is not empty. \n",
    "                current_manager = stack.pop()  #selecting the manager for the current itteration of the while loop by popping the first item from the stack. \n",
    "                if current_manager.employee_id == manager_id:   #Checking if the selected manager is the one we are looking for. If so:\n",
    "                    current_manager.add_subordinate(employee)   #We call the add_subordinate method from the manager class to set the employee as a subordinate to the manager.\n",
    "                    print(f\"Added {employee.name} to {current_manager.name}'s team.\")\n",
    "                    self.employees.append(employee)   #Adding the employee to the list of employees of employees \n",
    "                    return\n",
    "                stack.extend(reversed(current_manager.subordinates))      #If the manager was not found, we add the list of subordinates of the current manager to the stack in reversed order (so that the last subordinate is processed first) and begin a new itteration. This creates the depth first loop.\n",
    "            print(f\"Manager with ID {manager_id} not found in the company.\")\n",
    "        except AttributeError:      # If an exception is raised it is becasue we tried to add a manager to an employee.\n",
    "            print(\"ERROR: Employees must be added to managers.\")\n",
    "\n",
    "    def remove_employee(self, employee):\n",
    "        if employee in self.employees:      # Checking if the employee is in the list of employees.\n",
    "            print(f\"Fired {employee.name} from {self.name}.\") \n",
    "            if isinstance(employee, Manager):   #Checking if the employee we want to remove is a manager. If the employee is only an employee, we jump to removing the employee from the company and from the employees managers list of subordinates. \n",
    "                if employee.manager:    #If it is a manager we want to remove, we check if that manager also have a manager. \n",
    "                    for subordinate in employee.subordinates:       #If the manager has a manager, we loop through the subordinates of the manager to be removed. \n",
    "                        employee.manager.add_subordinate(subordinate)       #For each subordinate of the manager we want to remove, we use the add_subordinate method to add the subordinates of the manager to its manager. \n",
    "                    print(f\"Transferred {employee.name}'s subordinates to {employee.manager.name}.\")\n",
    "                else:\n",
    "                    print(f\"No manager found for {employee.name}. Subordinates not transferred.\")   #If the manager we want to remove does not have a manager, we print that we can not transfer the managers subordinates. \n",
    "            self.employees.remove(employee)        #Deleting the employee from the companys list of employees\n",
    "            employee.manager.subordinates.remove(employee)      #Deleting the employee from its managers list of employees. \n",
    "        else:\n",
    "            print(f\"{employee.name} is not an employee under {self.name}.\")     #If the employee we want to remove is not in the list of employees, we print this information and do nothing else. \n",
    "\n",
    "    def list_employees(self):\n",
    "        n = 0   #Counter for the ammount of employees in the company.\n",
    "        print(f\"{self.name}'s employees:\")      #printing a headline\n",
    "        visited = set()     # Creating a set to store the visited nodes in the tree of employees in the company so that we do not \n",
    "        queue = [self.general_manager]      #Creating a queue for the BFS.\n",
    "        while queue:    #While the queue has employees in it, we itterate with a while loop. \n",
    "            current_employee = queue.pop(0)     #Selecting the employee for this itteration of the while loop by taking the first item from the queue.\n",
    "            if current_employee not in visited:     #If the selected employee has not been visited, we continue. If the employee of this itteration is in the visited set, it means that we already covered this employee. \n",
    "                print(current_employee.get_details())   #Getting the details of the selected employee by using the get_details method from the employee class. \n",
    "                visited.add(current_employee)       #Adding the selected employee to the set of visited employees so that we do not visit it again. \n",
    "                if isinstance(current_employee, Manager):       #Checking if the current employee is a manager, if so: \n",
    "                    queue.extend(current_employee.subordinates)     #We add the managers subordinates to the queue. This will ensure that the next itteration will be tha subordinates of the\n",
    "                n += 1  #Adding a number to the counter that is later going to be printed. \n",
    "        print(f\"Total number of employees is {n}.\") \n",
    "\n",
    "    def calculate_company_salary(self):\n",
    "        total_salary = 0\n",
    "        for employee in self.employees.values():\n",
    "            if employee is not None:\n",
    "                total_salary += employee.salary\n",
    "        total_salary += self.general_manager.salary\n",
    "        print(f\"The total salary of {self.name} is {total_salary}.\")\n",
    "    \n",
    "class Item:\n",
    "    def __init__(self, name, price):\n",
    "        self.name = name\n",
    "        self.price = price\n",
    "\n",
    "    def __str__(self):\n",
    "        return f\"Name:{self.name}, Price:{self.price}\"\n",
    "\n",
    "class Inventory:\n",
    "    def __init__(self):\n",
    "        self.inventory = []\n",
    "\n",
    "    def add_item(self, item, amount=1):\n",
    "        in_inventory = False\n",
    "        for articles in self.inventory:\n",
    "            if articles[\"Item\"].name == item.name and articles[\"Item\"].price == item.price:\n",
    "                articles[\"Amount\"] += amount\n",
    "                in_inventory = True\n",
    "                break\n",
    "        if not in_inventory:\n",
    "            self.inventory.append({\"Item\": item, \"Amount\": amount})\n",
    "\n",
    "    def remove_item(self, item, amount=1):\n",
    "        in_inventory = False\n",
    "        for articles in self.inventory:\n",
    "            if articles[\"Item\"].name == item.name and articles[\"Item\"].price == item.price:\n",
    "                if articles[\"Amount\"] - amount < 0:\n",
    "                    print(f\"Amount of {item.name}s to the price of {item.price} to remove exceeds amount in inventory.\")\n",
    "                    return None\n",
    "                else:\n",
    "                    articles[\"Amount\"] -= amount\n",
    "                    if articles[\"Amount\"] == 0:\n",
    "                        self.inventory.remove(articles)\n",
    "                    return item\n",
    "        print(f\"Product is not in inventory.\")\n",
    "        return None\n",
    "\n",
    "    def display_inventory(self):\n",
    "        print(f\"Current inventory is:\")\n",
    "        for item in self.inventory:\n",
    "            print(f\" - {item['Amount']} {item['Item'].name}s to a price of {item['Item'].price} per {item['Item'].name}\")\n",
    "\n",
    "class Client:\n",
    "    def __init__(self, name, company_name, company_location):\n",
    "        self.name = name\n",
    "        self.company_name = company_name\n",
    "        self.company_location = company_location\n",
    "    \n",
    "class Meeting_planner:\n",
    "    def __init__(self):\n",
    "        self.booked_meetings = []\n",
    "\n",
    "    def book_meeting(self, employee, client, date, time):\n",
    "        print(f\"{employee.name} booked a meeting with {client.name} at {client.company_name} in {client.company_location}. The date is {date} and the time is {time}.\")\n",
    "        meeting = {\"Employee\": employee.name, \"Client\": client.name, \"Date\": date, \"Time\": time}\n",
    "        self.booked_meetings.append(meeting)\n",
    "\n",
    "    def remove_meeting(self, employee, client, date, time):\n",
    "        booked_meeting = False\n",
    "        for meetings in self.booked_meetings:\n",
    "            if meetings[\"Employee\"] == employee.name and meetings[\"Client\"] == client.name and meetings[\"Date\"] == date and meetings[\"Time\"] == time:\n",
    "                self.booked_meetings.remove(meetings)\n",
    "                print(f\"Removed meeting with {client.name} on the given date and time.\")\n",
    "                booked_meeting = True\n",
    "                break\n",
    "        if not booked_meeting:\n",
    "            print(f\"There is no meeting between {employee.name} and {client.name} on the given date and time.\")\n",
    "\n",
    "    def reschedule_meeting(self, employee, client, old_date, old_time, new_date, new_time):\n",
    "        booked_meeting = False\n",
    "        for meetings in self.booked_meetings:\n",
    "            if meetings[\"Employee\"] == employee.name and meetings[\"Client\"] == client.name and meetings[\"Date\"] == old_date and meetings[\"Time\"] == old_time:\n",
    "                meetings[\"Date\"] = new_date\n",
    "                meetings[\"Time\"] = new_time\n",
    "                print(f\"Rescheduled meeting with {client.name} to the date {new_date} and time {new_time}.\")\n",
    "                booked_meeting = True\n",
    "                break\n",
    "        if not booked_meeting:\n",
    "            print(f\"There is no meeting between {employee.name} and {client.name} on the given date and time.\")\n",
    "\n",
    "    def show_booked_meetings(self):\n",
    "        print(f\"Booked meetings:\")\n",
    "        for meeting in self.booked_meetings:\n",
    "            print(f\"Employee: {meeting['Employee']}, Client: {meeting['Client']}, Date: {meeting['Date']}, Time: {meeting['Time']}.\")\n",
    "\n",
    "ceo1 = Manager(\"Emma\", 1, \"name@company.com\", \"CEO\", 35000)\n",
    "\n",
    "man2 = Manager(\"Amanda\", 2, \"name@company.com\", \"Manager\", 35000)\n",
    "man3 = Manager(\"Erik\", 3, \"name@company.com\", \"Manager\", 35000)\n",
    "\n",
    "man4 = Manager(\"Adrian\", 4, \"name@company.com\", \"Manager\", 35000)\n",
    "man5 = Manager(\"Alma\", 4, \"name@company.com\", \"Manager\", 35000)\n",
    "\n",
    "emp6 = Employee(\"Adam\", 6, \"name@company.com\", \"sales\", 35000)\n",
    "emp7 = Employee(\"Nicholas\", 7, \"name@company.com\", \"sales\", 35000)\n",
    "emp8 = Employee(\"Victor\", 8, \"name@company.com\", \"sales\", 35000)\n",
    "emp9 = Employee(\"Elizabete\", 9, \"name@company.com\", \"sales\", 35000)\n",
    "emp10 = Employee(\"Norea\", 10, \"name@company.com\", \"sales\", 35000)\n",
    "emp11 = Employee(\"Jacob\", 11, \"name@company.com\", \"sales\", 35000)\n",
    "\n",
    "company1 = Company(\"ABC Company\", ceo1)\n",
    "\n",
    "print()\n",
    "company1.add_employee(man2, ceo1.employee_id)\n",
    "company1.add_employee(man3, ceo1.employee_id)\n",
    "company1.add_employee(man4, man2.employee_id)\n",
    "company1.add_employee(man5, man3.employee_id)\n",
    "company1.add_employee(emp6, man4.employee_id)\n",
    "company1.add_employee(emp7, man4.employee_id)\n",
    "company1.add_employee(emp8, man4.employee_id)\n",
    "company1.add_employee(emp9, man5.employee_id)\n",
    "company1.add_employee(emp10, man5.employee_id)\n",
    "company1.add_employee(emp11, man5.employee_id)\n",
    "\n",
    "print()\n",
    "company1.list_employees()\n",
    "print()\n",
    "company1.remove_employee(man3)\n",
    "company1.remove_employee(emp7)\n",
    "company1.remove_employee(man3)\n",
    "company1.remove_employee(man4)\n",
    "company1.remove_employee(emp11)\n",
    "company1.add_employee(man2.employee_id, emp7)\n",
    "print()\n",
    "company1.list_employees()\n",
    "print()\n",
    "man2.get_subordinates()\n",
    "print()\n",
    "\n",
    "item1 = Item(\"car\", 10000)\n",
    "item2 = Item(\"boat\", 25000)\n",
    "item3 = Item(\"plane\", 100000)\n",
    "item4 = Item(\"train\", 50000)\n",
    "item5 = Item(\"car\", 15000)\n",
    "\n",
    "inventory1 = Inventory()\n",
    "inventory1.add_item(item1, 5)\n",
    "inventory1.add_item(item2, 3)\n",
    "inventory1.add_item(item3, 4)\n",
    "inventory1.add_item(item4)\n",
    "inventory1.add_item(item5)\n",
    "\n",
    "print()\n",
    "inventory1.display_inventory()\n",
    "\n",
    "print()\n",
    "client1 = Client(\"Norea\", \"ABC Transportation Company\", \"Halmstad\")\n",
    "meetings = Meeting_planner()\n",
    "\n",
    "meetings.book_meeting(emp8, client1, \"25/11\", \"13:00\")\n",
    "print()\n",
    "meetings.reschedule_meeting(emp8, client1, \"25/11\", \"13:00\", \"1/12\", \"14:00\")\n",
    "print()\n",
    "meetings.show_booked_meetings()\n",
    "print()\n",
    "emp8.make_sale(inventory1, item3, 4)\n",
    "print()\n",
    "man2.get_subordinates_sales()\n",
    "print()\n",
    "inventory1.display_inventory()\n",
    "print()\n",
    "meetings.remove_meeting(emp8, client1, \"1/12\", \"14:00\")\n"
   ]
  },
  {
   "cell_type": "code",
   "execution_count": null,
   "metadata": {},
   "outputs": [
    {
     "name": "stdout",
     "output_type": "stream",
     "text": [
      "myVar = 7\n",
      "myVar = 5\n",
      "aaa bbb aaaccc otherVarccc\n"
     ]
    },
    {
     "ename": "NameError",
     "evalue": "name 'otherVariable' is not defined",
     "output_type": "error",
     "traceback": [
      "\u001b[1;31m---------------------------------------------------------------------------\u001b[0m",
      "\u001b[1;31mNameError\u001b[0m                                 Traceback (most recent call last)",
      "Cell \u001b[1;32mIn[2], line 6\u001b[0m\n\u001b[0;32m      4\u001b[0m \u001b[38;5;28mprint\u001b[39m(\u001b[38;5;124m\"\u001b[39m\u001b[38;5;124mmyVar =\u001b[39m\u001b[38;5;124m\"\u001b[39m, myVar)\n\u001b[0;32m      5\u001b[0m \u001b[38;5;28mprint\u001b[39m(otherVar, \u001b[38;5;124m\"\u001b[39m\u001b[38;5;124mbbb\u001b[39m\u001b[38;5;124m\"\u001b[39m, otherVar \u001b[38;5;241m+\u001b[39m \u001b[38;5;124m\"\u001b[39m\u001b[38;5;124mccc\u001b[39m\u001b[38;5;124m\"\u001b[39m, \u001b[38;5;124m\"\u001b[39m\u001b[38;5;124motherVar\u001b[39m\u001b[38;5;124m\"\u001b[39m \u001b[38;5;241m+\u001b[39m \u001b[38;5;124m\"\u001b[39m\u001b[38;5;124mccc\u001b[39m\u001b[38;5;124m\"\u001b[39m) \n\u001b[1;32m----> 6\u001b[0m thirdVariable \u001b[38;5;241m=\u001b[39m myVar \u001b[38;5;241m+\u001b[39m \u001b[38;5;241m1\u001b[39m \u001b[38;5;241m+\u001b[39m \u001b[43motherVariable\u001b[49m\n",
      "\u001b[1;31mNameError\u001b[0m: name 'otherVariable' is not defined"
     ]
    }
   ],
   "source": [
    "myVar = 5 \n",
    "otherVar = \"aaa\"\n",
    "print(\"myVar = 7\") \n",
    "print(\"myVar =\", myVar)\n",
    "print(otherVar, \"bbb\", otherVar + \"ccc\", \"otherVar\" + \"ccc\") \n",
    "thirdVariable = myVar + 1 + otherVariable\n"
   ]
  },
  {
   "cell_type": "code",
   "execution_count": null,
   "metadata": {},
   "outputs": [
    {
     "name": "stdout",
     "output_type": "stream",
     "text": [
      "7860\n"
     ]
    }
   ],
   "source": [
    "def to_seconds(hours, minutes):\n",
    "    hours_to_seconds = hours * 60 * 60\n",
    "    minutes_to_seconds = minutes * 60\n",
    "    return hours_to_seconds + minutes_to_seconds\n",
    "\n",
    "hours = 2\n",
    "minutes = 11\n",
    "\n",
    "seconds = to_seconds(hours, minutes)\n",
    "print(seconds)\n",
    "\n",
    "    "
   ]
  },
  {
   "cell_type": "code",
   "execution_count": null,
   "metadata": {},
   "outputs": [
    {
     "name": "stdout",
     "output_type": "stream",
     "text": [
      "[1, 2, 3]\n",
      "[-1, 2, 3, 5]\n",
      "[-1, -5, 3, 5, 7]\n",
      "[-1, -5, 3, 5, 7, 9]\n"
     ]
    }
   ],
   "source": [
    "newVar = [1,2,3]\n",
    "def myFunction(arg = 5): \n",
    "    print(newVar) \n",
    "    newVar.append(arg)\n",
    "myFunction() \n",
    "newVar[0] = -1 \n",
    "myFunction(7) \n",
    "newVar[1] = -5 \n",
    "myFunction(9)\n",
    "print(newVar)\n"
   ]
  },
  {
   "cell_type": "code",
   "execution_count": null,
   "metadata": {},
   "outputs": [
    {
     "name": "stdout",
     "output_type": "stream",
     "text": [
      "I’m thinking\n",
      "a is largest\n",
      "I don’t know\n",
      "Positive\n",
      "1 2 3\n"
     ]
    }
   ],
   "source": [
    "a, b, c = 1, 2, 3\n",
    "if a < b:\n",
    "    print(\"I’m thinking\") \n",
    "    if b < c:\n",
    "        print(\"a is largest\")\n",
    "    else:\n",
    "        print(\"b is largest\")\n",
    " \n",
    "    print(\"I don’t know\") \n",
    "    if a > 0:\n",
    "        print(\"Positive\")\n",
    "    else:\n",
    "        print(\"I’m really confused\")\n",
    "    print(a, b, c)\n"
   ]
  },
  {
   "cell_type": "code",
   "execution_count": null,
   "metadata": {},
   "outputs": [
    {
     "name": "stdout",
     "output_type": "stream",
     "text": [
      "4\n"
     ]
    }
   ],
   "source": [
    "def MinorityVote(list):  #title is wrong\n",
    "    counter = {}\n",
    "    while elem in list:     #This will run forever since we do not remove anything from the list. W should use a for loop instead. \n",
    "        counter.elem += 1   #.elem does not do anything. We need to create a key for each unique item and then counting how many of the same there are in the list\n",
    "    half = len(list) * 2    #We should be dividing by 2, no multiplying\n",
    "    for elem in counter:    #\n",
    "        if counter[elem] >= half:   #For it to be the majority, it can not be equal to half. Also, we need to compare the corresponding value of the key. \n",
    "            return counter  #\n",
    "    return counter[0]   #We never want to return this, if there is no majority, we should return something to indicate this. \n",
    "\n",
    "\n",
    "def Majority_vote(lst):  \n",
    "    counter = {}\n",
    "    for elem in lst: \n",
    "        if elem in counter:\n",
    "            counter[elem] += 1\n",
    "        else:\n",
    "            counter[elem] = 1\n",
    "    half = len(lst) // 2 \n",
    "    for elem, count in counter.items():\n",
    "        if count > half: \n",
    "            return elem\n",
    "    return \"there is no majority\"\n",
    "\n",
    "\n",
    "lst = [2,2,2,2,1,3,4,4,4,4,4,4,4]\n",
    "result = Majority_vote(lst)\n",
    "print(result)\n",
    "\n"
   ]
  },
  {
   "cell_type": "code",
   "execution_count": 23,
   "metadata": {},
   "outputs": [
    {
     "name": "stdout",
     "output_type": "stream",
     "text": [
      "[-5, -7, 0, -1]\n"
     ]
    }
   ],
   "source": [
    "def selectNegative(lst):\n",
    "    new_lst = []\n",
    "    for elem in lst:\n",
    "        if elem <= 0:\n",
    "            new_lst.append(elem)\n",
    "        else:\n",
    "            continue\n",
    "    return new_lst\n",
    "\n",
    "list = [1, 2, -5, 3, -7, 0, -1, 1]\n",
    "rsult = selectNegative(list)\n",
    "print(rsult)"
   ]
  },
  {
   "cell_type": "code",
   "execution_count": 3,
   "metadata": {},
   "outputs": [
    {
     "name": "stdout",
     "output_type": "stream",
     "text": [
      "[2, 4]\n"
     ]
    }
   ],
   "source": [
    "def odd_indexes(list):\n",
    "    new_lst = []\n",
    "    index = 0\n",
    "    for elem in list:\n",
    "        if index % 2 != 0:\n",
    "            new_lst.append(elem)\n",
    "        index += 1\n",
    "    return new_lst\n",
    "        \n",
    "\n",
    "lst = [1,2,3,4,5]\n",
    "res = odd_indexes(lst)\n",
    "print(res)"
   ]
  },
  {
   "cell_type": "code",
   "execution_count": 9,
   "metadata": {},
   "outputs": [
    {
     "name": "stdout",
     "output_type": "stream",
     "text": [
      "A\n",
      "B\n",
      "C\n",
      "D\n"
     ]
    }
   ],
   "source": [
    "mystring = \"abcd\"\n",
    "letter_idx = 0\n",
    "while letter_idx != len(mystring):\n",
    "    print(mystring[letter_idx].upper())\n",
    "    letter_idx += 1\n",
    "\n"
   ]
  },
  {
   "cell_type": "code",
   "execution_count": 10,
   "metadata": {},
   "outputs": [
    {
     "name": "stdout",
     "output_type": "stream",
     "text": [
      "abc\n",
      "aaa\n"
     ]
    }
   ],
   "source": [
    "def findLast(letter, word_list):\n",
    "    last_matching_word = None\n",
    "\n",
    "    for word in word_list:\n",
    "        if letter in word:\n",
    "            last_matching_word = word\n",
    "\n",
    "    return last_matching_word\n",
    "\n",
    "# Example usage:\n",
    "result1 = findLast('a', ['abc', 'bcd', 'xyz', 'zzz'])\n",
    "result2 = findLast('a', ['abc', 'bcd', 'aaa', 'bbb'])\n",
    "\n",
    "print(result1)  # Output: \"abc\"\n",
    "print(result2)  # Output: \"aaa\"\n"
   ]
  },
  {
   "cell_type": "code",
   "execution_count": 12,
   "metadata": {},
   "outputs": [
    {
     "name": "stdout",
     "output_type": "stream",
     "text": [
      "Original text: Hello, World!\n",
      "Encrypted text: Svool, Dliow!\n"
     ]
    }
   ],
   "source": [
    "\n",
    "\n",
    "\n",
    "letters = 'abcdefghijklmnopqrstuvwxyz'\n",
    "\n",
    "def atbash(text):\n",
    "    result = \"\"\n",
    "    \n",
    "    for letter in text:\n",
    "        if letter.islower():\n",
    "            index = letters.index(letter)\n",
    "            code = letters[25 - index]  # Mirroring the index\n",
    "        elif letter.isupper():\n",
    "            index = letters.index(letter.lower())\n",
    "            code = letters[25 - index].upper()  # Mirroring the index and converting to uppercase\n",
    "        else:\n",
    "            code = letter  # If the character is not a letter, keep it unchanged\n",
    "        \n",
    "        result += code\n",
    "    \n",
    "    return result\n",
    "\n",
    "# Example usage:\n",
    "input_text = \"Hello, World!\"\n",
    "encrypted_text = atbash(input_text)\n",
    "print(f\"Original text: {input_text}\")\n",
    "print(f\"Encrypted text: {encrypted_text}\")\n"
   ]
  },
  {
   "cell_type": "code",
   "execution_count": 21,
   "metadata": {},
   "outputs": [
    {
     "name": "stdout",
     "output_type": "stream",
     "text": [
      "HEJSAN SVENJSAN BANANPANKAKA encoded in Morse code: .... . .--- ... .- -. ... ...- . -. .--- ... .- -. -... .- -. .- -. .--. .- -. -.- .- -.- .-\n"
     ]
    }
   ],
   "source": [
    "def morse(text):\n",
    "    result = \"\"\n",
    "    char_to_dots = {'A': '.-', 'B': '-...', 'C': '-.-.', 'D': '-..', 'E': '.', 'F': '..-.', 'G': '--.', 'H': '....',\n",
    "                'I': '..', 'J': '.---', 'K': '-.-', 'L': '.-..', 'M': '--', 'N': '-.', 'O': '---', 'P': '.--.',\n",
    "                'Q': '--.-', 'R': '.-.', 'S': '...', 'T': '-', 'U': '..-', 'V': '...-', 'W': '.--', 'X': '-..-',\n",
    "                'Y': '-.--', 'Z': '--..'}\n",
    "    for letter in text:\n",
    "        if letter in char_to_dots:\n",
    "            code = char_to_dots[letter]\n",
    "            result += \" \" + code\n",
    "        else:\n",
    "            continue\n",
    "    return result\n",
    "    \n",
    "\n",
    "# Example usage:\n",
    "input_text = \"HEJSAN SVENJSAN BANANPANKAKA\"\n",
    "morse_code = morse(input_text)\n",
    "print(f\"{input_text} encoded in Morse code: {morse_code}\")"
   ]
  },
  {
   "cell_type": "code",
   "execution_count": null,
   "metadata": {},
   "outputs": [],
   "source": [
    "myList = [1,2,3,4]\n",
    "def myFunction(lst):\n",
    "    lst.append(0)\n",
    "    print(lst)\n",
    "print(myList)"
   ]
  },
  {
   "cell_type": "code",
   "execution_count": 5,
   "metadata": {},
   "outputs": [
    {
     "name": "stdout",
     "output_type": "stream",
     "text": [
      "6\n",
      "6\n"
     ]
    }
   ],
   "source": [
    "a = 5\n",
    "def myFunc():\n",
    "    return a + 1\n",
    "\n",
    "aa = myFunc()\n",
    "\n",
    "bb = myFunc\n",
    "\n",
    "print(aa)\n",
    "print(bb())"
   ]
  },
  {
   "cell_type": "code",
   "execution_count": 6,
   "metadata": {},
   "outputs": [],
   "source": [
    "for var in \"abcdef\":\n",
    "    if var not in \"aeoui\":\n",
    "        var = var.upper()"
   ]
  },
  {
   "cell_type": "code",
   "execution_count": 8,
   "metadata": {},
   "outputs": [
    {
     "name": "stdout",
     "output_type": "stream",
     "text": [
      "[100, 2, 3, 4] [100, 2, 3, 4] [1, 2, 3, 4]\n"
     ]
    }
   ],
   "source": [
    "myList = [1,2,3,4] \n",
    "otherList = myList\n",
    "thirdList = otherList.copy() \n",
    "myList[0] = 100\n",
    "print(myList, otherList, thirdList)\n"
   ]
  },
  {
   "cell_type": "code",
   "execution_count": 19,
   "metadata": {},
   "outputs": [
    {
     "name": "stdout",
     "output_type": "stream",
     "text": [
      "25\n"
     ]
    }
   ],
   "source": [
    "def power(n, k):\n",
    "    if k == 0:\n",
    "        return 1\n",
    "    else:\n",
    "        return power(n, k-1) *n\n",
    "\n",
    "print(power(5, 2))"
   ]
  },
  {
   "cell_type": "code",
   "execution_count": 27,
   "metadata": {},
   "outputs": [
    {
     "name": "stdout",
     "output_type": "stream",
     "text": [
      "20\n"
     ]
    }
   ],
   "source": [
    "def sum_list(list, num_elements):\n",
    "    if num_elements == 1:\n",
    "        return list[num_elements-1]\n",
    "    else:\n",
    "        return list[num_elements-1] + sum_list(list, num_elements-1)\n",
    "\n",
    "test = [5,5,5,5]\n",
    "print(sum_list(test, 4))"
   ]
  },
  {
   "cell_type": "code",
   "execution_count": 29,
   "metadata": {},
   "outputs": [
    {
     "name": "stdout",
     "output_type": "stream",
     "text": [
      "[['a', 'b', 'c'], ['a', 'c', 'b'], ['b', 'a', 'c'], ['b', 'c', 'a'], ['c', 'a', 'b'], ['c', 'b', 'a']]\n"
     ]
    }
   ],
   "source": [
    "def get_permutations(lst):\n",
    "    if len(lst) == 0:\n",
    "        return[[]]  #the only permutation of a list with len=0 is an empty list\n",
    "    else:\n",
    "        all_perms = []  \n",
    "        for i in range(len(lst)):\n",
    "            current_element = lst[i]\n",
    "            rest_of_elements = lst[:i] + lst[i+1:]\n",
    "            rest_permutations = get_permutations(rest_of_elements)\n",
    "            for perm in rest_permutations:\n",
    "                all_perms.append([current_element] + perm)\n",
    "        return all_perms\n",
    "    \n",
    "test = [\"a\",\"b\",\"c\"]\n",
    "print(get_permutations(test))"
   ]
  },
  {
   "cell_type": "code",
   "execution_count": 38,
   "metadata": {},
   "outputs": [
    {
     "name": "stdout",
     "output_type": "stream",
     "text": [
      "[[1 2 3 4 5 6]\n",
      " [1 2 3 4 5 6]\n",
      " [1 2 3 4 5 6]\n",
      " [1 2 3 4 5 6]\n",
      " [1 2 3 4 5 6]\n",
      " [1 2 3 4 5 6]]\n",
      "126\n",
      "[21 21 21 21 21 21]\n",
      "[ 6 12 18 24 30 36]\n"
     ]
    }
   ],
   "source": [
    "import numpy as np\n",
    "\n",
    "values = []\n",
    "for _ in range(6):\n",
    "    values.append([1,2,3,4,5,6])\n",
    "arr = np.array(values)\n",
    "arr.shape\n",
    "print(arr)\n",
    "print(np.sum(arr))\n",
    "print(np.sum(arr, axis=1))\n",
    "print(np.sum(arr, axis=0))"
   ]
  },
  {
   "cell_type": "code",
   "execution_count": 63,
   "metadata": {},
   "outputs": [
    {
     "name": "stdout",
     "output_type": "stream",
     "text": [
      "(100, 5)\n",
      "Index(['sepal_length', 'sepal_width', 'petal_length', 'petal_width', 'class'], dtype='object')\n",
      "    sepal_length  sepal_width\n",
      "0       0.583333     0.333333\n",
      "1       0.388889     0.750000\n",
      "2       0.861111     0.333333\n",
      "3       0.916667     0.416667\n",
      "4       0.833333     0.375000\n",
      "..           ...          ...\n",
      "95      0.472222     0.083333\n",
      "96      0.416667     0.291667\n",
      "97      0.083333     0.666667\n",
      "98      0.666667     0.458333\n",
      "99      0.222222     0.541667\n",
      "\n",
      "[100 rows x 2 columns]\n",
      "sepal_length    0.424167\n",
      "sepal_width     0.431250\n",
      "petal_length    0.464746\n",
      "petal_width     0.455833\n",
      "dtype: float64\n",
      "Empty DataFrame\n",
      "Columns: [sepal_length, sepal_width, petal_length, petal_width, class]\n",
      "Index: []\n"
     ]
    },
    {
     "name": "stderr",
     "output_type": "stream",
     "text": [
      "C:\\Users\\victo\\AppData\\Local\\Temp\\ipykernel_20432\\4181426017.py:6: FutureWarning: The default value of numeric_only in DataFrame.mean is deprecated. In a future version, it will default to False. In addition, specifying 'numeric_only=None' is deprecated. Select only valid columns or specify the value of numeric_only to silence this warning.\n",
      "  print(data.mean(axis=0))\n"
     ]
    }
   ],
   "source": [
    "import pandas as pd\n",
    "import numpy as np\n",
    "import matplotlib.pyplot as plt\n",
    "import altair as alt\n",
    "\n",
    "data = pd.read_csv(r\"iris.csv\")\n",
    "print(data.shape)\n",
    "print(data.columns)\n",
    "print(data[[\"sepal_length\", \"sepal_width\"]])    #double brackets when printing multiple classes\n",
    "print(data.mean(axis=0))\n",
    "print(data[data[\"sepal_width\"] > 5])\n",
    "\n",
    "arr = np.array(data)\n",
    "\n"
   ]
  },
  {
   "cell_type": "code",
   "execution_count": null,
   "metadata": {},
   "outputs": [],
   "source": []
  }
 ],
 "metadata": {
  "kernelspec": {
   "display_name": "Python 3",
   "language": "python",
   "name": "python3"
  },
  "language_info": {
   "codemirror_mode": {
    "name": "ipython",
    "version": 3
   },
   "file_extension": ".py",
   "mimetype": "text/x-python",
   "name": "python",
   "nbconvert_exporter": "python",
   "pygments_lexer": "ipython3",
   "version": "3.11.5"
  }
 },
 "nbformat": 4,
 "nbformat_minor": 2
}
