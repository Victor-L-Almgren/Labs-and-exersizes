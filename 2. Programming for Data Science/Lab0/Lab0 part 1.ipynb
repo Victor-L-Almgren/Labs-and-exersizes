{
 "cells": [
  {
   "cell_type": "code",
   "execution_count": 2,
   "id": "855e5948-60f7-4f92-8722-27586d062374",
   "metadata": {},
   "outputs": [
    {
     "name": "stdout",
     "output_type": "stream",
     "text": [
      "120\n",
      "120\n"
     ]
    }
   ],
   "source": [
    "#task 1\n",
    "import math\n",
    "\n",
    "def factorial(num):\n",
    "    list = []\n",
    "    for x in range(1, num+1):\n",
    "        list.append(x)\n",
    "    fact = math.prod(list)\n",
    "    return fact\n",
    "\n",
    "\n",
    "def factorial_with_loop(num):\n",
    "    list = []\n",
    "    fact = 0\n",
    "    for x in range(num):\n",
    "        fact += 1\n",
    "        list.append(fact)\n",
    "    sum = 1\n",
    "    for elem in list: \n",
    "        sum *= elem\n",
    "    return sum\n",
    "\n",
    "test1 = factorial(5)\n",
    "print(test1)\n",
    "\n",
    "test2 = factorial_with_loop(5)\n",
    "print(test2)    "
   ]
  },
  {
   "cell_type": "code",
   "execution_count": 3,
   "id": "9a7f23d7-8017-4080-a51e-bec70a6fb7bf",
   "metadata": {},
   "outputs": [
    {
     "name": "stdout",
     "output_type": "stream",
     "text": [
      "True\n"
     ]
    }
   ],
   "source": [
    "#task 2\n",
    "def check_if_prime(nr):\n",
    "    is_prime = False\n",
    "    for x in range(nr):\n",
    "        if x == 0 or x == 1 or x == nr:\n",
    "            continue\n",
    "        test = nr / x\n",
    "        if test.is_integer():\n",
    "            return is_prime\n",
    "            break\n",
    "        else:\n",
    "            is_prime = True\n",
    "        return is_prime\n",
    "\n",
    "test = check_if_prime(59)\n",
    "print(test)          "
   ]
  },
  {
   "cell_type": "code",
   "execution_count": 4,
   "id": "64a2a0cf-ecf9-466d-943e-1202e6cc8824",
   "metadata": {},
   "outputs": [
    {
     "name": "stdout",
     "output_type": "stream",
     "text": [
      "3.0\n"
     ]
    }
   ],
   "source": [
    "#task 3\n",
    "def square_root(x, x_guess):\n",
    "    while True:\n",
    "        x_new = (x_guess + (x / x_guess)) / 2\n",
    "        if abs(x_guess*x_guess - x) <= 1e-10:\n",
    "            break\n",
    "        else:\n",
    "            x_guess = x_new\n",
    "    return x_new\n",
    "\n",
    "test = square_root(9, 6)\n",
    "print(test)"
   ]
  },
  {
   "cell_type": "code",
   "execution_count": 5,
   "id": "035f50bb-a910-4282-a686-207c42832229",
   "metadata": {},
   "outputs": [
    {
     "name": "stdout",
     "output_type": "stream",
     "text": [
      "[1]\n",
      "\n",
      "[1, 1]\n",
      "\n",
      "[1, 2, 1]\n",
      "\n",
      "[1, 3, 3, 1]\n",
      "\n",
      "[1, 4, 6, 4, 1]\n",
      "\n",
      "[1, 5, 10, 10, 5, 1]\n",
      "\n",
      "[1, 6, 15, 20, 15, 6, 1]\n",
      "\n",
      "[1, 7, 21, 35, 35, 21, 7, 1]\n",
      "\n",
      "[1, 8, 28, 56, 70, 56, 28, 8, 1]\n",
      "\n",
      "[1, 9, 36, 84, 126, 126, 84, 36, 9, 1]\n",
      "\n"
     ]
    }
   ],
   "source": [
    "#task 4\n",
    "\n",
    "def caluculate_binomial(n, k):\n",
    "    binomaial = (factorial(n)) // ((factorial(k)) * (factorial(n - k)))\n",
    "    return binomaial\n",
    "\n",
    "def pascal_triangle(n):\n",
    "    triangle = []\n",
    "    for i in range(n):\n",
    "        row = [caluculate_binomial(i, j) for j in range(i + 1)]\n",
    "        triangle.append(row)\n",
    "    return triangle\n",
    "\n",
    "def print_triangle(triangle):\n",
    "    for row in triangle:\n",
    "        print(f\"{row}\\n\")\n",
    "              \n",
    "test = pascal_triangle(10)\n",
    "print_triangle(test)"
   ]
  },
  {
   "cell_type": "code",
   "execution_count": 6,
   "id": "a5a696ad",
   "metadata": {},
   "outputs": [
    {
     "name": "stdout",
     "output_type": "stream",
     "text": [
      "[1, 2, 4]\n"
     ]
    }
   ],
   "source": [
    "#task 5\n",
    "def find_common_divisors(num1, num2):\n",
    "    if num1 > num2:\n",
    "        num1, num2, = num2, num1\n",
    "    result = []\n",
    "    for x in range(1, num1+1):\n",
    "        divisor1 = num1 / x\n",
    "        divisor2 = num2 / x\n",
    "        if divisor1.is_integer() and divisor2.is_integer():\n",
    "            result.append(x)\n",
    "    return result\n",
    "\n",
    "test = find_common_divisors(36, 8)\n",
    "print(test)"
   ]
  },
  {
   "cell_type": "code",
   "execution_count": 7,
   "id": "3a429fc5",
   "metadata": {},
   "outputs": [],
   "source": [
    "#task 6\n",
    "\n",
    "#Function to get a given number of values of y from a given 2nd degree polynomial in standard format:\n",
    "def calculate_y_values(n_of_values, a, b, c):\n",
    "    y_values = []\n",
    "    for x in range(1, n_of_values + 1):\n",
    "        y = ((a*x)**2) + (b*x) + (c)\n",
    "        y_values.append(y)\n",
    "    return y_values\n",
    "\n",
    "#Finding the constant difference for the list of y values:\n",
    "def find_constant_difference(lst):\n",
    "    constant_difference = (lst[0] - lst[1]) - (lst[1] - lst[2])\n",
    "    return constant_difference\n",
    "\n",
    "#Getting a list of differences from the list of y values:\n",
    "def get_list_of_differences(lst):\n",
    "    list_of_differences = []\n",
    "    for x in range(1, len(lst)):\n",
    "        difference = lst[x] - lst[x-1]\n",
    "        list_of_differences.append(difference)\n",
    "    return list_of_differences\n",
    "\n",
    "#Finding the next value of y from the given list of \n",
    "def find_next_y(lst):\n",
    "    constant_difference = find_constant_difference(lst)\n",
    "    list_of_differences = get_list_of_differences(lst)\n",
    "    next_y = lst[-1] + list_of_differences[-1] + constant_difference\n",
    "    return next_y"
   ]
  },
  {
   "cell_type": "code",
   "execution_count": 8,
   "id": "f02c8eca",
   "metadata": {},
   "outputs": [
    {
     "name": "stdout",
     "output_type": "stream",
     "text": [
      "List of y values is: [5, 9, 15, 23, 33]\n",
      "Constant difference is: 2\n",
      "List of differences is: [4, 6, 8, 10]\n",
      "The next value of y is: 45\n"
     ]
    }
   ],
   "source": [
    "y_values = calculate_y_values(5, 1, 1, 3)\n",
    "print(f\"List of y values is: {y_values}\")\n",
    "\n",
    "constant_difference = find_constant_difference(y_values)\n",
    "print(f\"Constant difference is: {constant_difference}\")\n",
    "\n",
    "list_of_differences = get_list_of_differences(y_values)\n",
    "print(f\"List of differences is: {list_of_differences}\")\n",
    "\n",
    "result = find_next_y(y_values)\n",
    "print(f\"The next value of y is: {result}\")"
   ]
  }
 ],
 "metadata": {
  "kernelspec": {
   "display_name": "Python 3 (ipykernel)",
   "language": "python",
   "name": "python3"
  },
  "language_info": {
   "codemirror_mode": {
    "name": "ipython",
    "version": 3
   },
   "file_extension": ".py",
   "mimetype": "text/x-python",
   "name": "python",
   "nbconvert_exporter": "python",
   "pygments_lexer": "ipython3",
   "version": "3.11.5"
  }
 },
 "nbformat": 4,
 "nbformat_minor": 5
}
