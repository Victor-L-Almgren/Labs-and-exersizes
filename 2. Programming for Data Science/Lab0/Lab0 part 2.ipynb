{
 "cells": [
  {
   "cell_type": "code",
   "execution_count": 12,
   "metadata": {},
   "outputs": [
    {
     "name": "stdout",
     "output_type": "stream",
     "text": [
      "['twilight', 'fleeting', 'whispers', 'rustling', 'symphony', 'heartbeat', 'composing', 'existence', 'harmonizing', 'ephemeral']\n"
     ]
    }
   ],
   "source": [
    "#task 7\n",
    "delimiter_list = [\" \", \",\", \".\", \"!\", \"?\"]\n",
    "text = \"In the quiet embrace of twilight, shadows dance, weaving tales of fleeting moments. A gentle breeze whispers secrets through rustling leaves, while the stars above shimmer with ancient wisdom. In this symphony of nature, every heartbeat is a note, composing the melody of existence, harmonizing life's ephemeral beauty.\"\n",
    "\n",
    "def tokenizer(text, delimiter_list, threshold):\n",
    "    if \" \" in delimiter_list:\n",
    "        delimiter_list.remove(\" \")\n",
    "    for char in text:\n",
    "        if char in delimiter_list:\n",
    "            text = text.replace(char, \"\")\n",
    "    word_lst = text.split(\" \")\n",
    "    result = []\n",
    "    for word in word_lst:\n",
    "        if len(word) >= threshold:\n",
    "            result.append(word)\n",
    "    return result\n",
    "\n",
    "test = tokenizer(text, delimiter_list, 8)\n",
    "print(test)"
   ]
  },
  {
   "cell_type": "code",
   "execution_count": null,
   "metadata": {},
   "outputs": [
    {
     "name": "stdout",
     "output_type": "stream",
     "text": [
      "Text: thanks for lyft credit i cant use cause they dont offer wheelchair vans in pdx disapointed getthanked \n",
      " Tags: lyft, disapointed, getthanked\n"
     ]
    }
   ],
   "source": [
    "#task 8\n",
    "def text_processing(tweet):\n",
    "    delimiter_list = [\",\", \".\", \"!\", \"?\", \";\", \":\", \"“\", \"”\", \"'\"]\n",
    "    for char in tweet:\n",
    "        if char in delimiter_list:\n",
    "            tweet = tweet.replace(char, \"\")\n",
    "    word_lst = tweet.split(\" \")\n",
    "    \n",
    "    word_lst_without_tags = []\n",
    "    for word in word_lst:\n",
    "        if word[0] != \"@\":\n",
    "            word_lst_without_tags.append(word)\n",
    "    word_lst = word_lst_without_tags\n",
    "\n",
    "    hashtags = []\n",
    "    for word in range(len(word_lst_without_tags)):\n",
    "        if word_lst_without_tags[word][0] == \"#\":\n",
    "            hashtags.append(word_lst_without_tags[word][1:])\n",
    "            word_lst_without_tags[word] = word_lst_without_tags[word][1:]\n",
    "    \n",
    "    string = \" \".join(word_lst_without_tags)\n",
    "    tags = \", \".join(hashtags)\n",
    "    return f\"Text: {string} \\n Tags: {tags}\"\n",
    "\n",
    "\n",
    "tweet = \"“@user1 @user2 thanks for #lyft credit i can't use cause they don't offer wheelchair vans in pdx. #disapointed #getthanked”\"\n",
    "test = text_processing(tweet)\n",
    "print(test)"
   ]
  }
 ],
 "metadata": {
  "kernelspec": {
   "display_name": "Python 3",
   "language": "python",
   "name": "python3"
  },
  "language_info": {
   "codemirror_mode": {
    "name": "ipython",
    "version": 3
   },
   "file_extension": ".py",
   "mimetype": "text/x-python",
   "name": "python",
   "nbconvert_exporter": "python",
   "pygments_lexer": "ipython3",
   "version": "3.11.5"
  }
 },
 "nbformat": 4,
 "nbformat_minor": 2
}
