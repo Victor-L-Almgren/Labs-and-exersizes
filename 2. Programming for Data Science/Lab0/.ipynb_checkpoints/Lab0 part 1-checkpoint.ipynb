{
 "cells": [
  {
   "cell_type": "code",
   "execution_count": null,
   "id": "855e5948-60f7-4f92-8722-27586d062374",
   "metadata": {},
   "outputs": [],
   "source": [
    "#task 1\n",
    "import math\n",
    "\n",
    "def factorial(num):\n",
    "    list = []\n",
    "    for x in range(num+1):\n",
    "        if x == 0:\n",
    "            continue\n",
    "        list.append(x)\n",
    "    fact = math.prod(list)\n",
    "    return fact\n",
    "\n",
    "\n",
    "def factorial_with_loop(num):\n",
    "    list = []\n",
    "    fact = 0\n",
    "    for x in range(num):\n",
    "        fact += 1\n",
    "        list.append(fact)\n",
    "    sum = 1\n",
    "    for elem in list: \n",
    "        sum *= elem\n",
    "    return sum\n",
    "\n",
    "test1 = factorial(5)\n",
    "print(test1)\n",
    "\n",
    "test2 = factorial_with_loop(5)\n",
    "print(test2)    "
   ]
  },
  {
   "cell_type": "code",
   "execution_count": null,
   "id": "9a7f23d7-8017-4080-a51e-bec70a6fb7bf",
   "metadata": {},
   "outputs": [],
   "source": [
    "#task 2\n",
    "def check_if_prime(nr):\n",
    "    is_prime = False\n",
    "    for x in range(nr):\n",
    "        if x == 0 or x == 1 or x == nr:\n",
    "            continue\n",
    "        test = nr / x\n",
    "        if test.is_integer():\n",
    "            return is_prime\n",
    "            break\n",
    "        else:\n",
    "            is_prime = True\n",
    "        return is_prime\n",
    "\n",
    "test = check_if_prime(59)\n",
    "print(test)            "
   ]
  },
  {
   "cell_type": "code",
   "execution_count": 22,
   "id": "64a2a0cf-ecf9-466d-943e-1202e6cc8824",
   "metadata": {},
   "outputs": [
    {
     "name": "stdout",
     "output_type": "stream",
     "text": [
      "3.0\n"
     ]
    }
   ],
   "source": [
    "#task 3\n",
    "def square_root(x, x_guess):\n",
    "    while True:\n",
    "        x_new = (x_guess + (x / x_guess)) / 2\n",
    "        if abs(x_guess*x_guess - x) <= 1e-10:\n",
    "            break\n",
    "        else:\n",
    "            x_guess = x_new\n",
    "    return x_new\n",
    "\n",
    "test = square_root(9, 6)\n",
    "print(test)\n"
   ]
  },
  {
   "cell_type": "code",
   "execution_count": null,
   "id": "035f50bb-a910-4282-a686-207c42832229",
   "metadata": {},
   "outputs": [],
   "source": []
  }
 ],
 "metadata": {
  "kernelspec": {
   "display_name": "Python 3 (ipykernel)",
   "language": "python",
   "name": "python3"
  },
  "language_info": {
   "codemirror_mode": {
    "name": "ipython",
    "version": 3
   },
   "file_extension": ".py",
   "mimetype": "text/x-python",
   "name": "python",
   "nbconvert_exporter": "python",
   "pygments_lexer": "ipython3",
   "version": "3.11.5"
  }
 },
 "nbformat": 4,
 "nbformat_minor": 5
}
