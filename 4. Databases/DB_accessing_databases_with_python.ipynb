{
 "cells": [
  {
   "cell_type": "code",
   "execution_count": 1,
   "metadata": {},
   "outputs": [
    {
     "name": "stderr",
     "output_type": "stream",
     "text": [
      "C:\\Users\\victo\\AppData\\Local\\Temp\\ipykernel_17388\\2624102940.py:2: DeprecationWarning: \n",
      "Pyarrow will become a required dependency of pandas in the next major release of pandas (pandas 3.0),\n",
      "(to allow more performant data types, such as the Arrow string type, and better interoperability with other libraries)\n",
      "but was not found to be installed on your system.\n",
      "If this would cause problems for you,\n",
      "please provide us feedback at https://github.com/pandas-dev/pandas/issues/54466\n",
      "        \n",
      "  import pandas as pd\n"
     ]
    }
   ],
   "source": [
    "import numpy as np\n",
    "import pandas as pd\n",
    "import matplotlib.pyplot as plt\n",
    "import sqlite3"
   ]
  },
  {
   "cell_type": "code",
   "execution_count": 2,
   "metadata": {},
   "outputs": [],
   "source": [
    "# connect and acquire a cursor\n",
    "# if the .db file does not exist, it will be created\n",
    "conn = sqlite3.connect(\"test.db\")\n",
    "cursor = conn.cursor()"
   ]
  },
  {
   "cell_type": "code",
   "execution_count": 3,
   "metadata": {},
   "outputs": [
    {
     "ename": "OperationalError",
     "evalue": "table Course already exists",
     "output_type": "error",
     "traceback": [
      "\u001b[1;31m---------------------------------------------------------------------------\u001b[0m",
      "\u001b[1;31mOperationalError\u001b[0m                          Traceback (most recent call last)",
      "Cell \u001b[1;32mIn[3], line 2\u001b[0m\n\u001b[0;32m      1\u001b[0m \u001b[38;5;66;03m# create a table\u001b[39;00m\n\u001b[1;32m----> 2\u001b[0m \u001b[43mcursor\u001b[49m\u001b[38;5;241;43m.\u001b[39;49m\u001b[43mexecute\u001b[49m\u001b[43m(\u001b[49m\u001b[38;5;124;43m\"\"\"\u001b[39;49m\u001b[38;5;124;43mCREATE TABLE Course(\u001b[39;49m\n\u001b[0;32m      3\u001b[0m \u001b[38;5;124;43m                    cid tinyint(4) NOT NULL,\u001b[39;49m\n\u001b[0;32m      4\u001b[0m \u001b[38;5;124;43m                    course_name TEXT NOT NULL,\u001b[39;49m\n\u001b[0;32m      5\u001b[0m \u001b[38;5;124;43m                    course_code varchar(10) NOT NULL,\u001b[39;49m\n\u001b[0;32m      6\u001b[0m \u001b[38;5;124;43m                    credits tinyint(4),\u001b[39;49m\n\u001b[0;32m      7\u001b[0m \u001b[38;5;124;43m                    PRIMARY KEY (cid)\u001b[39;49m\n\u001b[0;32m      8\u001b[0m \u001b[38;5;124;43m                    );\u001b[39;49m\n\u001b[0;32m      9\u001b[0m \u001b[38;5;124;43m               \u001b[39;49m\u001b[38;5;124;43m\"\"\"\u001b[39;49m\u001b[43m)\u001b[49m\n\u001b[0;32m     11\u001b[0m \u001b[38;5;66;03m# insert a turple/row\u001b[39;00m\n\u001b[0;32m     12\u001b[0m cursor\u001b[38;5;241m.\u001b[39mexecute(\u001b[38;5;124m\"\"\"\u001b[39m\u001b[38;5;124mINSERT INTO Course VALUES (1, \u001b[39m\u001b[38;5;124m'\u001b[39m\u001b[38;5;124mIntro to Computer Science\u001b[39m\u001b[38;5;124m'\u001b[39m\u001b[38;5;124m, \u001b[39m\u001b[38;5;124m'\u001b[39m\u001b[38;5;124mCS1310\u001b[39m\u001b[38;5;124m'\u001b[39m\u001b[38;5;124m, 4);\u001b[39m\u001b[38;5;124m\"\"\"\u001b[39m)\n",
      "\u001b[1;31mOperationalError\u001b[0m: table Course already exists"
     ]
    }
   ],
   "source": [
    "# create a table\n",
    "cursor.execute(\"\"\"CREATE TABLE Course(\n",
    "                    cid tinyint(4) NOT NULL,\n",
    "                    course_name TEXT NOT NULL,\n",
    "                    course_code varchar(10) NOT NULL,\n",
    "                    credits tinyint(4),\n",
    "                    PRIMARY KEY (cid)\n",
    "                    );\n",
    "               \"\"\")\n",
    "\n",
    "# insert a turple/row\n",
    "cursor.execute(\"\"\"INSERT INTO Course VALUES (1, 'Intro to Computer Science', 'CS1310', 4);\"\"\")"
   ]
  },
  {
   "cell_type": "code",
   "execution_count": null,
   "metadata": {},
   "outputs": [
    {
     "name": "stdout",
     "output_type": "stream",
     "text": [
      "[]\n"
     ]
    }
   ],
   "source": [
    "# querying data in table Course\n",
    "query = \"\"\"SELECT *\n",
    "           FROM Course;\n",
    "        \"\"\"\n",
    "cursor.execute(query)\n",
    "print(cursor.fetchall())"
   ]
  },
  {
   "cell_type": "code",
   "execution_count": null,
   "metadata": {},
   "outputs": [
    {
     "data": {
      "text/plain": [
       "<sqlite3.Cursor at 0x26d45978740>"
      ]
     },
     "execution_count": 17,
     "metadata": {},
     "output_type": "execute_result"
    }
   ],
   "source": [
    "# insert multiple tuples\n",
    "courses = [(2, 'Data Structure', 'CS3320', 4),\n",
    "           (3, 'Discrete Mathematics', 'MATH2410', 3),\n",
    "           (4, 'Database', 'CS1310', 3),\n",
    "           (5, 'Physics', 'PHY100', 6)]\n",
    "cursor.executemany(\"INSERT INTO Course VALUES (?,?,?,?)\", courses)"
   ]
  },
  {
   "cell_type": "code",
   "execution_count": null,
   "metadata": {},
   "outputs": [
    {
     "name": "stdout",
     "output_type": "stream",
     "text": [
      "[(2, 'Data Structure', 'CS3320', 4), (3, 'Discrete Mathematics', 'MATH2410', 3), (4, 'Database', 'CS1310', 3), (5, 'Physics', 'PHY100', 6)]\n"
     ]
    }
   ],
   "source": [
    "# querying data in table Course\n",
    "query = \"\"\"SELECT *\n",
    "           FROM Course;\n",
    "        \"\"\"\n",
    "cursor.execute(query)\n",
    "print(cursor.fetchall())\n",
    "\n",
    "for course in cursor.fetchall():\n",
    "    print(course)"
   ]
  },
  {
   "cell_type": "code",
   "execution_count": null,
   "metadata": {},
   "outputs": [
    {
     "name": "stdout",
     "output_type": "stream",
     "text": [
      "(2, 'Data Structure', 'CS3320', 4)\n",
      "(3, 'Discrete Mathematics', 'MATH2410', 3)\n",
      "(4, 'Database', 'CS1310', 3)\n",
      "(5, 'Physics', 'PHY100', 6)\n"
     ]
    }
   ],
   "source": [
    "cursor.execute(query)\n",
    "for course in cursor.fetchall():\n",
    "    print(course)"
   ]
  },
  {
   "cell_type": "code",
   "execution_count": null,
   "metadata": {},
   "outputs": [
    {
     "name": "stdout",
     "output_type": "stream",
     "text": [
      "('Data Structure', 4)\n",
      "('Physics', 6)\n"
     ]
    }
   ],
   "source": [
    "query = \"\"\"SELECT course_name, credits\n",
    "           FROM Course\n",
    "           WHERE credits >= 4;\n",
    "        \"\"\"\n",
    "cursor.execute(query)\n",
    "for course in cursor.fetchall():\n",
    "    print(course)"
   ]
  },
  {
   "cell_type": "code",
   "execution_count": null,
   "metadata": {},
   "outputs": [],
   "source": [
    "# deleting all tables\n",
    "def delete_all_tables(conn):\n",
    "    TABLE_PARAMETER = \"{TABLE_PARAMETER}\"\n",
    "    cur = conn.cursor()\n",
    "    cur.execute(\"SELECT name FROM sqlite_schema WHERE type='table';\")\n",
    "    tables = cur.fetchall()\n",
    "    for table, in tables:\n",
    "        sql = f\"DROP TABLE {TABLE_PARAMETER};\".replace(TABLE_PARAMETER, table)\n",
    "        cur.execute(sql)  \n",
    "    cur.close()\n",
    "\n",
    "delete_all_tables(conn)"
   ]
  },
  {
   "cell_type": "code",
   "execution_count": null,
   "metadata": {},
   "outputs": [],
   "source": [
    "conn.close()"
   ]
  },
  {
   "cell_type": "markdown",
   "metadata": {},
   "source": [
    "### Exploring the IMDB dataset with Pandas"
   ]
  },
  {
   "cell_type": "code",
   "execution_count": 9,
   "metadata": {},
   "outputs": [
    {
     "name": "stdout",
     "output_type": "stream",
     "text": [
      "akas\n",
      "\ttitle_id\n",
      "\ttitle\n",
      "\tregion\n",
      "\tlanguage\n",
      "\ttypes\n",
      "\tattributes\n",
      "\tis_original_title\n",
      "\n",
      "crew\n",
      "\ttitle_id\n",
      "\tperson_id\n",
      "\tcategory\n",
      "\tjob\n",
      "\tcharacters\n",
      "\n",
      "episodes\n",
      "\tepisode_title_id\n",
      "\tshow_title_id\n",
      "\tseason_number\n",
      "\tepisode_number\n",
      "\n",
      "people\n",
      "\tperson_id\n",
      "\tname\n",
      "\tborn\n",
      "\tdied\n",
      "\n",
      "ratings\n",
      "\ttitle_id\n",
      "\trating\n",
      "\tvotes\n",
      "\n",
      "titles\n",
      "\ttitle_id\n",
      "\ttype\n",
      "\tprimary_title\n",
      "\toriginal_title\n",
      "\tis_adult\n",
      "\tpremiered\n",
      "\tended\n",
      "\truntime_minutes\n",
      "\tgenres\n",
      "\n"
     ]
    }
   ],
   "source": [
    "# Please modify the path to the target .db file\n",
    "df_file = \"C:\\\\Users\\\\victo\\\\Desktop\\\\movie_imdb_cmu.db\"\n",
    "\n",
    "\n",
    "conn = sqlite3.connect(df_file)\n",
    "c = conn.cursor()\n",
    "\n",
    "# a function for overviewing the schema\n",
    "def table_info(c, conn):\n",
    "    '''\n",
    "    prints out all of the columns of every table in db\n",
    "    c : cursor object\n",
    "    conn : database connection object\n",
    "    '''\n",
    "    tables = c.execute(\"SELECT name FROM sqlite_master WHERE type='table';\").fetchall()\n",
    "    for table_name in tables:\n",
    "        table_name = table_name[0] # tables is a list of single item tuples\n",
    "        table = pd.read_sql_query(\"SELECT * from {} LIMIT 0\".format(table_name), conn)\n",
    "        print(table_name)\n",
    "        for col in table.columns:\n",
    "            print('\\t' + col)\n",
    "        print()\n",
    "\n",
    "table_info(c, conn)"
   ]
  },
  {
   "cell_type": "code",
   "execution_count": 10,
   "metadata": {},
   "outputs": [],
   "source": [
    "query = \"\"\"SELECT *\n",
    "           FROM titles\n",
    "           WHERE runtime_minutes >= 90\n",
    "           LIMIT 20;\n",
    "        \"\"\"\n",
    "\n",
    "df = pd.read_sql(query, conn)"
   ]
  },
  {
   "cell_type": "code",
   "execution_count": 11,
   "metadata": {},
   "outputs": [
    {
     "data": {
      "text/html": [
       "<div>\n",
       "<style scoped>\n",
       "    .dataframe tbody tr th:only-of-type {\n",
       "        vertical-align: middle;\n",
       "    }\n",
       "\n",
       "    .dataframe tbody tr th {\n",
       "        vertical-align: top;\n",
       "    }\n",
       "\n",
       "    .dataframe thead th {\n",
       "        text-align: right;\n",
       "    }\n",
       "</style>\n",
       "<table border=\"1\" class=\"dataframe\">\n",
       "  <thead>\n",
       "    <tr style=\"text-align: right;\">\n",
       "      <th></th>\n",
       "      <th>title_id</th>\n",
       "      <th>type</th>\n",
       "      <th>primary_title</th>\n",
       "      <th>original_title</th>\n",
       "      <th>is_adult</th>\n",
       "      <th>premiered</th>\n",
       "      <th>ended</th>\n",
       "      <th>runtime_minutes</th>\n",
       "      <th>genres</th>\n",
       "    </tr>\n",
       "  </thead>\n",
       "  <tbody>\n",
       "    <tr>\n",
       "      <th>0</th>\n",
       "      <td>tt0002625</td>\n",
       "      <td>movie</td>\n",
       "      <td>Ana Kadova</td>\n",
       "      <td>Ana Kadova</td>\n",
       "      <td>0</td>\n",
       "      <td>1913</td>\n",
       "      <td>None</td>\n",
       "      <td>92</td>\n",
       "      <td>\\N</td>\n",
       "    </tr>\n",
       "    <tr>\n",
       "      <th>1</th>\n",
       "      <td>tt0002898</td>\n",
       "      <td>movie</td>\n",
       "      <td>Germinal; or, The Toll of Labor</td>\n",
       "      <td>Germinal</td>\n",
       "      <td>0</td>\n",
       "      <td>1913</td>\n",
       "      <td>None</td>\n",
       "      <td>150</td>\n",
       "      <td>Drama</td>\n",
       "    </tr>\n",
       "    <tr>\n",
       "      <th>2</th>\n",
       "      <td>tt0003102</td>\n",
       "      <td>movie</td>\n",
       "      <td>Love Everlasting</td>\n",
       "      <td>Ma l'amor mio non muore...</td>\n",
       "      <td>0</td>\n",
       "      <td>1914</td>\n",
       "      <td>None</td>\n",
       "      <td>90</td>\n",
       "      <td>Drama</td>\n",
       "    </tr>\n",
       "    <tr>\n",
       "      <th>3</th>\n",
       "      <td>tt0003165</td>\n",
       "      <td>movie</td>\n",
       "      <td>Fantômas: The Dead Man Who Killed</td>\n",
       "      <td>Le mort qui tue</td>\n",
       "      <td>0</td>\n",
       "      <td>1913</td>\n",
       "      <td>None</td>\n",
       "      <td>90</td>\n",
       "      <td>Crime,Drama,Mystery</td>\n",
       "    </tr>\n",
       "    <tr>\n",
       "      <th>4</th>\n",
       "      <td>tt0003241</td>\n",
       "      <td>movie</td>\n",
       "      <td>One Hundred Years of Mormonism</td>\n",
       "      <td>One Hundred Years of Mormonism</td>\n",
       "      <td>0</td>\n",
       "      <td>1913</td>\n",
       "      <td>None</td>\n",
       "      <td>90</td>\n",
       "      <td>Drama,History</td>\n",
       "    </tr>\n",
       "    <tr>\n",
       "      <th>5</th>\n",
       "      <td>tt0003675</td>\n",
       "      <td>movie</td>\n",
       "      <td>The Beloved Adventurer</td>\n",
       "      <td>The Beloved Adventurer</td>\n",
       "      <td>0</td>\n",
       "      <td>1914</td>\n",
       "      <td>None</td>\n",
       "      <td>450</td>\n",
       "      <td>Adventure</td>\n",
       "    </tr>\n",
       "    <tr>\n",
       "      <th>6</th>\n",
       "      <td>tt0003883</td>\n",
       "      <td>movie</td>\n",
       "      <td>L'enfant de Paris</td>\n",
       "      <td>L'enfant de Paris</td>\n",
       "      <td>0</td>\n",
       "      <td>1913</td>\n",
       "      <td>None</td>\n",
       "      <td>124</td>\n",
       "      <td>Crime,Drama</td>\n",
       "    </tr>\n",
       "    <tr>\n",
       "      <th>7</th>\n",
       "      <td>tt0004483</td>\n",
       "      <td>movie</td>\n",
       "      <td>The Port of Missing Men</td>\n",
       "      <td>The Port of Missing Men</td>\n",
       "      <td>0</td>\n",
       "      <td>1914</td>\n",
       "      <td>None</td>\n",
       "      <td>139</td>\n",
       "      <td>Drama</td>\n",
       "    </tr>\n",
       "    <tr>\n",
       "      <th>8</th>\n",
       "      <td>tt0004525</td>\n",
       "      <td>movie</td>\n",
       "      <td>The Reign of Terror</td>\n",
       "      <td>Le chevalier de Maison-Rouge</td>\n",
       "      <td>0</td>\n",
       "      <td>1914</td>\n",
       "      <td>None</td>\n",
       "      <td>109</td>\n",
       "      <td>Drama,History</td>\n",
       "    </tr>\n",
       "    <tr>\n",
       "      <th>9</th>\n",
       "      <td>tt0004594</td>\n",
       "      <td>movie</td>\n",
       "      <td>El signo de la tribu</td>\n",
       "      <td>El signo de la tribu</td>\n",
       "      <td>0</td>\n",
       "      <td>1914</td>\n",
       "      <td>None</td>\n",
       "      <td>219</td>\n",
       "      <td>\\N</td>\n",
       "    </tr>\n",
       "    <tr>\n",
       "      <th>10</th>\n",
       "      <td>tt0004727</td>\n",
       "      <td>movie</td>\n",
       "      <td>The Trey o' Hearts</td>\n",
       "      <td>The Trey o' Hearts</td>\n",
       "      <td>0</td>\n",
       "      <td>1914</td>\n",
       "      <td>None</td>\n",
       "      <td>310</td>\n",
       "      <td>Adventure</td>\n",
       "    </tr>\n",
       "    <tr>\n",
       "      <th>11</th>\n",
       "      <td>tt0005400</td>\n",
       "      <td>movie</td>\n",
       "      <td>The Goddess</td>\n",
       "      <td>The Goddess</td>\n",
       "      <td>0</td>\n",
       "      <td>1915</td>\n",
       "      <td>None</td>\n",
       "      <td>310</td>\n",
       "      <td>Drama,Romance</td>\n",
       "    </tr>\n",
       "    <tr>\n",
       "      <th>12</th>\n",
       "      <td>tt0005529</td>\n",
       "      <td>movie</td>\n",
       "      <td>Blind Justice</td>\n",
       "      <td>Hævnens Nat</td>\n",
       "      <td>0</td>\n",
       "      <td>1916</td>\n",
       "      <td>None</td>\n",
       "      <td>100</td>\n",
       "      <td>Crime,Drama,Horror</td>\n",
       "    </tr>\n",
       "    <tr>\n",
       "      <th>13</th>\n",
       "      <td>tt0006097</td>\n",
       "      <td>movie</td>\n",
       "      <td>Stingaree</td>\n",
       "      <td>Stingaree</td>\n",
       "      <td>0</td>\n",
       "      <td>1915</td>\n",
       "      <td>None</td>\n",
       "      <td>250</td>\n",
       "      <td>Drama</td>\n",
       "    </tr>\n",
       "    <tr>\n",
       "      <th>14</th>\n",
       "      <td>tt0006206</td>\n",
       "      <td>movie</td>\n",
       "      <td>Les vampires</td>\n",
       "      <td>Les vampires</td>\n",
       "      <td>0</td>\n",
       "      <td>1915</td>\n",
       "      <td>None</td>\n",
       "      <td>421</td>\n",
       "      <td>Action,Adventure,Crime</td>\n",
       "    </tr>\n",
       "    <tr>\n",
       "      <th>15</th>\n",
       "      <td>tt0006356</td>\n",
       "      <td>movie</td>\n",
       "      <td>America Preparing</td>\n",
       "      <td>America Preparing</td>\n",
       "      <td>0</td>\n",
       "      <td>1916</td>\n",
       "      <td>None</td>\n",
       "      <td>100</td>\n",
       "      <td>Documentary</td>\n",
       "    </tr>\n",
       "    <tr>\n",
       "      <th>16</th>\n",
       "      <td>tt0006557</td>\n",
       "      <td>movie</td>\n",
       "      <td>The Crisis</td>\n",
       "      <td>The Crisis</td>\n",
       "      <td>0</td>\n",
       "      <td>1916</td>\n",
       "      <td>None</td>\n",
       "      <td>100</td>\n",
       "      <td>Drama,History,War</td>\n",
       "    </tr>\n",
       "    <tr>\n",
       "      <th>17</th>\n",
       "      <td>tt0007062</td>\n",
       "      <td>movie</td>\n",
       "      <td>Milestones</td>\n",
       "      <td>Milestones</td>\n",
       "      <td>0</td>\n",
       "      <td>1916</td>\n",
       "      <td>None</td>\n",
       "      <td>90</td>\n",
       "      <td>Drama</td>\n",
       "    </tr>\n",
       "    <tr>\n",
       "      <th>18</th>\n",
       "      <td>tt0007121</td>\n",
       "      <td>movie</td>\n",
       "      <td>Neutraal Nederland</td>\n",
       "      <td>Neutraal Nederland</td>\n",
       "      <td>0</td>\n",
       "      <td>1917</td>\n",
       "      <td>None</td>\n",
       "      <td>165</td>\n",
       "      <td>\\N</td>\n",
       "    </tr>\n",
       "    <tr>\n",
       "      <th>19</th>\n",
       "      <td>tt0008100</td>\n",
       "      <td>movie</td>\n",
       "      <td>A Trip to Mars</td>\n",
       "      <td>Himmelskibet</td>\n",
       "      <td>0</td>\n",
       "      <td>1918</td>\n",
       "      <td>None</td>\n",
       "      <td>97</td>\n",
       "      <td>Adventure,Fantasy,Sci-Fi</td>\n",
       "    </tr>\n",
       "  </tbody>\n",
       "</table>\n",
       "</div>"
      ],
      "text/plain": [
       "     title_id   type                      primary_title  \\\n",
       "0   tt0002625  movie                         Ana Kadova   \n",
       "1   tt0002898  movie    Germinal; or, The Toll of Labor   \n",
       "2   tt0003102  movie                   Love Everlasting   \n",
       "3   tt0003165  movie  Fantômas: The Dead Man Who Killed   \n",
       "4   tt0003241  movie     One Hundred Years of Mormonism   \n",
       "5   tt0003675  movie             The Beloved Adventurer   \n",
       "6   tt0003883  movie                  L'enfant de Paris   \n",
       "7   tt0004483  movie            The Port of Missing Men   \n",
       "8   tt0004525  movie                The Reign of Terror   \n",
       "9   tt0004594  movie               El signo de la tribu   \n",
       "10  tt0004727  movie                 The Trey o' Hearts   \n",
       "11  tt0005400  movie                        The Goddess   \n",
       "12  tt0005529  movie                      Blind Justice   \n",
       "13  tt0006097  movie                          Stingaree   \n",
       "14  tt0006206  movie                       Les vampires   \n",
       "15  tt0006356  movie                  America Preparing   \n",
       "16  tt0006557  movie                         The Crisis   \n",
       "17  tt0007062  movie                         Milestones   \n",
       "18  tt0007121  movie                 Neutraal Nederland   \n",
       "19  tt0008100  movie                     A Trip to Mars   \n",
       "\n",
       "                    original_title  is_adult  premiered ended  \\\n",
       "0                       Ana Kadova         0       1913  None   \n",
       "1                         Germinal         0       1913  None   \n",
       "2       Ma l'amor mio non muore...         0       1914  None   \n",
       "3                  Le mort qui tue         0       1913  None   \n",
       "4   One Hundred Years of Mormonism         0       1913  None   \n",
       "5           The Beloved Adventurer         0       1914  None   \n",
       "6                L'enfant de Paris         0       1913  None   \n",
       "7          The Port of Missing Men         0       1914  None   \n",
       "8     Le chevalier de Maison-Rouge         0       1914  None   \n",
       "9             El signo de la tribu         0       1914  None   \n",
       "10              The Trey o' Hearts         0       1914  None   \n",
       "11                     The Goddess         0       1915  None   \n",
       "12                     Hævnens Nat         0       1916  None   \n",
       "13                       Stingaree         0       1915  None   \n",
       "14                    Les vampires         0       1915  None   \n",
       "15               America Preparing         0       1916  None   \n",
       "16                      The Crisis         0       1916  None   \n",
       "17                      Milestones         0       1916  None   \n",
       "18              Neutraal Nederland         0       1917  None   \n",
       "19                    Himmelskibet         0       1918  None   \n",
       "\n",
       "    runtime_minutes                    genres  \n",
       "0                92                        \\N  \n",
       "1               150                     Drama  \n",
       "2                90                     Drama  \n",
       "3                90       Crime,Drama,Mystery  \n",
       "4                90             Drama,History  \n",
       "5               450                 Adventure  \n",
       "6               124               Crime,Drama  \n",
       "7               139                     Drama  \n",
       "8               109             Drama,History  \n",
       "9               219                        \\N  \n",
       "10              310                 Adventure  \n",
       "11              310             Drama,Romance  \n",
       "12              100        Crime,Drama,Horror  \n",
       "13              250                     Drama  \n",
       "14              421    Action,Adventure,Crime  \n",
       "15              100               Documentary  \n",
       "16              100         Drama,History,War  \n",
       "17               90                     Drama  \n",
       "18              165                        \\N  \n",
       "19               97  Adventure,Fantasy,Sci-Fi  "
      ]
     },
     "execution_count": 11,
     "metadata": {},
     "output_type": "execute_result"
    }
   ],
   "source": [
    "df"
   ]
  },
  {
   "cell_type": "code",
   "execution_count": 12,
   "metadata": {},
   "outputs": [
    {
     "data": {
      "text/html": [
       "<div>\n",
       "<style scoped>\n",
       "    .dataframe tbody tr th:only-of-type {\n",
       "        vertical-align: middle;\n",
       "    }\n",
       "\n",
       "    .dataframe tbody tr th {\n",
       "        vertical-align: top;\n",
       "    }\n",
       "\n",
       "    .dataframe thead th {\n",
       "        text-align: right;\n",
       "    }\n",
       "</style>\n",
       "<table border=\"1\" class=\"dataframe\">\n",
       "  <thead>\n",
       "    <tr style=\"text-align: right;\">\n",
       "      <th></th>\n",
       "      <th>is_adult</th>\n",
       "      <th>premiered</th>\n",
       "      <th>runtime_minutes</th>\n",
       "    </tr>\n",
       "  </thead>\n",
       "  <tbody>\n",
       "    <tr>\n",
       "      <th>count</th>\n",
       "      <td>20.0</td>\n",
       "      <td>20.000000</td>\n",
       "      <td>20.000000</td>\n",
       "    </tr>\n",
       "    <tr>\n",
       "      <th>mean</th>\n",
       "      <td>0.0</td>\n",
       "      <td>1914.650000</td>\n",
       "      <td>174.800000</td>\n",
       "    </tr>\n",
       "    <tr>\n",
       "      <th>std</th>\n",
       "      <td>0.0</td>\n",
       "      <td>1.460894</td>\n",
       "      <td>114.219825</td>\n",
       "    </tr>\n",
       "    <tr>\n",
       "      <th>min</th>\n",
       "      <td>0.0</td>\n",
       "      <td>1913.000000</td>\n",
       "      <td>90.000000</td>\n",
       "    </tr>\n",
       "    <tr>\n",
       "      <th>25%</th>\n",
       "      <td>0.0</td>\n",
       "      <td>1913.750000</td>\n",
       "      <td>95.750000</td>\n",
       "    </tr>\n",
       "    <tr>\n",
       "      <th>50%</th>\n",
       "      <td>0.0</td>\n",
       "      <td>1914.000000</td>\n",
       "      <td>116.500000</td>\n",
       "    </tr>\n",
       "    <tr>\n",
       "      <th>75%</th>\n",
       "      <td>0.0</td>\n",
       "      <td>1916.000000</td>\n",
       "      <td>226.750000</td>\n",
       "    </tr>\n",
       "    <tr>\n",
       "      <th>max</th>\n",
       "      <td>0.0</td>\n",
       "      <td>1918.000000</td>\n",
       "      <td>450.000000</td>\n",
       "    </tr>\n",
       "  </tbody>\n",
       "</table>\n",
       "</div>"
      ],
      "text/plain": [
       "       is_adult    premiered  runtime_minutes\n",
       "count      20.0    20.000000        20.000000\n",
       "mean        0.0  1914.650000       174.800000\n",
       "std         0.0     1.460894       114.219825\n",
       "min         0.0  1913.000000        90.000000\n",
       "25%         0.0  1913.750000        95.750000\n",
       "50%         0.0  1914.000000       116.500000\n",
       "75%         0.0  1916.000000       226.750000\n",
       "max         0.0  1918.000000       450.000000"
      ]
     },
     "execution_count": 12,
     "metadata": {},
     "output_type": "execute_result"
    }
   ],
   "source": [
    "df.describe()"
   ]
  },
  {
   "cell_type": "code",
   "execution_count": null,
   "metadata": {
    "scrolled": false
   },
   "outputs": [
    {
     "data": {
      "text/html": [
       "<div>\n",
       "<style scoped>\n",
       "    .dataframe tbody tr th:only-of-type {\n",
       "        vertical-align: middle;\n",
       "    }\n",
       "\n",
       "    .dataframe tbody tr th {\n",
       "        vertical-align: top;\n",
       "    }\n",
       "\n",
       "    .dataframe thead th {\n",
       "        text-align: right;\n",
       "    }\n",
       "</style>\n",
       "<table border=\"1\" class=\"dataframe\">\n",
       "  <thead>\n",
       "    <tr style=\"text-align: right;\">\n",
       "      <th></th>\n",
       "      <th>title_id</th>\n",
       "      <th>type</th>\n",
       "      <th>primary_title</th>\n",
       "      <th>is_adult</th>\n",
       "      <th>premiered</th>\n",
       "      <th>runtime_minutes</th>\n",
       "      <th>genres</th>\n",
       "      <th>rating</th>\n",
       "      <th>votes</th>\n",
       "    </tr>\n",
       "  </thead>\n",
       "  <tbody>\n",
       "    <tr>\n",
       "      <th>0</th>\n",
       "      <td>tt0132596</td>\n",
       "      <td>tvMovie</td>\n",
       "      <td>Verkündigung</td>\n",
       "      <td>0</td>\n",
       "      <td>1963.0</td>\n",
       "      <td>100</td>\n",
       "      <td>\\N</td>\n",
       "      <td>10.0</td>\n",
       "      <td>12.0</td>\n",
       "    </tr>\n",
       "    <tr>\n",
       "      <th>1</th>\n",
       "      <td>tt0343717</td>\n",
       "      <td>tvMovie</td>\n",
       "      <td>Gideon</td>\n",
       "      <td>0</td>\n",
       "      <td>1966.0</td>\n",
       "      <td>110</td>\n",
       "      <td>\\N</td>\n",
       "      <td>10.0</td>\n",
       "      <td>15.0</td>\n",
       "    </tr>\n",
       "    <tr>\n",
       "      <th>2</th>\n",
       "      <td>tt0448376</td>\n",
       "      <td>tvSpecial</td>\n",
       "      <td>Ein Berliner in Hamburg</td>\n",
       "      <td>0</td>\n",
       "      <td>1961.0</td>\n",
       "      <td>105</td>\n",
       "      <td>Music</td>\n",
       "      <td>10.0</td>\n",
       "      <td>17.0</td>\n",
       "    </tr>\n",
       "    <tr>\n",
       "      <th>3</th>\n",
       "      <td>tt0473904</td>\n",
       "      <td>video</td>\n",
       "      <td>Eat My Ass</td>\n",
       "      <td>1</td>\n",
       "      <td>2005.0</td>\n",
       "      <td>150</td>\n",
       "      <td>Adult</td>\n",
       "      <td>10.0</td>\n",
       "      <td>10.0</td>\n",
       "    </tr>\n",
       "    <tr>\n",
       "      <th>4</th>\n",
       "      <td>tt1085701</td>\n",
       "      <td>tvMovie</td>\n",
       "      <td>Die gute Sieben</td>\n",
       "      <td>0</td>\n",
       "      <td>1959.0</td>\n",
       "      <td>90</td>\n",
       "      <td>Comedy</td>\n",
       "      <td>10.0</td>\n",
       "      <td>24.0</td>\n",
       "    </tr>\n",
       "    <tr>\n",
       "      <th>...</th>\n",
       "      <td>...</td>\n",
       "      <td>...</td>\n",
       "      <td>...</td>\n",
       "      <td>...</td>\n",
       "      <td>...</td>\n",
       "      <td>...</td>\n",
       "      <td>...</td>\n",
       "      <td>...</td>\n",
       "      <td>...</td>\n",
       "    </tr>\n",
       "    <tr>\n",
       "      <th>50764</th>\n",
       "      <td>tt9914928</td>\n",
       "      <td>movie</td>\n",
       "      <td>Noblesse Oblige</td>\n",
       "      <td>0</td>\n",
       "      <td>NaN</td>\n",
       "      <td>105</td>\n",
       "      <td>Drama</td>\n",
       "      <td>NaN</td>\n",
       "      <td>NaN</td>\n",
       "    </tr>\n",
       "    <tr>\n",
       "      <th>50765</th>\n",
       "      <td>tt9915090</td>\n",
       "      <td>tvEpisode</td>\n",
       "      <td>Énergies et nucléaire</td>\n",
       "      <td>0</td>\n",
       "      <td>1981.0</td>\n",
       "      <td>130</td>\n",
       "      <td>Documentary,News,Talk-Show</td>\n",
       "      <td>NaN</td>\n",
       "      <td>NaN</td>\n",
       "    </tr>\n",
       "    <tr>\n",
       "      <th>50766</th>\n",
       "      <td>tt9915152</td>\n",
       "      <td>video</td>\n",
       "      <td>Legendary Idol Volume 20: The Classic Adult Vi...</td>\n",
       "      <td>1</td>\n",
       "      <td>2007.0</td>\n",
       "      <td>110</td>\n",
       "      <td>Adult</td>\n",
       "      <td>NaN</td>\n",
       "      <td>NaN</td>\n",
       "    </tr>\n",
       "    <tr>\n",
       "      <th>50767</th>\n",
       "      <td>tt9916058</td>\n",
       "      <td>movie</td>\n",
       "      <td>Cali: ayer, hoy y mañana</td>\n",
       "      <td>0</td>\n",
       "      <td>1995.0</td>\n",
       "      <td>250</td>\n",
       "      <td>Documentary</td>\n",
       "      <td>NaN</td>\n",
       "      <td>NaN</td>\n",
       "    </tr>\n",
       "    <tr>\n",
       "      <th>50768</th>\n",
       "      <td>tt9916124</td>\n",
       "      <td>movie</td>\n",
       "      <td>Mucho gusto</td>\n",
       "      <td>0</td>\n",
       "      <td>1997.0</td>\n",
       "      <td>108</td>\n",
       "      <td>Documentary</td>\n",
       "      <td>NaN</td>\n",
       "      <td>NaN</td>\n",
       "    </tr>\n",
       "  </tbody>\n",
       "</table>\n",
       "<p>50769 rows × 9 columns</p>\n",
       "</div>"
      ],
      "text/plain": [
       "        title_id       type  \\\n",
       "0      tt0132596    tvMovie   \n",
       "1      tt0343717    tvMovie   \n",
       "2      tt0448376  tvSpecial   \n",
       "3      tt0473904      video   \n",
       "4      tt1085701    tvMovie   \n",
       "...          ...        ...   \n",
       "50764  tt9914928      movie   \n",
       "50765  tt9915090  tvEpisode   \n",
       "50766  tt9915152      video   \n",
       "50767  tt9916058      movie   \n",
       "50768  tt9916124      movie   \n",
       "\n",
       "                                           primary_title  is_adult  premiered  \\\n",
       "0                                           Verkündigung         0     1963.0   \n",
       "1                                                 Gideon         0     1966.0   \n",
       "2                                Ein Berliner in Hamburg         0     1961.0   \n",
       "3                                             Eat My Ass         1     2005.0   \n",
       "4                                        Die gute Sieben         0     1959.0   \n",
       "...                                                  ...       ...        ...   \n",
       "50764                                    Noblesse Oblige         0        NaN   \n",
       "50765                              Énergies et nucléaire         0     1981.0   \n",
       "50766  Legendary Idol Volume 20: The Classic Adult Vi...         1     2007.0   \n",
       "50767                           Cali: ayer, hoy y mañana         0     1995.0   \n",
       "50768                                        Mucho gusto         0     1997.0   \n",
       "\n",
       "       runtime_minutes                      genres  rating  votes  \n",
       "0                  100                          \\N    10.0   12.0  \n",
       "1                  110                          \\N    10.0   15.0  \n",
       "2                  105                       Music    10.0   17.0  \n",
       "3                  150                       Adult    10.0   10.0  \n",
       "4                   90                      Comedy    10.0   24.0  \n",
       "...                ...                         ...     ...    ...  \n",
       "50764              105                       Drama     NaN    NaN  \n",
       "50765              130  Documentary,News,Talk-Show     NaN    NaN  \n",
       "50766              110                       Adult     NaN    NaN  \n",
       "50767              250                 Documentary     NaN    NaN  \n",
       "50768              108                 Documentary     NaN    NaN  \n",
       "\n",
       "[50769 rows x 9 columns]"
      ]
     },
     "execution_count": 16,
     "metadata": {},
     "output_type": "execute_result"
    }
   ],
   "source": [
    "query = \"\"\"SELECT t.title_id, t.type, t.primary_title, t.is_adult, t.premiered, t.runtime_minutes, t.genres, r.rating, r.votes\n",
    "           FROM titles AS t\n",
    "            LEFT JOIN ratings as r\n",
    "               ON r.title_id = t.title_id\n",
    "           WHERE runtime_minutes >= 90\n",
    "           ORDER BY r.rating DESC\n",
    "        \"\"\"\n",
    "\n",
    "df = pd.read_sql(query, conn)\n",
    "df"
   ]
  },
  {
   "cell_type": "code",
   "execution_count": 13,
   "metadata": {},
   "outputs": [
    {
     "ename": "KeyError",
     "evalue": "['rating']",
     "output_type": "error",
     "traceback": [
      "\u001b[1;31m---------------------------------------------------------------------------\u001b[0m",
      "\u001b[1;31mKeyError\u001b[0m                                  Traceback (most recent call last)",
      "\u001b[1;32m~\\AppData\\Local\\Temp\\ipykernel_17388\\2150072509.py\u001b[0m in \u001b[0;36m?\u001b[1;34m()\u001b[0m\n\u001b[1;32m----> 1\u001b[1;33m \u001b[0mdf_notna\u001b[0m \u001b[1;33m=\u001b[0m \u001b[0mdf\u001b[0m\u001b[1;33m.\u001b[0m\u001b[0mdropna\u001b[0m\u001b[1;33m(\u001b[0m\u001b[0msubset\u001b[0m\u001b[1;33m=\u001b[0m\u001b[1;33m[\u001b[0m\u001b[1;34m\"rating\"\u001b[0m\u001b[1;33m]\u001b[0m\u001b[1;33m)\u001b[0m\u001b[1;33m\u001b[0m\u001b[1;33m\u001b[0m\u001b[0m\n\u001b[0m\u001b[0;32m      2\u001b[0m \u001b[0mprint\u001b[0m\u001b[1;33m(\u001b[0m\u001b[0mdf_notna\u001b[0m\u001b[1;33m.\u001b[0m\u001b[0mshape\u001b[0m\u001b[1;33m)\u001b[0m\u001b[1;33m\u001b[0m\u001b[1;33m\u001b[0m\u001b[0m\n",
      "\u001b[1;32m~\\AppData\\Local\\Packages\\PythonSoftwareFoundation.Python.3.12_qbz5n2kfra8p0\\LocalCache\\local-packages\\Python312\\site-packages\\pandas\\core\\frame.py\u001b[0m in \u001b[0;36m?\u001b[1;34m(self, axis, how, thresh, subset, inplace, ignore_index)\u001b[0m\n\u001b[0;32m   6650\u001b[0m             \u001b[0max\u001b[0m \u001b[1;33m=\u001b[0m \u001b[0mself\u001b[0m\u001b[1;33m.\u001b[0m\u001b[0m_get_axis\u001b[0m\u001b[1;33m(\u001b[0m\u001b[0magg_axis\u001b[0m\u001b[1;33m)\u001b[0m\u001b[1;33m\u001b[0m\u001b[1;33m\u001b[0m\u001b[0m\n\u001b[0;32m   6651\u001b[0m             \u001b[0mindices\u001b[0m \u001b[1;33m=\u001b[0m \u001b[0max\u001b[0m\u001b[1;33m.\u001b[0m\u001b[0mget_indexer_for\u001b[0m\u001b[1;33m(\u001b[0m\u001b[0msubset\u001b[0m\u001b[1;33m)\u001b[0m\u001b[1;33m\u001b[0m\u001b[1;33m\u001b[0m\u001b[0m\n\u001b[0;32m   6652\u001b[0m             \u001b[0mcheck\u001b[0m \u001b[1;33m=\u001b[0m \u001b[0mindices\u001b[0m \u001b[1;33m==\u001b[0m \u001b[1;33m-\u001b[0m\u001b[1;36m1\u001b[0m\u001b[1;33m\u001b[0m\u001b[1;33m\u001b[0m\u001b[0m\n\u001b[0;32m   6653\u001b[0m             \u001b[1;32mif\u001b[0m \u001b[0mcheck\u001b[0m\u001b[1;33m.\u001b[0m\u001b[0many\u001b[0m\u001b[1;33m(\u001b[0m\u001b[1;33m)\u001b[0m\u001b[1;33m:\u001b[0m\u001b[1;33m\u001b[0m\u001b[1;33m\u001b[0m\u001b[0m\n\u001b[1;32m-> 6654\u001b[1;33m                 \u001b[1;32mraise\u001b[0m \u001b[0mKeyError\u001b[0m\u001b[1;33m(\u001b[0m\u001b[0mnp\u001b[0m\u001b[1;33m.\u001b[0m\u001b[0marray\u001b[0m\u001b[1;33m(\u001b[0m\u001b[0msubset\u001b[0m\u001b[1;33m)\u001b[0m\u001b[1;33m[\u001b[0m\u001b[0mcheck\u001b[0m\u001b[1;33m]\u001b[0m\u001b[1;33m.\u001b[0m\u001b[0mtolist\u001b[0m\u001b[1;33m(\u001b[0m\u001b[1;33m)\u001b[0m\u001b[1;33m)\u001b[0m\u001b[1;33m\u001b[0m\u001b[1;33m\u001b[0m\u001b[0m\n\u001b[0m\u001b[0;32m   6655\u001b[0m             \u001b[0magg_obj\u001b[0m \u001b[1;33m=\u001b[0m \u001b[0mself\u001b[0m\u001b[1;33m.\u001b[0m\u001b[0mtake\u001b[0m\u001b[1;33m(\u001b[0m\u001b[0mindices\u001b[0m\u001b[1;33m,\u001b[0m \u001b[0maxis\u001b[0m\u001b[1;33m=\u001b[0m\u001b[0magg_axis\u001b[0m\u001b[1;33m)\u001b[0m\u001b[1;33m\u001b[0m\u001b[1;33m\u001b[0m\u001b[0m\n\u001b[0;32m   6656\u001b[0m \u001b[1;33m\u001b[0m\u001b[0m\n\u001b[0;32m   6657\u001b[0m         \u001b[1;32mif\u001b[0m \u001b[0mthresh\u001b[0m \u001b[1;32mis\u001b[0m \u001b[1;32mnot\u001b[0m \u001b[0mlib\u001b[0m\u001b[1;33m.\u001b[0m\u001b[0mno_default\u001b[0m\u001b[1;33m:\u001b[0m\u001b[1;33m\u001b[0m\u001b[1;33m\u001b[0m\u001b[0m\n",
      "\u001b[1;31mKeyError\u001b[0m: ['rating']"
     ]
    }
   ],
   "source": [
    "df_notna = df.dropna(subset=[\"rating\"])\n",
    "print(df_notna.shape)"
   ]
  },
  {
   "cell_type": "code",
   "execution_count": null,
   "metadata": {},
   "outputs": [],
   "source": [
    "file_csv = \".../title_rating.csv\"\n",
    "df_notna.to_csv(file_csv, index=False)"
   ]
  },
  {
   "cell_type": "code",
   "execution_count": null,
   "metadata": {},
   "outputs": [
    {
     "data": {
      "text/html": [
       "<div>\n",
       "<style scoped>\n",
       "    .dataframe tbody tr th:only-of-type {\n",
       "        vertical-align: middle;\n",
       "    }\n",
       "\n",
       "    .dataframe tbody tr th {\n",
       "        vertical-align: top;\n",
       "    }\n",
       "\n",
       "    .dataframe thead th {\n",
       "        text-align: right;\n",
       "    }\n",
       "</style>\n",
       "<table border=\"1\" class=\"dataframe\">\n",
       "  <thead>\n",
       "    <tr style=\"text-align: right;\">\n",
       "      <th></th>\n",
       "      <th>title_id</th>\n",
       "      <th>type</th>\n",
       "      <th>primary_title</th>\n",
       "      <th>is_adult</th>\n",
       "      <th>premiered</th>\n",
       "      <th>runtime_minutes</th>\n",
       "      <th>genres</th>\n",
       "      <th>rating</th>\n",
       "      <th>votes</th>\n",
       "    </tr>\n",
       "  </thead>\n",
       "  <tbody>\n",
       "    <tr>\n",
       "      <th>0</th>\n",
       "      <td>tt0132596</td>\n",
       "      <td>tvMovie</td>\n",
       "      <td>Verkündigung</td>\n",
       "      <td>0</td>\n",
       "      <td>1963.0</td>\n",
       "      <td>100</td>\n",
       "      <td>\\N</td>\n",
       "      <td>10.0</td>\n",
       "      <td>12.0</td>\n",
       "    </tr>\n",
       "    <tr>\n",
       "      <th>1</th>\n",
       "      <td>tt0343717</td>\n",
       "      <td>tvMovie</td>\n",
       "      <td>Gideon</td>\n",
       "      <td>0</td>\n",
       "      <td>1966.0</td>\n",
       "      <td>110</td>\n",
       "      <td>\\N</td>\n",
       "      <td>10.0</td>\n",
       "      <td>15.0</td>\n",
       "    </tr>\n",
       "    <tr>\n",
       "      <th>2</th>\n",
       "      <td>tt0448376</td>\n",
       "      <td>tvSpecial</td>\n",
       "      <td>Ein Berliner in Hamburg</td>\n",
       "      <td>0</td>\n",
       "      <td>1961.0</td>\n",
       "      <td>105</td>\n",
       "      <td>Music</td>\n",
       "      <td>10.0</td>\n",
       "      <td>17.0</td>\n",
       "    </tr>\n",
       "    <tr>\n",
       "      <th>3</th>\n",
       "      <td>tt0473904</td>\n",
       "      <td>video</td>\n",
       "      <td>Eat My Ass</td>\n",
       "      <td>1</td>\n",
       "      <td>2005.0</td>\n",
       "      <td>150</td>\n",
       "      <td>Adult</td>\n",
       "      <td>10.0</td>\n",
       "      <td>10.0</td>\n",
       "    </tr>\n",
       "    <tr>\n",
       "      <th>4</th>\n",
       "      <td>tt1085701</td>\n",
       "      <td>tvMovie</td>\n",
       "      <td>Die gute Sieben</td>\n",
       "      <td>0</td>\n",
       "      <td>1959.0</td>\n",
       "      <td>90</td>\n",
       "      <td>Comedy</td>\n",
       "      <td>10.0</td>\n",
       "      <td>24.0</td>\n",
       "    </tr>\n",
       "    <tr>\n",
       "      <th>...</th>\n",
       "      <td>...</td>\n",
       "      <td>...</td>\n",
       "      <td>...</td>\n",
       "      <td>...</td>\n",
       "      <td>...</td>\n",
       "      <td>...</td>\n",
       "      <td>...</td>\n",
       "      <td>...</td>\n",
       "      <td>...</td>\n",
       "    </tr>\n",
       "    <tr>\n",
       "      <th>29267</th>\n",
       "      <td>tt5311054</td>\n",
       "      <td>movie</td>\n",
       "      <td>Browncoats: Independence War</td>\n",
       "      <td>0</td>\n",
       "      <td>2015.0</td>\n",
       "      <td>98</td>\n",
       "      <td>Action,Sci-Fi,War</td>\n",
       "      <td>1.1</td>\n",
       "      <td>727.0</td>\n",
       "    </tr>\n",
       "    <tr>\n",
       "      <th>29268</th>\n",
       "      <td>tt10642850</td>\n",
       "      <td>tvSpecial</td>\n",
       "      <td>15 Temmuz destani</td>\n",
       "      <td>0</td>\n",
       "      <td>2019.0</td>\n",
       "      <td>129</td>\n",
       "      <td>News</td>\n",
       "      <td>1.0</td>\n",
       "      <td>190.0</td>\n",
       "    </tr>\n",
       "    <tr>\n",
       "      <th>29269</th>\n",
       "      <td>tt2124890</td>\n",
       "      <td>movie</td>\n",
       "      <td>Ramo Trip</td>\n",
       "      <td>0</td>\n",
       "      <td>2012.0</td>\n",
       "      <td>119</td>\n",
       "      <td>Documentary</td>\n",
       "      <td>1.0</td>\n",
       "      <td>465.0</td>\n",
       "    </tr>\n",
       "    <tr>\n",
       "      <th>29270</th>\n",
       "      <td>tt6254572</td>\n",
       "      <td>movie</td>\n",
       "      <td>Birth Control: Is It Up to Us?</td>\n",
       "      <td>0</td>\n",
       "      <td>2016.0</td>\n",
       "      <td>117</td>\n",
       "      <td>Documentary</td>\n",
       "      <td>1.0</td>\n",
       "      <td>7.0</td>\n",
       "    </tr>\n",
       "    <tr>\n",
       "      <th>29271</th>\n",
       "      <td>tt7858840</td>\n",
       "      <td>tvMovie</td>\n",
       "      <td>Do or</td>\n",
       "      <td>0</td>\n",
       "      <td>2016.0</td>\n",
       "      <td>90</td>\n",
       "      <td>Drama</td>\n",
       "      <td>1.0</td>\n",
       "      <td>92.0</td>\n",
       "    </tr>\n",
       "  </tbody>\n",
       "</table>\n",
       "<p>29272 rows × 9 columns</p>\n",
       "</div>"
      ],
      "text/plain": [
       "         title_id       type                   primary_title  is_adult  \\\n",
       "0       tt0132596    tvMovie                    Verkündigung         0   \n",
       "1       tt0343717    tvMovie                          Gideon         0   \n",
       "2       tt0448376  tvSpecial         Ein Berliner in Hamburg         0   \n",
       "3       tt0473904      video                      Eat My Ass         1   \n",
       "4       tt1085701    tvMovie                 Die gute Sieben         0   \n",
       "...           ...        ...                             ...       ...   \n",
       "29267   tt5311054      movie    Browncoats: Independence War         0   \n",
       "29268  tt10642850  tvSpecial               15 Temmuz destani         0   \n",
       "29269   tt2124890      movie                       Ramo Trip         0   \n",
       "29270   tt6254572      movie  Birth Control: Is It Up to Us?         0   \n",
       "29271   tt7858840    tvMovie                           Do or         0   \n",
       "\n",
       "       premiered  runtime_minutes             genres  rating  votes  \n",
       "0         1963.0              100                 \\N    10.0   12.0  \n",
       "1         1966.0              110                 \\N    10.0   15.0  \n",
       "2         1961.0              105              Music    10.0   17.0  \n",
       "3         2005.0              150              Adult    10.0   10.0  \n",
       "4         1959.0               90             Comedy    10.0   24.0  \n",
       "...          ...              ...                ...     ...    ...  \n",
       "29267     2015.0               98  Action,Sci-Fi,War     1.1  727.0  \n",
       "29268     2019.0              129               News     1.0  190.0  \n",
       "29269     2012.0              119        Documentary     1.0  465.0  \n",
       "29270     2016.0              117        Documentary     1.0    7.0  \n",
       "29271     2016.0               90              Drama     1.0   92.0  \n",
       "\n",
       "[29272 rows x 9 columns]"
      ]
     },
     "execution_count": 19,
     "metadata": {},
     "output_type": "execute_result"
    }
   ],
   "source": [
    "df_csv = pd.read_csv(file_csv)\n",
    "df_csv"
   ]
  },
  {
   "cell_type": "code",
   "execution_count": null,
   "metadata": {},
   "outputs": [
    {
     "data": {
      "text/plain": [
       "Text(0, 0.5, 'Counts')"
      ]
     },
     "execution_count": 20,
     "metadata": {},
     "output_type": "execute_result"
    },
    {
     "data": {
      "image/png": "[encoded data removed]",
      "text/plain": [
       "<Figure size 432x288 with 1 Axes>"
      ]
     },
     "metadata": {
      "needs_background": "light"
     },
     "output_type": "display_data"
    },
    {
     "data": {
      "image/png": "[encoded data removed]",
      "text/plain": [
       "<Figure size 432x288 with 1 Axes>"
      ]
     },
     "metadata": {
      "needs_background": "light"
     },
     "output_type": "display_data"
    }
   ],
   "source": [
    "import matplotlib.pyplot as plt\n",
    "\n",
    "plt.figure()\n",
    "n, bins, patches = plt.hist(df_csv[\"premiered\"], bins = 50, facecolor='blue', alpha=0.75, label=\"all\")\n",
    "plt.xlabel(\"premiered\")\n",
    "plt.ylabel(\"Counts\")\n",
    "\n",
    "\n",
    "plt.figure()\n",
    "n, bins, patches = plt.hist(df_csv[df_csv[\"runtime_minutes\"]<= 180][\"runtime_minutes\"], bins = 20, facecolor='blue', alpha=0.75, label=\"all\")\n",
    "plt.xlabel(\"runtime_minutes\")\n",
    "plt.ylabel(\"Counts\")"
   ]
  },
  {
   "cell_type": "code",
   "execution_count": null,
   "metadata": {},
   "outputs": [
    {
     "data": {
      "text/plain": [
       "array([10. ,  9.9,  9.8,  9.7,  9.6,  9.5,  9.4,  9.3,  9.2,  9.1,  9. ,\n",
       "        8.9,  8.8,  8.7,  8.6,  8.5,  8.4,  8.3,  8.2,  8.1,  8. ,  7.9,\n",
       "        7.8,  7.7,  7.6,  7.5,  7.4,  7.3,  7.2,  7.1,  7. ,  6.9,  6.8,\n",
       "        6.7,  6.6,  6.5,  6.4,  6.3,  6.2,  6.1,  6. ,  5.9,  5.8,  5.7,\n",
       "        5.6,  5.5,  5.4,  5.3,  5.2,  5.1,  5. ,  4.9,  4.8,  4.7,  4.6,\n",
       "        4.5,  4.4,  4.3,  4.2,  4.1,  4. ,  3.9,  3.8,  3.7,  3.6,  3.5,\n",
       "        3.4,  3.3,  3.2,  3.1,  3. ,  2.9,  2.8,  2.7,  2.6,  2.5,  2.4,\n",
       "        2.3,  2.2,  2.1,  2. ,  1.9,  1.8,  1.7,  1.6,  1.5,  1.4,  1.3,\n",
       "        1.2,  1.1,  1. ])"
      ]
     },
     "execution_count": 21,
     "metadata": {},
     "output_type": "execute_result"
    }
   ],
   "source": [
    "df_csv[\"rating\"].unique()"
   ]
  },
  {
   "cell_type": "code",
   "execution_count": null,
   "metadata": {},
   "outputs": [
    {
     "data": {
      "text/plain": [
       "<matplotlib.legend.Legend at 0x7fa985d34bb0>"
      ]
     },
     "execution_count": 22,
     "metadata": {},
     "output_type": "execute_result"
    },
    {
     "data": {
      "image/png": "[encoded data removed]",
      "text/plain": [
       "<Figure size 432x288 with 1 Axes>"
      ]
     },
     "metadata": {
      "needs_background": "light"
     },
     "output_type": "display_data"
    }
   ],
   "source": [
    "plt.figure()\n",
    "n, bins, patches = plt.hist(df_csv[df_csv[\"rating\"]>=5][\"premiered\"], bins = 50, facecolor='k', alpha=0.75, label=\"High rating movies\")\n",
    "n, bins, patches = plt.hist(df_csv[df_csv[\"rating\"]<5][\"premiered\"], bins = 50, facecolor='cyan', alpha=0.75, label=\"Low rating movies\")\n",
    "plt.xlabel(\"premiered\")\n",
    "plt.ylabel(\"Counts\")\n",
    "plt.legend()"
   ]
  },
  {
   "cell_type": "code",
   "execution_count": null,
   "metadata": {},
   "outputs": [
    {
     "data": {
      "text/plain": [
       "<matplotlib.legend.Legend at 0x7fa98e14c9a0>"
      ]
     },
     "execution_count": 33,
     "metadata": {},
     "output_type": "execute_result"
    },
    {
     "data": {
      "image/png": "[encoded data removed]",
      "text/plain": [
       "<Figure size 432x288 with 1 Axes>"
      ]
     },
     "metadata": {},
     "output_type": "display_data"
    }
   ],
   "source": [
    "plt.figure()\n",
    "n, bins, patches = plt.hist(df_csv[df_csv[\"runtime_minutes\"]<110][\"rating\"], bins = 20, facecolor='k', alpha=0.6, label=\"short movies\")\n",
    "n, bins, patches = plt.hist(df_csv[df_csv[\"runtime_minutes\"]>=110][\"rating\"], bins = 20, facecolor='cyan', alpha=0.6, label=\"long movies\")\n",
    "plt.xlabel(\"rating\")\n",
    "plt.ylabel(\"Counts\")\n",
    "plt.legend()"
   ]
  },
  {
   "cell_type": "code",
   "execution_count": null,
   "metadata": {},
   "outputs": [
    {
     "name": "stderr",
     "output_type": "stream",
     "text": [
      "No artists with labels found to put in legend.  Note that artists whose label start with an underscore are ignored when legend() is called with no argument.\n"
     ]
    },
    {
     "data": {
      "text/plain": [
       "<matplotlib.legend.Legend at 0x7fa98b8967f0>"
      ]
     },
     "execution_count": 24,
     "metadata": {},
     "output_type": "execute_result"
    },
    {
     "data": {
      "image/png": "[encoded data removed]",
      "text/plain": [
       "<Figure size 576x576 with 1 Axes>"
      ]
     },
     "metadata": {
      "needs_background": "light"
     },
     "output_type": "display_data"
    }
   ],
   "source": [
    "xx, yy = df_csv[df_csv[\"runtime_minutes\"]<=180][\"runtime_minutes\"], df_csv[df_csv[\"runtime_minutes\"]<=180][\"rating\"]\n",
    "\n",
    "plt.figure(figsize=(8, 8))\n",
    "plt.scatter(xx, yy, s=2, marker=\"x\")\n",
    "plt.xlabel(\"runtime_minutes\")\n",
    "plt.ylabel(\"rating\")\n",
    "plt.legend()"
   ]
  },
  {
   "cell_type": "code",
   "execution_count": null,
   "metadata": {},
   "outputs": [
    {
     "data": {
      "text/plain": [
       "<AxesSubplot:xlabel='runtime_minutes', ylabel='rating'>"
      ]
     },
     "execution_count": 25,
     "metadata": {},
     "output_type": "execute_result"
    },
    {
     "data": {
      "image/png": "[encoded data removed]",
      "text/plain": [
       "<Figure size 720x432 with 2 Axes>"
      ]
     },
     "metadata": {
      "needs_background": "light"
     },
     "output_type": "display_data"
    }
   ],
   "source": [
    "import seaborn as sns\n",
    "\n",
    "plt.figure(figsize=(10, 6))\n",
    "sns.histplot(\n",
    "    df_csv[df_csv[\"runtime_minutes\"]<=180], x=\"runtime_minutes\", y=\"rating\",\n",
    "    bins=30, discrete=(True, False), log_scale=(False, True),\n",
    "    cbar=True\n",
    ")"
   ]
  },
  {
   "cell_type": "code",
   "execution_count": null,
   "metadata": {},
   "outputs": [
    {
     "data": {
      "text/plain": [
       "<AxesSubplot:xlabel='rating', ylabel='Count'>"
      ]
     },
     "execution_count": 26,
     "metadata": {},
     "output_type": "execute_result"
    },
    {
     "data": {
      "image/png": "[encoded data removed]",
      "text/plain": [
       "<Figure size 432x288 with 1 Axes>"
      ]
     },
     "metadata": {
      "needs_background": "light"
     },
     "output_type": "display_data"
    }
   ],
   "source": [
    "sns.histplot(df_csv, x=\"rating\", hue=\"type\", element=\"step\")"
   ]
  },
  {
   "cell_type": "code",
   "execution_count": null,
   "metadata": {},
   "outputs": [
    {
     "data": {
      "text/plain": [
       "(array([0, 1, 2, 3, 4, 5, 6, 7]),\n",
       " [Text(0, 0, 'tvMovie'),\n",
       "  Text(1, 0, 'tvSpecial'),\n",
       "  Text(2, 0, 'video'),\n",
       "  Text(3, 0, 'tvEpisode'),\n",
       "  Text(4, 0, 'movie'),\n",
       "  Text(5, 0, 'tvMiniSeries'),\n",
       "  Text(6, 0, 'tvSeries'),\n",
       "  Text(7, 0, 'videoGame')])"
      ]
     },
     "execution_count": 27,
     "metadata": {},
     "output_type": "execute_result"
    },
    {
     "data": {
      "image/png": "[encoded data removed]",
      "text/plain": [
       "<Figure size 576x432 with 1 Axes>"
      ]
     },
     "metadata": {
      "needs_background": "light"
     },
     "output_type": "display_data"
    },
    {
     "data": {
      "image/png": "[encoded data removed]",
      "text/plain": [
       "<Figure size 576x432 with 1 Axes>"
      ]
     },
     "metadata": {},
     "output_type": "display_data"
    }
   ],
   "source": [
    "plt.figure(figsize=(8, 6))\n",
    "sns.set(font_scale=1.5)\n",
    "sns.violinplot(data=df_csv, x=\"type\", y=\"rating\")\n",
    "plt.xticks(rotation=45)\n",
    "\n",
    "plt.figure(figsize=(8, 6))\n",
    "sns.boxplot(data=df_csv, x=\"type\", y=\"rating\")\n",
    "plt.xticks(rotation=45)"
   ]
  },
  {
   "cell_type": "code",
   "execution_count": null,
   "metadata": {},
   "outputs": [
    {
     "data": {
      "text/plain": [
       "['title_id',\n",
       " 'type',\n",
       " 'primary_title',\n",
       " 'is_adult',\n",
       " 'premiered',\n",
       " 'runtime_minutes',\n",
       " 'genres',\n",
       " 'rating',\n",
       " 'votes']"
      ]
     },
     "execution_count": 28,
     "metadata": {},
     "output_type": "execute_result"
    }
   ],
   "source": [
    "list(df_csv.columns)"
   ]
  },
  {
   "cell_type": "code",
   "execution_count": null,
   "metadata": {
    "scrolled": true
   },
   "outputs": [
    {
     "name": "stdout",
     "output_type": "stream",
     "text": [
      "(29272, 9) (29270, 9)\n"
     ]
    }
   ],
   "source": [
    "var_x = ['premiered', 'is_adult', 'runtime_minutes', 'votes']\n",
    "var_y = 'rating'\n",
    "\n",
    "\n",
    "df_reg = df_csv.dropna(subset=var_x)\n",
    "print(df_csv.shape, df_reg.shape)"
   ]
  },
  {
   "cell_type": "code",
   "execution_count": null,
   "metadata": {},
   "outputs": [
    {
     "name": "stdout",
     "output_type": "stream",
     "text": [
      "Coefficients:  [-2.39366669e-03  2.20332709e-01  7.06465659e-05  2.51029140e-06]\n",
      "Variance score: 0.0066420827257935855\n",
      "mean_absolute_error: 1.0352227105695464\n",
      "mean_squared_error score: 1.7437865731429871\n"
     ]
    },
    {
     "data": {
      "text/plain": [
       "<Figure size 720x720 with 0 Axes>"
      ]
     },
     "execution_count": 31,
     "metadata": {},
     "output_type": "execute_result"
    },
    {
     "data": {
      "image/png": "[encoded data removed]",
      "text/plain": [
       "<Figure size 432x288 with 1 Axes>"
      ]
     },
     "metadata": {},
     "output_type": "display_data"
    },
    {
     "data": {
      "text/plain": [
       "<Figure size 720x720 with 0 Axes>"
      ]
     },
     "metadata": {},
     "output_type": "display_data"
    }
   ],
   "source": [
    "from sklearn import linear_model\n",
    "from sklearn.ensemble import RandomForestRegressor\n",
    "from sklearn.metrics import mean_absolute_error, mean_squared_error\n",
    "\n",
    "from sklearn.model_selection import train_test_split\n",
    "X_train, X_test, y_train, y_test = train_test_split(df_reg[var_x], df_reg[var_y], test_size=0.3,\n",
    "                                                    random_state=1)\n",
    "\n",
    "reg = linear_model.LinearRegression()\n",
    "\n",
    "\n",
    "# train the model using the training sets\n",
    "reg.fit(X_train, y_train)\n",
    "  \n",
    "\n",
    "print('Coefficients: ', reg.coef_)\n",
    "print('Variance score: {}'.format(reg.score(X_test, y_test)))\n",
    "print('mean_absolute_error: {}'.format(mean_absolute_error(reg.predict(X_test), y_test)))\n",
    "print('mean_squared_error score: {}'.format(mean_squared_error(reg.predict(X_test), y_test)))\n",
    "\n",
    "\n",
    "## plotting residual errors in training data\n",
    "plt.scatter(reg.predict(X_train), reg.predict(X_train) - y_train,\n",
    "            color = \"green\", s = 5, label = 'Train data', alpha=0.6)\n",
    "  \n",
    "## plotting residual errors in test data\n",
    "plt.scatter(reg.predict(X_test), reg.predict(X_test) - y_test,\n",
    "            color = \"blue\", s = 5, label = 'Test data', alpha=0.6)\n",
    "\n",
    "plt.xlim(6, 12)\n",
    "plt.hlines(y = 0, xmin = 0, xmax = 50, linewidth = 1)\n",
    "  \n",
    "plt.legend(loc = 'upper right')\n",
    "  \n",
    "plt.title(\"Residual errors\")\n",
    "plt.figure(figsize=(10, 10))\n"
   ]
  }
 ],
 "metadata": {
  "kernelspec": {
   "display_name": "Python 3",
   "language": "python",
   "name": "python3"
  },
  "language_info": {
   "codemirror_mode": {
    "name": "ipython",
    "version": 3
   },
   "file_extension": ".py",
   "mimetype": "text/x-python",
   "name": "python",
   "nbconvert_exporter": "python",
   "pygments_lexer": "ipython3",
   "version": "3.12.2"
  }
 },
 "nbformat": 4,
 "nbformat_minor": 4
}
