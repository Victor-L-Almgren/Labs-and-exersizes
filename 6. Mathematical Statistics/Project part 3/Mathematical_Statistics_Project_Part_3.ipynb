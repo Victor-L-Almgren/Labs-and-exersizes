{
 "cells": [
  {
   "cell_type": "markdown",
   "id": "00a60494",
   "metadata": {},
   "source": [
    "# Mathematical Statistics Project - Part 1"
   ]
  },
  {
   "cell_type": "markdown",
   "id": "eb6116bf",
   "metadata": {},
   "source": [
    "### Confidence Intervals\n",
    "\n",
    "In this assignment, you will focus on computing the confidence interval for the mean of a dataset using statistical methods. Confidence intervals are a key concept in inferential statistics, allowing us to estimate a range of plausible values for a population parameter (in this case, the mean) based on sample data. The goal is to understand and apply the formula for constructing a confidence interval and interpret the results in a practical context.\n",
    "\n",
    "\n",
    "In the below code, a simulated dataset of employee salaries (in USD) is created. The dataset contains 100 salaries sampled from a normal distribution with Mean salary = 55000 and standard deviation = 8000.\n",
    "\n",
    "Your task is to compute the 95% confidence interval for the mean salary of employees using sample data, using your understanding of confidence intervals, Z-scores, and margin of error calculations.\n"
   ]
  },
  {
   "cell_type": "code",
   "execution_count": null,
   "id": "f2edf736",
   "metadata": {},
   "outputs": [],
   "source": [
    "# Import necessary libraries\n",
    "import numpy as np\n",
    "import pandas as pd\n",
    "from scipy import stats\n",
    "\n",
    "# Step 1: Generating the synthetic dataset\n",
    "# Setting seed for reproducibility\n",
    "np.random.seed(42)\n",
    "\n",
    "# Generating a dataset of employee salaries (in USD) with a normal distribution\n",
    "# Mean salary = 55000, Standard deviation = 8000, Sample size = 100\n",
    "salaries = np.random.normal(loc=55000, scale=8000, size=100)\n",
    "\n",
    "# Creating a DataFrame to store the dataset\n",
    "df_salaries = pd.DataFrame(salaries, columns=['Salary'])\n",
    "\n",
    "# Displaying the first few rows of the dataset\n",
    "print(\"Sample of the dataset:\")\n",
    "df_salaries.head()\n"
   ]
  },
  {
   "cell_type": "markdown",
   "id": "5be96538",
   "metadata": {},
   "source": [
    "## Task 1: Calculating the 95% confidence interval for the mean salary"
   ]
  },
  {
   "cell_type": "code",
   "execution_count": null,
   "id": "67f3575b",
   "metadata": {},
   "outputs": [],
   "source": [
    "# Calculate the necisary sample statistics\n",
    "\n",
    "# Calculate the critical value (Z-score for 95% confidence) (Hint: # Use stats.norm.ppf)\n",
    "z_critical = '?'\n",
    "\n",
    "# Calculate the margin of error\n",
    "margin_of_error = '?'\n",
    "\n",
    "# Construct the confidence interval's lower and upper bounds\n",
    "lower_bound = '?'\n",
    "upper_bound = '?'\n",
    "\n",
    "# Step 3: Printing the results\n",
    "print(\"\\nResults:\")\n",
    "print(f\"Sample Mean: ${sample_mean:.2f}\")\n",
    "print(f\"Margin of Error: ${margin_of_error:.2f}\")\n",
    "print(f\"95% Confidence Interval: (${lower_bound:.2f}, ${upper_bound:.2f})\")\n",
    "\n",
    "# Interpretation:\n",
    "print(\"\\nInterpretation:\")\n",
    "print(f\"We are 95% confident that the true average salary of employees in the population falls between ${lower_bound:.2f} and ${upper_bound:.2f}.\")\n"
   ]
  },
  {
   "cell_type": "markdown",
   "id": "87f33666",
   "metadata": {},
   "source": [
    "## Task 2: Repeat sampling and visualize the results"
   ]
  },
  {
   "cell_type": "markdown",
   "id": "f1b59679",
   "metadata": {},
   "source": [
    "In this task, you will use the provided `population_mean`, `population_std`, and `sample_size` to repeatedly sample (for a large number of times `num_samples`) and calculate 95% confidence interval each time.\n",
    "\n",
    "Calculate the percentage of times the `population_mean` was within the calculated confidence interval bounds. Explain your result.\n",
    "\n",
    "Plot the calculated confidence intervals around the `population_mean`. \n",
    "Use the red color for the time where the `population_mean` falls outside the confidence interval.\n"
   ]
  },
  {
   "cell_type": "code",
   "execution_count": null,
   "id": "d0f3387e",
   "metadata": {},
   "outputs": [],
   "source": [
    "import numpy as np\n",
    "import pandas as pd\n",
    "import matplotlib.pyplot as plt\n",
    "from scipy import stats\n",
    "\n",
    "# Population parameters\n",
    "population_mean = 120  # True population mean\n",
    "population_std = 30    # Population standard deviation\n",
    "sample_size = 100       # Size of each random sample\n",
    "num_samples = 3000      # Number of samples to draw\n",
    "\n",
    "np.random.seed(42)\n",
    "\n",
    "# To store intervals and sample means\n",
    "confidence_intervals = []\n",
    "sample_means = []\n",
    "\n",
    "for _ in range(num_samples):\n",
    "    # Generating a random sample using the above statistics\n",
    "    \n",
    "    # Calculate the confidence interval bounds\n",
    "    \n",
    "    # Store the interval and the sample mean\n",
    "\n",
    "\n",
    "# Calculate the percentage of times the population_mean was within the calculated confidence interval bounds.\n",
    "# Plotting each confidence interval using 'red' when population_mean is outside the confidence interval.\n",
    "# Explain your results.\n"
   ]
  },
  {
   "cell_type": "code",
   "execution_count": null,
   "id": "663b5f2d",
   "metadata": {},
   "outputs": [],
   "source": []
  }
 ],
 "metadata": {
  "kernelspec": {
   "display_name": "Python 3",
   "language": "python",
   "name": "python3"
  },
  "language_info": {
   "codemirror_mode": {
    "name": "ipython",
    "version": 3
   },
   "file_extension": ".py",
   "mimetype": "text/x-python",
   "name": "python",
   "nbconvert_exporter": "python",
   "pygments_lexer": "ipython3",
   "version": "3.9.7"
  }
 },
 "nbformat": 4,
 "nbformat_minor": 5
}
