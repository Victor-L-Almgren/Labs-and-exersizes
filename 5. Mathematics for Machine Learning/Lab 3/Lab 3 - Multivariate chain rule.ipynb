{
 "cells": [
  {
   "cell_type": "code",
   "execution_count": 249,
   "id": "11c57a73",
   "metadata": {},
   "outputs": [],
   "source": [
    "import numpy as np\n",
    "import matplotlib.pyplot as plt\n",
    "import sympy as sp\n",
    "from sympy import *"
   ]
  },
  {
   "cell_type": "markdown",
   "id": "5eb933d1",
   "metadata": {},
   "source": [
    "# Univariate chain rule using sympy"
   ]
  },
  {
   "cell_type": "code",
   "execution_count": 250,
   "id": "e476d4e6",
   "metadata": {},
   "outputs": [
    {
     "data": {
      "text/latex": [
       "$\\displaystyle - 4 x \\sin{\\left(x^{2} \\right)} \\cos{\\left(x^{2} \\right)}$"
      ],
      "text/plain": [
       "-4*x*sin(x**2)*cos(x**2)"
      ]
     },
     "execution_count": 250,
     "metadata": {},
     "output_type": "execute_result"
    }
   ],
   "source": [
    "x = sp.Symbol('x')\n",
    "f = sp.cos(x**2)\n",
    "g = sp.Pow(f,2)\n",
    "derivative_g = g.diff(x)\n",
    "derivative_g"
   ]
  },
  {
   "cell_type": "markdown",
   "metadata": {},
   "source": [
    "---"
   ]
  },
  {
   "cell_type": "markdown",
   "id": "ace2a6d9",
   "metadata": {},
   "source": [
    "# Total derivative using sympy"
   ]
  },
  {
   "cell_type": "markdown",
   "id": "2eb905af",
   "metadata": {},
   "source": [
    "# Exersice 1\n",
    "\n",
    "Given the formula for f in the cell below and the relation between x,y,z and t, write a code to calculate the total derivative of f with respect to t. You need to use chain rule. \n",
    "\n",
    "It is possible to take the total derivative of f to t as follows:\n",
    "\n",
    "f_derivative = sym.diff(f, t)\n",
    "\n",
    "You can check if your answer is correct by comparing to the result of the aformentioned line of code.\n",
    "\n",
    "Hint: In order to take the derivative of f with respect to x,y, and z, you need to define them as symbols too. "
   ]
  },
  {
   "cell_type": "code",
   "execution_count": 251,
   "metadata": {},
   "outputs": [
    {
     "name": "stdout",
     "output_type": "stream",
     "text": [
      "total derivative with sp.diff():   (t**(-2) - 2*(t + 3)/t**3)*exp((t + 3)/t**2)*sin(t - 1) + exp((t + 3)/t**2)*cos(t - 1)\n",
      "total derivative with chain rule:  exp((t + 3)/t**2)*cos(t - 1) + exp((t + 3)/t**2)*sin(t - 1)/t**2 - 2*(t + 3)*exp((t + 3)/t**2)*sin(t - 1)/t**3\n"
     ]
    },
    {
     "data": {
      "text/plain": [
       "True"
      ]
     },
     "execution_count": 251,
     "metadata": {},
     "output_type": "execute_result"
    }
   ],
   "source": [
    "#Anwser exersice 1:\n",
    "\n",
    "#with sp.diff(f, t)\n",
    "t = sp.symbols('t')\n",
    "\n",
    "x = t-1\n",
    "y = t+3\n",
    "z = 1/t\n",
    "f = sp.sin(x)*sp.exp((z**2)*y)\n",
    "\n",
    "sp_diff = sp.diff(f, t)\n",
    "print(f\"total derivative with sp.diff():   {sp_diff}\")\n",
    "\n",
    "#with chain rule:\n",
    "t, x, y, z, f = sp.symbols(['t', 'x', 'y', 'z', 'f'])\n",
    "\n",
    "x_ = t-1\n",
    "y_ = t+3\n",
    "z_ = 1/t\n",
    "f_ = sp.sin(x)*sp.exp((z**2)*y)\n",
    "\n",
    "dxyz_dt = sp.Matrix([sp.diff(x_, t), sp.diff(y_, t), sp.diff(z_, t)])\n",
    "df_dxyz = sp.Matrix([f_.diff(x), f_.diff(y), f_.diff(z)])\n",
    "\n",
    "chain_diff = df_dxyz.dot(dxyz_dt)\n",
    "chain_diff = chain_diff.subs([(x, t-1), (y, t+3), (z, 1/t)])\n",
    "\n",
    "print(f\"total derivative with chain rule:  {chain_diff}\")\n",
    "\n",
    "#Check if expressions are the same\n",
    "sp.simplify(sp_diff - chain_diff) == 0"
   ]
  },
  {
   "cell_type": "markdown",
   "metadata": {},
   "source": [
    "---"
   ]
  },
  {
   "cell_type": "markdown",
   "id": "229b2c05",
   "metadata": {},
   "source": [
    "# Exersice 2\n",
    "\n",
    "Calculate the total derivate of the following functions using both the shortcut (  sym.diff(f,t)  ) and chain rule.\n",
    "\n",
    "- $f(x) = x^2 + y^2$   &nbsp;&nbsp;&nbsp;&nbsp;  $x=sin(t)$ &nbsp;&nbsp;&nbsp;&nbsp; $y=t^2$ \n",
    "\n",
    "- $f(x) = \\frac{sin(x)}{x} \\frac{sin(y)}{y}$  &nbsp;&nbsp;&nbsp;&nbsp;  $x=t^2$ &nbsp;&nbsp;&nbsp;&nbsp; $y=1/t$\n"
   ]
  },
  {
   "cell_type": "code",
   "execution_count": 252,
   "metadata": {},
   "outputs": [
    {
     "name": "stdout",
     "output_type": "stream",
     "text": [
      "total derivative with sp.diff():   4*t**3 + 2*sin(t)*cos(t)\n",
      "total derivative with chain rule:  4*t**3 + 2*sin(t)*cos(t)\n"
     ]
    },
    {
     "data": {
      "text/plain": [
       "True"
      ]
     },
     "execution_count": 252,
     "metadata": {},
     "output_type": "execute_result"
    }
   ],
   "source": [
    "#Anwser exersice 2.1:\n",
    "\n",
    "#with sp.diff(f, t)\n",
    "t = sp.Symbol('t')\n",
    "\n",
    "x = sp.sin(t)\n",
    "y = t**2\n",
    "f = x**2 + y**2\n",
    "\n",
    "sp_diff = sp.diff(f, t)\n",
    "print(f\"total derivative with sp.diff():   {sp_diff}\")\n",
    "\n",
    "#with chain rule:\n",
    "t, x, y, f = sp.symbols(['t', 'x', 'y', 'f'])\n",
    "\n",
    "x_ = sp.sin(t)\n",
    "y_ = t**2\n",
    "f_ = x**2 + y**2\n",
    "\n",
    "dxy_dt = sp.Matrix([sp.diff(x_, t), sp.diff(y_, t)])\n",
    "df_dxy = sp.Matrix([f_.diff(x), f_.diff(y)])\n",
    "\n",
    "chain_diff = df_dxy.dot(dxy_dt)\n",
    "chain_diff = chain_diff.subs([(x, sp.sin(t)), (y, t**2)])\n",
    "\n",
    "print(f\"total derivative with chain rule:  {chain_diff}\")\n",
    "\n",
    "#Check if expressions are the same\n",
    "sp.simplify(sp_diff - chain_diff) == 0"
   ]
  },
  {
   "cell_type": "code",
   "execution_count": 253,
   "metadata": {},
   "outputs": [
    {
     "name": "stdout",
     "output_type": "stream",
     "text": [
      "total derivative with sp.diff():   2*sin(1/t)*cos(t**2) - sin(1/t)*sin(t**2)/t**2 - sin(t**2)*cos(1/t)/t**3\n",
      "total derivative with chain rule:  2*t*(sin(1/t)*cos(t**2)/t - sin(1/t)*sin(t**2)/t**3) - (-sin(1/t)*sin(t**2) + sin(t**2)*cos(1/t)/t)/t**2\n"
     ]
    },
    {
     "data": {
      "text/plain": [
       "True"
      ]
     },
     "execution_count": 253,
     "metadata": {},
     "output_type": "execute_result"
    }
   ],
   "source": [
    "#Anwser exersice 2.2:\n",
    "\n",
    "#with sp.diff()\n",
    "t = sp.Symbol('t')\n",
    "\n",
    "x = t**2\n",
    "y = 1/t\n",
    "f = (sp.sin(x) / x) * (sp.sin(y) / y)\n",
    "\n",
    "sp_diff = sp.diff(f, t)\n",
    "print(f\"total derivative with sp.diff():   {sp_diff}\")\n",
    "\n",
    "#with chain rule:\n",
    "t, x, y, f = sp.symbols(['t', 'x', 'y', 'f'])\n",
    "\n",
    "x_ = t**2\n",
    "y_ = 1/t\n",
    "f_ = (sp.sin(x) / x) * (sp.sin(y) / y)\n",
    "\n",
    "dxy_dt = sp.Matrix([sp.diff(x_, t), sp.diff(y_, t)])\n",
    "df_dxy = sp.Matrix([f_.diff(x), f_.diff(y)])\n",
    "\n",
    "chain_diff = df_dxy.dot(dxy_dt)\n",
    "chain_diff = chain_diff.subs([(x, t**2), (y, 1/t)])\n",
    "\n",
    "print(f\"total derivative with chain rule:  {chain_diff}\")\n",
    "\n",
    "#Check if expressions are the same\n",
    "sp.simplify(sp_diff - chain_diff) == 0"
   ]
  },
  {
   "cell_type": "markdown",
   "metadata": {},
   "source": [
    "---"
   ]
  },
  {
   "cell_type": "markdown",
   "id": "3c2d41e5",
   "metadata": {},
   "source": [
    "# Multivariate chain rule using sympy\n"
   ]
  },
  {
   "cell_type": "code",
   "execution_count": 254,
   "id": "128c3e4c",
   "metadata": {},
   "outputs": [],
   "source": [
    "r, t = sp.symbols('r t') # r (radius), t (angle theta)\n",
    "\n",
    "x1 = r * cos(t)\n",
    "x2 = r * sin(t)\n",
    "f = x1**2 + x2**2\n",
    "g = sin(f)\n",
    "\n",
    "sp_diff = g.diff(r)"
   ]
  },
  {
   "cell_type": "markdown",
   "id": "33e20c56",
   "metadata": {},
   "source": [
    "# Exersice 3\n",
    "\n",
    "Instead of directly calculating derivative of g with respect to r do the followings:\n",
    "\n",
    "- calculate derivative of g with respect to f\n",
    "- calculate derivative of f with respect to X = [x1,x2]\n",
    "- calculate derivative of X = [x1,x2] with respect to r\n",
    "- multiply the three last calculations to check if you get the same result\n"
   ]
  },
  {
   "cell_type": "code",
   "execution_count": 255,
   "metadata": {},
   "outputs": [
    {
     "name": "stdout",
     "output_type": "stream",
     "text": [
      "total derivative with sp.diff():   (2*r*sin(t)**2 + 2*r*cos(t)**2)*cos(r**2*sin(t)**2 + r**2*cos(t)**2)\n",
      "total derivative with chain rule:  2*r*sin(t)**2*cos(r**2*sin(t)**2 + r**2*cos(t)**2) + 2*r*cos(t)**2*cos(r**2*sin(t)**2 + r**2*cos(t)**2)\n"
     ]
    },
    {
     "data": {
      "text/plain": [
       "True"
      ]
     },
     "execution_count": 255,
     "metadata": {},
     "output_type": "execute_result"
    }
   ],
   "source": [
    "#Anwser exersice 3:\n",
    "f, x1, x2, r, t= sp.symbols(['f', 'x1', 'x2', 'r', 't'])\n",
    "\n",
    "x1_ = r * cos(t)\n",
    "x2_ = r * sin(t)\n",
    "f_ = x1**2 + x2**2\n",
    "g_ = sin(f)\n",
    "\n",
    "# derivative of g with respect to f\n",
    "dg_df = sp.Matrix([g_.diff(f)])\n",
    "\n",
    "# derivative of f with respect to X = [x1,x2]\n",
    "df_dx = sp.Matrix([f_]).jacobian([x1, x2])\n",
    "\n",
    "# derivative of X = [x1,x2] with respect to r\n",
    "dx_dr = sp.Matrix([x1_, x2_]).jacobian([r])\n",
    "\n",
    "# multiply the three last calculations to check if you get the same result\n",
    "chain_diff = dg_df * df_dx * dx_dr\n",
    "chain_diff = np.sum(chain_diff)\n",
    "chain_diff = chain_diff.subs([(f, x1**2 + x2**2), (x1, r*cos(t)), (x2, r*sin(t))])\n",
    "\n",
    "print(f\"total derivative with sp.diff():   {sp_diff}\")\n",
    "print(f\"total derivative with chain rule:  {chain_diff}\")\n",
    "\n",
    "#Check if expressions are the same\n",
    "sp.simplify(sp_diff - chain_diff) == 0"
   ]
  },
  {
   "cell_type": "markdown",
   "metadata": {},
   "source": [
    "---"
   ]
  },
  {
   "cell_type": "markdown",
   "id": "1826b239",
   "metadata": {},
   "source": [
    "# Exersice 4\n",
    "\n",
    "Calculate derivative of f with respect to t in the following two ways\n",
    "\n",
    "- shortcut way: sim.diff(f,t)\n",
    "- define everything other than f as symbol and multiply diffenet part of the chain\n",
    "\n",
    "$f(x_1,x_2) = x_1^2 + x_2^2 $\n",
    "\n",
    "$ x_1 = sin(u_1 + u_2) $\n",
    "\n",
    "$ x_2 = u_1 u_2 $\n",
    "\n",
    "$ u_1 = 1/t $\n",
    "\n",
    "$ u_2 = t^3 $"
   ]
  },
  {
   "cell_type": "code",
   "execution_count": 256,
   "metadata": {},
   "outputs": [
    {
     "data": {
      "text/latex": [
       "$\\displaystyle 4 t^{3} + 2 \\cdot \\left(3 t^{2} - \\frac{1}{t^{2}}\\right) \\sin{\\left(t^{3} + \\frac{1}{t} \\right)} \\cos{\\left(t^{3} + \\frac{1}{t} \\right)}$"
      ],
      "text/plain": [
       "4*t**3 + 2*(3*t**2 - 1/t**2)*sin(t**3 + 1/t)*cos(t**3 + 1/t)"
      ]
     },
     "execution_count": 256,
     "metadata": {},
     "output_type": "execute_result"
    }
   ],
   "source": [
    "#Anwser exersice 4.1\n",
    "t, u2, u1, x2, x1 = sp.symbols(['t', 'u2', 'u1', 'x2', 'x1'])\n",
    "\n",
    "u2 = t**3\n",
    "u1 = 1/t\n",
    "x2 = u1 * u2\n",
    "x1 = sp.sin(u1 + u2)\n",
    "\n",
    "f = x1**2 + x2**2\n",
    "\n",
    "sp_diff = sp.diff(f, t)\n",
    "sp_diff\n",
    "\n",
    "# df_dt = df_dx1x2 * dx1x2_du1u2 * du1u2_dt"
   ]
  },
  {
   "cell_type": "code",
   "execution_count": 257,
   "metadata": {},
   "outputs": [
    {
     "name": "stdout",
     "output_type": "stream",
     "text": [
      "total derivative with sp.diff():   4*t**3 + 2*(3*t**2 - 1/t**2)*sin(t**3 + 1/t)*cos(t**3 + 1/t)\n",
      "total derivative with chain rule:  3*t**2*(2*t + 2*sin(t**3 + 1/t)*cos(t**3 + 1/t)) - (2*t**5 + 2*sin(t**3 + 1/t)*cos(t**3 + 1/t))/t**2\n"
     ]
    },
    {
     "data": {
      "text/plain": [
       "True"
      ]
     },
     "execution_count": 257,
     "metadata": {},
     "output_type": "execute_result"
    }
   ],
   "source": [
    "#Anwser exersice 4.2    \n",
    "\n",
    "#df_dt = df_dx1x2 * dx1x2_du1u2 * du1u2_dt\n",
    "\n",
    "t, u2, u1, x2, x1 = sp.symbols(['t', 'u2', 'u1', 'x2', 'x1'])\n",
    "\n",
    "u2_ = t**3\n",
    "u1_ = 1/t\n",
    "x2_ = u1 * u2\n",
    "x1_ = sp.sin(u1 + u2)\n",
    "f_ = x1**2 + x2**2\n",
    "\n",
    "df_dx1x2 = sp.Matrix([f_]).jacobian([x1, x2])\n",
    "dx1x2_du1u2 = sp.Matrix([x1_, x2_]).jacobian([u1, u2])\n",
    "du1u2_dt = sp.Matrix([u1_, u2_]).jacobian([t])\n",
    "\n",
    "chain_diff = df_dx1x2 * dx1x2_du1u2 * du1u2_dt\n",
    "chain_diff = np.sum(chain_diff)\n",
    "chain_diff = chain_diff.subs([(x2, u1 * u2), (x1, sp.sin(u1 + u2)), (u1, 1/t), (u2, t**3)])\n",
    "\n",
    "print(f\"total derivative with sp.diff():   {sp_diff}\")\n",
    "print(f\"total derivative with chain rule:  {chain_diff}\")\n",
    "\n",
    "# Check if expressions are the same\n",
    "sp.simplify(sp_diff - chain_diff) == 0"
   ]
  }
 ],
 "metadata": {
  "kernelspec": {
   "display_name": "Python 3 (ipykernel)",
   "language": "python",
   "name": "python3"
  },
  "language_info": {
   "codemirror_mode": {
    "name": "ipython",
    "version": 3
   },
   "file_extension": ".py",
   "mimetype": "text/x-python",
   "name": "python",
   "nbconvert_exporter": "python",
   "pygments_lexer": "ipython3",
   "version": "3.12.3"
  }
 },
 "nbformat": 4,
 "nbformat_minor": 5
}
