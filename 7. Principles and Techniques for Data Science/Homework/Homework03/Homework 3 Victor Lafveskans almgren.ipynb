{
 "cells": [
  {
   "cell_type": "markdown",
   "id": "9ecca5f5",
   "metadata": {},
   "source": [
    "# Course Code: DS4003 \n",
    "# Course Name: Principles and Techniques for Data Science \n",
    "# Homework Assignment 3\n",
    "# Due date: 6th December 2024\n",
    "## Save the notebook with your name and submit it by the due date.\n"
   ]
  },
  {
   "cell_type": "code",
   "execution_count": 1,
   "id": "576602ae",
   "metadata": {},
   "outputs": [],
   "source": [
    "import numpy as np\n",
    "import pandas as pd\n",
    "import seaborn as sns"
   ]
  },
  {
   "cell_type": "markdown",
   "id": "d02cba85",
   "metadata": {},
   "source": [
    "## Data overview\n",
    "\n",
    "This dataset contains information on the quality of the air as measured by air quallity instruments for a period in time.\n"
   ]
  },
  {
   "cell_type": "code",
   "execution_count": null,
   "id": "ab3e670c",
   "metadata": {},
   "outputs": [
    {
     "data": {
      "text/html": [
       "<div>\n",
       "<style scoped>\n",
       "    .dataframe tbody tr th:only-of-type {\n",
       "        vertical-align: middle;\n",
       "    }\n",
       "\n",
       "    .dataframe tbody tr th {\n",
       "        vertical-align: top;\n",
       "    }\n",
       "\n",
       "    .dataframe thead th {\n",
       "        text-align: right;\n",
       "    }\n",
       "</style>\n",
       "<table border=\"1\" class=\"dataframe\">\n",
       "  <thead>\n",
       "    <tr style=\"text-align: right;\">\n",
       "      <th></th>\n",
       "      <th>Date</th>\n",
       "      <th>Time</th>\n",
       "      <th>NOx(GT)</th>\n",
       "      <th>PT08.S1(CO)</th>\n",
       "    </tr>\n",
       "  </thead>\n",
       "  <tbody>\n",
       "    <tr>\n",
       "      <th>0</th>\n",
       "      <td>2004-03-10</td>\n",
       "      <td>18:00:00</td>\n",
       "      <td>166.0</td>\n",
       "      <td>1360.00</td>\n",
       "    </tr>\n",
       "    <tr>\n",
       "      <th>1</th>\n",
       "      <td>2004-03-10</td>\n",
       "      <td>19:00:00</td>\n",
       "      <td>103.0</td>\n",
       "      <td>1292.25</td>\n",
       "    </tr>\n",
       "    <tr>\n",
       "      <th>2</th>\n",
       "      <td>2004-03-10</td>\n",
       "      <td>20:00:00</td>\n",
       "      <td>131.0</td>\n",
       "      <td>1402.00</td>\n",
       "    </tr>\n",
       "    <tr>\n",
       "      <th>3</th>\n",
       "      <td>2004-03-10</td>\n",
       "      <td>21:00:00</td>\n",
       "      <td>172.0</td>\n",
       "      <td>1375.50</td>\n",
       "    </tr>\n",
       "    <tr>\n",
       "      <th>4</th>\n",
       "      <td>2004-03-10</td>\n",
       "      <td>22:00:00</td>\n",
       "      <td>131.0</td>\n",
       "      <td>1272.25</td>\n",
       "    </tr>\n",
       "    <tr>\n",
       "      <th>...</th>\n",
       "      <td>...</td>\n",
       "      <td>...</td>\n",
       "      <td>...</td>\n",
       "      <td>...</td>\n",
       "    </tr>\n",
       "    <tr>\n",
       "      <th>9352</th>\n",
       "      <td>2005-04-04</td>\n",
       "      <td>10:00:00</td>\n",
       "      <td>471.7</td>\n",
       "      <td>1314.25</td>\n",
       "    </tr>\n",
       "    <tr>\n",
       "      <th>9353</th>\n",
       "      <td>2005-04-04</td>\n",
       "      <td>11:00:00</td>\n",
       "      <td>353.3</td>\n",
       "      <td>1162.50</td>\n",
       "    </tr>\n",
       "    <tr>\n",
       "      <th>9354</th>\n",
       "      <td>2005-04-04</td>\n",
       "      <td>12:00:00</td>\n",
       "      <td>293.0</td>\n",
       "      <td>1142.00</td>\n",
       "    </tr>\n",
       "    <tr>\n",
       "      <th>9355</th>\n",
       "      <td>2005-04-04</td>\n",
       "      <td>13:00:00</td>\n",
       "      <td>234.5</td>\n",
       "      <td>1002.50</td>\n",
       "    </tr>\n",
       "    <tr>\n",
       "      <th>9356</th>\n",
       "      <td>2005-04-04</td>\n",
       "      <td>14:00:00</td>\n",
       "      <td>265.2</td>\n",
       "      <td>1070.75</td>\n",
       "    </tr>\n",
       "  </tbody>\n",
       "</table>\n",
       "<p>9357 rows × 4 columns</p>\n",
       "</div>"
      ],
      "text/plain": [
       "            Date      Time  NOx(GT)  PT08.S1(CO)\n",
       "0     2004-03-10  18:00:00    166.0      1360.00\n",
       "1     2004-03-10  19:00:00    103.0      1292.25\n",
       "2     2004-03-10  20:00:00    131.0      1402.00\n",
       "3     2004-03-10  21:00:00    172.0      1375.50\n",
       "4     2004-03-10  22:00:00    131.0      1272.25\n",
       "...          ...       ...      ...          ...\n",
       "9352  2005-04-04  10:00:00    471.7      1314.25\n",
       "9353  2005-04-04  11:00:00    353.3      1162.50\n",
       "9354  2005-04-04  12:00:00    293.0      1142.00\n",
       "9355  2005-04-04  13:00:00    234.5      1002.50\n",
       "9356  2005-04-04  14:00:00    265.2      1070.75\n",
       "\n",
       "[9357 rows x 4 columns]"
      ]
     },
     "execution_count": 7,
     "metadata": {},
     "output_type": "execute_result"
    }
   ],
   "source": [
    "air_data= pd.read_csv('air_quality.csv')    ## Dont forget to remove negative values\n",
    "\n",
    "air_data"
   ]
  },
  {
   "cell_type": "markdown",
   "id": "1f8c383d",
   "metadata": {},
   "source": [
    "<div class='alert alert-block alert-success' style=\"font-weight:bolder\">\n",
    "\n",
    "### Task 1 (0.1pts)\n",
    "    \n",
    "### 1a: Determine whether the data needs any preprocessing. If so implement the appropriate functions to preprocess it.\n",
    "\n",
    "</div>"
   ]
  },
  {
   "cell_type": "code",
   "execution_count": 8,
   "id": "24fe69b2",
   "metadata": {},
   "outputs": [],
   "source": [
    "## YOUR CODE HERE"
   ]
  },
  {
   "cell_type": "markdown",
   "id": "fd46a3ad",
   "metadata": {},
   "source": [
    "<div class='alert alert-block alert-success' style=\"font-weight:bolder\">\n",
    "\n",
    "### Task 2 (0.2pts)\n",
    "### 2a: Break down the time series data to reveal its underlying components, such as general trends, recurring seasonal patterns, and any irregular fluctuations.\n",
    "    \n",
    "### 2b: Determine whether there are signs of significant shifts over time. Use an appropriate test to confirm the stationarity of the data and explain its implications for forecasting\n",
    "</div>"
   ]
  },
  {
   "cell_type": "code",
   "execution_count": null,
   "id": "a9d26d43",
   "metadata": {},
   "outputs": [],
   "source": [
    "## YOUR CODE HERE"
   ]
  },
  {
   "cell_type": "markdown",
   "id": "846cd4b2",
   "metadata": {},
   "source": [
    "<div class='alert alert-block alert-success' style=\"font-weight:bolder\">\n",
    "\n",
    "### Task 3 (0.3pts)\n",
    "### 3a: Forecast the values of the timeseries signals for the next 3 months from the last date. Use two different forecasting methods of your choice. Evaluate the quality of your predictions and visualise the predictions from the different methods.  Which method seems more realistic based on the observed trends and patterns in the data?\n",
    "\n",
    "</div>"
   ]
  },
  {
   "cell_type": "code",
   "execution_count": null,
   "id": "c0d7d558",
   "metadata": {},
   "outputs": [],
   "source": [
    "## YOUR CODE HERE\n",
    "\n",
    "### Plot the original data under the forecast"
   ]
  },
  {
   "cell_type": "markdown",
   "id": "c7aea519",
   "metadata": {},
   "source": [
    "<div class='alert alert-block alert-success' style=\"font-weight:bolder\">\n",
    "\n",
    "### Task 4 (0.4pts)\n",
    "### To understand the relationship between the variables in your dataset, your task is to build a model that captures this relationship using linear regression.\n",
    "### 4a: Fit a linear regression model to your data. Derive the Coefficients Using OLS or Gradient Descent.\n",
    "### 4b: Plot the regression line alongside the original data points to visually assess the fit of the model..\n",
    "\n",
    "</div>"
   ]
  },
  {
   "cell_type": "code",
   "execution_count": 6,
   "id": "d762898e",
   "metadata": {},
   "outputs": [],
   "source": [
    "## YOUR CODE HERE"
   ]
  },
  {
   "cell_type": "markdown",
   "id": "5cb43e16",
   "metadata": {},
   "source": [
    "<div class='alert alert-block alert-success' style=\"font-weight:bolder\">\n",
    "\n",
    "### Optional Task\n",
    "### Transfrom the signals using PAA or SAX\n",
    "\n",
    "</div>"
   ]
  },
  {
   "cell_type": "code",
   "execution_count": null,
   "id": "e692e07b",
   "metadata": {},
   "outputs": [],
   "source": [
    "## Extra credit"
   ]
  }
 ],
 "metadata": {
  "kernelspec": {
   "display_name": "Python 3 (ipykernel)",
   "language": "python",
   "name": "python3"
  },
  "language_info": {
   "codemirror_mode": {
    "name": "ipython",
    "version": 3
   },
   "file_extension": ".py",
   "mimetype": "text/x-python",
   "name": "python",
   "nbconvert_exporter": "python",
   "pygments_lexer": "ipython3",
   "version": "3.7.12"
  }
 },
 "nbformat": 4,
 "nbformat_minor": 5
}
