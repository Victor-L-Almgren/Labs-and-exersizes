{
 "cells": [
  {
   "cell_type": "markdown",
   "metadata": {},
   "source": [
    "# Course Code: DS4003 \n",
    "# Course Name: Principles and Techniques for Data Science \n",
    "# Lab Session: 03 - Exploratory Data Analysis\n",
    "\n",
    "### Some contents of the lab are adapted from UC Berkeley's Data100 course. In this lab, we'll go through a series of EDA tasks on a rental dataset."
   ]
  },
  {
   "cell_type": "markdown",
   "metadata": {},
   "source": [
    "## From the Lecutre\n",
    "\n",
    "### Key Task in EDA\n",
    "1. **Data Understanding** \n",
    "2. **Data Cleaning** \n",
    "3. **Pattern Recognition** \n",
    "4. Hypothesis Generation \n",
    "5. Feature Selection \n",
    "6. Feature Engineering \n",
    "\n",
    "### Goals of EDA\n",
    "#### We determine: \n",
    "1. **Data Types**: What kinds of data do we have?\n",
    "2. **Granuality**: How is the resolution of data?\n",
    "3. **Scope**: How (in)complete are the data?\n",
    "4. **Temporality**: How are the data situated in time? \n",
    "5. **Faithfulness**:How accurately do the data describe the world?\n"
   ]
  },
  {
   "cell_type": "markdown",
   "metadata": {},
   "source": [
    "### Some important Imports "
   ]
  },
  {
   "cell_type": "code",
   "execution_count": 407,
   "metadata": {},
   "outputs": [],
   "source": [
    "import numpy as np\n",
    "import pandas as pd\n",
    "import seaborn as sns\n",
    "import os\n",
    "import warnings \n",
    "warnings.simplefilter('ignore')\n",
    "%matplotlib inline"
   ]
  },
  {
   "cell_type": "markdown",
   "metadata": {},
   "source": [
    "You are given a dataset  containing rental listings data scraped from Craigslist. Craigslist is a popular onlin advertising website."
   ]
  },
  {
   "cell_type": "markdown",
   "metadata": {},
   "source": [
    "## Read in Data and Compute Basic Summary Statistics"
   ]
  },
  {
   "cell_type": "code",
   "execution_count": 408,
   "metadata": {
    "scrolled": false
   },
   "outputs": [
    {
     "data": {
      "text/html": [
       "<div>\n",
       "<style scoped>\n",
       "    .dataframe tbody tr th:only-of-type {\n",
       "        vertical-align: middle;\n",
       "    }\n",
       "\n",
       "    .dataframe tbody tr th {\n",
       "        vertical-align: top;\n",
       "    }\n",
       "\n",
       "    .dataframe thead th {\n",
       "        text-align: right;\n",
       "    }\n",
       "</style>\n",
       "<table border=\"1\" class=\"dataframe\">\n",
       "  <thead>\n",
       "    <tr style=\"text-align: right;\">\n",
       "      <th></th>\n",
       "      <th>Unnamed: 0</th>\n",
       "      <th>id</th>\n",
       "      <th>price</th>\n",
       "      <th>title</th>\n",
       "      <th>body</th>\n",
       "      <th>lat</th>\n",
       "      <th>long</th>\n",
       "      <th>posted</th>\n",
       "      <th>updated</th>\n",
       "      <th>header</th>\n",
       "      <th>file</th>\n",
       "      <th>bedrooms</th>\n",
       "      <th>bath</th>\n",
       "      <th>sqft</th>\n",
       "    </tr>\n",
       "  </thead>\n",
       "  <tbody>\n",
       "    <tr>\n",
       "      <th>0</th>\n",
       "      <td>_eby_apa_d_1-2-mth-free-unfurnished-modern-3bd...</td>\n",
       "      <td>6809166875</td>\n",
       "      <td>6500</td>\n",
       "      <td>$6500 / 3br - 1900ft2 - 1/2 MTH FREE! Unfurnis...</td>\n",
       "      <td>\\r\\n            QR Code Link to This Post\\r\\n ...</td>\n",
       "      <td>37.894549</td>\n",
       "      <td>-122.263756</td>\n",
       "      <td>2019-02-01T09:54:18-0800</td>\n",
       "      <td>2019-02-05T06:50:49-0800</td>\n",
       "      <td>3BR / 3Ba</td>\n",
       "      <td>_eby_apa_d_1-2-mth-free-unfurnished-modern-3bd...</td>\n",
       "      <td>3</td>\n",
       "      <td>3</td>\n",
       "      <td>1900.0</td>\n",
       "    </tr>\n",
       "    <tr>\n",
       "      <th>1</th>\n",
       "      <td>_eby_apa_d_1-bedroom-pet-friendly-building-146...</td>\n",
       "      <td>6817699544</td>\n",
       "      <td>1795</td>\n",
       "      <td>$1795 / 1br - 1 bedroom Pet-friendly Building!...</td>\n",
       "      <td>\\r\\n            QR Code Link to This Post\\r\\n ...</td>\n",
       "      <td>37.803334</td>\n",
       "      <td>-122.266724</td>\n",
       "      <td>2019-02-12T10:14:49-0800</td>\n",
       "      <td>2019-02-12T10:14:50-0800</td>\n",
       "      <td>1BR / 1Ba</td>\n",
       "      <td>_eby_apa_d_1-bedroom-pet-friendly-building-146...</td>\n",
       "      <td>1</td>\n",
       "      <td>1</td>\n",
       "      <td>NaN</td>\n",
       "    </tr>\n",
       "    <tr>\n",
       "      <th>2</th>\n",
       "      <td>_eby_apa_d_1-bedroom-pet-friendly-building-146...</td>\n",
       "      <td>6817715072</td>\n",
       "      <td>1995</td>\n",
       "      <td>$1995 / 1br - 1 bedroom Pet-friendly Building!...</td>\n",
       "      <td>\\r\\n            QR Code Link to This Post\\r\\n ...</td>\n",
       "      <td>37.803334</td>\n",
       "      <td>-122.266724</td>\n",
       "      <td>2019-02-12T10:29:31-0800</td>\n",
       "      <td>2019-02-12T10:35:29-0800</td>\n",
       "      <td>1BR / 1Ba</td>\n",
       "      <td>_eby_apa_d_1-bedroom-pet-friendly-building-146...</td>\n",
       "      <td>1</td>\n",
       "      <td>1</td>\n",
       "      <td>NaN</td>\n",
       "    </tr>\n",
       "    <tr>\n",
       "      <th>3</th>\n",
       "      <td>_eby_apa_d_1-br-1-ba-berkeley-available-now_68...</td>\n",
       "      <td>6817370571</td>\n",
       "      <td>2200</td>\n",
       "      <td>$2200 / 1br - 1 BR / 1 BA Berkeley, Available ...</td>\n",
       "      <td>\\r\\n            QR Code Link to This Post\\r\\n ...</td>\n",
       "      <td>37.857026</td>\n",
       "      <td>-122.280080</td>\n",
       "      <td>2019-02-11T22:20:53-0800</td>\n",
       "      <td>2019-02-12T15:28:04-0800</td>\n",
       "      <td>1BR / 1Ba</td>\n",
       "      <td>_eby_apa_d_1-br-1-ba-berkeley-available-now_68...</td>\n",
       "      <td>1</td>\n",
       "      <td>1</td>\n",
       "      <td>NaN</td>\n",
       "    </tr>\n",
       "    <tr>\n",
       "      <th>4</th>\n",
       "      <td>_eby_apa_d_1-br-with-parking-near-downtown_681...</td>\n",
       "      <td>6814999655</td>\n",
       "      <td>1950</td>\n",
       "      <td>$1950 / 1br - 500ft2 - 1 br with parking near ...</td>\n",
       "      <td>\\r\\n            QR Code Link to This Post\\r\\n ...</td>\n",
       "      <td>37.866400</td>\n",
       "      <td>-122.257000</td>\n",
       "      <td>2019-02-08T16:37:38-0800</td>\n",
       "      <td>NaN</td>\n",
       "      <td>1BR / 1Ba</td>\n",
       "      <td>_eby_apa_d_1-br-with-parking-near-downtown_681...</td>\n",
       "      <td>1</td>\n",
       "      <td>1</td>\n",
       "      <td>500.0</td>\n",
       "    </tr>\n",
       "  </tbody>\n",
       "</table>\n",
       "</div>"
      ],
      "text/plain": [
       "                                          Unnamed: 0          id  price  \\\n",
       "0  _eby_apa_d_1-2-mth-free-unfurnished-modern-3bd...  6809166875   6500   \n",
       "1  _eby_apa_d_1-bedroom-pet-friendly-building-146...  6817699544   1795   \n",
       "2  _eby_apa_d_1-bedroom-pet-friendly-building-146...  6817715072   1995   \n",
       "3  _eby_apa_d_1-br-1-ba-berkeley-available-now_68...  6817370571   2200   \n",
       "4  _eby_apa_d_1-br-with-parking-near-downtown_681...  6814999655   1950   \n",
       "\n",
       "                                               title  \\\n",
       "0  $6500 / 3br - 1900ft2 - 1/2 MTH FREE! Unfurnis...   \n",
       "1  $1795 / 1br - 1 bedroom Pet-friendly Building!...   \n",
       "2  $1995 / 1br - 1 bedroom Pet-friendly Building!...   \n",
       "3  $2200 / 1br - 1 BR / 1 BA Berkeley, Available ...   \n",
       "4  $1950 / 1br - 500ft2 - 1 br with parking near ...   \n",
       "\n",
       "                                                body        lat        long  \\\n",
       "0  \\r\\n            QR Code Link to This Post\\r\\n ...  37.894549 -122.263756   \n",
       "1  \\r\\n            QR Code Link to This Post\\r\\n ...  37.803334 -122.266724   \n",
       "2  \\r\\n            QR Code Link to This Post\\r\\n ...  37.803334 -122.266724   \n",
       "3  \\r\\n            QR Code Link to This Post\\r\\n ...  37.857026 -122.280080   \n",
       "4  \\r\\n            QR Code Link to This Post\\r\\n ...  37.866400 -122.257000   \n",
       "\n",
       "                     posted                   updated     header  \\\n",
       "0  2019-02-01T09:54:18-0800  2019-02-05T06:50:49-0800  3BR / 3Ba   \n",
       "1  2019-02-12T10:14:49-0800  2019-02-12T10:14:50-0800  1BR / 1Ba   \n",
       "2  2019-02-12T10:29:31-0800  2019-02-12T10:35:29-0800  1BR / 1Ba   \n",
       "3  2019-02-11T22:20:53-0800  2019-02-12T15:28:04-0800  1BR / 1Ba   \n",
       "4  2019-02-08T16:37:38-0800                       NaN  1BR / 1Ba   \n",
       "\n",
       "                                                file  bedrooms  bath    sqft  \n",
       "0  _eby_apa_d_1-2-mth-free-unfurnished-modern-3bd...         3     3  1900.0  \n",
       "1  _eby_apa_d_1-bedroom-pet-friendly-building-146...         1     1     NaN  \n",
       "2  _eby_apa_d_1-bedroom-pet-friendly-building-146...         1     1     NaN  \n",
       "3  _eby_apa_d_1-br-1-ba-berkeley-available-now_68...         1     1     NaN  \n",
       "4  _eby_apa_d_1-br-with-parking-near-downtown_681...         1     1   500.0  "
      ]
     },
     "execution_count": 408,
     "metadata": {},
     "output_type": "execute_result"
    }
   ],
   "source": [
    "df = pd.read_csv(\"craiglist_rental.csv\")\n",
    "df.head()"
   ]
  },
  {
   "cell_type": "markdown",
   "metadata": {},
   "source": [
    "## Task: Find out what types of data we have in the dataset.\n"
   ]
  },
  {
   "cell_type": "code",
   "execution_count": 409,
   "metadata": {},
   "outputs": [
    {
     "name": "stdout",
     "output_type": "stream",
     "text": [
      "shape of df: (2139, 14)\n",
      "\n",
      "<class 'pandas.core.frame.DataFrame'>\n",
      "RangeIndex: 2139 entries, 0 to 2138\n",
      "Data columns (total 14 columns):\n",
      " #   Column      Non-Null Count  Dtype  \n",
      "---  ------      --------------  -----  \n",
      " 0   Unnamed: 0  2139 non-null   object \n",
      " 1   id          2139 non-null   int64  \n",
      " 2   price       2139 non-null   int64  \n",
      " 3   title       2139 non-null   object \n",
      " 4   body        2139 non-null   object \n",
      " 5   lat         2135 non-null   float64\n",
      " 6   long        2135 non-null   float64\n",
      " 7   posted      2139 non-null   object \n",
      " 8   updated     1100 non-null   object \n",
      " 9   header      2139 non-null   object \n",
      " 10  file        2139 non-null   object \n",
      " 11  bedrooms    2139 non-null   int64  \n",
      " 12  bath        2139 non-null   int64  \n",
      " 13  sqft        1399 non-null   float64\n",
      "dtypes: float64(3), int64(4), object(7)\n",
      "memory usage: 234.1+ KB\n"
     ]
    }
   ],
   "source": [
    "## YOUR CODE\n",
    "print(f'shape of df: {df.shape}\\n')\n",
    "df.info()"
   ]
  },
  {
   "cell_type": "markdown",
   "metadata": {},
   "source": [
    "## The column ```Unnamed: 0```\n",
    "What is in it? "
   ]
  },
  {
   "cell_type": "code",
   "execution_count": 410,
   "metadata": {},
   "outputs": [
    {
     "name": "stdout",
     "output_type": "stream",
     "text": [
      "_eby_apa_d_1-2-mth-free-unfurnished-modern-3bd_6809166875.html\n"
     ]
    }
   ],
   "source": [
    "item = df.iloc[0]\n",
    "print(item[\"Unnamed: 0\"])"
   ]
  },
  {
   "cell_type": "markdown",
   "metadata": {},
   "source": [
    "It does contains the html file name published in craiglist. Like ID, this column will have unique values. \n",
    "So, we move this column from regular column to index. "
   ]
  },
  {
   "cell_type": "code",
   "execution_count": 411,
   "metadata": {},
   "outputs": [
    {
     "name": "stdout",
     "output_type": "stream",
     "text": [
      "Index(['_eby_apa_d_1-2-mth-free-unfurnished-modern-3bd_6809166875.html',\n",
      "       '_eby_apa_d_1-bedroom-pet-friendly-building-1461_6817699544.html',\n",
      "       '_eby_apa_d_1-bedroom-pet-friendly-building-1461_6817715072.html',\n",
      "       '_eby_apa_d_1-br-1-ba-berkeley-available-now_6817370571.html',\n",
      "       '_eby_apa_d_1-br-with-parking-near-downtown_6814999655.html',\n",
      "       '_eby_apa_d_1-mth-free-unfurnished-modern-3bd-3bth_6814991144.html',\n",
      "       '_eby_apa_d_1ba-spacious-apt-in-great-area-private_6807929183.html',\n",
      "       '_eby_apa_d_2-bed-2-bath-in-great-location-dont_6813099037.html',\n",
      "       '_eby_apa_d_2-bed-2-bath-new-remodel-on-temescal_6817697003.html',\n",
      "       '_eby_apa_d_2-bed-2ba-15-garage-nice-east-bay-condo_6817221879.html',\n",
      "       ...\n",
      "       '_eby_apa_d_vallejo-2bd-2ba-controlled-access_6812543832.html',\n",
      "       '_eby_apa_d_vallejo-2bd-2ba-dishwasher-located-in_6814678180.html',\n",
      "       '_eby_apa_d_vallejo-balconies-patios-or-decks_6817254026.html',\n",
      "       '_eby_apa_d_vallejo-book-your-tour-todayone-month_6817580499.html',\n",
      "       '_eby_apa_d_vallejo-business-center-upgraded_6812542069.html',\n",
      "       '_eby_apa_d_vallejo-dishwasher-carpeted-floors-c_6813927632.html',\n",
      "       '_eby_apa_d_vallejo-flexible-lease-terms-available_6813930501.html',\n",
      "       '_eby_apa_d_vallejo-located-in-vallejo-2b-2b-pool_6818003360.html',\n",
      "       '_eby_apa_d_vallejo-spacious-2bed-2bath-ask-about_6812269025.html',\n",
      "       '_eby_apa_d_very-spacious-1br-near-bart-uc-bus_6804794978.html'],\n",
      "      dtype='object', name='Unnamed: 0', length=2139)\n"
     ]
    }
   ],
   "source": [
    "df.index = df['Unnamed: 0']\n",
    "df = df.drop(columns = 'Unnamed: 0')\n",
    "df.head()\n",
    "print(df.index)"
   ]
  },
  {
   "cell_type": "markdown",
   "metadata": {},
   "source": [
    "## Task: Use pandas functions to get a statistical summary of the dataset."
   ]
  },
  {
   "cell_type": "markdown",
   "metadata": {},
   "source": [
    "### Let's find the amount of NaN values in our dataset."
   ]
  },
  {
   "cell_type": "code",
   "execution_count": 412,
   "metadata": {},
   "outputs": [
    {
     "data": {
      "text/plain": [
       "id             0\n",
       "price          0\n",
       "title          0\n",
       "body           0\n",
       "lat            4\n",
       "long           4\n",
       "posted         0\n",
       "updated     1039\n",
       "header         0\n",
       "file           0\n",
       "bedrooms       0\n",
       "bath           0\n",
       "sqft         740\n",
       "dtype: int64"
      ]
     },
     "execution_count": 412,
     "metadata": {},
     "output_type": "execute_result"
    }
   ],
   "source": [
    "df.isnull().sum()"
   ]
  },
  {
   "cell_type": "markdown",
   "metadata": {},
   "source": [
    "Based on what we see above, we will need to handle the missing data in some columns."
   ]
  },
  {
   "cell_type": "markdown",
   "metadata": {},
   "source": [
    "## Task: Complete the following Functions "
   ]
  },
  {
   "cell_type": "code",
   "execution_count": 413,
   "metadata": {},
   "outputs": [
    {
     "name": "stdout",
     "output_type": "stream",
     "text": [
      "2019-02-01T09:54:18-0800\n",
      "<class 'str'>\n"
     ]
    }
   ],
   "source": [
    "from datetime import datetime, timedelta\n",
    "\n",
    "# format of date time in the data frame\n",
    "item = df['posted'][0]\n",
    "print(item)\n",
    "print(type(item))"
   ]
  },
  {
   "cell_type": "code",
   "execution_count": 414,
   "metadata": {},
   "outputs": [
    {
     "name": "stdout",
     "output_type": "stream",
     "text": [
      "2019-02-01 09:54:18-08:00\n",
      "<class 'datetime.datetime'>\n"
     ]
    }
   ],
   "source": [
    "# function to convert a string to datetime\n",
    "def str_to_date_time(date_string): \n",
    "    return datetime.strptime(date_string, '%Y-%m-%dT%H:%M:%S%z')\n",
    "\n",
    "dt_item = str_to_date_time(item)\n",
    "print(dt_item)\n",
    "print(type(dt_item))"
   ]
  },
  {
   "cell_type": "code",
   "execution_count": 415,
   "metadata": {},
   "outputs": [
    {
     "name": "stdout",
     "output_type": "stream",
     "text": [
      "2019-02-02 09:54:18-08:00\n",
      "<class 'datetime.datetime'>\n"
     ]
    }
   ],
   "source": [
    "# function to add a day to datetime obejct\n",
    "def add_day(dt_object, day=1): \n",
    "    return dt_object + timedelta(day)\n",
    "\n",
    "dt_item_added = add_day(dt_item)\n",
    "print(dt_item_added)\n",
    "print(type(dt_item_added))"
   ]
  },
  {
   "cell_type": "code",
   "execution_count": 416,
   "metadata": {},
   "outputs": [
    {
     "name": "stdout",
     "output_type": "stream",
     "text": [
      "2019-02-02T09:54:18-0800\n",
      "<class 'str'>\n"
     ]
    }
   ],
   "source": [
    "# function convert the datetime object to string of the given format e.g., 2019-02-01T09:54:18-0800\n",
    "def date_time_to_str(dt_object): \n",
    "    return datetime.strftime(dt_object, '%Y-%m-%dT%H:%M:%S%z')\n",
    "\n",
    "str_item = date_time_to_str(dt_item_added)\n",
    "print(str_item)\n",
    "print(type(str_item))"
   ]
  },
  {
   "cell_type": "markdown",
   "metadata": {},
   "source": [
    "## Now we use the above defined function to insert fake entries into the 'updated' column since this column has few actual entries"
   ]
  },
  {
   "cell_type": "code",
   "execution_count": 417,
   "metadata": {},
   "outputs": [],
   "source": [
    "indices = np.random.choice(df.shape[0], replace=False, size=(50,) )\n",
    "\n",
    "df.reset_index(inplace=True)\n",
    "rows = [] \n",
    "\n",
    "for i in indices: \n",
    "    idata = df.iloc[i].copy() \n",
    "    updated = idata['updated']\n",
    "    if (type(updated) == str and updated is not None) or (type(updated) == float and  not np.isnan(updated)): \n",
    "        dt_obj = str_to_date_time(updated)\n",
    "        dt_obj = add_day(dt_obj)\n",
    "        date_str = date_time_to_str(dt_obj)\n",
    "        idata['updated'] = date_str \n",
    "        idata['Unnamed: 0'] = str(idata['Unnamed: 0']) + str(i)\n",
    "        rows.append(idata)\n",
    "    \n",
    "frame = pd.DataFrame(rows)\n",
    "df = pd.concat([df, frame])"
   ]
  },
  {
   "cell_type": "code",
   "execution_count": 418,
   "metadata": {},
   "outputs": [
    {
     "name": "stdout",
     "output_type": "stream",
     "text": [
      "Total Number of entry: 2166\n",
      "Total Number of unique id: 2139\n"
     ]
    }
   ],
   "source": [
    "print(f'Total Number of entry: {df.shape[0]}')\n",
    "print(f\"Total Number of unique id: {len(pd.unique(df['id'].values))}\")"
   ]
  },
  {
   "cell_type": "code",
   "execution_count": 419,
   "metadata": {},
   "outputs": [
    {
     "data": {
      "text/html": [
       "<div>\n",
       "<style scoped>\n",
       "    .dataframe tbody tr th:only-of-type {\n",
       "        vertical-align: middle;\n",
       "    }\n",
       "\n",
       "    .dataframe tbody tr th {\n",
       "        vertical-align: top;\n",
       "    }\n",
       "\n",
       "    .dataframe thead th {\n",
       "        text-align: right;\n",
       "    }\n",
       "</style>\n",
       "<table border=\"1\" class=\"dataframe\">\n",
       "  <thead>\n",
       "    <tr style=\"text-align: right;\">\n",
       "      <th></th>\n",
       "      <th>id</th>\n",
       "      <th>price</th>\n",
       "      <th>title</th>\n",
       "      <th>body</th>\n",
       "      <th>lat</th>\n",
       "      <th>long</th>\n",
       "      <th>posted</th>\n",
       "      <th>updated</th>\n",
       "      <th>header</th>\n",
       "      <th>file</th>\n",
       "      <th>bedrooms</th>\n",
       "      <th>bath</th>\n",
       "      <th>sqft</th>\n",
       "    </tr>\n",
       "    <tr>\n",
       "      <th>Unnamed: 0</th>\n",
       "      <th></th>\n",
       "      <th></th>\n",
       "      <th></th>\n",
       "      <th></th>\n",
       "      <th></th>\n",
       "      <th></th>\n",
       "      <th></th>\n",
       "      <th></th>\n",
       "      <th></th>\n",
       "      <th></th>\n",
       "      <th></th>\n",
       "      <th></th>\n",
       "      <th></th>\n",
       "    </tr>\n",
       "  </thead>\n",
       "  <tbody>\n",
       "    <tr>\n",
       "      <th>_eby_apa_d_oakland-first-floor-2-bedroom-near_6788556664.html1259</th>\n",
       "      <td>6788556664</td>\n",
       "      <td>2095</td>\n",
       "      <td>$2095 / 2br - First floor 2 bedroom near Highl...</td>\n",
       "      <td>\\r\\n            QR Code Link to This Post\\r\\n ...</td>\n",
       "      <td>37.794394</td>\n",
       "      <td>-122.233596</td>\n",
       "      <td>2019-01-06T13:58:00-0800</td>\n",
       "      <td>2019-02-12T15:21:12-0800</td>\n",
       "      <td>2BR / 1Ba</td>\n",
       "      <td>_eby_apa_d_oakland-first-floor-2-bedroom-near_...</td>\n",
       "      <td>2</td>\n",
       "      <td>1</td>\n",
       "      <td>NaN</td>\n",
       "    </tr>\n",
       "    <tr>\n",
       "      <th>_eby_apa_d_oakland-ground-floor-2-bedroom-with_6789660103.html</th>\n",
       "      <td>6789660103</td>\n",
       "      <td>2495</td>\n",
       "      <td>$2495 / 2br - Ground Floor 2 bedroom with priv...</td>\n",
       "      <td>\\r\\n            QR Code Link to This Post\\r\\n ...</td>\n",
       "      <td>37.820275</td>\n",
       "      <td>-122.253068</td>\n",
       "      <td>2019-01-07T21:59:11-0800</td>\n",
       "      <td>2019-02-06T09:16:18-0800</td>\n",
       "      <td>2BR / 1.5Ba</td>\n",
       "      <td>_eby_apa_d_oakland-ground-floor-2-bedroom-with...</td>\n",
       "      <td>2</td>\n",
       "      <td>5</td>\n",
       "      <td>NaN</td>\n",
       "    </tr>\n",
       "    <tr>\n",
       "      <th>_eby_apa_d_berkeleybr-786ft-fall-security-deposit_6789926479.html</th>\n",
       "      <td>6789926479</td>\n",
       "      <td>3500</td>\n",
       "      <td>$3500 / 2br - 786ft2 - $3500 / 2br - 786ft - F...</td>\n",
       "      <td>\\r\\n            QR Code Link to This Post\\r\\n ...</td>\n",
       "      <td>37.874825</td>\n",
       "      <td>-122.269080</td>\n",
       "      <td>2019-01-08T09:14:51-0800</td>\n",
       "      <td>2019-02-06T14:48:27-0800</td>\n",
       "      <td>2BR / 1Ba</td>\n",
       "      <td>_eby_apa_d_berkeleybr-786ft-fall-security-depo...</td>\n",
       "      <td>2</td>\n",
       "      <td>1</td>\n",
       "      <td>786.0</td>\n",
       "    </tr>\n",
       "    <tr>\n",
       "      <th>_eby_apa_d_oakland-amazing-remodeled-2br-1ba-walk_6790076454.html</th>\n",
       "      <td>6790076454</td>\n",
       "      <td>2995</td>\n",
       "      <td>$2995 / 2br - Amazing, Remodeled 2BR-1BA walk ...</td>\n",
       "      <td>\\r\\n            QR Code Link to This Post\\r\\n ...</td>\n",
       "      <td>37.813005</td>\n",
       "      <td>-122.254293</td>\n",
       "      <td>2019-01-08T11:30:55-0800</td>\n",
       "      <td>2019-02-06T12:29:36-0800</td>\n",
       "      <td>2BR / 1Ba</td>\n",
       "      <td>_eby_apa_d_oakland-amazing-remodeled-2br-1ba-w...</td>\n",
       "      <td>2</td>\n",
       "      <td>1</td>\n",
       "      <td>NaN</td>\n",
       "    </tr>\n",
       "    <tr>\n",
       "      <th>_eby_apa_d_oakland-available-one-bedroom-one_6790438871.html</th>\n",
       "      <td>6790438871</td>\n",
       "      <td>1850</td>\n",
       "      <td>$1850 / 1br - Available one bedroom one bathro...</td>\n",
       "      <td>\\r\\n            QR Code Link to This Post\\r\\n ...</td>\n",
       "      <td>37.812524</td>\n",
       "      <td>-122.257526</td>\n",
       "      <td>2019-01-08T19:23:23-0800</td>\n",
       "      <td>2019-02-06T16:44:38-0800</td>\n",
       "      <td>1BR / 1Ba</td>\n",
       "      <td>_eby_apa_d_oakland-available-one-bedroom-one_6...</td>\n",
       "      <td>1</td>\n",
       "      <td>1</td>\n",
       "      <td>NaN</td>\n",
       "    </tr>\n",
       "  </tbody>\n",
       "</table>\n",
       "</div>"
      ],
      "text/plain": [
       "                                                            id  price  \\\n",
       "Unnamed: 0                                                              \n",
       "_eby_apa_d_oakland-first-floor-2-bedroom-near_6...  6788556664   2095   \n",
       "_eby_apa_d_oakland-ground-floor-2-bedroom-with_...  6789660103   2495   \n",
       "_eby_apa_d_berkeleybr-786ft-fall-security-depos...  6789926479   3500   \n",
       "_eby_apa_d_oakland-amazing-remodeled-2br-1ba-wa...  6790076454   2995   \n",
       "_eby_apa_d_oakland-available-one-bedroom-one_67...  6790438871   1850   \n",
       "\n",
       "                                                                                                title  \\\n",
       "Unnamed: 0                                                                                              \n",
       "_eby_apa_d_oakland-first-floor-2-bedroom-near_6...  $2095 / 2br - First floor 2 bedroom near Highl...   \n",
       "_eby_apa_d_oakland-ground-floor-2-bedroom-with_...  $2495 / 2br - Ground Floor 2 bedroom with priv...   \n",
       "_eby_apa_d_berkeleybr-786ft-fall-security-depos...  $3500 / 2br - 786ft2 - $3500 / 2br - 786ft - F...   \n",
       "_eby_apa_d_oakland-amazing-remodeled-2br-1ba-wa...  $2995 / 2br - Amazing, Remodeled 2BR-1BA walk ...   \n",
       "_eby_apa_d_oakland-available-one-bedroom-one_67...  $1850 / 1br - Available one bedroom one bathro...   \n",
       "\n",
       "                                                                                                 body  \\\n",
       "Unnamed: 0                                                                                              \n",
       "_eby_apa_d_oakland-first-floor-2-bedroom-near_6...  \\r\\n            QR Code Link to This Post\\r\\n ...   \n",
       "_eby_apa_d_oakland-ground-floor-2-bedroom-with_...  \\r\\n            QR Code Link to This Post\\r\\n ...   \n",
       "_eby_apa_d_berkeleybr-786ft-fall-security-depos...  \\r\\n            QR Code Link to This Post\\r\\n ...   \n",
       "_eby_apa_d_oakland-amazing-remodeled-2br-1ba-wa...  \\r\\n            QR Code Link to This Post\\r\\n ...   \n",
       "_eby_apa_d_oakland-available-one-bedroom-one_67...  \\r\\n            QR Code Link to This Post\\r\\n ...   \n",
       "\n",
       "                                                          lat        long  \\\n",
       "Unnamed: 0                                                                  \n",
       "_eby_apa_d_oakland-first-floor-2-bedroom-near_6...  37.794394 -122.233596   \n",
       "_eby_apa_d_oakland-ground-floor-2-bedroom-with_...  37.820275 -122.253068   \n",
       "_eby_apa_d_berkeleybr-786ft-fall-security-depos...  37.874825 -122.269080   \n",
       "_eby_apa_d_oakland-amazing-remodeled-2br-1ba-wa...  37.813005 -122.254293   \n",
       "_eby_apa_d_oakland-available-one-bedroom-one_67...  37.812524 -122.257526   \n",
       "\n",
       "                                                                      posted  \\\n",
       "Unnamed: 0                                                                     \n",
       "_eby_apa_d_oakland-first-floor-2-bedroom-near_6...  2019-01-06T13:58:00-0800   \n",
       "_eby_apa_d_oakland-ground-floor-2-bedroom-with_...  2019-01-07T21:59:11-0800   \n",
       "_eby_apa_d_berkeleybr-786ft-fall-security-depos...  2019-01-08T09:14:51-0800   \n",
       "_eby_apa_d_oakland-amazing-remodeled-2br-1ba-wa...  2019-01-08T11:30:55-0800   \n",
       "_eby_apa_d_oakland-available-one-bedroom-one_67...  2019-01-08T19:23:23-0800   \n",
       "\n",
       "                                                                     updated  \\\n",
       "Unnamed: 0                                                                     \n",
       "_eby_apa_d_oakland-first-floor-2-bedroom-near_6...  2019-02-12T15:21:12-0800   \n",
       "_eby_apa_d_oakland-ground-floor-2-bedroom-with_...  2019-02-06T09:16:18-0800   \n",
       "_eby_apa_d_berkeleybr-786ft-fall-security-depos...  2019-02-06T14:48:27-0800   \n",
       "_eby_apa_d_oakland-amazing-remodeled-2br-1ba-wa...  2019-02-06T12:29:36-0800   \n",
       "_eby_apa_d_oakland-available-one-bedroom-one_67...  2019-02-06T16:44:38-0800   \n",
       "\n",
       "                                                         header  \\\n",
       "Unnamed: 0                                                        \n",
       "_eby_apa_d_oakland-first-floor-2-bedroom-near_6...    2BR / 1Ba   \n",
       "_eby_apa_d_oakland-ground-floor-2-bedroom-with_...  2BR / 1.5Ba   \n",
       "_eby_apa_d_berkeleybr-786ft-fall-security-depos...    2BR / 1Ba   \n",
       "_eby_apa_d_oakland-amazing-remodeled-2br-1ba-wa...    2BR / 1Ba   \n",
       "_eby_apa_d_oakland-available-one-bedroom-one_67...    1BR / 1Ba   \n",
       "\n",
       "                                                                                                 file  \\\n",
       "Unnamed: 0                                                                                              \n",
       "_eby_apa_d_oakland-first-floor-2-bedroom-near_6...  _eby_apa_d_oakland-first-floor-2-bedroom-near_...   \n",
       "_eby_apa_d_oakland-ground-floor-2-bedroom-with_...  _eby_apa_d_oakland-ground-floor-2-bedroom-with...   \n",
       "_eby_apa_d_berkeleybr-786ft-fall-security-depos...  _eby_apa_d_berkeleybr-786ft-fall-security-depo...   \n",
       "_eby_apa_d_oakland-amazing-remodeled-2br-1ba-wa...  _eby_apa_d_oakland-amazing-remodeled-2br-1ba-w...   \n",
       "_eby_apa_d_oakland-available-one-bedroom-one_67...  _eby_apa_d_oakland-available-one-bedroom-one_6...   \n",
       "\n",
       "                                                    bedrooms  bath   sqft  \n",
       "Unnamed: 0                                                                 \n",
       "_eby_apa_d_oakland-first-floor-2-bedroom-near_6...         2     1    NaN  \n",
       "_eby_apa_d_oakland-ground-floor-2-bedroom-with_...         2     5    NaN  \n",
       "_eby_apa_d_berkeleybr-786ft-fall-security-depos...         2     1  786.0  \n",
       "_eby_apa_d_oakland-amazing-remodeled-2br-1ba-wa...         2     1    NaN  \n",
       "_eby_apa_d_oakland-available-one-bedroom-one_67...         1     1    NaN  "
      ]
     },
     "execution_count": 419,
     "metadata": {},
     "output_type": "execute_result"
    }
   ],
   "source": [
    "(df\n",
    "   .sort_values('updated', ascending=False)\n",
    "   .groupby('id', as_index=False)\n",
    "   .first()\n",
    "   .set_index('Unnamed: 0')\n",
    ").head()"
   ]
  },
  {
   "cell_type": "markdown",
   "metadata": {},
   "source": [
    "## Task: Use an appropriate approach to handle the missing data in the column 'sqft'"
   ]
  },
  {
   "cell_type": "code",
   "execution_count": 1,
   "metadata": {},
   "outputs": [
    {
     "ename": "NameError",
     "evalue": "name 'df' is not defined",
     "output_type": "error",
     "traceback": [
      "\u001b[1;31m---------------------------------------------------------------------------\u001b[0m",
      "\u001b[1;31mNameError\u001b[0m                                 Traceback (most recent call last)",
      "Cell \u001b[1;32mIn[1], line 4\u001b[0m\n\u001b[0;32m      1\u001b[0m \u001b[38;5;66;03m# filling with mean values\u001b[39;00m\n\u001b[0;32m      2\u001b[0m \u001b[38;5;28;01mimport\u001b[39;00m \u001b[38;5;21;01mmatplotlib\u001b[39;00m\u001b[38;5;21;01m.\u001b[39;00m\u001b[38;5;21;01mpyplot\u001b[39;00m \u001b[38;5;28;01mas\u001b[39;00m \u001b[38;5;21;01mplt\u001b[39;00m\n\u001b[1;32m----> 4\u001b[0m fill_mean \u001b[38;5;241m=\u001b[39m \u001b[43mdf\u001b[49m\u001b[38;5;241m.\u001b[39mcopy()\n\u001b[0;32m      5\u001b[0m fill_mean[\u001b[38;5;124m'\u001b[39m\u001b[38;5;124msqft\u001b[39m\u001b[38;5;124m'\u001b[39m] \u001b[38;5;241m=\u001b[39m fill_mean[\u001b[38;5;124m'\u001b[39m\u001b[38;5;124msqft\u001b[39m\u001b[38;5;124m'\u001b[39m]\u001b[38;5;241m.\u001b[39mfillna(value\u001b[38;5;241m=\u001b[39mfill_mean[\u001b[38;5;124m'\u001b[39m\u001b[38;5;124msqft\u001b[39m\u001b[38;5;124m'\u001b[39m]\u001b[38;5;241m.\u001b[39mmean())\n\u001b[0;32m      6\u001b[0m sns\u001b[38;5;241m.\u001b[39mkdeplot(data\u001b[38;5;241m=\u001b[39mfill_mean, x\u001b[38;5;241m=\u001b[39m\u001b[38;5;124m'\u001b[39m\u001b[38;5;124msqft\u001b[39m\u001b[38;5;124m'\u001b[39m, fill\u001b[38;5;241m=\u001b[39m\u001b[38;5;28;01mTrue\u001b[39;00m, bw_adjust\u001b[38;5;241m=\u001b[39m\u001b[38;5;241m10\u001b[39m)\n",
      "\u001b[1;31mNameError\u001b[0m: name 'df' is not defined"
     ]
    }
   ],
   "source": [
    "# filling with mean values\n",
    "import matplotlib.pyplot as plt\n",
    "\n",
    "fill_mean = df.copy()\n",
    "fill_mean['sqft'] = fill_mean['sqft'].fillna(value=fill_mean['sqft'].mean())\n",
    "sns.kdeplot(data=fill_mean, x='sqft', fill=True, bw_adjust=10)\n",
    "plt.title('mean fill')\n"
   ]
  },
  {
   "cell_type": "markdown",
   "metadata": {},
   "source": [
    "## Task: Ensure the columns with date and time to a datetime format"
   ]
  },
  {
   "cell_type": "code",
   "execution_count": 375,
   "metadata": {},
   "outputs": [],
   "source": [
    "### YOUR CODE HERE"
   ]
  },
  {
   "cell_type": "markdown",
   "metadata": {},
   "source": [
    "## Task: Remove Multiple Listings with Same ID\n",
    "If there are multiple listings with the same ID, keep the listing updated most recently."
   ]
  },
  {
   "cell_type": "code",
   "execution_count": 376,
   "metadata": {},
   "outputs": [],
   "source": [
    "### YOUR CODE HERE"
   ]
  },
  {
   "cell_type": "markdown",
   "metadata": {},
   "source": [
    "### Outliers: Square footage"
   ]
  },
  {
   "cell_type": "code",
   "execution_count": 377,
   "metadata": {
    "scrolled": true
   },
   "outputs": [
    {
     "data": {
      "text/plain": [
       "count     1412.000000\n",
       "mean      1041.652975\n",
       "std       2540.589407\n",
       "min          1.000000\n",
       "25%        700.000000\n",
       "50%        850.000000\n",
       "75%       1114.250000\n",
       "max      94602.000000\n",
       "Name: sqft, dtype: float64"
      ]
     },
     "execution_count": 377,
     "metadata": {},
     "output_type": "execute_result"
    }
   ],
   "source": [
    "df['sqft'].describe()"
   ]
  },
  {
   "cell_type": "code",
   "execution_count": 378,
   "metadata": {},
   "outputs": [
    {
     "data": {
      "text/plain": [
       "755"
      ]
     },
     "execution_count": 378,
     "metadata": {},
     "output_type": "execute_result"
    }
   ],
   "source": [
    "df['sqft'].isnull().sum()"
   ]
  },
  {
   "cell_type": "code",
   "execution_count": 379,
   "metadata": {},
   "outputs": [
    {
     "data": {
      "text/plain": [
       "1507      1.0\n",
       "1520     90.0\n",
       "300     100.0\n",
       "2027    101.0\n",
       "483     135.0\n",
       "Name: sqft, dtype: float64"
      ]
     },
     "execution_count": 379,
     "metadata": {},
     "output_type": "execute_result"
    }
   ],
   "source": [
    "df['sqft'].sort_values().head()"
   ]
  },
  {
   "cell_type": "code",
   "execution_count": 380,
   "metadata": {},
   "outputs": [
    {
     "data": {
      "text/plain": [
       "1375    94602.0\n",
       "1152    10000.0\n",
       "1819     4800.0\n",
       "1531     4060.0\n",
       "1882     3200.0\n",
       "Name: sqft, dtype: float64"
      ]
     },
     "execution_count": 380,
     "metadata": {},
     "output_type": "execute_result"
    }
   ],
   "source": [
    "df['sqft'].sort_values(ascending=False).head()"
   ]
  },
  {
   "cell_type": "markdown",
   "metadata": {},
   "source": [
    "## Task: Remove unusual apartment sizes\n",
    "Find out the indices of apartments which are smaller than 100 sqft or larger than 5000 sqft. Drop the corresponding indices\n"
   ]
  },
  {
   "cell_type": "code",
   "execution_count": 381,
   "metadata": {
    "scrolled": true
   },
   "outputs": [],
   "source": [
    "## YOUR CODE HERE\n"
   ]
  },
  {
   "cell_type": "markdown",
   "metadata": {},
   "source": [
    "### Outliers: Latitude and Longitude\n",
    "\n",
    "UC Berkeley's latitude is 37.871853 and longitude -122.258423. \n",
    "\n",
    "There are a few outlying units in terms of latitude or longitude.\n",
    "\n",
    "Examine and discard listings with latitude or longitude beyond 0.3 of UC Berkeley.   \n",
    "\n"
   ]
  },
  {
   "cell_type": "code",
   "execution_count": 382,
   "metadata": {},
   "outputs": [],
   "source": [
    "lg = -122.258423\n",
    "lt = 37.871853"
   ]
  },
  {
   "cell_type": "code",
   "execution_count": 383,
   "metadata": {},
   "outputs": [
    {
     "data": {
      "text/html": [
       "<div>\n",
       "<style scoped>\n",
       "    .dataframe tbody tr th:only-of-type {\n",
       "        vertical-align: middle;\n",
       "    }\n",
       "\n",
       "    .dataframe tbody tr th {\n",
       "        vertical-align: top;\n",
       "    }\n",
       "\n",
       "    .dataframe thead th {\n",
       "        text-align: right;\n",
       "    }\n",
       "</style>\n",
       "<table border=\"1\" class=\"dataframe\">\n",
       "  <thead>\n",
       "    <tr style=\"text-align: right;\">\n",
       "      <th></th>\n",
       "      <th>long</th>\n",
       "      <th>lat</th>\n",
       "    </tr>\n",
       "  </thead>\n",
       "  <tbody>\n",
       "    <tr>\n",
       "      <th>count</th>\n",
       "      <td>2163.000000</td>\n",
       "      <td>2163.000000</td>\n",
       "    </tr>\n",
       "    <tr>\n",
       "      <th>mean</th>\n",
       "      <td>-122.252270</td>\n",
       "      <td>37.841774</td>\n",
       "    </tr>\n",
       "    <tr>\n",
       "      <th>std</th>\n",
       "      <td>0.565008</td>\n",
       "      <td>0.120809</td>\n",
       "    </tr>\n",
       "    <tr>\n",
       "      <th>min</th>\n",
       "      <td>-122.481502</td>\n",
       "      <td>32.892980</td>\n",
       "    </tr>\n",
       "    <tr>\n",
       "      <th>25%</th>\n",
       "      <td>-122.285100</td>\n",
       "      <td>37.808500</td>\n",
       "    </tr>\n",
       "    <tr>\n",
       "      <th>50%</th>\n",
       "      <td>-122.266481</td>\n",
       "      <td>37.834805</td>\n",
       "    </tr>\n",
       "    <tr>\n",
       "      <th>75%</th>\n",
       "      <td>-122.250894</td>\n",
       "      <td>37.867726</td>\n",
       "    </tr>\n",
       "    <tr>\n",
       "      <th>max</th>\n",
       "      <td>-96.076540</td>\n",
       "      <td>38.129373</td>\n",
       "    </tr>\n",
       "  </tbody>\n",
       "</table>\n",
       "</div>"
      ],
      "text/plain": [
       "              long          lat\n",
       "count  2163.000000  2163.000000\n",
       "mean   -122.252270    37.841774\n",
       "std       0.565008     0.120809\n",
       "min    -122.481502    32.892980\n",
       "25%    -122.285100    37.808500\n",
       "50%    -122.266481    37.834805\n",
       "75%    -122.250894    37.867726\n",
       "max     -96.076540    38.129373"
      ]
     },
     "execution_count": 383,
     "metadata": {},
     "output_type": "execute_result"
    }
   ],
   "source": [
    "df[['long','lat']].describe()"
   ]
  },
  {
   "cell_type": "markdown",
   "metadata": {},
   "source": [
    "## Task: Remove far off apartments\n",
    "Use the code for finding apartment indices to get listings with with latitude or longitude beyond 0.3 of UC Berkeley coordinates.\n"
   ]
  },
  {
   "cell_type": "code",
   "execution_count": 384,
   "metadata": {
    "scrolled": false
   },
   "outputs": [],
   "source": [
    "## YOUR CODE HERE"
   ]
  },
  {
   "cell_type": "markdown",
   "metadata": {},
   "source": [
    "## Task: Inspection of units recorded as having 5 bathrooms but only 1 bedroom reveals a likely error in the data: These units actually have 1.5 bathrooms. Find a way to fix this this the dataset."
   ]
  },
  {
   "cell_type": "code",
   "execution_count": 385,
   "metadata": {
    "scrolled": true
   },
   "outputs": [
    {
     "data": {
      "text/html": [
       "<div>\n",
       "<style scoped>\n",
       "    .dataframe tbody tr th:only-of-type {\n",
       "        vertical-align: middle;\n",
       "    }\n",
       "\n",
       "    .dataframe tbody tr th {\n",
       "        vertical-align: top;\n",
       "    }\n",
       "\n",
       "    .dataframe thead th {\n",
       "        text-align: right;\n",
       "    }\n",
       "</style>\n",
       "<table border=\"1\" class=\"dataframe\">\n",
       "  <thead>\n",
       "    <tr style=\"text-align: right;\">\n",
       "      <th></th>\n",
       "      <th>Unnamed: 0</th>\n",
       "      <th>id</th>\n",
       "      <th>price</th>\n",
       "      <th>title</th>\n",
       "      <th>body</th>\n",
       "      <th>lat</th>\n",
       "      <th>long</th>\n",
       "      <th>posted</th>\n",
       "      <th>updated</th>\n",
       "      <th>header</th>\n",
       "      <th>file</th>\n",
       "      <th>bedrooms</th>\n",
       "      <th>bath</th>\n",
       "      <th>sqft</th>\n",
       "    </tr>\n",
       "  </thead>\n",
       "  <tbody>\n",
       "    <tr>\n",
       "      <th>76</th>\n",
       "      <td>_eby_apa_d_berkeley-1-bedroom-in-elmwood_68168...</td>\n",
       "      <td>6816800828</td>\n",
       "      <td>2750</td>\n",
       "      <td>$2750 / 1br - 1 Bedroom in Elmwood (berkeley)</td>\n",
       "      <td>\\r\\n            QR Code Link to This Post\\r\\n ...</td>\n",
       "      <td>37.853726</td>\n",
       "      <td>-122.255580</td>\n",
       "      <td>2019-02-11T09:09:03-0800</td>\n",
       "      <td>NaN</td>\n",
       "      <td>1BR / 1.5Ba</td>\n",
       "      <td>_eby_apa_d_berkeley-1-bedroom-in-elmwood_68168...</td>\n",
       "      <td>1</td>\n",
       "      <td>5</td>\n",
       "      <td>850.0</td>\n",
       "    </tr>\n",
       "    <tr>\n",
       "      <th>175</th>\n",
       "      <td>_eby_apa_d_berkeley-art-studio-made-into-fabul...</td>\n",
       "      <td>6814940452</td>\n",
       "      <td>3000</td>\n",
       "      <td>$3000 / 1br - Art Studio Made Into Fabulous Li...</td>\n",
       "      <td>\\r\\n            QR Code Link to This Post\\r\\n ...</td>\n",
       "      <td>37.860609</td>\n",
       "      <td>-122.235477</td>\n",
       "      <td>2019-02-08T15:13:45-0800</td>\n",
       "      <td>NaN</td>\n",
       "      <td>1BR / 1.5Ba</td>\n",
       "      <td>_eby_apa_d_berkeley-art-studio-made-into-fabul...</td>\n",
       "      <td>1</td>\n",
       "      <td>5</td>\n",
       "      <td>NaN</td>\n",
       "    </tr>\n",
       "    <tr>\n",
       "      <th>451</th>\n",
       "      <td>_eby_apa_d_berkeley-panoramic-bay-sf-view-berk...</td>\n",
       "      <td>6793594896</td>\n",
       "      <td>4250</td>\n",
       "      <td>$4250 / 1br - 1800ft2 - Panoramic Bay &amp; SF Vie...</td>\n",
       "      <td>\\r\\n            QR Code Link to This Post\\r\\n ...</td>\n",
       "      <td>37.860760</td>\n",
       "      <td>-122.230153</td>\n",
       "      <td>2019-01-12T16:16:34-0800</td>\n",
       "      <td>2019-02-10T11:42:54-0800</td>\n",
       "      <td>1BR / 1.5Ba</td>\n",
       "      <td>_eby_apa_d_berkeley-panoramic-bay-sf-view-berk...</td>\n",
       "      <td>1</td>\n",
       "      <td>5</td>\n",
       "      <td>1800.0</td>\n",
       "    </tr>\n",
       "    <tr>\n",
       "      <th>776</th>\n",
       "      <td>_eby_apa_d_emeryville-pacific-park-plaza-furni...</td>\n",
       "      <td>6816899256</td>\n",
       "      <td>3000</td>\n",
       "      <td>$3000 / 1br - Pacific Park Plaza FURNISHED &amp; r...</td>\n",
       "      <td>\\r\\n            QR Code Link to This Post\\r\\n ...</td>\n",
       "      <td>37.838626</td>\n",
       "      <td>-122.294780</td>\n",
       "      <td>2019-02-11T10:37:11-0800</td>\n",
       "      <td>NaN</td>\n",
       "      <td>1BR / 1.5Ba</td>\n",
       "      <td>_eby_apa_d_emeryville-pacific-park-plaza-furni...</td>\n",
       "      <td>1</td>\n",
       "      <td>5</td>\n",
       "      <td>768.0</td>\n",
       "    </tr>\n",
       "    <tr>\n",
       "      <th>834</th>\n",
       "      <td>_eby_apa_d_emeryvillest-st-1-bed1-bath-green_6...</td>\n",
       "      <td>6800670419</td>\n",
       "      <td>2995</td>\n",
       "      <td>$2995 / 1br - 1007 41st St. 1 bed,1 bath, Gree...</td>\n",
       "      <td>\\r\\n            QR Code Link to This Post\\r\\n ...</td>\n",
       "      <td>37.832133</td>\n",
       "      <td>-122.277753</td>\n",
       "      <td>2019-01-21T15:40:54-0800</td>\n",
       "      <td>2019-02-11T11:45:38-0800</td>\n",
       "      <td>1BR / 1.5Ba</td>\n",
       "      <td>_eby_apa_d_emeryvillest-st-1-bed1-bath-green_6...</td>\n",
       "      <td>1</td>\n",
       "      <td>5</td>\n",
       "      <td>NaN</td>\n",
       "    </tr>\n",
       "    <tr>\n",
       "      <th>868</th>\n",
       "      <td>_eby_apa_d_oakland-1-bed-15-bath-duplex-in-oak...</td>\n",
       "      <td>6812610941</td>\n",
       "      <td>3000</td>\n",
       "      <td>$3000 / 1br - 1 Bed 1.5 Bath Duplex in Oakland...</td>\n",
       "      <td>\\r\\n            QR Code Link to This Post\\r\\n ...</td>\n",
       "      <td>37.782328</td>\n",
       "      <td>-122.192478</td>\n",
       "      <td>2019-02-05T18:07:00-0800</td>\n",
       "      <td>NaN</td>\n",
       "      <td>1BR / 1.5Ba</td>\n",
       "      <td>_eby_apa_d_oakland-1-bed-15-bath-duplex-in-oak...</td>\n",
       "      <td>1</td>\n",
       "      <td>5</td>\n",
       "      <td>NaN</td>\n",
       "    </tr>\n",
       "    <tr>\n",
       "      <th>1438</th>\n",
       "      <td>_eby_apa_d_oakland-luxury-one-bedroom-lake-vie...</td>\n",
       "      <td>6802803064</td>\n",
       "      <td>3995</td>\n",
       "      <td>$3995 / 1br - 965ft2 - Luxury One Bedroom Lake...</td>\n",
       "      <td>\\r\\n            QR Code Link to This Post\\r\\n ...</td>\n",
       "      <td>37.798927</td>\n",
       "      <td>-122.259680</td>\n",
       "      <td>2019-01-24T09:25:39-0800</td>\n",
       "      <td>2019-02-12T09:51:07-0800</td>\n",
       "      <td>1BR / 1.5Ba</td>\n",
       "      <td>_eby_apa_d_oakland-luxury-one-bedroom-lake-vie...</td>\n",
       "      <td>1</td>\n",
       "      <td>5</td>\n",
       "      <td>965.0</td>\n",
       "    </tr>\n",
       "    <tr>\n",
       "      <th>1469</th>\n",
       "      <td>_eby_apa_d_oakland-new-1-month-free-free-parki...</td>\n",
       "      <td>6817177226</td>\n",
       "      <td>3405</td>\n",
       "      <td>$3405 / 1br - 773ft2 - NEW! 1 Month Free + Fre...</td>\n",
       "      <td>\\r\\n            QR Code Link to This Post\\r\\n ...</td>\n",
       "      <td>37.820617</td>\n",
       "      <td>-122.261747</td>\n",
       "      <td>2019-02-11T15:24:24-0800</td>\n",
       "      <td>NaN</td>\n",
       "      <td>1BR / 1.5Ba</td>\n",
       "      <td>_eby_apa_d_oakland-new-1-month-free-free-parki...</td>\n",
       "      <td>1</td>\n",
       "      <td>5</td>\n",
       "      <td>773.0</td>\n",
       "    </tr>\n",
       "    <tr>\n",
       "      <th>1470</th>\n",
       "      <td>_eby_apa_d_oakland-new-1-month-free-free-parki...</td>\n",
       "      <td>6817840489</td>\n",
       "      <td>3405</td>\n",
       "      <td>$3405 / 1br - 773ft2 - NEW! 1 Month Free + Fre...</td>\n",
       "      <td>\\r\\n            QR Code Link to This Post\\r\\n ...</td>\n",
       "      <td>37.820617</td>\n",
       "      <td>-122.261747</td>\n",
       "      <td>2019-02-12T12:31:59-0800</td>\n",
       "      <td>NaN</td>\n",
       "      <td>1BR / 1.5Ba</td>\n",
       "      <td>_eby_apa_d_oakland-new-1-month-free-free-parki...</td>\n",
       "      <td>1</td>\n",
       "      <td>5</td>\n",
       "      <td>773.0</td>\n",
       "    </tr>\n",
       "    <tr>\n",
       "      <th>1674</th>\n",
       "      <td>_eby_apa_d_oakland-room-available-feb-14-in-ho...</td>\n",
       "      <td>6817761878</td>\n",
       "      <td>555</td>\n",
       "      <td>$555 / 1br - room available Feb 14 in house ne...</td>\n",
       "      <td>\\r\\n            QR Code Link to This Post\\r\\n ...</td>\n",
       "      <td>37.827727</td>\n",
       "      <td>-122.272180</td>\n",
       "      <td>2019-02-12T11:13:53-0800</td>\n",
       "      <td>NaN</td>\n",
       "      <td>1BR / 1.5Ba</td>\n",
       "      <td>_eby_apa_d_oakland-room-available-feb-14-in-ho...</td>\n",
       "      <td>1</td>\n",
       "      <td>5</td>\n",
       "      <td>NaN</td>\n",
       "    </tr>\n",
       "    <tr>\n",
       "      <th>1773</th>\n",
       "      <td>_eby_apa_d_oakland-the-broadway-bocce-ball-cou...</td>\n",
       "      <td>6817181527</td>\n",
       "      <td>3530</td>\n",
       "      <td>$3530 / 1br - 969ft2 - The Broadway! Bocce Bal...</td>\n",
       "      <td>\\r\\n            QR Code Link to This Post\\r\\n ...</td>\n",
       "      <td>37.820617</td>\n",
       "      <td>-122.261747</td>\n",
       "      <td>2019-02-11T15:30:12-0800</td>\n",
       "      <td>NaN</td>\n",
       "      <td>1BR / 1.5Ba</td>\n",
       "      <td>_eby_apa_d_oakland-the-broadway-bocce-ball-cou...</td>\n",
       "      <td>1</td>\n",
       "      <td>5</td>\n",
       "      <td>969.0</td>\n",
       "    </tr>\n",
       "    <tr>\n",
       "      <th>1897</th>\n",
       "      <td>_eby_apa_d_piedmont-very-upscale-fully-furnish...</td>\n",
       "      <td>6816183795</td>\n",
       "      <td>2875</td>\n",
       "      <td>$2875 / 1br - 1025ft2 - Very Upscale, Fully Fu...</td>\n",
       "      <td>\\r\\n            QR Code Link to This Post\\r\\n ...</td>\n",
       "      <td>37.825980</td>\n",
       "      <td>-122.218326</td>\n",
       "      <td>2019-02-10T11:30:18-0800</td>\n",
       "      <td>NaN</td>\n",
       "      <td>1BR / 1.5Ba</td>\n",
       "      <td>_eby_apa_d_piedmont-very-upscale-fully-furnish...</td>\n",
       "      <td>1</td>\n",
       "      <td>5</td>\n",
       "      <td>1025.0</td>\n",
       "    </tr>\n",
       "  </tbody>\n",
       "</table>\n",
       "</div>"
      ],
      "text/plain": [
       "                                             Unnamed: 0          id  price  \\\n",
       "76    _eby_apa_d_berkeley-1-bedroom-in-elmwood_68168...  6816800828   2750   \n",
       "175   _eby_apa_d_berkeley-art-studio-made-into-fabul...  6814940452   3000   \n",
       "451   _eby_apa_d_berkeley-panoramic-bay-sf-view-berk...  6793594896   4250   \n",
       "776   _eby_apa_d_emeryville-pacific-park-plaza-furni...  6816899256   3000   \n",
       "834   _eby_apa_d_emeryvillest-st-1-bed1-bath-green_6...  6800670419   2995   \n",
       "868   _eby_apa_d_oakland-1-bed-15-bath-duplex-in-oak...  6812610941   3000   \n",
       "1438  _eby_apa_d_oakland-luxury-one-bedroom-lake-vie...  6802803064   3995   \n",
       "1469  _eby_apa_d_oakland-new-1-month-free-free-parki...  6817177226   3405   \n",
       "1470  _eby_apa_d_oakland-new-1-month-free-free-parki...  6817840489   3405   \n",
       "1674  _eby_apa_d_oakland-room-available-feb-14-in-ho...  6817761878    555   \n",
       "1773  _eby_apa_d_oakland-the-broadway-bocce-ball-cou...  6817181527   3530   \n",
       "1897  _eby_apa_d_piedmont-very-upscale-fully-furnish...  6816183795   2875   \n",
       "\n",
       "                                                  title  \\\n",
       "76        $2750 / 1br - 1 Bedroom in Elmwood (berkeley)   \n",
       "175   $3000 / 1br - Art Studio Made Into Fabulous Li...   \n",
       "451   $4250 / 1br - 1800ft2 - Panoramic Bay & SF Vie...   \n",
       "776   $3000 / 1br - Pacific Park Plaza FURNISHED & r...   \n",
       "834   $2995 / 1br - 1007 41st St. 1 bed,1 bath, Gree...   \n",
       "868   $3000 / 1br - 1 Bed 1.5 Bath Duplex in Oakland...   \n",
       "1438  $3995 / 1br - 965ft2 - Luxury One Bedroom Lake...   \n",
       "1469  $3405 / 1br - 773ft2 - NEW! 1 Month Free + Fre...   \n",
       "1470  $3405 / 1br - 773ft2 - NEW! 1 Month Free + Fre...   \n",
       "1674  $555 / 1br - room available Feb 14 in house ne...   \n",
       "1773  $3530 / 1br - 969ft2 - The Broadway! Bocce Bal...   \n",
       "1897  $2875 / 1br - 1025ft2 - Very Upscale, Fully Fu...   \n",
       "\n",
       "                                                   body        lat  \\\n",
       "76    \\r\\n            QR Code Link to This Post\\r\\n ...  37.853726   \n",
       "175   \\r\\n            QR Code Link to This Post\\r\\n ...  37.860609   \n",
       "451   \\r\\n            QR Code Link to This Post\\r\\n ...  37.860760   \n",
       "776   \\r\\n            QR Code Link to This Post\\r\\n ...  37.838626   \n",
       "834   \\r\\n            QR Code Link to This Post\\r\\n ...  37.832133   \n",
       "868   \\r\\n            QR Code Link to This Post\\r\\n ...  37.782328   \n",
       "1438  \\r\\n            QR Code Link to This Post\\r\\n ...  37.798927   \n",
       "1469  \\r\\n            QR Code Link to This Post\\r\\n ...  37.820617   \n",
       "1470  \\r\\n            QR Code Link to This Post\\r\\n ...  37.820617   \n",
       "1674  \\r\\n            QR Code Link to This Post\\r\\n ...  37.827727   \n",
       "1773  \\r\\n            QR Code Link to This Post\\r\\n ...  37.820617   \n",
       "1897  \\r\\n            QR Code Link to This Post\\r\\n ...  37.825980   \n",
       "\n",
       "            long                    posted                   updated  \\\n",
       "76   -122.255580  2019-02-11T09:09:03-0800                       NaN   \n",
       "175  -122.235477  2019-02-08T15:13:45-0800                       NaN   \n",
       "451  -122.230153  2019-01-12T16:16:34-0800  2019-02-10T11:42:54-0800   \n",
       "776  -122.294780  2019-02-11T10:37:11-0800                       NaN   \n",
       "834  -122.277753  2019-01-21T15:40:54-0800  2019-02-11T11:45:38-0800   \n",
       "868  -122.192478  2019-02-05T18:07:00-0800                       NaN   \n",
       "1438 -122.259680  2019-01-24T09:25:39-0800  2019-02-12T09:51:07-0800   \n",
       "1469 -122.261747  2019-02-11T15:24:24-0800                       NaN   \n",
       "1470 -122.261747  2019-02-12T12:31:59-0800                       NaN   \n",
       "1674 -122.272180  2019-02-12T11:13:53-0800                       NaN   \n",
       "1773 -122.261747  2019-02-11T15:30:12-0800                       NaN   \n",
       "1897 -122.218326  2019-02-10T11:30:18-0800                       NaN   \n",
       "\n",
       "           header                                               file  \\\n",
       "76    1BR / 1.5Ba  _eby_apa_d_berkeley-1-bedroom-in-elmwood_68168...   \n",
       "175   1BR / 1.5Ba  _eby_apa_d_berkeley-art-studio-made-into-fabul...   \n",
       "451   1BR / 1.5Ba  _eby_apa_d_berkeley-panoramic-bay-sf-view-berk...   \n",
       "776   1BR / 1.5Ba  _eby_apa_d_emeryville-pacific-park-plaza-furni...   \n",
       "834   1BR / 1.5Ba  _eby_apa_d_emeryvillest-st-1-bed1-bath-green_6...   \n",
       "868   1BR / 1.5Ba  _eby_apa_d_oakland-1-bed-15-bath-duplex-in-oak...   \n",
       "1438  1BR / 1.5Ba  _eby_apa_d_oakland-luxury-one-bedroom-lake-vie...   \n",
       "1469  1BR / 1.5Ba  _eby_apa_d_oakland-new-1-month-free-free-parki...   \n",
       "1470  1BR / 1.5Ba  _eby_apa_d_oakland-new-1-month-free-free-parki...   \n",
       "1674  1BR / 1.5Ba  _eby_apa_d_oakland-room-available-feb-14-in-ho...   \n",
       "1773  1BR / 1.5Ba  _eby_apa_d_oakland-the-broadway-bocce-ball-cou...   \n",
       "1897  1BR / 1.5Ba  _eby_apa_d_piedmont-very-upscale-fully-furnish...   \n",
       "\n",
       "      bedrooms  bath    sqft  \n",
       "76           1     5   850.0  \n",
       "175          1     5     NaN  \n",
       "451          1     5  1800.0  \n",
       "776          1     5   768.0  \n",
       "834          1     5     NaN  \n",
       "868          1     5     NaN  \n",
       "1438         1     5   965.0  \n",
       "1469         1     5   773.0  \n",
       "1470         1     5   773.0  \n",
       "1674         1     5     NaN  \n",
       "1773         1     5   969.0  \n",
       "1897         1     5  1025.0  "
      ]
     },
     "execution_count": 385,
     "metadata": {},
     "output_type": "execute_result"
    }
   ],
   "source": [
    "df[(df['bath']==5) & (df['bedrooms']==1)]"
   ]
  },
  {
   "cell_type": "markdown",
   "metadata": {},
   "source": [
    "## We will use visualizations and aggregations to see some granularity\n"
   ]
  },
  {
   "cell_type": "markdown",
   "metadata": {},
   "source": [
    "### Numbers of Bedrooms and Bathrooms"
   ]
  },
  {
   "cell_type": "code",
   "execution_count": 386,
   "metadata": {},
   "outputs": [
    {
     "data": {
      "text/plain": [
       "<seaborn.axisgrid.FacetGrid at 0x244deb39ac0>"
      ]
     },
     "execution_count": 386,
     "metadata": {},
     "output_type": "execute_result"
    },
    {
     "data": {
      "image/png": "[encoded data removed]",
      "text/plain": [
       "<Figure size 511.111x500 with 1 Axes>"
      ]
     },
     "metadata": {},
     "output_type": "display_data"
    },
    {
     "data": {
      "image/png": "[encoded data removed]",
      "text/plain": [
       "<Figure size 511.111x500 with 1 Axes>"
      ]
     },
     "metadata": {},
     "output_type": "display_data"
    }
   ],
   "source": [
    "sns.catplot(x='bedrooms', kind='count', data=df)\n",
    "sns.catplot(x='bath', kind='count', data=df)"
   ]
  },
  {
   "cell_type": "markdown",
   "metadata": {},
   "source": [
    "### Task: Price vs. Number of Bedrooms, Number of Bathrooms, and Sqft\n",
    "What are the mean and median prices of properties grouped by the number of bedrooms, and how do these statistics change when further grouped by the number of bathrooms?"
   ]
  },
  {
   "cell_type": "code",
   "execution_count": 387,
   "metadata": {},
   "outputs": [],
   "source": [
    "## YOUR CODE HERE"
   ]
  },
  {
   "cell_type": "markdown",
   "metadata": {},
   "source": [
    "We can also use boxplots to gain some further insights into the distributions of price, number of bedrooms, number of bathrooms, and sqft. See examples below:"
   ]
  },
  {
   "cell_type": "code",
   "execution_count": 388,
   "metadata": {},
   "outputs": [
    {
     "data": {
      "image/png": "[encoded data removed]",
      "text/plain": [
       "<Figure size 640x480 with 1 Axes>"
      ]
     },
     "metadata": {},
     "output_type": "display_data"
    }
   ],
   "source": [
    "gr = sns.boxplot(x='bedrooms', y='price', data=df)\n"
   ]
  },
  {
   "cell_type": "code",
   "execution_count": 389,
   "metadata": {},
   "outputs": [
    {
     "data": {
      "text/plain": [
       "<Axes: xlabel='bath', ylabel='price'>"
      ]
     },
     "execution_count": 389,
     "metadata": {},
     "output_type": "execute_result"
    },
    {
     "data": {
      "image/png": "[encoded data removed]",
      "text/plain": [
       "<Figure size 640x480 with 1 Axes>"
      ]
     },
     "metadata": {},
     "output_type": "display_data"
    }
   ],
   "source": [
    "sns.boxplot(x='bath', y='price', data=df)"
   ]
  },
  {
   "cell_type": "markdown",
   "metadata": {},
   "source": [
    "## Task: What is the distribution of square footage (sqft) for different numbers of bedrooms in the dataset?"
   ]
  },
  {
   "cell_type": "code",
   "execution_count": 390,
   "metadata": {},
   "outputs": [],
   "source": [
    "## YOUR CODE HERE"
   ]
  },
  {
   "cell_type": "markdown",
   "metadata": {},
   "source": [
    "## Task: What insights can be gained regarding the relationship between the number of bathrooms (bath) and the square footage (sqft) of the apartments in the dataset?"
   ]
  },
  {
   "cell_type": "code",
   "execution_count": 391,
   "metadata": {},
   "outputs": [],
   "source": [
    "## YOUR CODE HERE"
   ]
  },
  {
   "cell_type": "markdown",
   "metadata": {},
   "source": [
    "## Task: How would you visualize the relationship between 'sqft' and 'price' in the dataset?"
   ]
  },
  {
   "cell_type": "code",
   "execution_count": 392,
   "metadata": {},
   "outputs": [],
   "source": [
    "## YOUR CODE HERE"
   ]
  },
  {
   "cell_type": "markdown",
   "metadata": {},
   "source": [
    "## How can you modify previous plot to display the relationship between 'sqft' and 'price' using a logarithmic scale for both axes?"
   ]
  },
  {
   "cell_type": "code",
   "execution_count": 393,
   "metadata": {},
   "outputs": [],
   "source": [
    "## YOUR CODE HERE"
   ]
  },
  {
   "cell_type": "markdown",
   "metadata": {},
   "source": [
    "## Task: How can you visualize the relationship between 'sqft' and 'price', while also incorporating 'bedrooms' and 'bath' in the plot?"
   ]
  },
  {
   "cell_type": "code",
   "execution_count": 394,
   "metadata": {},
   "outputs": [],
   "source": [
    "### YOUR CODE HERE"
   ]
  },
  {
   "cell_type": "markdown",
   "metadata": {},
   "source": [
    "## Spatial Granularity: Location"
   ]
  },
  {
   "cell_type": "markdown",
   "metadata": {},
   "source": [
    "## Task: What is the relationship between the longitude, price and the number of bedrooms in a property ?"
   ]
  },
  {
   "cell_type": "code",
   "execution_count": 395,
   "metadata": {},
   "outputs": [],
   "source": [
    "## YOUR CODE HERE"
   ]
  },
  {
   "cell_type": "markdown",
   "metadata": {},
   "source": [
    "## Task: What is the relationship between the latitude, price and the number of bedrooms in a property ?"
   ]
  },
  {
   "cell_type": "code",
   "execution_count": 396,
   "metadata": {},
   "outputs": [],
   "source": [
    "## YOUR CODE HERE"
   ]
  },
  {
   "cell_type": "markdown",
   "metadata": {},
   "source": [
    "## Temporal Granularity "
   ]
  },
  {
   "cell_type": "markdown",
   "metadata": {},
   "source": [
    "### Task: How many rental adds are posted every day, week and month? "
   ]
  },
  {
   "cell_type": "code",
   "execution_count": 397,
   "metadata": {},
   "outputs": [],
   "source": [
    "## YOUR CODE HERE"
   ]
  },
  {
   "cell_type": "markdown",
   "metadata": {},
   "source": [
    "# Regular Expressions \n",
    "Regular Expressions play a significant role in EDA by providing a powerful tool for searching, manipulating, and analyzing text data"
   ]
  },
  {
   "cell_type": "markdown",
   "metadata": {},
   "source": [
    "### Example: Extract Social Security Number "
   ]
  },
  {
   "cell_type": "code",
   "execution_count": 398,
   "metadata": {},
   "outputs": [
    {
     "name": "stdout",
     "output_type": "stream",
     "text": [
      "20230918-1234\n"
     ]
    }
   ],
   "source": [
    "import re \n",
    "pattern = r'[0-9]{8}-[0-9]{4}'\n",
    "text = 'My social number is 20230918-1234'\n",
    "matches = re.findall(pattern, text)\n",
    "for match in matches:\n",
    "    print(match)"
   ]
  },
  {
   "cell_type": "markdown",
   "metadata": {},
   "source": [
    "## Task: Write a function with a regex for validating a date with YYYY-MMM-DD format "
   ]
  },
  {
   "cell_type": "code",
   "execution_count": 399,
   "metadata": {},
   "outputs": [],
   "source": [
    "def validate_date(date_string):\n",
    "    pattern = \"YOUR PATTERN HERE\"\n",
    "    if re.match(pattern, date_string):\n",
    "        return True\n",
    "    else:\n",
    "        return False"
   ]
  },
  {
   "cell_type": "code",
   "execution_count": 400,
   "metadata": {},
   "outputs": [
    {
     "name": "stdout",
     "output_type": "stream",
     "text": [
      "False\n"
     ]
    }
   ],
   "source": [
    "date_string = '2023-03-39'\n",
    "print(validate_date(date_string))"
   ]
  },
  {
   "cell_type": "code",
   "execution_count": null,
   "metadata": {},
   "outputs": [],
   "source": []
  }
 ],
 "metadata": {
  "kernelspec": {
   "display_name": "Python 3 (ipykernel)",
   "language": "python",
   "name": "python3"
  },
  "language_info": {
   "codemirror_mode": {
    "name": "ipython",
    "version": 3
   },
   "file_extension": ".py",
   "mimetype": "text/x-python",
   "name": "python",
   "nbconvert_exporter": "python",
   "pygments_lexer": "ipython3",
   "version": "3.12.6"
  }
 },
 "nbformat": 4,
 "nbformat_minor": 2
}
