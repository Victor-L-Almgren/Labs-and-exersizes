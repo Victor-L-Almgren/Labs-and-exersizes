{
 "cells": [
  {
   "cell_type": "markdown",
   "metadata": {},
   "source": [
    "# Course Code: DS4003 \n",
    "# Course Name: Principles and Techniques for Data Science \n",
    "# Lab Session: 03 - Exploratory Data Analysis\n",
    "\n",
    "### Some contents of the lab are adapted from UC Berkeley's Data100 course. In this lab, we'll go through a series of EDA tasks on a rental dataset."
   ]
  },
  {
   "cell_type": "markdown",
   "metadata": {},
   "source": [
    "## From the Lecutre\n",
    "\n",
    "### Key Task in EDA\n",
    "1. **Data Understanding** \n",
    "2. **Data Cleaning** \n",
    "3. **Pattern Recognition** \n",
    "4. Hypothesis Generation \n",
    "5. Feature Selection \n",
    "6. Feature Engineering \n",
    "\n",
    "### Goals of EDA\n",
    "#### We determine: \n",
    "1. **Data Types**: What kinds of data do we have?\n",
    "2. **Granuality**: How is the resolution of data?\n",
    "3. **Scope**: How (in)complete are the data?\n",
    "4. **Temporality**: How are the data situated in time? \n",
    "5. **Faithfulness**:How accurately do the data describe the world?\n"
   ]
  },
  {
   "cell_type": "markdown",
   "metadata": {},
   "source": [
    "### Some important Imports "
   ]
  },
  {
   "cell_type": "code",
   "execution_count": 1,
   "metadata": {},
   "outputs": [],
   "source": [
    "import numpy as np\n",
    "import pandas as pd\n",
    "import seaborn as sns\n",
    "import os\n",
    "import warnings \n",
    "warnings.simplefilter('ignore')\n",
    "%matplotlib inline"
   ]
  },
  {
   "cell_type": "markdown",
   "metadata": {},
   "source": [
    "You are given a dataset  containing rental listings data scraped from Craigslist. Craigslist is a popular onlin advertising website."
   ]
  },
  {
   "cell_type": "markdown",
   "metadata": {},
   "source": [
    "## Read in Data and Compute Basic Summary Statistics"
   ]
  },
  {
   "cell_type": "code",
   "execution_count": 2,
   "metadata": {
    "scrolled": false
   },
   "outputs": [
    {
     "data": {
      "text/html": [
       "<div>\n",
       "<style scoped>\n",
       "    .dataframe tbody tr th:only-of-type {\n",
       "        vertical-align: middle;\n",
       "    }\n",
       "\n",
       "    .dataframe tbody tr th {\n",
       "        vertical-align: top;\n",
       "    }\n",
       "\n",
       "    .dataframe thead th {\n",
       "        text-align: right;\n",
       "    }\n",
       "</style>\n",
       "<table border=\"1\" class=\"dataframe\">\n",
       "  <thead>\n",
       "    <tr style=\"text-align: right;\">\n",
       "      <th></th>\n",
       "      <th>Unnamed: 0</th>\n",
       "      <th>id</th>\n",
       "      <th>price</th>\n",
       "      <th>title</th>\n",
       "      <th>body</th>\n",
       "      <th>lat</th>\n",
       "      <th>long</th>\n",
       "      <th>posted</th>\n",
       "      <th>updated</th>\n",
       "      <th>header</th>\n",
       "      <th>file</th>\n",
       "      <th>bedrooms</th>\n",
       "      <th>bath</th>\n",
       "      <th>sqft</th>\n",
       "    </tr>\n",
       "  </thead>\n",
       "  <tbody>\n",
       "    <tr>\n",
       "      <th>0</th>\n",
       "      <td>_eby_apa_d_1-2-mth-free-unfurnished-modern-3bd...</td>\n",
       "      <td>6809166875</td>\n",
       "      <td>6500</td>\n",
       "      <td>$6500 / 3br - 1900ft2 - 1/2 MTH FREE! Unfurnis...</td>\n",
       "      <td>\\r\\n            QR Code Link to This Post\\r\\n ...</td>\n",
       "      <td>37.894549</td>\n",
       "      <td>-122.263756</td>\n",
       "      <td>2019-02-01T09:54:18-0800</td>\n",
       "      <td>2019-02-05T06:50:49-0800</td>\n",
       "      <td>3BR / 3Ba</td>\n",
       "      <td>_eby_apa_d_1-2-mth-free-unfurnished-modern-3bd...</td>\n",
       "      <td>3</td>\n",
       "      <td>3</td>\n",
       "      <td>1900.0</td>\n",
       "    </tr>\n",
       "    <tr>\n",
       "      <th>1</th>\n",
       "      <td>_eby_apa_d_1-bedroom-pet-friendly-building-146...</td>\n",
       "      <td>6817699544</td>\n",
       "      <td>1795</td>\n",
       "      <td>$1795 / 1br - 1 bedroom Pet-friendly Building!...</td>\n",
       "      <td>\\r\\n            QR Code Link to This Post\\r\\n ...</td>\n",
       "      <td>37.803334</td>\n",
       "      <td>-122.266724</td>\n",
       "      <td>2019-02-12T10:14:49-0800</td>\n",
       "      <td>2019-02-12T10:14:50-0800</td>\n",
       "      <td>1BR / 1Ba</td>\n",
       "      <td>_eby_apa_d_1-bedroom-pet-friendly-building-146...</td>\n",
       "      <td>1</td>\n",
       "      <td>1</td>\n",
       "      <td>NaN</td>\n",
       "    </tr>\n",
       "    <tr>\n",
       "      <th>2</th>\n",
       "      <td>_eby_apa_d_1-bedroom-pet-friendly-building-146...</td>\n",
       "      <td>6817715072</td>\n",
       "      <td>1995</td>\n",
       "      <td>$1995 / 1br - 1 bedroom Pet-friendly Building!...</td>\n",
       "      <td>\\r\\n            QR Code Link to This Post\\r\\n ...</td>\n",
       "      <td>37.803334</td>\n",
       "      <td>-122.266724</td>\n",
       "      <td>2019-02-12T10:29:31-0800</td>\n",
       "      <td>2019-02-12T10:35:29-0800</td>\n",
       "      <td>1BR / 1Ba</td>\n",
       "      <td>_eby_apa_d_1-bedroom-pet-friendly-building-146...</td>\n",
       "      <td>1</td>\n",
       "      <td>1</td>\n",
       "      <td>NaN</td>\n",
       "    </tr>\n",
       "    <tr>\n",
       "      <th>3</th>\n",
       "      <td>_eby_apa_d_1-br-1-ba-berkeley-available-now_68...</td>\n",
       "      <td>6817370571</td>\n",
       "      <td>2200</td>\n",
       "      <td>$2200 / 1br - 1 BR / 1 BA Berkeley, Available ...</td>\n",
       "      <td>\\r\\n            QR Code Link to This Post\\r\\n ...</td>\n",
       "      <td>37.857026</td>\n",
       "      <td>-122.280080</td>\n",
       "      <td>2019-02-11T22:20:53-0800</td>\n",
       "      <td>2019-02-12T15:28:04-0800</td>\n",
       "      <td>1BR / 1Ba</td>\n",
       "      <td>_eby_apa_d_1-br-1-ba-berkeley-available-now_68...</td>\n",
       "      <td>1</td>\n",
       "      <td>1</td>\n",
       "      <td>NaN</td>\n",
       "    </tr>\n",
       "    <tr>\n",
       "      <th>4</th>\n",
       "      <td>_eby_apa_d_1-br-with-parking-near-downtown_681...</td>\n",
       "      <td>6814999655</td>\n",
       "      <td>1950</td>\n",
       "      <td>$1950 / 1br - 500ft2 - 1 br with parking near ...</td>\n",
       "      <td>\\r\\n            QR Code Link to This Post\\r\\n ...</td>\n",
       "      <td>37.866400</td>\n",
       "      <td>-122.257000</td>\n",
       "      <td>2019-02-08T16:37:38-0800</td>\n",
       "      <td>NaN</td>\n",
       "      <td>1BR / 1Ba</td>\n",
       "      <td>_eby_apa_d_1-br-with-parking-near-downtown_681...</td>\n",
       "      <td>1</td>\n",
       "      <td>1</td>\n",
       "      <td>500.0</td>\n",
       "    </tr>\n",
       "  </tbody>\n",
       "</table>\n",
       "</div>"
      ],
      "text/plain": [
       "                                          Unnamed: 0          id  price  \\\n",
       "0  _eby_apa_d_1-2-mth-free-unfurnished-modern-3bd...  6809166875   6500   \n",
       "1  _eby_apa_d_1-bedroom-pet-friendly-building-146...  6817699544   1795   \n",
       "2  _eby_apa_d_1-bedroom-pet-friendly-building-146...  6817715072   1995   \n",
       "3  _eby_apa_d_1-br-1-ba-berkeley-available-now_68...  6817370571   2200   \n",
       "4  _eby_apa_d_1-br-with-parking-near-downtown_681...  6814999655   1950   \n",
       "\n",
       "                                               title  \\\n",
       "0  $6500 / 3br - 1900ft2 - 1/2 MTH FREE! Unfurnis...   \n",
       "1  $1795 / 1br - 1 bedroom Pet-friendly Building!...   \n",
       "2  $1995 / 1br - 1 bedroom Pet-friendly Building!...   \n",
       "3  $2200 / 1br - 1 BR / 1 BA Berkeley, Available ...   \n",
       "4  $1950 / 1br - 500ft2 - 1 br with parking near ...   \n",
       "\n",
       "                                                body        lat        long  \\\n",
       "0  \\r\\n            QR Code Link to This Post\\r\\n ...  37.894549 -122.263756   \n",
       "1  \\r\\n            QR Code Link to This Post\\r\\n ...  37.803334 -122.266724   \n",
       "2  \\r\\n            QR Code Link to This Post\\r\\n ...  37.803334 -122.266724   \n",
       "3  \\r\\n            QR Code Link to This Post\\r\\n ...  37.857026 -122.280080   \n",
       "4  \\r\\n            QR Code Link to This Post\\r\\n ...  37.866400 -122.257000   \n",
       "\n",
       "                     posted                   updated     header  \\\n",
       "0  2019-02-01T09:54:18-0800  2019-02-05T06:50:49-0800  3BR / 3Ba   \n",
       "1  2019-02-12T10:14:49-0800  2019-02-12T10:14:50-0800  1BR / 1Ba   \n",
       "2  2019-02-12T10:29:31-0800  2019-02-12T10:35:29-0800  1BR / 1Ba   \n",
       "3  2019-02-11T22:20:53-0800  2019-02-12T15:28:04-0800  1BR / 1Ba   \n",
       "4  2019-02-08T16:37:38-0800                       NaN  1BR / 1Ba   \n",
       "\n",
       "                                                file  bedrooms  bath    sqft  \n",
       "0  _eby_apa_d_1-2-mth-free-unfurnished-modern-3bd...         3     3  1900.0  \n",
       "1  _eby_apa_d_1-bedroom-pet-friendly-building-146...         1     1     NaN  \n",
       "2  _eby_apa_d_1-bedroom-pet-friendly-building-146...         1     1     NaN  \n",
       "3  _eby_apa_d_1-br-1-ba-berkeley-available-now_68...         1     1     NaN  \n",
       "4  _eby_apa_d_1-br-with-parking-near-downtown_681...         1     1   500.0  "
      ]
     },
     "execution_count": 2,
     "metadata": {},
     "output_type": "execute_result"
    }
   ],
   "source": [
    "df = pd.read_csv(\"craiglist_rental.csv\")\n",
    "df.head()"
   ]
  },
  {
   "cell_type": "markdown",
   "metadata": {},
   "source": [
    "## Task: Find out what types of data we have in the dataset.\n"
   ]
  },
  {
   "cell_type": "code",
   "execution_count": 3,
   "metadata": {},
   "outputs": [],
   "source": [
    "## YOUR CODE"
   ]
  },
  {
   "cell_type": "markdown",
   "metadata": {},
   "source": [
    "## The column ```Unnamed: 0```\n",
    "What is in it? "
   ]
  },
  {
   "cell_type": "code",
   "execution_count": 4,
   "metadata": {},
   "outputs": [
    {
     "name": "stdout",
     "output_type": "stream",
     "text": [
      "_eby_apa_d_1-2-mth-free-unfurnished-modern-3bd_6809166875.html\n"
     ]
    }
   ],
   "source": [
    "item = df.iloc[0]\n",
    "print(item[\"Unnamed: 0\"])"
   ]
  },
  {
   "cell_type": "markdown",
   "metadata": {},
   "source": [
    "It does contains the html file name published in craiglist. Like ID, this column will have unique values. \n",
    "So, we move this column from regular column to index. "
   ]
  },
  {
   "cell_type": "code",
   "execution_count": 5,
   "metadata": {},
   "outputs": [
    {
     "name": "stdout",
     "output_type": "stream",
     "text": [
      "Index(['_eby_apa_d_1-2-mth-free-unfurnished-modern-3bd_6809166875.html',\n",
      "       '_eby_apa_d_1-bedroom-pet-friendly-building-1461_6817699544.html',\n",
      "       '_eby_apa_d_1-bedroom-pet-friendly-building-1461_6817715072.html',\n",
      "       '_eby_apa_d_1-br-1-ba-berkeley-available-now_6817370571.html',\n",
      "       '_eby_apa_d_1-br-with-parking-near-downtown_6814999655.html',\n",
      "       '_eby_apa_d_1-mth-free-unfurnished-modern-3bd-3bth_6814991144.html',\n",
      "       '_eby_apa_d_1ba-spacious-apt-in-great-area-private_6807929183.html',\n",
      "       '_eby_apa_d_2-bed-2-bath-in-great-location-dont_6813099037.html',\n",
      "       '_eby_apa_d_2-bed-2-bath-new-remodel-on-temescal_6817697003.html',\n",
      "       '_eby_apa_d_2-bed-2ba-15-garage-nice-east-bay-condo_6817221879.html',\n",
      "       ...\n",
      "       '_eby_apa_d_vallejo-2bd-2ba-controlled-access_6812543832.html',\n",
      "       '_eby_apa_d_vallejo-2bd-2ba-dishwasher-located-in_6814678180.html',\n",
      "       '_eby_apa_d_vallejo-balconies-patios-or-decks_6817254026.html',\n",
      "       '_eby_apa_d_vallejo-book-your-tour-todayone-month_6817580499.html',\n",
      "       '_eby_apa_d_vallejo-business-center-upgraded_6812542069.html',\n",
      "       '_eby_apa_d_vallejo-dishwasher-carpeted-floors-c_6813927632.html',\n",
      "       '_eby_apa_d_vallejo-flexible-lease-terms-available_6813930501.html',\n",
      "       '_eby_apa_d_vallejo-located-in-vallejo-2b-2b-pool_6818003360.html',\n",
      "       '_eby_apa_d_vallejo-spacious-2bed-2bath-ask-about_6812269025.html',\n",
      "       '_eby_apa_d_very-spacious-1br-near-bart-uc-bus_6804794978.html'],\n",
      "      dtype='object', name='Unnamed: 0', length=2139)\n"
     ]
    }
   ],
   "source": [
    "df.index = df['Unnamed: 0']\n",
    "df = df.drop(columns = 'Unnamed: 0')\n",
    "df.head()\n",
    "print(df.index)"
   ]
  },
  {
   "cell_type": "markdown",
   "metadata": {},
   "source": [
    "## Task: Use pandas functions to geta. statistical summary of the dataset."
   ]
  },
  {
   "cell_type": "markdown",
   "metadata": {},
   "source": [
    "### Let's find the amount of NaN values in our dataset."
   ]
  },
  {
   "cell_type": "code",
   "execution_count": 6,
   "metadata": {},
   "outputs": [
    {
     "data": {
      "text/plain": [
       "id             0\n",
       "price          0\n",
       "title          0\n",
       "body           0\n",
       "lat            4\n",
       "long           4\n",
       "posted         0\n",
       "updated     1039\n",
       "header         0\n",
       "file           0\n",
       "bedrooms       0\n",
       "bath           0\n",
       "sqft         740\n",
       "dtype: int64"
      ]
     },
     "execution_count": 6,
     "metadata": {},
     "output_type": "execute_result"
    }
   ],
   "source": [
    "df.isnull().sum()"
   ]
  },
  {
   "cell_type": "markdown",
   "metadata": {},
   "source": [
    "Based on what we see above, we will need to handle the missing data in some columns."
   ]
  },
  {
   "cell_type": "markdown",
   "metadata": {},
   "source": [
    "## Task: Complete the following Functions "
   ]
  },
  {
   "cell_type": "code",
   "execution_count": 7,
   "metadata": {},
   "outputs": [],
   "source": [
    "from datetime import datetime,  timedelta\n",
    "def str_to_date_time(date_string): \n",
    "    # convert the string to a datetime object \n",
    "  \n",
    "    return NotImplemented"
   ]
  },
  {
   "cell_type": "code",
   "execution_count": 8,
   "metadata": {},
   "outputs": [],
   "source": [
    "def add_day(dt_object, day=1): \n",
    "    # add the day with the dt object \n",
    "    return NotImplemented"
   ]
  },
  {
   "cell_type": "code",
   "execution_count": 9,
   "metadata": {},
   "outputs": [
    {
     "name": "stdout",
     "output_type": "stream",
     "text": [
      "2019-02-01T09:54:18-0800\n"
     ]
    }
   ],
   "source": [
    "# format of date time in the data frame\n",
    "item = df.iloc[0]\n",
    "print(item['posted'])"
   ]
  },
  {
   "cell_type": "code",
   "execution_count": 10,
   "metadata": {},
   "outputs": [],
   "source": [
    "def date_time_to_str(dt_object): \n",
    "    # convert the datetime object to string of the given format e.g., 2019-02-01T09:54:18-0800\n",
    "    return NotImplemented"
   ]
  },
  {
   "cell_type": "markdown",
   "metadata": {},
   "source": [
    "## Now we use the above defined function to insert fake updates since the update column has few actual entries"
   ]
  },
  {
   "cell_type": "code",
   "execution_count": 11,
   "metadata": {},
   "outputs": [],
   "source": [
    "indices = np.random.choice(df.shape[0], replace=False, size=(50,) )\n",
    "df.reset_index(inplace=True)\n",
    "rows = list() \n",
    "for i in indices: \n",
    "    idata = df.iloc[i].copy() \n",
    "    updated = idata['updated']\n",
    "    if (type(updated) == str and updated is not None) or (type(updated) == float and  not np.isnan(updated)): \n",
    "        dt_obj = str_to_date_time(updated)\n",
    "        dt_obj = add_day(dt_obj)\n",
    "        date_str = date_time_to_str(dt_obj)\n",
    "        idata['updated'] = date_str \n",
    "        idata['Unnamed: 0'] = str(idata['Unnamed: 0']) + str(i)\n",
    "        rows.append(idata)\n",
    "    \n",
    "frame = pd.DataFrame(rows)\n",
    "frame.head()\n",
    "df = pd.concat([df, frame])"
   ]
  },
  {
   "cell_type": "code",
   "execution_count": 12,
   "metadata": {},
   "outputs": [
    {
     "name": "stdout",
     "output_type": "stream",
     "text": [
      "Total Number of entry: 2170\n",
      "Total Number of unique id: 2139\n"
     ]
    }
   ],
   "source": [
    "print(f'Total Number of entry: {df.shape[0]}')\n",
    "print(f\"Total Number of unique id: {len(pd.unique(df['id'].values))}\")"
   ]
  },
  {
   "cell_type": "code",
   "execution_count": null,
   "metadata": {},
   "outputs": [],
   "source": [
    "(df\n",
    "   .sort_values('updated', ascending=False)\n",
    "   .groupby('id', as_index=False)\n",
    "   .first()\n",
    "   .set_index('Unnamed: 0')\n",
    ")"
   ]
  },
  {
   "cell_type": "markdown",
   "metadata": {},
   "source": [
    "## Task: Use an appropriate approach to handle the missing data in the column 'sqft'"
   ]
  },
  {
   "cell_type": "code",
   "execution_count": null,
   "metadata": {},
   "outputs": [],
   "source": [
    "### YOUR CODE HERE"
   ]
  },
  {
   "cell_type": "markdown",
   "metadata": {},
   "source": [
    "## Task: Ensure the columns with date and time to a datetime format"
   ]
  },
  {
   "cell_type": "code",
   "execution_count": null,
   "metadata": {},
   "outputs": [],
   "source": [
    "### YOUR CODE HERE"
   ]
  },
  {
   "cell_type": "markdown",
   "metadata": {},
   "source": [
    "## Task: Remove Multiple Listings with Same ID\n",
    "If there are multiple listings with the same ID, keep the listing updated most recently."
   ]
  },
  {
   "cell_type": "code",
   "execution_count": null,
   "metadata": {},
   "outputs": [],
   "source": [
    "### YOUR CODE HERE"
   ]
  },
  {
   "cell_type": "markdown",
   "metadata": {},
   "source": [
    "### Outliers: Square footage"
   ]
  },
  {
   "cell_type": "code",
   "execution_count": 14,
   "metadata": {
    "scrolled": true
   },
   "outputs": [
    {
     "data": {
      "text/plain": [
       "count     1413.000000\n",
       "mean      1046.368011\n",
       "std       2540.610916\n",
       "min          1.000000\n",
       "25%        700.000000\n",
       "50%        850.000000\n",
       "75%       1123.000000\n",
       "max      94602.000000\n",
       "Name: sqft, dtype: float64"
      ]
     },
     "execution_count": 14,
     "metadata": {},
     "output_type": "execute_result"
    }
   ],
   "source": [
    "df['sqft'].describe()"
   ]
  },
  {
   "cell_type": "code",
   "execution_count": 15,
   "metadata": {},
   "outputs": [
    {
     "data": {
      "text/plain": [
       "757"
      ]
     },
     "execution_count": 15,
     "metadata": {},
     "output_type": "execute_result"
    }
   ],
   "source": [
    "df['sqft'].isnull().sum()"
   ]
  },
  {
   "cell_type": "code",
   "execution_count": 16,
   "metadata": {},
   "outputs": [
    {
     "data": {
      "text/plain": [
       "1507      1.0\n",
       "1520     90.0\n",
       "300     100.0\n",
       "2027    101.0\n",
       "483     135.0\n",
       "Name: sqft, dtype: float64"
      ]
     },
     "execution_count": 16,
     "metadata": {},
     "output_type": "execute_result"
    }
   ],
   "source": [
    "df['sqft'].sort_values().head()"
   ]
  },
  {
   "cell_type": "code",
   "execution_count": 17,
   "metadata": {},
   "outputs": [
    {
     "data": {
      "text/plain": [
       "1375    94602.0\n",
       "1152    10000.0\n",
       "1819     4800.0\n",
       "1531     4060.0\n",
       "1882     3200.0\n",
       "Name: sqft, dtype: float64"
      ]
     },
     "execution_count": 17,
     "metadata": {},
     "output_type": "execute_result"
    }
   ],
   "source": [
    "df['sqft'].sort_values(ascending=False).head()"
   ]
  },
  {
   "cell_type": "markdown",
   "metadata": {},
   "source": [
    "## Task: Remove unusual apartment sizes\n",
    "Find out the indices of apartments which are smaller than 100 sqft or larger than 5000 sqft. Drop the corresponding indices\n"
   ]
  },
  {
   "cell_type": "code",
   "execution_count": 18,
   "metadata": {
    "scrolled": true
   },
   "outputs": [],
   "source": [
    "## YOUR CODE HERE\n"
   ]
  },
  {
   "cell_type": "markdown",
   "metadata": {},
   "source": [
    "### Outliers: Latitude and Longitude\n",
    "\n",
    "UC Berkeley's latitude is 37.871853 and longitude -122.258423. \n",
    "\n",
    "There are a few outlying units in terms of latitude or longitude.\n",
    "\n",
    "Examine and discard listings with latitude or longitude beyond 0.3 of UC Berkeley.   \n",
    "\n"
   ]
  },
  {
   "cell_type": "code",
   "execution_count": 19,
   "metadata": {},
   "outputs": [],
   "source": [
    "lg = -122.258423\n",
    "lt = 37.871853"
   ]
  },
  {
   "cell_type": "code",
   "execution_count": 20,
   "metadata": {},
   "outputs": [
    {
     "data": {
      "text/html": [
       "<div>\n",
       "<style scoped>\n",
       "    .dataframe tbody tr th:only-of-type {\n",
       "        vertical-align: middle;\n",
       "    }\n",
       "\n",
       "    .dataframe tbody tr th {\n",
       "        vertical-align: top;\n",
       "    }\n",
       "\n",
       "    .dataframe thead th {\n",
       "        text-align: right;\n",
       "    }\n",
       "</style>\n",
       "<table border=\"1\" class=\"dataframe\">\n",
       "  <thead>\n",
       "    <tr style=\"text-align: right;\">\n",
       "      <th></th>\n",
       "      <th>long</th>\n",
       "      <th>lat</th>\n",
       "    </tr>\n",
       "  </thead>\n",
       "  <tbody>\n",
       "    <tr>\n",
       "      <th>count</th>\n",
       "      <td>2166.000000</td>\n",
       "      <td>2166.000000</td>\n",
       "    </tr>\n",
       "    <tr>\n",
       "      <th>mean</th>\n",
       "      <td>-122.252535</td>\n",
       "      <td>37.841910</td>\n",
       "    </tr>\n",
       "    <tr>\n",
       "      <th>std</th>\n",
       "      <td>0.564630</td>\n",
       "      <td>0.120752</td>\n",
       "    </tr>\n",
       "    <tr>\n",
       "      <th>min</th>\n",
       "      <td>-122.481502</td>\n",
       "      <td>32.892980</td>\n",
       "    </tr>\n",
       "    <tr>\n",
       "      <th>25%</th>\n",
       "      <td>-122.285100</td>\n",
       "      <td>37.808500</td>\n",
       "    </tr>\n",
       "    <tr>\n",
       "      <th>50%</th>\n",
       "      <td>-122.266572</td>\n",
       "      <td>37.834643</td>\n",
       "    </tr>\n",
       "    <tr>\n",
       "      <th>75%</th>\n",
       "      <td>-122.250924</td>\n",
       "      <td>37.867726</td>\n",
       "    </tr>\n",
       "    <tr>\n",
       "      <th>max</th>\n",
       "      <td>-96.076540</td>\n",
       "      <td>38.129373</td>\n",
       "    </tr>\n",
       "  </tbody>\n",
       "</table>\n",
       "</div>"
      ],
      "text/plain": [
       "              long          lat\n",
       "count  2166.000000  2166.000000\n",
       "mean   -122.252535    37.841910\n",
       "std       0.564630     0.120752\n",
       "min    -122.481502    32.892980\n",
       "25%    -122.285100    37.808500\n",
       "50%    -122.266572    37.834643\n",
       "75%    -122.250924    37.867726\n",
       "max     -96.076540    38.129373"
      ]
     },
     "execution_count": 20,
     "metadata": {},
     "output_type": "execute_result"
    }
   ],
   "source": [
    "df[['long','lat']].describe()"
   ]
  },
  {
   "cell_type": "markdown",
   "metadata": {},
   "source": [
    "## Task: Remove far off apartments\n",
    "Use the code for finding apartment indices to get listings with with latitude or longitude beyond 0.3 of UC Berkeley coordinates.\n"
   ]
  },
  {
   "cell_type": "code",
   "execution_count": 36,
   "metadata": {
    "scrolled": false
   },
   "outputs": [],
   "source": [
    "## YOUR CODE HERE"
   ]
  },
  {
   "cell_type": "markdown",
   "metadata": {},
   "source": [
    "## Task: Inspection of units recorded as having 5 bathrooms but only 1 bedroom reveals a likely error in the data: These units actually have 1.5 bathrooms. Find a way to fix this this the dataset."
   ]
  },
  {
   "cell_type": "code",
   "execution_count": 22,
   "metadata": {
    "scrolled": true
   },
   "outputs": [
    {
     "data": {
      "text/html": [
       "<div>\n",
       "<style scoped>\n",
       "    .dataframe tbody tr th:only-of-type {\n",
       "        vertical-align: middle;\n",
       "    }\n",
       "\n",
       "    .dataframe tbody tr th {\n",
       "        vertical-align: top;\n",
       "    }\n",
       "\n",
       "    .dataframe thead th {\n",
       "        text-align: right;\n",
       "    }\n",
       "</style>\n",
       "<table border=\"1\" class=\"dataframe\">\n",
       "  <thead>\n",
       "    <tr style=\"text-align: right;\">\n",
       "      <th></th>\n",
       "      <th>Unnamed: 0</th>\n",
       "      <th>id</th>\n",
       "      <th>price</th>\n",
       "      <th>title</th>\n",
       "      <th>body</th>\n",
       "      <th>lat</th>\n",
       "      <th>long</th>\n",
       "      <th>posted</th>\n",
       "      <th>updated</th>\n",
       "      <th>header</th>\n",
       "      <th>file</th>\n",
       "      <th>bedrooms</th>\n",
       "      <th>bath</th>\n",
       "      <th>sqft</th>\n",
       "    </tr>\n",
       "  </thead>\n",
       "  <tbody>\n",
       "    <tr>\n",
       "      <th>76</th>\n",
       "      <td>_eby_apa_d_berkeley-1-bedroom-in-elmwood_68168...</td>\n",
       "      <td>6816800828</td>\n",
       "      <td>2750</td>\n",
       "      <td>$2750 / 1br - 1 Bedroom in Elmwood (berkeley)</td>\n",
       "      <td>\\r\\n            QR Code Link to This Post\\r\\n ...</td>\n",
       "      <td>37.853726</td>\n",
       "      <td>-122.255580</td>\n",
       "      <td>2019-02-11T09:09:03-0800</td>\n",
       "      <td>NaN</td>\n",
       "      <td>1BR / 1.5Ba</td>\n",
       "      <td>_eby_apa_d_berkeley-1-bedroom-in-elmwood_68168...</td>\n",
       "      <td>1</td>\n",
       "      <td>5</td>\n",
       "      <td>850.0</td>\n",
       "    </tr>\n",
       "    <tr>\n",
       "      <th>175</th>\n",
       "      <td>_eby_apa_d_berkeley-art-studio-made-into-fabul...</td>\n",
       "      <td>6814940452</td>\n",
       "      <td>3000</td>\n",
       "      <td>$3000 / 1br - Art Studio Made Into Fabulous Li...</td>\n",
       "      <td>\\r\\n            QR Code Link to This Post\\r\\n ...</td>\n",
       "      <td>37.860609</td>\n",
       "      <td>-122.235477</td>\n",
       "      <td>2019-02-08T15:13:45-0800</td>\n",
       "      <td>NaN</td>\n",
       "      <td>1BR / 1.5Ba</td>\n",
       "      <td>_eby_apa_d_berkeley-art-studio-made-into-fabul...</td>\n",
       "      <td>1</td>\n",
       "      <td>5</td>\n",
       "      <td>NaN</td>\n",
       "    </tr>\n",
       "    <tr>\n",
       "      <th>451</th>\n",
       "      <td>_eby_apa_d_berkeley-panoramic-bay-sf-view-berk...</td>\n",
       "      <td>6793594896</td>\n",
       "      <td>4250</td>\n",
       "      <td>$4250 / 1br - 1800ft2 - Panoramic Bay &amp; SF Vie...</td>\n",
       "      <td>\\r\\n            QR Code Link to This Post\\r\\n ...</td>\n",
       "      <td>37.860760</td>\n",
       "      <td>-122.230153</td>\n",
       "      <td>2019-01-12T16:16:34-0800</td>\n",
       "      <td>2019-02-10T11:42:54-0800</td>\n",
       "      <td>1BR / 1.5Ba</td>\n",
       "      <td>_eby_apa_d_berkeley-panoramic-bay-sf-view-berk...</td>\n",
       "      <td>1</td>\n",
       "      <td>5</td>\n",
       "      <td>1800.0</td>\n",
       "    </tr>\n",
       "    <tr>\n",
       "      <th>776</th>\n",
       "      <td>_eby_apa_d_emeryville-pacific-park-plaza-furni...</td>\n",
       "      <td>6816899256</td>\n",
       "      <td>3000</td>\n",
       "      <td>$3000 / 1br - Pacific Park Plaza FURNISHED &amp; r...</td>\n",
       "      <td>\\r\\n            QR Code Link to This Post\\r\\n ...</td>\n",
       "      <td>37.838626</td>\n",
       "      <td>-122.294780</td>\n",
       "      <td>2019-02-11T10:37:11-0800</td>\n",
       "      <td>NaN</td>\n",
       "      <td>1BR / 1.5Ba</td>\n",
       "      <td>_eby_apa_d_emeryville-pacific-park-plaza-furni...</td>\n",
       "      <td>1</td>\n",
       "      <td>5</td>\n",
       "      <td>768.0</td>\n",
       "    </tr>\n",
       "    <tr>\n",
       "      <th>834</th>\n",
       "      <td>_eby_apa_d_emeryvillest-st-1-bed1-bath-green_6...</td>\n",
       "      <td>6800670419</td>\n",
       "      <td>2995</td>\n",
       "      <td>$2995 / 1br - 1007 41st St. 1 bed,1 bath, Gree...</td>\n",
       "      <td>\\r\\n            QR Code Link to This Post\\r\\n ...</td>\n",
       "      <td>37.832133</td>\n",
       "      <td>-122.277753</td>\n",
       "      <td>2019-01-21T15:40:54-0800</td>\n",
       "      <td>2019-02-11T11:45:38-0800</td>\n",
       "      <td>1BR / 1.5Ba</td>\n",
       "      <td>_eby_apa_d_emeryvillest-st-1-bed1-bath-green_6...</td>\n",
       "      <td>1</td>\n",
       "      <td>5</td>\n",
       "      <td>NaN</td>\n",
       "    </tr>\n",
       "    <tr>\n",
       "      <th>868</th>\n",
       "      <td>_eby_apa_d_oakland-1-bed-15-bath-duplex-in-oak...</td>\n",
       "      <td>6812610941</td>\n",
       "      <td>3000</td>\n",
       "      <td>$3000 / 1br - 1 Bed 1.5 Bath Duplex in Oakland...</td>\n",
       "      <td>\\r\\n            QR Code Link to This Post\\r\\n ...</td>\n",
       "      <td>37.782328</td>\n",
       "      <td>-122.192478</td>\n",
       "      <td>2019-02-05T18:07:00-0800</td>\n",
       "      <td>NaN</td>\n",
       "      <td>1BR / 1.5Ba</td>\n",
       "      <td>_eby_apa_d_oakland-1-bed-15-bath-duplex-in-oak...</td>\n",
       "      <td>1</td>\n",
       "      <td>5</td>\n",
       "      <td>NaN</td>\n",
       "    </tr>\n",
       "    <tr>\n",
       "      <th>1438</th>\n",
       "      <td>_eby_apa_d_oakland-luxury-one-bedroom-lake-vie...</td>\n",
       "      <td>6802803064</td>\n",
       "      <td>3995</td>\n",
       "      <td>$3995 / 1br - 965ft2 - Luxury One Bedroom Lake...</td>\n",
       "      <td>\\r\\n            QR Code Link to This Post\\r\\n ...</td>\n",
       "      <td>37.798927</td>\n",
       "      <td>-122.259680</td>\n",
       "      <td>2019-01-24T09:25:39-0800</td>\n",
       "      <td>2019-02-12T09:51:07-0800</td>\n",
       "      <td>1BR / 1.5Ba</td>\n",
       "      <td>_eby_apa_d_oakland-luxury-one-bedroom-lake-vie...</td>\n",
       "      <td>1</td>\n",
       "      <td>5</td>\n",
       "      <td>965.0</td>\n",
       "    </tr>\n",
       "    <tr>\n",
       "      <th>1469</th>\n",
       "      <td>_eby_apa_d_oakland-new-1-month-free-free-parki...</td>\n",
       "      <td>6817177226</td>\n",
       "      <td>3405</td>\n",
       "      <td>$3405 / 1br - 773ft2 - NEW! 1 Month Free + Fre...</td>\n",
       "      <td>\\r\\n            QR Code Link to This Post\\r\\n ...</td>\n",
       "      <td>37.820617</td>\n",
       "      <td>-122.261747</td>\n",
       "      <td>2019-02-11T15:24:24-0800</td>\n",
       "      <td>NaN</td>\n",
       "      <td>1BR / 1.5Ba</td>\n",
       "      <td>_eby_apa_d_oakland-new-1-month-free-free-parki...</td>\n",
       "      <td>1</td>\n",
       "      <td>5</td>\n",
       "      <td>773.0</td>\n",
       "    </tr>\n",
       "    <tr>\n",
       "      <th>1470</th>\n",
       "      <td>_eby_apa_d_oakland-new-1-month-free-free-parki...</td>\n",
       "      <td>6817840489</td>\n",
       "      <td>3405</td>\n",
       "      <td>$3405 / 1br - 773ft2 - NEW! 1 Month Free + Fre...</td>\n",
       "      <td>\\r\\n            QR Code Link to This Post\\r\\n ...</td>\n",
       "      <td>37.820617</td>\n",
       "      <td>-122.261747</td>\n",
       "      <td>2019-02-12T12:31:59-0800</td>\n",
       "      <td>NaN</td>\n",
       "      <td>1BR / 1.5Ba</td>\n",
       "      <td>_eby_apa_d_oakland-new-1-month-free-free-parki...</td>\n",
       "      <td>1</td>\n",
       "      <td>5</td>\n",
       "      <td>773.0</td>\n",
       "    </tr>\n",
       "    <tr>\n",
       "      <th>1674</th>\n",
       "      <td>_eby_apa_d_oakland-room-available-feb-14-in-ho...</td>\n",
       "      <td>6817761878</td>\n",
       "      <td>555</td>\n",
       "      <td>$555 / 1br - room available Feb 14 in house ne...</td>\n",
       "      <td>\\r\\n            QR Code Link to This Post\\r\\n ...</td>\n",
       "      <td>37.827727</td>\n",
       "      <td>-122.272180</td>\n",
       "      <td>2019-02-12T11:13:53-0800</td>\n",
       "      <td>NaN</td>\n",
       "      <td>1BR / 1.5Ba</td>\n",
       "      <td>_eby_apa_d_oakland-room-available-feb-14-in-ho...</td>\n",
       "      <td>1</td>\n",
       "      <td>5</td>\n",
       "      <td>NaN</td>\n",
       "    </tr>\n",
       "    <tr>\n",
       "      <th>1773</th>\n",
       "      <td>_eby_apa_d_oakland-the-broadway-bocce-ball-cou...</td>\n",
       "      <td>6817181527</td>\n",
       "      <td>3530</td>\n",
       "      <td>$3530 / 1br - 969ft2 - The Broadway! Bocce Bal...</td>\n",
       "      <td>\\r\\n            QR Code Link to This Post\\r\\n ...</td>\n",
       "      <td>37.820617</td>\n",
       "      <td>-122.261747</td>\n",
       "      <td>2019-02-11T15:30:12-0800</td>\n",
       "      <td>NaN</td>\n",
       "      <td>1BR / 1.5Ba</td>\n",
       "      <td>_eby_apa_d_oakland-the-broadway-bocce-ball-cou...</td>\n",
       "      <td>1</td>\n",
       "      <td>5</td>\n",
       "      <td>969.0</td>\n",
       "    </tr>\n",
       "    <tr>\n",
       "      <th>1897</th>\n",
       "      <td>_eby_apa_d_piedmont-very-upscale-fully-furnish...</td>\n",
       "      <td>6816183795</td>\n",
       "      <td>2875</td>\n",
       "      <td>$2875 / 1br - 1025ft2 - Very Upscale, Fully Fu...</td>\n",
       "      <td>\\r\\n            QR Code Link to This Post\\r\\n ...</td>\n",
       "      <td>37.825980</td>\n",
       "      <td>-122.218326</td>\n",
       "      <td>2019-02-10T11:30:18-0800</td>\n",
       "      <td>NaN</td>\n",
       "      <td>1BR / 1.5Ba</td>\n",
       "      <td>_eby_apa_d_piedmont-very-upscale-fully-furnish...</td>\n",
       "      <td>1</td>\n",
       "      <td>5</td>\n",
       "      <td>1025.0</td>\n",
       "    </tr>\n",
       "  </tbody>\n",
       "</table>\n",
       "</div>"
      ],
      "text/plain": [
       "                                             Unnamed: 0          id  price  \\\n",
       "76    _eby_apa_d_berkeley-1-bedroom-in-elmwood_68168...  6816800828   2750   \n",
       "175   _eby_apa_d_berkeley-art-studio-made-into-fabul...  6814940452   3000   \n",
       "451   _eby_apa_d_berkeley-panoramic-bay-sf-view-berk...  6793594896   4250   \n",
       "776   _eby_apa_d_emeryville-pacific-park-plaza-furni...  6816899256   3000   \n",
       "834   _eby_apa_d_emeryvillest-st-1-bed1-bath-green_6...  6800670419   2995   \n",
       "868   _eby_apa_d_oakland-1-bed-15-bath-duplex-in-oak...  6812610941   3000   \n",
       "1438  _eby_apa_d_oakland-luxury-one-bedroom-lake-vie...  6802803064   3995   \n",
       "1469  _eby_apa_d_oakland-new-1-month-free-free-parki...  6817177226   3405   \n",
       "1470  _eby_apa_d_oakland-new-1-month-free-free-parki...  6817840489   3405   \n",
       "1674  _eby_apa_d_oakland-room-available-feb-14-in-ho...  6817761878    555   \n",
       "1773  _eby_apa_d_oakland-the-broadway-bocce-ball-cou...  6817181527   3530   \n",
       "1897  _eby_apa_d_piedmont-very-upscale-fully-furnish...  6816183795   2875   \n",
       "\n",
       "                                                  title  \\\n",
       "76        $2750 / 1br - 1 Bedroom in Elmwood (berkeley)   \n",
       "175   $3000 / 1br - Art Studio Made Into Fabulous Li...   \n",
       "451   $4250 / 1br - 1800ft2 - Panoramic Bay & SF Vie...   \n",
       "776   $3000 / 1br - Pacific Park Plaza FURNISHED & r...   \n",
       "834   $2995 / 1br - 1007 41st St. 1 bed,1 bath, Gree...   \n",
       "868   $3000 / 1br - 1 Bed 1.5 Bath Duplex in Oakland...   \n",
       "1438  $3995 / 1br - 965ft2 - Luxury One Bedroom Lake...   \n",
       "1469  $3405 / 1br - 773ft2 - NEW! 1 Month Free + Fre...   \n",
       "1470  $3405 / 1br - 773ft2 - NEW! 1 Month Free + Fre...   \n",
       "1674  $555 / 1br - room available Feb 14 in house ne...   \n",
       "1773  $3530 / 1br - 969ft2 - The Broadway! Bocce Bal...   \n",
       "1897  $2875 / 1br - 1025ft2 - Very Upscale, Fully Fu...   \n",
       "\n",
       "                                                   body        lat  \\\n",
       "76    \\r\\n            QR Code Link to This Post\\r\\n ...  37.853726   \n",
       "175   \\r\\n            QR Code Link to This Post\\r\\n ...  37.860609   \n",
       "451   \\r\\n            QR Code Link to This Post\\r\\n ...  37.860760   \n",
       "776   \\r\\n            QR Code Link to This Post\\r\\n ...  37.838626   \n",
       "834   \\r\\n            QR Code Link to This Post\\r\\n ...  37.832133   \n",
       "868   \\r\\n            QR Code Link to This Post\\r\\n ...  37.782328   \n",
       "1438  \\r\\n            QR Code Link to This Post\\r\\n ...  37.798927   \n",
       "1469  \\r\\n            QR Code Link to This Post\\r\\n ...  37.820617   \n",
       "1470  \\r\\n            QR Code Link to This Post\\r\\n ...  37.820617   \n",
       "1674  \\r\\n            QR Code Link to This Post\\r\\n ...  37.827727   \n",
       "1773  \\r\\n            QR Code Link to This Post\\r\\n ...  37.820617   \n",
       "1897  \\r\\n            QR Code Link to This Post\\r\\n ...  37.825980   \n",
       "\n",
       "            long                    posted                   updated  \\\n",
       "76   -122.255580  2019-02-11T09:09:03-0800                       NaN   \n",
       "175  -122.235477  2019-02-08T15:13:45-0800                       NaN   \n",
       "451  -122.230153  2019-01-12T16:16:34-0800  2019-02-10T11:42:54-0800   \n",
       "776  -122.294780  2019-02-11T10:37:11-0800                       NaN   \n",
       "834  -122.277753  2019-01-21T15:40:54-0800  2019-02-11T11:45:38-0800   \n",
       "868  -122.192478  2019-02-05T18:07:00-0800                       NaN   \n",
       "1438 -122.259680  2019-01-24T09:25:39-0800  2019-02-12T09:51:07-0800   \n",
       "1469 -122.261747  2019-02-11T15:24:24-0800                       NaN   \n",
       "1470 -122.261747  2019-02-12T12:31:59-0800                       NaN   \n",
       "1674 -122.272180  2019-02-12T11:13:53-0800                       NaN   \n",
       "1773 -122.261747  2019-02-11T15:30:12-0800                       NaN   \n",
       "1897 -122.218326  2019-02-10T11:30:18-0800                       NaN   \n",
       "\n",
       "           header                                               file  \\\n",
       "76    1BR / 1.5Ba  _eby_apa_d_berkeley-1-bedroom-in-elmwood_68168...   \n",
       "175   1BR / 1.5Ba  _eby_apa_d_berkeley-art-studio-made-into-fabul...   \n",
       "451   1BR / 1.5Ba  _eby_apa_d_berkeley-panoramic-bay-sf-view-berk...   \n",
       "776   1BR / 1.5Ba  _eby_apa_d_emeryville-pacific-park-plaza-furni...   \n",
       "834   1BR / 1.5Ba  _eby_apa_d_emeryvillest-st-1-bed1-bath-green_6...   \n",
       "868   1BR / 1.5Ba  _eby_apa_d_oakland-1-bed-15-bath-duplex-in-oak...   \n",
       "1438  1BR / 1.5Ba  _eby_apa_d_oakland-luxury-one-bedroom-lake-vie...   \n",
       "1469  1BR / 1.5Ba  _eby_apa_d_oakland-new-1-month-free-free-parki...   \n",
       "1470  1BR / 1.5Ba  _eby_apa_d_oakland-new-1-month-free-free-parki...   \n",
       "1674  1BR / 1.5Ba  _eby_apa_d_oakland-room-available-feb-14-in-ho...   \n",
       "1773  1BR / 1.5Ba  _eby_apa_d_oakland-the-broadway-bocce-ball-cou...   \n",
       "1897  1BR / 1.5Ba  _eby_apa_d_piedmont-very-upscale-fully-furnish...   \n",
       "\n",
       "      bedrooms  bath    sqft  \n",
       "76           1     5   850.0  \n",
       "175          1     5     NaN  \n",
       "451          1     5  1800.0  \n",
       "776          1     5   768.0  \n",
       "834          1     5     NaN  \n",
       "868          1     5     NaN  \n",
       "1438         1     5   965.0  \n",
       "1469         1     5   773.0  \n",
       "1470         1     5   773.0  \n",
       "1674         1     5     NaN  \n",
       "1773         1     5   969.0  \n",
       "1897         1     5  1025.0  "
      ]
     },
     "execution_count": 22,
     "metadata": {},
     "output_type": "execute_result"
    }
   ],
   "source": [
    "df[(df['bath']==5) & (df['bedrooms']==1)]"
   ]
  },
  {
   "cell_type": "markdown",
   "metadata": {},
   "source": [
    "## We will use visualizations and aggregations to see some granularity\n"
   ]
  },
  {
   "cell_type": "markdown",
   "metadata": {},
   "source": [
    "### Numbers of Bedrooms and Bathrooms"
   ]
  },
  {
   "cell_type": "code",
   "execution_count": 23,
   "metadata": {},
   "outputs": [
    {
     "data": {
      "text/plain": [
       "<seaborn.axisgrid.FacetGrid at 0x7f7cc34f2510>"
      ]
     },
     "execution_count": 23,
     "metadata": {},
     "output_type": "execute_result"
    },
    {
     "data": {
      "image/png": "[encoded data removed]",
      "text/plain": [
       "<Figure size 500x500 with 1 Axes>"
      ]
     },
     "metadata": {},
     "output_type": "display_data"
    },
    {
     "data": {
      "image/png": "[encoded data removed]",
      "text/plain": [
       "<Figure size 500x500 with 1 Axes>"
      ]
     },
     "metadata": {},
     "output_type": "display_data"
    }
   ],
   "source": [
    "sns.catplot(x='bedrooms', kind='count', data=df)\n",
    "sns.catplot(x='bath', kind='count', data=df)"
   ]
  },
  {
   "cell_type": "markdown",
   "metadata": {},
   "source": [
    "### Task: Price vs. Number of Bedrooms, Number of Bathrooms, and Sqft\n",
    "What are the mean and median prices of properties grouped by the number of bedrooms, and how do these statistics change when further grouped by the number of bathrooms?"
   ]
  },
  {
   "cell_type": "code",
   "execution_count": 24,
   "metadata": {},
   "outputs": [],
   "source": [
    "## YOUR CODE HERE"
   ]
  },
  {
   "cell_type": "markdown",
   "metadata": {},
   "source": [
    "We can also use boxplots to gain some further insights into the distributions of price, number of bedrooms, number of bathrooms, and sqft. See examples below:"
   ]
  },
  {
   "cell_type": "code",
   "execution_count": 25,
   "metadata": {},
   "outputs": [
    {
     "data": {
      "image/png": "[encoded data removed]",
      "text/plain": [
       "<Figure size 640x480 with 1 Axes>"
      ]
     },
     "metadata": {},
     "output_type": "display_data"
    }
   ],
   "source": [
    "gr = sns.boxplot(x='bedrooms', y='price', data=df)\n"
   ]
  },
  {
   "cell_type": "code",
   "execution_count": 26,
   "metadata": {},
   "outputs": [
    {
     "data": {
      "text/plain": [
       "<AxesSubplot:xlabel='bath', ylabel='price'>"
      ]
     },
     "execution_count": 26,
     "metadata": {},
     "output_type": "execute_result"
    },
    {
     "data": {
      "image/png": "[encoded data removed]",
      "text/plain": [
       "<Figure size 640x480 with 1 Axes>"
      ]
     },
     "metadata": {},
     "output_type": "display_data"
    }
   ],
   "source": [
    "sns.boxplot(x='bath', y='price', data=df)"
   ]
  },
  {
   "cell_type": "markdown",
   "metadata": {},
   "source": [
    "## Task: What is the distribution of square footage (sqft) for different numbers of bedrooms in the dataset?"
   ]
  },
  {
   "cell_type": "code",
   "execution_count": 27,
   "metadata": {},
   "outputs": [],
   "source": [
    "## YOUR CODE HERE"
   ]
  },
  {
   "cell_type": "markdown",
   "metadata": {},
   "source": [
    "## Task: What insights can be gained regarding the relationship between the number of bathrooms (bath) and the square footage (sqft) of the apartments in the dataset?"
   ]
  },
  {
   "cell_type": "code",
   "execution_count": 28,
   "metadata": {},
   "outputs": [],
   "source": [
    "## YOUR CODE HERE"
   ]
  },
  {
   "cell_type": "markdown",
   "metadata": {},
   "source": [
    "## Task: How would you visualize the relationship between 'sqft' and 'price' in the dataset?"
   ]
  },
  {
   "cell_type": "code",
   "execution_count": 29,
   "metadata": {},
   "outputs": [],
   "source": [
    "## YOUR CODE HERE"
   ]
  },
  {
   "cell_type": "markdown",
   "metadata": {},
   "source": [
    "## How can you modify previous plot to display the relationship between 'sqft' and 'price' using a logarithmic scale for both axes?"
   ]
  },
  {
   "cell_type": "code",
   "execution_count": 30,
   "metadata": {},
   "outputs": [],
   "source": [
    "## YOUR CODE HERE"
   ]
  },
  {
   "cell_type": "markdown",
   "metadata": {},
   "source": [
    "## Task: How can you visualize the relationship between 'sqft' and 'price', while also incorporating 'bedrooms' and 'bath' in the plot?"
   ]
  },
  {
   "cell_type": "code",
   "execution_count": 31,
   "metadata": {},
   "outputs": [],
   "source": [
    "### YOUR CODE HERE"
   ]
  },
  {
   "cell_type": "markdown",
   "metadata": {},
   "source": [
    "## Spatial Granularity: Location"
   ]
  },
  {
   "cell_type": "markdown",
   "metadata": {},
   "source": [
    "## Task: What is the relationship between the longitude, price and the number of bedrooms in a property ?"
   ]
  },
  {
   "cell_type": "code",
   "execution_count": 32,
   "metadata": {},
   "outputs": [],
   "source": [
    "## YOUR CODE HERE"
   ]
  },
  {
   "cell_type": "markdown",
   "metadata": {},
   "source": [
    "## Task: What is the relationship between the latitude, price and the number of bedrooms in a property ?"
   ]
  },
  {
   "cell_type": "code",
   "execution_count": 33,
   "metadata": {},
   "outputs": [],
   "source": [
    "## YOUR CODE HERE"
   ]
  },
  {
   "cell_type": "markdown",
   "metadata": {},
   "source": [
    "## Temporal Granularity "
   ]
  },
  {
   "cell_type": "markdown",
   "metadata": {},
   "source": [
    "### Task: How many rental adds are posted every day, week and month? "
   ]
  },
  {
   "cell_type": "code",
   "execution_count": 34,
   "metadata": {},
   "outputs": [],
   "source": [
    "## YOUR CODE HERE"
   ]
  },
  {
   "cell_type": "markdown",
   "metadata": {},
   "source": [
    "# Regular Expressions \n",
    "Regular Expressions play a significant role in EDA by providing a powerful tool for searching, manipulating, and analyzing text data"
   ]
  },
  {
   "cell_type": "markdown",
   "metadata": {},
   "source": [
    "### Example: Extract Social Security Number "
   ]
  },
  {
   "cell_type": "code",
   "execution_count": 35,
   "metadata": {},
   "outputs": [
    {
     "name": "stdout",
     "output_type": "stream",
     "text": [
      "20230918-1234\n"
     ]
    }
   ],
   "source": [
    "import re \n",
    "pattern = r'[0-9]{8}-[0-9]{4}'\n",
    "text = 'My social number is 20230918-1234'\n",
    "matches = re.findall(pattern, text)\n",
    "for match in matches:\n",
    "    print(match)"
   ]
  },
  {
   "cell_type": "markdown",
   "metadata": {},
   "source": [
    "## Task: Write a function with a regex for validating a date with YYYY-MMM-DD format "
   ]
  },
  {
   "cell_type": "code",
   "execution_count": null,
   "metadata": {},
   "outputs": [],
   "source": [
    "def validate_date(date_string):\n",
    "    pattern = \"YOUR PATTERN HERE\"\n",
    "    if re.match(pattern, date_string):\n",
    "        return True\n",
    "    else:\n",
    "        return False"
   ]
  },
  {
   "cell_type": "code",
   "execution_count": null,
   "metadata": {},
   "outputs": [],
   "source": [
    "date_string = '2023-03-39'\n",
    "print(validate_date(date_string))"
   ]
  },
  {
   "cell_type": "code",
   "execution_count": null,
   "metadata": {},
   "outputs": [],
   "source": []
  }
 ],
 "metadata": {
  "kernelspec": {
   "display_name": "Python 3 (ipykernel)",
   "language": "python",
   "name": "python3"
  },
  "language_info": {
   "codemirror_mode": {
    "name": "ipython",
    "version": 3
   },
   "file_extension": ".py",
   "mimetype": "text/x-python",
   "name": "python",
   "nbconvert_exporter": "python",
   "pygments_lexer": "ipython3",
   "version": "3.7.13"
  }
 },
 "nbformat": 4,
 "nbformat_minor": 2
}
