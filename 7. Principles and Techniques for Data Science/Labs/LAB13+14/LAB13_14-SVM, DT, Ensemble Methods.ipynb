{
 "cells": [
  {
   "cell_type": "markdown",
   "metadata": {},
   "source": [
    "## Course Code: DS4003\n",
    "## Course Name: Principles and Techniques for Data Science\n",
    "## Lab Session: 13 -14: SVM, Ensemble Methods"
   ]
  },
  {
   "cell_type": "markdown",
   "metadata": {},
   "source": [
    "# Today's Topics\n",
    "In this lab, we will focus on the basic libraries and functions used to implelment the methods covered in the lectures in Python.\n",
    "* SVMs\n",
    "* Random Forest Classifier \n",
    "* Adaptive Boosting \n",
    "* Gradient Boosting \n",
    "* XGBoost"
   ]
  },
  {
   "cell_type": "code",
   "execution_count": 1,
   "metadata": {
    "_cell_guid": "b1076dfc-b9ad-4769-8c92-a6c4dae69d19",
    "_uuid": "8f2839f25d086af736a60e9eeb907d3b93b6e0e5",
    "execution": {
     "iopub.execute_input": "2023-12-12T12:19:37.747666Z",
     "iopub.status.busy": "2023-12-12T12:19:37.747294Z",
     "iopub.status.idle": "2023-12-12T12:19:39.554575Z",
     "shell.execute_reply": "2023-12-12T12:19:39.553306Z",
     "shell.execute_reply.started": "2023-12-12T12:19:37.747635Z"
    }
   },
   "outputs": [],
   "source": [
    "import numpy as np \n",
    "import pandas as pd \n",
    "import matplotlib.pyplot as plt \n",
    "import seaborn as sns \n",
    "from tqdm.auto import tqdm \n",
    "import random \n",
    "import warnings \n",
    "warnings.simplefilter('ignore')\n",
    "from sklearn.model_selection import train_test_split\n",
    "from sklearn.preprocessing import StandardScaler\n",
    "from sklearn.metrics import accuracy_score"
   ]
  },
  {
   "cell_type": "markdown",
   "metadata": {},
   "source": [
    "## Now, we will use Iris dataset for the following tasks \n"
   ]
  },
  {
   "cell_type": "code",
   "execution_count": 2,
   "metadata": {
    "execution": {
     "iopub.execute_input": "2023-12-12T12:21:52.379445Z",
     "iopub.status.busy": "2023-12-12T12:21:52.378944Z",
     "iopub.status.idle": "2023-12-12T12:21:52.413315Z",
     "shell.execute_reply": "2023-12-12T12:21:52.412503Z",
     "shell.execute_reply.started": "2023-12-12T12:21:52.379405Z"
    }
   },
   "outputs": [
    {
     "name": "stdout",
     "output_type": "stream",
     "text": [
      "['Iris-setosa' 'Iris-versicolor' 'Iris-virginica']\n"
     ]
    }
   ],
   "source": [
    "df = pd.read_csv('Iris.csv')\n",
    "print(pd.unique(df.Species))"
   ]
  },
  {
   "cell_type": "code",
   "execution_count": 3,
   "metadata": {
    "execution": {
     "iopub.execute_input": "2023-12-12T12:21:54.736835Z",
     "iopub.status.busy": "2023-12-12T12:21:54.73577Z",
     "iopub.status.idle": "2023-12-12T12:21:54.745394Z",
     "shell.execute_reply": "2023-12-12T12:21:54.744129Z",
     "shell.execute_reply.started": "2023-12-12T12:21:54.736799Z"
    }
   },
   "outputs": [],
   "source": [
    "label_dict = {'Iris-setosa': 0, 'Iris-versicolor': 1, 'Iris-virginica': 2}\n",
    "df2 = df.replace({'Species': label_dict})"
   ]
  },
  {
   "cell_type": "code",
   "execution_count": 4,
   "metadata": {
    "execution": {
     "iopub.execute_input": "2023-12-12T12:21:57.815315Z",
     "iopub.status.busy": "2023-12-12T12:21:57.814889Z",
     "iopub.status.idle": "2023-12-12T12:21:57.839332Z",
     "shell.execute_reply": "2023-12-12T12:21:57.838142Z",
     "shell.execute_reply.started": "2023-12-12T12:21:57.815281Z"
    }
   },
   "outputs": [
    {
     "data": {
      "text/html": [
       "<div>\n",
       "<style scoped>\n",
       "    .dataframe tbody tr th:only-of-type {\n",
       "        vertical-align: middle;\n",
       "    }\n",
       "\n",
       "    .dataframe tbody tr th {\n",
       "        vertical-align: top;\n",
       "    }\n",
       "\n",
       "    .dataframe thead th {\n",
       "        text-align: right;\n",
       "    }\n",
       "</style>\n",
       "<table border=\"1\" class=\"dataframe\">\n",
       "  <thead>\n",
       "    <tr style=\"text-align: right;\">\n",
       "      <th></th>\n",
       "      <th>Id</th>\n",
       "      <th>SepalLengthCm</th>\n",
       "      <th>SepalWidthCm</th>\n",
       "      <th>PetalLengthCm</th>\n",
       "      <th>PetalWidthCm</th>\n",
       "      <th>Species</th>\n",
       "    </tr>\n",
       "  </thead>\n",
       "  <tbody>\n",
       "    <tr>\n",
       "      <th>0</th>\n",
       "      <td>1</td>\n",
       "      <td>5.1</td>\n",
       "      <td>3.5</td>\n",
       "      <td>1.4</td>\n",
       "      <td>0.2</td>\n",
       "      <td>0</td>\n",
       "    </tr>\n",
       "    <tr>\n",
       "      <th>1</th>\n",
       "      <td>2</td>\n",
       "      <td>4.9</td>\n",
       "      <td>3.0</td>\n",
       "      <td>1.4</td>\n",
       "      <td>0.2</td>\n",
       "      <td>0</td>\n",
       "    </tr>\n",
       "    <tr>\n",
       "      <th>2</th>\n",
       "      <td>3</td>\n",
       "      <td>4.7</td>\n",
       "      <td>3.2</td>\n",
       "      <td>1.3</td>\n",
       "      <td>0.2</td>\n",
       "      <td>0</td>\n",
       "    </tr>\n",
       "    <tr>\n",
       "      <th>3</th>\n",
       "      <td>4</td>\n",
       "      <td>4.6</td>\n",
       "      <td>3.1</td>\n",
       "      <td>1.5</td>\n",
       "      <td>0.2</td>\n",
       "      <td>0</td>\n",
       "    </tr>\n",
       "    <tr>\n",
       "      <th>4</th>\n",
       "      <td>5</td>\n",
       "      <td>5.0</td>\n",
       "      <td>3.6</td>\n",
       "      <td>1.4</td>\n",
       "      <td>0.2</td>\n",
       "      <td>0</td>\n",
       "    </tr>\n",
       "  </tbody>\n",
       "</table>\n",
       "</div>"
      ],
      "text/plain": [
       "   Id  SepalLengthCm  SepalWidthCm  PetalLengthCm  PetalWidthCm  Species\n",
       "0   1            5.1           3.5            1.4           0.2        0\n",
       "1   2            4.9           3.0            1.4           0.2        0\n",
       "2   3            4.7           3.2            1.3           0.2        0\n",
       "3   4            4.6           3.1            1.5           0.2        0\n",
       "4   5            5.0           3.6            1.4           0.2        0"
      ]
     },
     "execution_count": 4,
     "metadata": {},
     "output_type": "execute_result"
    }
   ],
   "source": [
    "df2.head()"
   ]
  },
  {
   "cell_type": "code",
   "execution_count": 5,
   "metadata": {
    "execution": {
     "iopub.execute_input": "2023-12-12T12:29:26.361106Z",
     "iopub.status.busy": "2023-12-12T12:29:26.360676Z",
     "iopub.status.idle": "2023-12-12T12:29:26.369151Z",
     "shell.execute_reply": "2023-12-12T12:29:26.368227Z",
     "shell.execute_reply.started": "2023-12-12T12:29:26.361075Z"
    }
   },
   "outputs": [],
   "source": [
    "# your code here\n",
    "label_dict = {'Iris-setosa': 1, 'Iris-versicolor': -1, 'Iris-virginica': -1}\n",
    "feat_list = ['SepalLengthCm', 'SepalWidthCm', 'PetalLengthCm', 'PetalWidthCm']\n"
   ]
  },
  {
   "cell_type": "markdown",
   "metadata": {},
   "source": [
    "# SVMs\n",
    "Supprt Vector Machine is a classic machine learning classifier that attempts to separate classes of data using a hyperplane.\n",
    "\n",
    "Different kernels can be used to learn different boundaries between classes, that might have different distributions. \n",
    "\n",
    "Reading material: \n",
    "* https://scikit-learn.org/stable/modules/generated/sklearn.svm.SVC.html \n",
    "* https://scikit-learn.org/stable/modules/generated/sklearn.svm.LinearSVC.html \n",
    "* https://scikit-learn.org/stable/modules/generated/sklearn.svm.NuSVC.html"
   ]
  },
  {
   "cell_type": "markdown",
   "metadata": {},
   "source": [
    "## Task: Run a classic SVC on the iris data"
   ]
  },
  {
   "cell_type": "markdown",
   "metadata": {},
   "source": [
    "To access the SVM code from sklearn, we need to import it as follows:"
   ]
  },
  {
   "cell_type": "code",
   "execution_count": 6,
   "metadata": {},
   "outputs": [],
   "source": [
    "from sklearn.svm import SVC"
   ]
  },
  {
   "cell_type": "markdown",
   "metadata": {},
   "source": [
    "What arguments can we supply this model and what are the defaults?"
   ]
  },
  {
   "cell_type": "code",
   "execution_count": 7,
   "metadata": {},
   "outputs": [
    {
     "name": "stdout",
     "output_type": "stream",
     "text": [
      "{'C': 1.0, 'break_ties': False, 'cache_size': 200, 'class_weight': None, 'coef0': 0.0, 'decision_function_shape': 'ovr', 'degree': 3, 'gamma': 'scale', 'kernel': 'rbf', 'max_iter': -1, 'probability': False, 'random_state': None, 'shrinking': True, 'tol': 0.001, 'verbose': False}\n"
     ]
    }
   ],
   "source": [
    "svc_model = SVC()\n",
    "params = svc_model.get_params()\n",
    "\n",
    "print(params)\n"
   ]
  },
  {
   "cell_type": "markdown",
   "metadata": {},
   "source": [
    "These arguments are explained in the documentation: https://scikit-learn.org/stable/modules/generated/sklearn.svm.SVC.html."
   ]
  },
  {
   "cell_type": "code",
   "execution_count": 8,
   "metadata": {
    "execution": {
     "iopub.execute_input": "2023-12-12T12:57:47.463033Z",
     "iopub.status.busy": "2023-12-12T12:57:47.46254Z",
     "iopub.status.idle": "2023-12-12T12:57:47.486774Z",
     "shell.execute_reply": "2023-12-12T12:57:47.484306Z",
     "shell.execute_reply.started": "2023-12-12T12:57:47.462992Z"
    }
   },
   "outputs": [],
   "source": [
    "train, test = train_test_split(df2, test_size=0.25)\n",
    "scaler = StandardScaler() \n",
    "train_X = train[feat_list].copy() \n",
    "test_X = test[feat_list].copy() \n",
    "train_X = scaler.fit_transform(train_X) \n",
    "test_X = scaler.transform(test_X)\n",
    "train_y = train['Species'].values \n",
    "test_y = test['Species'].values"
   ]
  },
  {
   "cell_type": "code",
   "execution_count": 9,
   "metadata": {
    "execution": {
     "iopub.execute_input": "2023-12-12T12:57:57.38746Z",
     "iopub.status.busy": "2023-12-12T12:57:57.387034Z",
     "iopub.status.idle": "2023-12-12T12:57:57.401715Z",
     "shell.execute_reply": "2023-12-12T12:57:57.400483Z",
     "shell.execute_reply.started": "2023-12-12T12:57:57.387429Z"
    }
   },
   "outputs": [
    {
     "data": {
      "text/plain": [
       "SVC(gamma='auto')"
      ]
     },
     "execution_count": 9,
     "metadata": {},
     "output_type": "execute_result"
    }
   ],
   "source": [
    "\n",
    "clf = SVC(gamma='auto')\n",
    "clf.fit(train_X, train_y)"
   ]
  },
  {
   "cell_type": "code",
   "execution_count": 10,
   "metadata": {
    "execution": {
     "iopub.execute_input": "2023-12-12T12:58:42.021708Z",
     "iopub.status.busy": "2023-12-12T12:58:42.021257Z",
     "iopub.status.idle": "2023-12-12T12:58:42.03022Z",
     "shell.execute_reply": "2023-12-12T12:58:42.029002Z",
     "shell.execute_reply.started": "2023-12-12T12:58:42.021669Z"
    }
   },
   "outputs": [
    {
     "name": "stdout",
     "output_type": "stream",
     "text": [
      "0.9736842105263158\n"
     ]
    }
   ],
   "source": [
    "pred = clf.predict(test_X)\n",
    "acc = accuracy_score(y_true=test_y, y_pred=pred)\n",
    "print(acc)"
   ]
  },
  {
   "cell_type": "markdown",
   "metadata": {},
   "source": [
    "## Task: Run a Linear SVC on the iris data"
   ]
  },
  {
   "cell_type": "code",
   "execution_count": 11,
   "metadata": {
    "execution": {
     "iopub.execute_input": "2023-12-12T13:05:46.314262Z",
     "iopub.status.busy": "2023-12-12T13:05:46.313803Z",
     "iopub.status.idle": "2023-12-12T13:05:46.324497Z",
     "shell.execute_reply": "2023-12-12T13:05:46.323285Z",
     "shell.execute_reply.started": "2023-12-12T13:05:46.314216Z"
    }
   },
   "outputs": [],
   "source": [
    "# Your code here\n"
   ]
  },
  {
   "cell_type": "markdown",
   "metadata": {},
   "source": [
    "## Task: Run a non linear SVC on the iris data\n",
    "Additionally, vary the kernel function to see if it has any effects on the performance."
   ]
  },
  {
   "cell_type": "code",
   "execution_count": 12,
   "metadata": {
    "execution": {
     "iopub.execute_input": "2023-12-12T13:09:29.108661Z",
     "iopub.status.busy": "2023-12-12T13:09:29.108249Z",
     "iopub.status.idle": "2023-12-12T13:09:29.119584Z",
     "shell.execute_reply": "2023-12-12T13:09:29.118483Z",
     "shell.execute_reply.started": "2023-12-12T13:09:29.108631Z"
    }
   },
   "outputs": [],
   "source": [
    "# Your code here\n"
   ]
  },
  {
   "cell_type": "code",
   "execution_count": null,
   "metadata": {},
   "outputs": [],
   "source": []
  },
  {
   "cell_type": "markdown",
   "metadata": {},
   "source": [
    "# Decision Trees"
   ]
  },
  {
   "cell_type": "markdown",
   "metadata": {},
   "source": [
    "Decision Trees are a widely used machine learning classifier that separates data classes by constructing a rule-based system based on the individual features. One of the advantages of decision trees is that they do not require feature scaling, as each feature is split independently during the learning process.\n",
    "\n",
    "Further reading: https://scikit-learn.org/stable/modules/generated/sklearn.tree.DecisionTreeClassifier.html"
   ]
  },
  {
   "cell_type": "markdown",
   "metadata": {},
   "source": [
    "## Task: Apply Decision Tree Classifier on Iris data \n",
    "\n",
    "## Compare results for gini, log loss, and entropy based Decision Tree Classifier \n",
    "\n"
   ]
  },
  {
   "cell_type": "code",
   "execution_count": 13,
   "metadata": {},
   "outputs": [
    {
     "name": "stdout",
     "output_type": "stream",
     "text": [
      "This has the default parameters:\n",
      " {'ccp_alpha': 0.0, 'class_weight': None, 'criterion': 'gini', 'max_depth': None, 'max_features': None, 'max_leaf_nodes': None, 'min_impurity_decrease': 0.0, 'min_samples_leaf': 1, 'min_samples_split': 2, 'min_weight_fraction_leaf': 0.0, 'random_state': None, 'splitter': 'best'}\n"
     ]
    }
   ],
   "source": [
    "from sklearn.tree import DecisionTreeClassifier\n",
    "print(f\"This has the default parameters:\\n {DecisionTreeClassifier().get_params()}\")"
   ]
  },
  {
   "cell_type": "code",
   "execution_count": 14,
   "metadata": {},
   "outputs": [],
   "source": [
    "# Your code here\n"
   ]
  },
  {
   "cell_type": "markdown",
   "metadata": {},
   "source": [
    "# Ensemble Methods"
   ]
  },
  {
   "cell_type": "markdown",
   "metadata": {},
   "source": [
    "Ensemble methods combine multiple models to improve performance, making predictions more accurate and robust. They work by leveraging the strengths of different models, reducing overfitting, and enhancing generalization\n",
    "Bagging, Boosting, Stacking. \n"
   ]
  },
  {
   "cell_type": "markdown",
   "metadata": {},
   "source": [
    "## Task: Apply RF on the Iris data \n",
    "RF is one of the most popular solutions in bagging. We train multiple models on different data subsets, then average or vote on the final prediction."
   ]
  },
  {
   "cell_type": "code",
   "execution_count": 15,
   "metadata": {},
   "outputs": [],
   "source": [
    "# Your code here \n"
   ]
  },
  {
   "cell_type": "markdown",
   "metadata": {},
   "source": [
    "### Boosting: Builds models sequentially, with each new model correcting errors made by previous ones. Examples include AdaBoost and Gradient Boosting."
   ]
  },
  {
   "cell_type": "markdown",
   "metadata": {},
   "source": [
    "# Task: Apply AdaBoost on the Iris data "
   ]
  },
  {
   "cell_type": "code",
   "execution_count": 16,
   "metadata": {},
   "outputs": [],
   "source": [
    "# Your code here "
   ]
  },
  {
   "cell_type": "markdown",
   "metadata": {},
   "source": [
    "# Task: Apply Gradient Boosting on Iris data \n",
    "\n",
    "https://scikit-learn.org/stable/modules/generated/sklearn.ensemble.GradientBoostingClassifier.html"
   ]
  },
  {
   "cell_type": "code",
   "execution_count": 17,
   "metadata": {},
   "outputs": [],
   "source": [
    "# Your code here \n"
   ]
  },
  {
   "cell_type": "code",
   "execution_count": null,
   "metadata": {},
   "outputs": [],
   "source": []
  },
  {
   "cell_type": "markdown",
   "metadata": {},
   "source": [
    "# Task: Apply XGBoost classifier on the Iris data \n",
    "\n",
    "reading material: https://xgboost.readthedocs.io/en/stable/python/python_api.html#xgboost.XGBClassifier"
   ]
  },
  {
   "cell_type": "markdown",
   "metadata": {},
   "source": [
    "The XGBoost module is not in embedded in sklearn so we will have to install it. \n",
    "- pip install xgboost"
   ]
  },
  {
   "cell_type": "code",
   "execution_count": 18,
   "metadata": {},
   "outputs": [],
   "source": [
    "# Your code here \n"
   ]
  },
  {
   "cell_type": "markdown",
   "metadata": {},
   "source": [
    "### Stacking: Combines different models’ predictions using a meta-learner, enhancing accuracy by capturing various data patterns.\n"
   ]
  },
  {
   "cell_type": "markdown",
   "metadata": {},
   "source": [
    "# Task: Build your own stacked model using three different classifiers\n",
    "You can use the StackingClassifier module in sklearn: https://scikit-learn.org/1.5/modules/generated/sklearn.ensemble.StackingClassifier.html"
   ]
  },
  {
   "cell_type": "code",
   "execution_count": 19,
   "metadata": {},
   "outputs": [],
   "source": [
    "from sklearn.ensemble import StackingClassifier"
   ]
  },
  {
   "cell_type": "markdown",
   "metadata": {},
   "source": [
    "# Task: Is there a difference in accuracy?"
   ]
  },
  {
   "cell_type": "code",
   "execution_count": null,
   "metadata": {},
   "outputs": [],
   "source": []
  }
 ],
 "metadata": {
  "kaggle": {
   "accelerator": "none",
   "dataSources": [
    {
     "datasetId": 19,
     "sourceId": 420,
     "sourceType": "datasetVersion"
    }
   ],
   "dockerImageVersionId": 30615,
   "isGpuEnabled": false,
   "isInternetEnabled": true,
   "language": "python",
   "sourceType": "notebook"
  },
  "kernelspec": {
   "display_name": "Python 3 (ipykernel)",
   "language": "python",
   "name": "python3"
  },
  "language_info": {
   "codemirror_mode": {
    "name": "ipython",
    "version": 3
   },
   "file_extension": ".py",
   "mimetype": "text/x-python",
   "name": "python",
   "nbconvert_exporter": "python",
   "pygments_lexer": "ipython3",
   "version": "3.7.12"
  }
 },
 "nbformat": 4,
 "nbformat_minor": 4
}
