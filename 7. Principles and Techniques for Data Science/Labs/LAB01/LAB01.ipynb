{
 "cells": [
  {
   "cell_type": "markdown",
   "metadata": {},
   "source": [
    "# Course Code: DS4003 \n",
    "# Course Name: Principles and Techniques for Data Science \n",
    "# Lab Session: 01 - Data Cleaning\n",
    "\n",
    "### Some contents of this lab are adapted from UC Berkeley's Data100 course"
   ]
  },
  {
   "cell_type": "markdown",
   "metadata": {},
   "source": [
    "This first lab is meant to introduce you to techniques related to data manipulation and data cleaning."
   ]
  },
  {
   "cell_type": "markdown",
   "metadata": {},
   "source": [
    "### Import libraries"
   ]
  },
  {
   "cell_type": "code",
   "execution_count": 1,
   "metadata": {},
   "outputs": [],
   "source": [
    "%matplotlib inline\n",
    "import matplotlib.pyplot as plt\n",
    "import seaborn as sns\n",
    "import numpy as np\n",
    "import pandas as pd\n",
    "import ipywidgets as widgets\n",
    "from ipywidgets import interact, interactive, fixed, interact_manual\n",
    "\n",
    "sns.set_theme()\n",
    "sns.set_context('talk')\n",
    "np.set_printoptions(threshold=20, precision=2, suppress=True)\n",
    "pd.options.display.max_rows = 7\n",
    "pd.options.display.max_columns = None\n",
    "pd.set_option('display.precision', 2)"
   ]
  },
  {
   "cell_type": "markdown",
   "metadata": {},
   "source": [
    "## Data cleaning\n",
    "\n",
    "Read Hadley Wickham's _R for Data Science_ book: https://r4ds.had.co.nz/tidy-data.html"
   ]
  },
  {
   "cell_type": "markdown",
   "metadata": {},
   "source": [
    "### Let's try our first untidy data"
   ]
  },
  {
   "cell_type": "code",
   "execution_count": 2,
   "metadata": {},
   "outputs": [
    {
     "data": {
      "text/html": [
       "<div>\n",
       "<style scoped>\n",
       "    .dataframe tbody tr th:only-of-type {\n",
       "        vertical-align: middle;\n",
       "    }\n",
       "\n",
       "    .dataframe tbody tr th {\n",
       "        vertical-align: top;\n",
       "    }\n",
       "\n",
       "    .dataframe thead th {\n",
       "        text-align: right;\n",
       "    }\n",
       "</style>\n",
       "<table border=\"1\" class=\"dataframe\">\n",
       "  <thead>\n",
       "    <tr style=\"text-align: right;\">\n",
       "      <th></th>\n",
       "      <th>country      year type           count</th>\n",
       "    </tr>\n",
       "  </thead>\n",
       "  <tbody>\n",
       "    <tr>\n",
       "      <th>0</th>\n",
       "      <td>Afghanistan  1999 cases            745</td>\n",
       "    </tr>\n",
       "    <tr>\n",
       "      <th>1</th>\n",
       "      <td>Afghanistan  1999 population  19987071</td>\n",
       "    </tr>\n",
       "    <tr>\n",
       "      <th>2</th>\n",
       "      <td>Afghanistan  2000 cases           2666</td>\n",
       "    </tr>\n",
       "    <tr>\n",
       "      <th>3</th>\n",
       "      <td>Afghanistan  2000 population  20595360</td>\n",
       "    </tr>\n",
       "    <tr>\n",
       "      <th>4</th>\n",
       "      <td>Brazil       1999 cases          37737</td>\n",
       "    </tr>\n",
       "  </tbody>\n",
       "</table>\n",
       "</div>"
      ],
      "text/plain": [
       "   country      year type           count\n",
       "0  Afghanistan  1999 cases            745\n",
       "1  Afghanistan  1999 population  19987071\n",
       "2  Afghanistan  2000 cases           2666\n",
       "3  Afghanistan  2000 population  20595360\n",
       "4  Brazil       1999 cases          37737"
      ]
     },
     "execution_count": 2,
     "metadata": {},
     "output_type": "execute_result"
    }
   ],
   "source": [
    "ut1 = pd.read_csv('untidy1.csv')\n",
    "ut1.head()"
   ]
  },
  {
   "cell_type": "markdown",
   "metadata": {},
   "source": [
    "### Let's try to read in 'untidy1.csv'  the data with a different delimiter \n"
   ]
  },
  {
   "cell_type": "code",
   "execution_count": 3,
   "metadata": {},
   "outputs": [
    {
     "data": {
      "text/html": [
       "<div>\n",
       "<style scoped>\n",
       "    .dataframe tbody tr th:only-of-type {\n",
       "        vertical-align: middle;\n",
       "    }\n",
       "\n",
       "    .dataframe tbody tr th {\n",
       "        vertical-align: top;\n",
       "    }\n",
       "\n",
       "    .dataframe thead th {\n",
       "        text-align: right;\n",
       "    }\n",
       "</style>\n",
       "<table border=\"1\" class=\"dataframe\">\n",
       "  <thead>\n",
       "    <tr style=\"text-align: right;\">\n",
       "      <th></th>\n",
       "      <th>country</th>\n",
       "      <th>year</th>\n",
       "      <th>type</th>\n",
       "      <th>count</th>\n",
       "    </tr>\n",
       "  </thead>\n",
       "  <tbody>\n",
       "    <tr>\n",
       "      <th>0</th>\n",
       "      <td>Afghanistan</td>\n",
       "      <td>1999</td>\n",
       "      <td>cases</td>\n",
       "      <td>745</td>\n",
       "    </tr>\n",
       "    <tr>\n",
       "      <th>1</th>\n",
       "      <td>Afghanistan</td>\n",
       "      <td>1999</td>\n",
       "      <td>population</td>\n",
       "      <td>19987071</td>\n",
       "    </tr>\n",
       "    <tr>\n",
       "      <th>2</th>\n",
       "      <td>Afghanistan</td>\n",
       "      <td>2000</td>\n",
       "      <td>cases</td>\n",
       "      <td>2666</td>\n",
       "    </tr>\n",
       "    <tr>\n",
       "      <th>3</th>\n",
       "      <td>Afghanistan</td>\n",
       "      <td>2000</td>\n",
       "      <td>population</td>\n",
       "      <td>20595360</td>\n",
       "    </tr>\n",
       "    <tr>\n",
       "      <th>4</th>\n",
       "      <td>Brazil</td>\n",
       "      <td>1999</td>\n",
       "      <td>cases</td>\n",
       "      <td>37737</td>\n",
       "    </tr>\n",
       "  </tbody>\n",
       "</table>\n",
       "</div>"
      ],
      "text/plain": [
       "       country  year        type     count\n",
       "0  Afghanistan  1999       cases       745\n",
       "1  Afghanistan  1999  population  19987071\n",
       "2  Afghanistan  2000       cases      2666\n",
       "3  Afghanistan  2000  population  20595360\n",
       "4       Brazil  1999       cases     37737"
      ]
     },
     "execution_count": 3,
     "metadata": {},
     "output_type": "execute_result"
    }
   ],
   "source": [
    "ut1 = pd.read_csv('untidy1.csv', sep='\\\\s+')\n",
    "ut1.head()"
   ]
  },
  {
   "cell_type": "markdown",
   "metadata": {},
   "source": [
    "### Let's try another untidy dataset"
   ]
  },
  {
   "cell_type": "code",
   "execution_count": 4,
   "metadata": {},
   "outputs": [
    {
     "data": {
      "text/html": [
       "<div>\n",
       "<style scoped>\n",
       "    .dataframe tbody tr th:only-of-type {\n",
       "        vertical-align: middle;\n",
       "    }\n",
       "\n",
       "    .dataframe tbody tr th {\n",
       "        vertical-align: top;\n",
       "    }\n",
       "\n",
       "    .dataframe thead th {\n",
       "        text-align: right;\n",
       "    }\n",
       "</style>\n",
       "<table border=\"1\" class=\"dataframe\">\n",
       "  <thead>\n",
       "    <tr style=\"text-align: right;\">\n",
       "      <th></th>\n",
       "      <th>country       1999   2000</th>\n",
       "    </tr>\n",
       "  </thead>\n",
       "  <tbody>\n",
       "    <tr>\n",
       "      <th>0</th>\n",
       "      <td>Afghanistan    745   2666</td>\n",
       "    </tr>\n",
       "    <tr>\n",
       "      <th>1</th>\n",
       "      <td>Brazil       37737  80488</td>\n",
       "    </tr>\n",
       "    <tr>\n",
       "      <th>2</th>\n",
       "      <td>China       212258 213766</td>\n",
       "    </tr>\n",
       "  </tbody>\n",
       "</table>\n",
       "</div>"
      ],
      "text/plain": [
       "   country       1999   2000\n",
       "0  Afghanistan    745   2666\n",
       "1  Brazil       37737  80488\n",
       "2  China       212258 213766"
      ]
     },
     "execution_count": 4,
     "metadata": {},
     "output_type": "execute_result"
    }
   ],
   "source": [
    "ut2 = pd.read_csv('untidy2.csv')\n",
    "ut2.head()"
   ]
  },
  {
   "cell_type": "code",
   "execution_count": 5,
   "metadata": {},
   "outputs": [
    {
     "data": {
      "text/html": [
       "<div>\n",
       "<style scoped>\n",
       "    .dataframe tbody tr th:only-of-type {\n",
       "        vertical-align: middle;\n",
       "    }\n",
       "\n",
       "    .dataframe tbody tr th {\n",
       "        vertical-align: top;\n",
       "    }\n",
       "\n",
       "    .dataframe thead th {\n",
       "        text-align: right;\n",
       "    }\n",
       "</style>\n",
       "<table border=\"1\" class=\"dataframe\">\n",
       "  <thead>\n",
       "    <tr style=\"text-align: right;\">\n",
       "      <th></th>\n",
       "      <th>country</th>\n",
       "      <th>1999</th>\n",
       "      <th>2000</th>\n",
       "    </tr>\n",
       "  </thead>\n",
       "  <tbody>\n",
       "    <tr>\n",
       "      <th>0</th>\n",
       "      <td>Afghanistan</td>\n",
       "      <td>745</td>\n",
       "      <td>2666</td>\n",
       "    </tr>\n",
       "    <tr>\n",
       "      <th>1</th>\n",
       "      <td>Brazil</td>\n",
       "      <td>37737</td>\n",
       "      <td>80488</td>\n",
       "    </tr>\n",
       "    <tr>\n",
       "      <th>2</th>\n",
       "      <td>China</td>\n",
       "      <td>212258</td>\n",
       "      <td>213766</td>\n",
       "    </tr>\n",
       "  </tbody>\n",
       "</table>\n",
       "</div>"
      ],
      "text/plain": [
       "       country    1999    2000\n",
       "0  Afghanistan     745    2666\n",
       "1       Brazil   37737   80488\n",
       "2        China  212258  213766"
      ]
     },
     "execution_count": 5,
     "metadata": {},
     "output_type": "execute_result"
    }
   ],
   "source": [
    "ut2 = pd.read_csv('untidy2.csv', sep=\"\\\\s+\")\n",
    "ut2.head()"
   ]
  },
  {
   "cell_type": "markdown",
   "metadata": {},
   "source": [
    "### From the output above we can see that 1999 and 2000 appear as column names. This doesnt look right. Let's use the melt function on these two columns to make it more tidy\n",
    "\n",
    "Read here about the melt function: https://pandas.pydata.org/docs/reference/api/pandas.melt.html"
   ]
  },
  {
   "cell_type": "code",
   "execution_count": 6,
   "metadata": {},
   "outputs": [
    {
     "data": {
      "text/html": [
       "<div>\n",
       "<style scoped>\n",
       "    .dataframe tbody tr th:only-of-type {\n",
       "        vertical-align: middle;\n",
       "    }\n",
       "\n",
       "    .dataframe tbody tr th {\n",
       "        vertical-align: top;\n",
       "    }\n",
       "\n",
       "    .dataframe thead th {\n",
       "        text-align: right;\n",
       "    }\n",
       "</style>\n",
       "<table border=\"1\" class=\"dataframe\">\n",
       "  <thead>\n",
       "    <tr style=\"text-align: right;\">\n",
       "      <th></th>\n",
       "      <th>country</th>\n",
       "      <th>variable</th>\n",
       "      <th>value</th>\n",
       "    </tr>\n",
       "  </thead>\n",
       "  <tbody>\n",
       "    <tr>\n",
       "      <th>0</th>\n",
       "      <td>Afghanistan</td>\n",
       "      <td>1999</td>\n",
       "      <td>745</td>\n",
       "    </tr>\n",
       "    <tr>\n",
       "      <th>1</th>\n",
       "      <td>Brazil</td>\n",
       "      <td>1999</td>\n",
       "      <td>37737</td>\n",
       "    </tr>\n",
       "    <tr>\n",
       "      <th>2</th>\n",
       "      <td>China</td>\n",
       "      <td>1999</td>\n",
       "      <td>212258</td>\n",
       "    </tr>\n",
       "    <tr>\n",
       "      <th>3</th>\n",
       "      <td>Afghanistan</td>\n",
       "      <td>2000</td>\n",
       "      <td>2666</td>\n",
       "    </tr>\n",
       "    <tr>\n",
       "      <th>4</th>\n",
       "      <td>Brazil</td>\n",
       "      <td>2000</td>\n",
       "      <td>80488</td>\n",
       "    </tr>\n",
       "  </tbody>\n",
       "</table>\n",
       "</div>"
      ],
      "text/plain": [
       "       country variable   value\n",
       "0  Afghanistan     1999     745\n",
       "1       Brazil     1999   37737\n",
       "2        China     1999  212258\n",
       "3  Afghanistan     2000    2666\n",
       "4       Brazil     2000   80488"
      ]
     },
     "execution_count": 6,
     "metadata": {},
     "output_type": "execute_result"
    }
   ],
   "source": [
    "ut = ut2.melt(id_vars=['country'], value_vars=['1999', '2000'])\n",
    "ut.head()"
   ]
  },
  {
   "cell_type": "markdown",
   "metadata": {},
   "source": [
    "### We still need to rename the column, we can do it while melting. "
   ]
  },
  {
   "cell_type": "code",
   "execution_count": 7,
   "metadata": {},
   "outputs": [
    {
     "data": {
      "text/html": [
       "<div>\n",
       "<style scoped>\n",
       "    .dataframe tbody tr th:only-of-type {\n",
       "        vertical-align: middle;\n",
       "    }\n",
       "\n",
       "    .dataframe tbody tr th {\n",
       "        vertical-align: top;\n",
       "    }\n",
       "\n",
       "    .dataframe thead th {\n",
       "        text-align: right;\n",
       "    }\n",
       "</style>\n",
       "<table border=\"1\" class=\"dataframe\">\n",
       "  <thead>\n",
       "    <tr style=\"text-align: right;\">\n",
       "      <th></th>\n",
       "      <th>country</th>\n",
       "      <th>year</th>\n",
       "      <th>value</th>\n",
       "    </tr>\n",
       "  </thead>\n",
       "  <tbody>\n",
       "    <tr>\n",
       "      <th>0</th>\n",
       "      <td>Afghanistan</td>\n",
       "      <td>1999</td>\n",
       "      <td>745</td>\n",
       "    </tr>\n",
       "    <tr>\n",
       "      <th>1</th>\n",
       "      <td>Brazil</td>\n",
       "      <td>1999</td>\n",
       "      <td>37737</td>\n",
       "    </tr>\n",
       "    <tr>\n",
       "      <th>2</th>\n",
       "      <td>China</td>\n",
       "      <td>1999</td>\n",
       "      <td>212258</td>\n",
       "    </tr>\n",
       "    <tr>\n",
       "      <th>3</th>\n",
       "      <td>Afghanistan</td>\n",
       "      <td>2000</td>\n",
       "      <td>2666</td>\n",
       "    </tr>\n",
       "    <tr>\n",
       "      <th>4</th>\n",
       "      <td>Brazil</td>\n",
       "      <td>2000</td>\n",
       "      <td>80488</td>\n",
       "    </tr>\n",
       "  </tbody>\n",
       "</table>\n",
       "</div>"
      ],
      "text/plain": [
       "       country  year   value\n",
       "0  Afghanistan  1999     745\n",
       "1       Brazil  1999   37737\n",
       "2        China  1999  212258\n",
       "3  Afghanistan  2000    2666\n",
       "4       Brazil  2000   80488"
      ]
     },
     "execution_count": 7,
     "metadata": {},
     "output_type": "execute_result"
    }
   ],
   "source": [
    "ut = ut2.melt(id_vars=['country'], value_vars=['1999', '2000'], var_name='year')\n",
    "ut.head()"
   ]
  },
  {
   "cell_type": "markdown",
   "metadata": {},
   "source": [
    "## Let's look at a big untidy dataset "
   ]
  },
  {
   "cell_type": "code",
   "execution_count": 8,
   "metadata": {},
   "outputs": [],
   "source": [
    "tb = pd.read_csv('tb.csv')"
   ]
  },
  {
   "cell_type": "code",
   "execution_count": 9,
   "metadata": {},
   "outputs": [
    {
     "data": {
      "text/html": [
       "<div>\n",
       "<style scoped>\n",
       "    .dataframe tbody tr th:only-of-type {\n",
       "        vertical-align: middle;\n",
       "    }\n",
       "\n",
       "    .dataframe tbody tr th {\n",
       "        vertical-align: top;\n",
       "    }\n",
       "\n",
       "    .dataframe thead th {\n",
       "        text-align: right;\n",
       "    }\n",
       "</style>\n",
       "<table border=\"1\" class=\"dataframe\">\n",
       "  <thead>\n",
       "    <tr style=\"text-align: right;\">\n",
       "      <th></th>\n",
       "      <th>country</th>\n",
       "      <th>iso2</th>\n",
       "      <th>iso3</th>\n",
       "      <th>year</th>\n",
       "      <th>newrel_m014</th>\n",
       "      <th>newrel_m1524</th>\n",
       "      <th>newrel_m2534</th>\n",
       "      <th>newrel_m3544</th>\n",
       "      <th>newrel_m4554</th>\n",
       "      <th>newrel_m5564</th>\n",
       "      <th>newrel_m65</th>\n",
       "      <th>newrel_f014</th>\n",
       "      <th>newrel_f1524</th>\n",
       "      <th>newrel_f2534</th>\n",
       "      <th>newrel_f3544</th>\n",
       "      <th>newrel_f4554</th>\n",
       "      <th>newrel_f5564</th>\n",
       "      <th>newrel_f65</th>\n",
       "    </tr>\n",
       "  </thead>\n",
       "  <tbody>\n",
       "    <tr>\n",
       "      <th>0</th>\n",
       "      <td>Afghanistan</td>\n",
       "      <td>AF</td>\n",
       "      <td>AFG</td>\n",
       "      <td>1980</td>\n",
       "      <td>NaN</td>\n",
       "      <td>NaN</td>\n",
       "      <td>NaN</td>\n",
       "      <td>NaN</td>\n",
       "      <td>NaN</td>\n",
       "      <td>NaN</td>\n",
       "      <td>NaN</td>\n",
       "      <td>NaN</td>\n",
       "      <td>NaN</td>\n",
       "      <td>NaN</td>\n",
       "      <td>NaN</td>\n",
       "      <td>NaN</td>\n",
       "      <td>NaN</td>\n",
       "      <td>NaN</td>\n",
       "    </tr>\n",
       "    <tr>\n",
       "      <th>1</th>\n",
       "      <td>Afghanistan</td>\n",
       "      <td>AF</td>\n",
       "      <td>AFG</td>\n",
       "      <td>1981</td>\n",
       "      <td>NaN</td>\n",
       "      <td>NaN</td>\n",
       "      <td>NaN</td>\n",
       "      <td>NaN</td>\n",
       "      <td>NaN</td>\n",
       "      <td>NaN</td>\n",
       "      <td>NaN</td>\n",
       "      <td>NaN</td>\n",
       "      <td>NaN</td>\n",
       "      <td>NaN</td>\n",
       "      <td>NaN</td>\n",
       "      <td>NaN</td>\n",
       "      <td>NaN</td>\n",
       "      <td>NaN</td>\n",
       "    </tr>\n",
       "    <tr>\n",
       "      <th>2</th>\n",
       "      <td>Afghanistan</td>\n",
       "      <td>AF</td>\n",
       "      <td>AFG</td>\n",
       "      <td>1982</td>\n",
       "      <td>NaN</td>\n",
       "      <td>NaN</td>\n",
       "      <td>NaN</td>\n",
       "      <td>NaN</td>\n",
       "      <td>NaN</td>\n",
       "      <td>NaN</td>\n",
       "      <td>NaN</td>\n",
       "      <td>NaN</td>\n",
       "      <td>NaN</td>\n",
       "      <td>NaN</td>\n",
       "      <td>NaN</td>\n",
       "      <td>NaN</td>\n",
       "      <td>NaN</td>\n",
       "      <td>NaN</td>\n",
       "    </tr>\n",
       "    <tr>\n",
       "      <th>3</th>\n",
       "      <td>Afghanistan</td>\n",
       "      <td>AF</td>\n",
       "      <td>AFG</td>\n",
       "      <td>1983</td>\n",
       "      <td>NaN</td>\n",
       "      <td>NaN</td>\n",
       "      <td>NaN</td>\n",
       "      <td>NaN</td>\n",
       "      <td>NaN</td>\n",
       "      <td>NaN</td>\n",
       "      <td>NaN</td>\n",
       "      <td>NaN</td>\n",
       "      <td>NaN</td>\n",
       "      <td>NaN</td>\n",
       "      <td>NaN</td>\n",
       "      <td>NaN</td>\n",
       "      <td>NaN</td>\n",
       "      <td>NaN</td>\n",
       "    </tr>\n",
       "    <tr>\n",
       "      <th>4</th>\n",
       "      <td>Afghanistan</td>\n",
       "      <td>AF</td>\n",
       "      <td>AFG</td>\n",
       "      <td>1984</td>\n",
       "      <td>NaN</td>\n",
       "      <td>NaN</td>\n",
       "      <td>NaN</td>\n",
       "      <td>NaN</td>\n",
       "      <td>NaN</td>\n",
       "      <td>NaN</td>\n",
       "      <td>NaN</td>\n",
       "      <td>NaN</td>\n",
       "      <td>NaN</td>\n",
       "      <td>NaN</td>\n",
       "      <td>NaN</td>\n",
       "      <td>NaN</td>\n",
       "      <td>NaN</td>\n",
       "      <td>NaN</td>\n",
       "    </tr>\n",
       "  </tbody>\n",
       "</table>\n",
       "</div>"
      ],
      "text/plain": [
       "       country iso2 iso3  year  newrel_m014  newrel_m1524  newrel_m2534  \\\n",
       "0  Afghanistan   AF  AFG  1980          NaN           NaN           NaN   \n",
       "1  Afghanistan   AF  AFG  1981          NaN           NaN           NaN   \n",
       "2  Afghanistan   AF  AFG  1982          NaN           NaN           NaN   \n",
       "3  Afghanistan   AF  AFG  1983          NaN           NaN           NaN   \n",
       "4  Afghanistan   AF  AFG  1984          NaN           NaN           NaN   \n",
       "\n",
       "   newrel_m3544  newrel_m4554  newrel_m5564  newrel_m65  newrel_f014  \\\n",
       "0           NaN           NaN           NaN         NaN          NaN   \n",
       "1           NaN           NaN           NaN         NaN          NaN   \n",
       "2           NaN           NaN           NaN         NaN          NaN   \n",
       "3           NaN           NaN           NaN         NaN          NaN   \n",
       "4           NaN           NaN           NaN         NaN          NaN   \n",
       "\n",
       "   newrel_f1524  newrel_f2534  newrel_f3544  newrel_f4554  newrel_f5564  \\\n",
       "0           NaN           NaN           NaN           NaN           NaN   \n",
       "1           NaN           NaN           NaN           NaN           NaN   \n",
       "2           NaN           NaN           NaN           NaN           NaN   \n",
       "3           NaN           NaN           NaN           NaN           NaN   \n",
       "4           NaN           NaN           NaN           NaN           NaN   \n",
       "\n",
       "   newrel_f65  \n",
       "0         NaN  \n",
       "1         NaN  \n",
       "2         NaN  \n",
       "3         NaN  \n",
       "4         NaN  "
      ]
     },
     "execution_count": 9,
     "metadata": {},
     "output_type": "execute_result"
    }
   ],
   "source": [
    "tb.head()"
   ]
  },
  {
   "cell_type": "markdown",
   "metadata": {},
   "source": [
    "### Let us take a look at the columns"
   ]
  },
  {
   "cell_type": "code",
   "execution_count": 10,
   "metadata": {},
   "outputs": [
    {
     "data": {
      "text/plain": [
       "Index(['country', 'iso2', 'iso3', 'year', 'newrel_m014', 'newrel_m1524',\n",
       "       'newrel_m2534', 'newrel_m3544', 'newrel_m4554', 'newrel_m5564',\n",
       "       'newrel_m65', 'newrel_f014', 'newrel_f1524', 'newrel_f2534',\n",
       "       'newrel_f3544', 'newrel_f4554', 'newrel_f5564', 'newrel_f65'],\n",
       "      dtype='object')"
      ]
     },
     "execution_count": 10,
     "metadata": {},
     "output_type": "execute_result"
    }
   ],
   "source": [
    "tb.columns"
   ]
  },
  {
   "cell_type": "markdown",
   "metadata": {},
   "source": [
    "### The columns names are difficult to understand, let's see the metadata "
   ]
  },
  {
   "cell_type": "code",
   "execution_count": 11,
   "metadata": {},
   "outputs": [],
   "source": [
    "tb_meta = pd.read_csv('tb_meta.csv')"
   ]
  },
  {
   "cell_type": "code",
   "execution_count": 12,
   "metadata": {},
   "outputs": [
    {
     "data": {
      "text/html": [
       "<div>\n",
       "<style scoped>\n",
       "    .dataframe tbody tr th:only-of-type {\n",
       "        vertical-align: middle;\n",
       "    }\n",
       "\n",
       "    .dataframe tbody tr th {\n",
       "        vertical-align: top;\n",
       "    }\n",
       "\n",
       "    .dataframe thead th {\n",
       "        text-align: right;\n",
       "    }\n",
       "</style>\n",
       "<table border=\"1\" class=\"dataframe\">\n",
       "  <thead>\n",
       "    <tr style=\"text-align: right;\">\n",
       "      <th></th>\n",
       "      <th>variable_name</th>\n",
       "      <th>dataset</th>\n",
       "      <th>code_list</th>\n",
       "      <th>definition</th>\n",
       "    </tr>\n",
       "  </thead>\n",
       "  <tbody>\n",
       "    <tr>\n",
       "      <th>0</th>\n",
       "      <td>budget_cpp_dstb</td>\n",
       "      <td>Budget</td>\n",
       "      <td>NaN</td>\n",
       "      <td>Average cost of drugs budgeted per patient for...</td>\n",
       "    </tr>\n",
       "    <tr>\n",
       "      <th>1</th>\n",
       "      <td>budget_cpp_mdr</td>\n",
       "      <td>Budget</td>\n",
       "      <td>NaN</td>\n",
       "      <td>Average cost of drugs budgeted per patient for...</td>\n",
       "    </tr>\n",
       "    <tr>\n",
       "      <th>2</th>\n",
       "      <td>budget_cpp_tpt</td>\n",
       "      <td>Budget</td>\n",
       "      <td>NaN</td>\n",
       "      <td>Average cost of drugs budgeted per patient for...</td>\n",
       "    </tr>\n",
       "    <tr>\n",
       "      <th>3</th>\n",
       "      <td>budget_cpp_xdr</td>\n",
       "      <td>Budget</td>\n",
       "      <td>NaN</td>\n",
       "      <td>Average cost of drugs budgeted per patient for...</td>\n",
       "    </tr>\n",
       "    <tr>\n",
       "      <th>4</th>\n",
       "      <td>budget_fld</td>\n",
       "      <td>Budget</td>\n",
       "      <td>NaN</td>\n",
       "      <td>Budget required for drugs to treat drug-suscep...</td>\n",
       "    </tr>\n",
       "  </tbody>\n",
       "</table>\n",
       "</div>"
      ],
      "text/plain": [
       "     variable_name dataset code_list  \\\n",
       "0  budget_cpp_dstb  Budget       NaN   \n",
       "1   budget_cpp_mdr  Budget       NaN   \n",
       "2   budget_cpp_tpt  Budget       NaN   \n",
       "3   budget_cpp_xdr  Budget       NaN   \n",
       "4       budget_fld  Budget       NaN   \n",
       "\n",
       "                                          definition  \n",
       "0  Average cost of drugs budgeted per patient for...  \n",
       "1  Average cost of drugs budgeted per patient for...  \n",
       "2  Average cost of drugs budgeted per patient for...  \n",
       "3  Average cost of drugs budgeted per patient for...  \n",
       "4  Budget required for drugs to treat drug-suscep...  "
      ]
     },
     "execution_count": 12,
     "metadata": {},
     "output_type": "execute_result"
    }
   ],
   "source": [
    "tb_meta.head()"
   ]
  },
  {
   "cell_type": "markdown",
   "metadata": {},
   "source": [
    "### Let's look at the variables specific to to the columns presnt in tb"
   ]
  },
  {
   "cell_type": "code",
   "execution_count": 13,
   "metadata": {},
   "outputs": [],
   "source": [
    "curr_meta = tb_meta[tb_meta['variable_name'].isin(tb.columns)]"
   ]
  },
  {
   "cell_type": "code",
   "execution_count": 14,
   "metadata": {},
   "outputs": [
    {
     "data": {
      "text/html": [
       "<div>\n",
       "<style scoped>\n",
       "    .dataframe tbody tr th:only-of-type {\n",
       "        vertical-align: middle;\n",
       "    }\n",
       "\n",
       "    .dataframe tbody tr th {\n",
       "        vertical-align: top;\n",
       "    }\n",
       "\n",
       "    .dataframe thead th {\n",
       "        text-align: right;\n",
       "    }\n",
       "</style>\n",
       "<table border=\"1\" class=\"dataframe\">\n",
       "  <thead>\n",
       "    <tr style=\"text-align: right;\">\n",
       "      <th></th>\n",
       "      <th>variable_name</th>\n",
       "      <th>dataset</th>\n",
       "      <th>code_list</th>\n",
       "      <th>definition</th>\n",
       "    </tr>\n",
       "  </thead>\n",
       "  <tbody>\n",
       "    <tr>\n",
       "      <th>71</th>\n",
       "      <td>country</td>\n",
       "      <td>Country identification</td>\n",
       "      <td>NaN</td>\n",
       "      <td>Country or territory name</td>\n",
       "    </tr>\n",
       "    <tr>\n",
       "      <th>74</th>\n",
       "      <td>iso2</td>\n",
       "      <td>Country identification</td>\n",
       "      <td>NaN</td>\n",
       "      <td>ISO 2-character country/territory code</td>\n",
       "    </tr>\n",
       "    <tr>\n",
       "      <th>75</th>\n",
       "      <td>iso3</td>\n",
       "      <td>Country identification</td>\n",
       "      <td>NaN</td>\n",
       "      <td>ISO 3-character country/territory code</td>\n",
       "    </tr>\n",
       "    <tr>\n",
       "      <th>436</th>\n",
       "      <td>newrel_f014</td>\n",
       "      <td>Notification</td>\n",
       "      <td>NaN</td>\n",
       "      <td>New and relapse cases (but only new cases if r...</td>\n",
       "    </tr>\n",
       "    <tr>\n",
       "      <th>440</th>\n",
       "      <td>newrel_f1524</td>\n",
       "      <td>Notification</td>\n",
       "      <td>NaN</td>\n",
       "      <td>New and relapse cases (but only new cases if r...</td>\n",
       "    </tr>\n",
       "  </tbody>\n",
       "</table>\n",
       "</div>"
      ],
      "text/plain": [
       "    variable_name                 dataset code_list  \\\n",
       "71        country  Country identification       NaN   \n",
       "74           iso2  Country identification       NaN   \n",
       "75           iso3  Country identification       NaN   \n",
       "436   newrel_f014            Notification       NaN   \n",
       "440  newrel_f1524            Notification       NaN   \n",
       "\n",
       "                                            definition  \n",
       "71                           Country or territory name  \n",
       "74              ISO 2-character country/territory code  \n",
       "75              ISO 3-character country/territory code  \n",
       "436  New and relapse cases (but only new cases if r...  \n",
       "440  New and relapse cases (but only new cases if r...  "
      ]
     },
     "execution_count": 14,
     "metadata": {},
     "output_type": "execute_result"
    }
   ],
   "source": [
    "curr_meta.head()"
   ]
  },
  {
   "cell_type": "markdown",
   "metadata": {},
   "source": [
    "### the dataset and code_list colunms are not that useful, so we remove them"
   ]
  },
  {
   "cell_type": "code",
   "execution_count": 15,
   "metadata": {},
   "outputs": [
    {
     "name": "stdout",
     "output_type": "stream",
     "text": [
      "(17, 4)\n"
     ]
    }
   ],
   "source": [
    "print(curr_meta.shape)\n",
    "curr_meta = curr_meta.drop(columns=['dataset', 'code_list'])"
   ]
  },
  {
   "cell_type": "code",
   "execution_count": 16,
   "metadata": {},
   "outputs": [
    {
     "name": "stdout",
     "output_type": "stream",
     "text": [
      "(17, 2)\n",
      "country: Country or territory name\n",
      "iso2: ISO 2-character country/territory code\n",
      "iso3: ISO 3-character country/territory code\n",
      "newrel_f014: New and relapse cases (but only new cases if rel_in_agesex_flg = 0): females aged 0-14 years\n",
      "newrel_f1524: New and relapse cases (but only new cases if rel_in_agesex_flg = 0): females aged 15-24 years\n",
      "newrel_f2534: New and relapse cases (but only new cases if rel_in_agesex_flg = 0): females aged 25-34 years\n",
      "newrel_f3544: New and relapse cases (but only new cases if rel_in_agesex_flg = 0): females aged 35-44 years\n",
      "newrel_f4554: New and relapse cases (but only new cases if rel_in_agesex_flg = 0): females aged 45-54 years\n",
      "newrel_f5564: New and relapse cases (but only new cases if rel_in_agesex_flg = 0): females aged 55-64 years\n",
      "newrel_f65: New and relapse cases (but only new cases if rel_in_agesex_flg = 0): females aged 65 years and over\n",
      "newrel_m014: New and relapse cases (but only new cases if rel_in_agesex_flg = 0): males aged 0-14 years\n",
      "newrel_m1524: New and relapse cases (but only new cases if rel_in_agesex_flg = 0): males aged 15-24 years\n",
      "newrel_m2534: New and relapse cases (but only new cases if rel_in_agesex_flg = 0): males aged 25-34 years\n",
      "newrel_m3544: New and relapse cases (but only new cases if rel_in_agesex_flg = 0): males aged 35-44 years\n",
      "newrel_m4554: New and relapse cases (but only new cases if rel_in_agesex_flg = 0): males aged 45-54 years\n",
      "newrel_m5564: New and relapse cases (but only new cases if rel_in_agesex_flg = 0): males aged 55-64 years\n",
      "newrel_m65: New and relapse cases (but only new cases if rel_in_agesex_flg = 0): males aged 65 years and over\n"
     ]
    }
   ],
   "source": [
    "print(curr_meta.shape)\n",
    "for i in range(curr_meta.shape[0]): \n",
    "    entry = curr_meta.iloc[i]\n",
    "    print(f'{entry.variable_name}: {entry.definition}')\n",
    "\n"
   ]
  },
  {
   "cell_type": "markdown",
   "metadata": {},
   "source": [
    "### Now we will define some functions to tidy up the tb dataset "
   ]
  },
  {
   "cell_type": "code",
   "execution_count": 17,
   "metadata": {},
   "outputs": [
    {
     "data": {
      "text/html": [
       "<div>\n",
       "<style scoped>\n",
       "    .dataframe tbody tr th:only-of-type {\n",
       "        vertical-align: middle;\n",
       "    }\n",
       "\n",
       "    .dataframe tbody tr th {\n",
       "        vertical-align: top;\n",
       "    }\n",
       "\n",
       "    .dataframe thead th {\n",
       "        text-align: right;\n",
       "    }\n",
       "</style>\n",
       "<table border=\"1\" class=\"dataframe\">\n",
       "  <thead>\n",
       "    <tr style=\"text-align: right;\">\n",
       "      <th></th>\n",
       "      <th>country</th>\n",
       "      <th>iso2</th>\n",
       "      <th>iso3</th>\n",
       "      <th>year</th>\n",
       "      <th>newrel_m014</th>\n",
       "      <th>newrel_m1524</th>\n",
       "      <th>newrel_m2534</th>\n",
       "      <th>newrel_m3544</th>\n",
       "      <th>newrel_m4554</th>\n",
       "      <th>newrel_m5564</th>\n",
       "      <th>newrel_m65</th>\n",
       "      <th>newrel_f014</th>\n",
       "      <th>newrel_f1524</th>\n",
       "      <th>newrel_f2534</th>\n",
       "      <th>newrel_f3544</th>\n",
       "      <th>newrel_f4554</th>\n",
       "      <th>newrel_f5564</th>\n",
       "      <th>newrel_f65</th>\n",
       "    </tr>\n",
       "  </thead>\n",
       "  <tbody>\n",
       "    <tr>\n",
       "      <th>0</th>\n",
       "      <td>Afghanistan</td>\n",
       "      <td>AF</td>\n",
       "      <td>AFG</td>\n",
       "      <td>1980</td>\n",
       "      <td>NaN</td>\n",
       "      <td>NaN</td>\n",
       "      <td>NaN</td>\n",
       "      <td>NaN</td>\n",
       "      <td>NaN</td>\n",
       "      <td>NaN</td>\n",
       "      <td>NaN</td>\n",
       "      <td>NaN</td>\n",
       "      <td>NaN</td>\n",
       "      <td>NaN</td>\n",
       "      <td>NaN</td>\n",
       "      <td>NaN</td>\n",
       "      <td>NaN</td>\n",
       "      <td>NaN</td>\n",
       "    </tr>\n",
       "    <tr>\n",
       "      <th>1</th>\n",
       "      <td>Afghanistan</td>\n",
       "      <td>AF</td>\n",
       "      <td>AFG</td>\n",
       "      <td>1981</td>\n",
       "      <td>NaN</td>\n",
       "      <td>NaN</td>\n",
       "      <td>NaN</td>\n",
       "      <td>NaN</td>\n",
       "      <td>NaN</td>\n",
       "      <td>NaN</td>\n",
       "      <td>NaN</td>\n",
       "      <td>NaN</td>\n",
       "      <td>NaN</td>\n",
       "      <td>NaN</td>\n",
       "      <td>NaN</td>\n",
       "      <td>NaN</td>\n",
       "      <td>NaN</td>\n",
       "      <td>NaN</td>\n",
       "    </tr>\n",
       "    <tr>\n",
       "      <th>2</th>\n",
       "      <td>Afghanistan</td>\n",
       "      <td>AF</td>\n",
       "      <td>AFG</td>\n",
       "      <td>1982</td>\n",
       "      <td>NaN</td>\n",
       "      <td>NaN</td>\n",
       "      <td>NaN</td>\n",
       "      <td>NaN</td>\n",
       "      <td>NaN</td>\n",
       "      <td>NaN</td>\n",
       "      <td>NaN</td>\n",
       "      <td>NaN</td>\n",
       "      <td>NaN</td>\n",
       "      <td>NaN</td>\n",
       "      <td>NaN</td>\n",
       "      <td>NaN</td>\n",
       "      <td>NaN</td>\n",
       "      <td>NaN</td>\n",
       "    </tr>\n",
       "    <tr>\n",
       "      <th>3</th>\n",
       "      <td>Afghanistan</td>\n",
       "      <td>AF</td>\n",
       "      <td>AFG</td>\n",
       "      <td>1983</td>\n",
       "      <td>NaN</td>\n",
       "      <td>NaN</td>\n",
       "      <td>NaN</td>\n",
       "      <td>NaN</td>\n",
       "      <td>NaN</td>\n",
       "      <td>NaN</td>\n",
       "      <td>NaN</td>\n",
       "      <td>NaN</td>\n",
       "      <td>NaN</td>\n",
       "      <td>NaN</td>\n",
       "      <td>NaN</td>\n",
       "      <td>NaN</td>\n",
       "      <td>NaN</td>\n",
       "      <td>NaN</td>\n",
       "    </tr>\n",
       "    <tr>\n",
       "      <th>4</th>\n",
       "      <td>Afghanistan</td>\n",
       "      <td>AF</td>\n",
       "      <td>AFG</td>\n",
       "      <td>1984</td>\n",
       "      <td>NaN</td>\n",
       "      <td>NaN</td>\n",
       "      <td>NaN</td>\n",
       "      <td>NaN</td>\n",
       "      <td>NaN</td>\n",
       "      <td>NaN</td>\n",
       "      <td>NaN</td>\n",
       "      <td>NaN</td>\n",
       "      <td>NaN</td>\n",
       "      <td>NaN</td>\n",
       "      <td>NaN</td>\n",
       "      <td>NaN</td>\n",
       "      <td>NaN</td>\n",
       "      <td>NaN</td>\n",
       "    </tr>\n",
       "  </tbody>\n",
       "</table>\n",
       "</div>"
      ],
      "text/plain": [
       "       country iso2 iso3  year  newrel_m014  newrel_m1524  newrel_m2534  \\\n",
       "0  Afghanistan   AF  AFG  1980          NaN           NaN           NaN   \n",
       "1  Afghanistan   AF  AFG  1981          NaN           NaN           NaN   \n",
       "2  Afghanistan   AF  AFG  1982          NaN           NaN           NaN   \n",
       "3  Afghanistan   AF  AFG  1983          NaN           NaN           NaN   \n",
       "4  Afghanistan   AF  AFG  1984          NaN           NaN           NaN   \n",
       "\n",
       "   newrel_m3544  newrel_m4554  newrel_m5564  newrel_m65  newrel_f014  \\\n",
       "0           NaN           NaN           NaN         NaN          NaN   \n",
       "1           NaN           NaN           NaN         NaN          NaN   \n",
       "2           NaN           NaN           NaN         NaN          NaN   \n",
       "3           NaN           NaN           NaN         NaN          NaN   \n",
       "4           NaN           NaN           NaN         NaN          NaN   \n",
       "\n",
       "   newrel_f1524  newrel_f2534  newrel_f3544  newrel_f4554  newrel_f5564  \\\n",
       "0           NaN           NaN           NaN           NaN           NaN   \n",
       "1           NaN           NaN           NaN           NaN           NaN   \n",
       "2           NaN           NaN           NaN           NaN           NaN   \n",
       "3           NaN           NaN           NaN           NaN           NaN   \n",
       "4           NaN           NaN           NaN           NaN           NaN   \n",
       "\n",
       "   newrel_f65  \n",
       "0         NaN  \n",
       "1         NaN  \n",
       "2         NaN  \n",
       "3         NaN  \n",
       "4         NaN  "
      ]
     },
     "execution_count": 17,
     "metadata": {},
     "output_type": "execute_result"
    }
   ],
   "source": [
    "tb.head()"
   ]
  },
  {
   "cell_type": "code",
   "execution_count": 18,
   "metadata": {},
   "outputs": [
    {
     "data": {
      "text/html": [
       "<div>\n",
       "<style scoped>\n",
       "    .dataframe tbody tr th:only-of-type {\n",
       "        vertical-align: middle;\n",
       "    }\n",
       "\n",
       "    .dataframe tbody tr th {\n",
       "        vertical-align: top;\n",
       "    }\n",
       "\n",
       "    .dataframe thead th {\n",
       "        text-align: right;\n",
       "    }\n",
       "</style>\n",
       "<table border=\"1\" class=\"dataframe\">\n",
       "  <thead>\n",
       "    <tr style=\"text-align: right;\">\n",
       "      <th></th>\n",
       "      <th>country</th>\n",
       "      <th>year</th>\n",
       "      <th>newrel_m014</th>\n",
       "      <th>newrel_m1524</th>\n",
       "      <th>newrel_m2534</th>\n",
       "      <th>newrel_m3544</th>\n",
       "      <th>newrel_m4554</th>\n",
       "      <th>newrel_m5564</th>\n",
       "      <th>newrel_m65</th>\n",
       "      <th>newrel_f014</th>\n",
       "      <th>newrel_f1524</th>\n",
       "      <th>newrel_f2534</th>\n",
       "      <th>newrel_f3544</th>\n",
       "      <th>newrel_f4554</th>\n",
       "      <th>newrel_f5564</th>\n",
       "      <th>newrel_f65</th>\n",
       "    </tr>\n",
       "  </thead>\n",
       "  <tbody>\n",
       "    <tr>\n",
       "      <th>0</th>\n",
       "      <td>Afghanistan</td>\n",
       "      <td>1980</td>\n",
       "      <td>NaN</td>\n",
       "      <td>NaN</td>\n",
       "      <td>NaN</td>\n",
       "      <td>NaN</td>\n",
       "      <td>NaN</td>\n",
       "      <td>NaN</td>\n",
       "      <td>NaN</td>\n",
       "      <td>NaN</td>\n",
       "      <td>NaN</td>\n",
       "      <td>NaN</td>\n",
       "      <td>NaN</td>\n",
       "      <td>NaN</td>\n",
       "      <td>NaN</td>\n",
       "      <td>NaN</td>\n",
       "    </tr>\n",
       "    <tr>\n",
       "      <th>1</th>\n",
       "      <td>Afghanistan</td>\n",
       "      <td>1981</td>\n",
       "      <td>NaN</td>\n",
       "      <td>NaN</td>\n",
       "      <td>NaN</td>\n",
       "      <td>NaN</td>\n",
       "      <td>NaN</td>\n",
       "      <td>NaN</td>\n",
       "      <td>NaN</td>\n",
       "      <td>NaN</td>\n",
       "      <td>NaN</td>\n",
       "      <td>NaN</td>\n",
       "      <td>NaN</td>\n",
       "      <td>NaN</td>\n",
       "      <td>NaN</td>\n",
       "      <td>NaN</td>\n",
       "    </tr>\n",
       "    <tr>\n",
       "      <th>2</th>\n",
       "      <td>Afghanistan</td>\n",
       "      <td>1982</td>\n",
       "      <td>NaN</td>\n",
       "      <td>NaN</td>\n",
       "      <td>NaN</td>\n",
       "      <td>NaN</td>\n",
       "      <td>NaN</td>\n",
       "      <td>NaN</td>\n",
       "      <td>NaN</td>\n",
       "      <td>NaN</td>\n",
       "      <td>NaN</td>\n",
       "      <td>NaN</td>\n",
       "      <td>NaN</td>\n",
       "      <td>NaN</td>\n",
       "      <td>NaN</td>\n",
       "      <td>NaN</td>\n",
       "    </tr>\n",
       "    <tr>\n",
       "      <th>...</th>\n",
       "      <td>...</td>\n",
       "      <td>...</td>\n",
       "      <td>...</td>\n",
       "      <td>...</td>\n",
       "      <td>...</td>\n",
       "      <td>...</td>\n",
       "      <td>...</td>\n",
       "      <td>...</td>\n",
       "      <td>...</td>\n",
       "      <td>...</td>\n",
       "      <td>...</td>\n",
       "      <td>...</td>\n",
       "      <td>...</td>\n",
       "      <td>...</td>\n",
       "      <td>...</td>\n",
       "      <td>...</td>\n",
       "    </tr>\n",
       "    <tr>\n",
       "      <th>17</th>\n",
       "      <td>Afghanistan</td>\n",
       "      <td>1997</td>\n",
       "      <td>NaN</td>\n",
       "      <td>NaN</td>\n",
       "      <td>NaN</td>\n",
       "      <td>NaN</td>\n",
       "      <td>NaN</td>\n",
       "      <td>NaN</td>\n",
       "      <td>NaN</td>\n",
       "      <td>NaN</td>\n",
       "      <td>NaN</td>\n",
       "      <td>NaN</td>\n",
       "      <td>NaN</td>\n",
       "      <td>NaN</td>\n",
       "      <td>NaN</td>\n",
       "      <td>NaN</td>\n",
       "    </tr>\n",
       "    <tr>\n",
       "      <th>18</th>\n",
       "      <td>Afghanistan</td>\n",
       "      <td>1998</td>\n",
       "      <td>NaN</td>\n",
       "      <td>NaN</td>\n",
       "      <td>NaN</td>\n",
       "      <td>NaN</td>\n",
       "      <td>NaN</td>\n",
       "      <td>NaN</td>\n",
       "      <td>NaN</td>\n",
       "      <td>NaN</td>\n",
       "      <td>NaN</td>\n",
       "      <td>NaN</td>\n",
       "      <td>NaN</td>\n",
       "      <td>NaN</td>\n",
       "      <td>NaN</td>\n",
       "      <td>NaN</td>\n",
       "    </tr>\n",
       "    <tr>\n",
       "      <th>19</th>\n",
       "      <td>Afghanistan</td>\n",
       "      <td>1999</td>\n",
       "      <td>NaN</td>\n",
       "      <td>NaN</td>\n",
       "      <td>NaN</td>\n",
       "      <td>NaN</td>\n",
       "      <td>NaN</td>\n",
       "      <td>NaN</td>\n",
       "      <td>NaN</td>\n",
       "      <td>NaN</td>\n",
       "      <td>NaN</td>\n",
       "      <td>NaN</td>\n",
       "      <td>NaN</td>\n",
       "      <td>NaN</td>\n",
       "      <td>NaN</td>\n",
       "      <td>NaN</td>\n",
       "    </tr>\n",
       "  </tbody>\n",
       "</table>\n",
       "<p>20 rows × 16 columns</p>\n",
       "</div>"
      ],
      "text/plain": [
       "        country  year  newrel_m014  newrel_m1524  newrel_m2534  newrel_m3544  \\\n",
       "0   Afghanistan  1980          NaN           NaN           NaN           NaN   \n",
       "1   Afghanistan  1981          NaN           NaN           NaN           NaN   \n",
       "2   Afghanistan  1982          NaN           NaN           NaN           NaN   \n",
       "..          ...   ...          ...           ...           ...           ...   \n",
       "17  Afghanistan  1997          NaN           NaN           NaN           NaN   \n",
       "18  Afghanistan  1998          NaN           NaN           NaN           NaN   \n",
       "19  Afghanistan  1999          NaN           NaN           NaN           NaN   \n",
       "\n",
       "    newrel_m4554  newrel_m5564  newrel_m65  newrel_f014  newrel_f1524  \\\n",
       "0            NaN           NaN         NaN          NaN           NaN   \n",
       "1            NaN           NaN         NaN          NaN           NaN   \n",
       "2            NaN           NaN         NaN          NaN           NaN   \n",
       "..           ...           ...         ...          ...           ...   \n",
       "17           NaN           NaN         NaN          NaN           NaN   \n",
       "18           NaN           NaN         NaN          NaN           NaN   \n",
       "19           NaN           NaN         NaN          NaN           NaN   \n",
       "\n",
       "    newrel_f2534  newrel_f3544  newrel_f4554  newrel_f5564  newrel_f65  \n",
       "0            NaN           NaN           NaN           NaN         NaN  \n",
       "1            NaN           NaN           NaN           NaN         NaN  \n",
       "2            NaN           NaN           NaN           NaN         NaN  \n",
       "..           ...           ...           ...           ...         ...  \n",
       "17           NaN           NaN           NaN           NaN         NaN  \n",
       "18           NaN           NaN           NaN           NaN         NaN  \n",
       "19           NaN           NaN           NaN           NaN         NaN  \n",
       "\n",
       "[20 rows x 16 columns]"
      ]
     },
     "execution_count": 18,
     "metadata": {},
     "output_type": "execute_result"
    }
   ],
   "source": [
    "## define a function to drop 'iso2' and 'iso3'\n",
    "def drop_iso(df):\n",
    "    new_df = df.drop(columns=['iso2', 'iso3'])\n",
    "    return new_df\n",
    "\n",
    "tb_drop_iso = drop_iso(tb)\n",
    "tb_drop_iso.head(20)"
   ]
  },
  {
   "cell_type": "code",
   "execution_count": 19,
   "metadata": {},
   "outputs": [
    {
     "data": {
      "text/html": [
       "<div>\n",
       "<style scoped>\n",
       "    .dataframe tbody tr th:only-of-type {\n",
       "        vertical-align: middle;\n",
       "    }\n",
       "\n",
       "    .dataframe tbody tr th {\n",
       "        vertical-align: top;\n",
       "    }\n",
       "\n",
       "    .dataframe thead th {\n",
       "        text-align: right;\n",
       "    }\n",
       "</style>\n",
       "<table border=\"1\" class=\"dataframe\">\n",
       "  <thead>\n",
       "    <tr style=\"text-align: right;\">\n",
       "      <th></th>\n",
       "      <th>country</th>\n",
       "      <th>year</th>\n",
       "      <th>entry</th>\n",
       "      <th>count</th>\n",
       "    </tr>\n",
       "  </thead>\n",
       "  <tbody>\n",
       "    <tr>\n",
       "      <th>0</th>\n",
       "      <td>Afghanistan</td>\n",
       "      <td>1980</td>\n",
       "      <td>newrel_m014</td>\n",
       "      <td>NaN</td>\n",
       "    </tr>\n",
       "    <tr>\n",
       "      <th>1</th>\n",
       "      <td>Afghanistan</td>\n",
       "      <td>1981</td>\n",
       "      <td>newrel_m014</td>\n",
       "      <td>NaN</td>\n",
       "    </tr>\n",
       "    <tr>\n",
       "      <th>2</th>\n",
       "      <td>Afghanistan</td>\n",
       "      <td>1982</td>\n",
       "      <td>newrel_m014</td>\n",
       "      <td>NaN</td>\n",
       "    </tr>\n",
       "    <tr>\n",
       "      <th>3</th>\n",
       "      <td>Afghanistan</td>\n",
       "      <td>1983</td>\n",
       "      <td>newrel_m014</td>\n",
       "      <td>NaN</td>\n",
       "    </tr>\n",
       "    <tr>\n",
       "      <th>4</th>\n",
       "      <td>Afghanistan</td>\n",
       "      <td>1984</td>\n",
       "      <td>newrel_m014</td>\n",
       "      <td>NaN</td>\n",
       "    </tr>\n",
       "  </tbody>\n",
       "</table>\n",
       "</div>"
      ],
      "text/plain": [
       "       country  year        entry  count\n",
       "0  Afghanistan  1980  newrel_m014    NaN\n",
       "1  Afghanistan  1981  newrel_m014    NaN\n",
       "2  Afghanistan  1982  newrel_m014    NaN\n",
       "3  Afghanistan  1983  newrel_m014    NaN\n",
       "4  Afghanistan  1984  newrel_m014    NaN"
      ]
     },
     "execution_count": 19,
     "metadata": {},
     "output_type": "execute_result"
    }
   ],
   "source": [
    "## define a function to make a dataframe tidy using pd.melt\n",
    "## use country and year as id_vars\n",
    "## set var_name as 'entry'\n",
    "## set value_name as 'count'\n",
    "\n",
    "def make_tidy(df):\n",
    "    new_df = df.melt(id_vars=['country', 'year'], var_name='entry', value_name='count')\n",
    "    return new_df\n",
    "\n",
    "tidy_tb = make_tidy(tb_drop_iso)\n",
    "tidy_tb.head()"
   ]
  },
  {
   "cell_type": "markdown",
   "metadata": {},
   "source": [
    "### We will now introduce some new columns into our dataframe.\n",
    "We will use the df.assign function. You can read more about it https://pandas.pydata.org/docs/reference/api/pandas.DataFrame.assign.html"
   ]
  },
  {
   "cell_type": "code",
   "execution_count": 20,
   "metadata": {},
   "outputs": [
    {
     "data": {
      "text/html": [
       "<div>\n",
       "<style scoped>\n",
       "    .dataframe tbody tr th:only-of-type {\n",
       "        vertical-align: middle;\n",
       "    }\n",
       "\n",
       "    .dataframe tbody tr th {\n",
       "        vertical-align: top;\n",
       "    }\n",
       "\n",
       "    .dataframe thead th {\n",
       "        text-align: right;\n",
       "    }\n",
       "</style>\n",
       "<table border=\"1\" class=\"dataframe\">\n",
       "  <thead>\n",
       "    <tr style=\"text-align: right;\">\n",
       "      <th></th>\n",
       "      <th>country</th>\n",
       "      <th>year</th>\n",
       "      <th>count</th>\n",
       "      <th>sex</th>\n",
       "      <th>agecode</th>\n",
       "    </tr>\n",
       "  </thead>\n",
       "  <tbody>\n",
       "    <tr>\n",
       "      <th>0</th>\n",
       "      <td>Afghanistan</td>\n",
       "      <td>1980</td>\n",
       "      <td>NaN</td>\n",
       "      <td>m</td>\n",
       "      <td>014</td>\n",
       "    </tr>\n",
       "    <tr>\n",
       "      <th>1</th>\n",
       "      <td>Afghanistan</td>\n",
       "      <td>1981</td>\n",
       "      <td>NaN</td>\n",
       "      <td>m</td>\n",
       "      <td>014</td>\n",
       "    </tr>\n",
       "    <tr>\n",
       "      <th>2</th>\n",
       "      <td>Afghanistan</td>\n",
       "      <td>1982</td>\n",
       "      <td>NaN</td>\n",
       "      <td>m</td>\n",
       "      <td>014</td>\n",
       "    </tr>\n",
       "    <tr>\n",
       "      <th>...</th>\n",
       "      <td>...</td>\n",
       "      <td>...</td>\n",
       "      <td>...</td>\n",
       "      <td>...</td>\n",
       "      <td>...</td>\n",
       "    </tr>\n",
       "    <tr>\n",
       "      <th>101357</th>\n",
       "      <td>Zimbabwe</td>\n",
       "      <td>2011</td>\n",
       "      <td>NaN</td>\n",
       "      <td>f</td>\n",
       "      <td>65</td>\n",
       "    </tr>\n",
       "    <tr>\n",
       "      <th>101358</th>\n",
       "      <td>Zimbabwe</td>\n",
       "      <td>2012</td>\n",
       "      <td>NaN</td>\n",
       "      <td>f</td>\n",
       "      <td>65</td>\n",
       "    </tr>\n",
       "    <tr>\n",
       "      <th>101359</th>\n",
       "      <td>Zimbabwe</td>\n",
       "      <td>2013</td>\n",
       "      <td>725.0</td>\n",
       "      <td>f</td>\n",
       "      <td>65</td>\n",
       "    </tr>\n",
       "  </tbody>\n",
       "</table>\n",
       "<p>101360 rows × 5 columns</p>\n",
       "</div>"
      ],
      "text/plain": [
       "            country  year  count sex agecode\n",
       "0       Afghanistan  1980    NaN   m     014\n",
       "1       Afghanistan  1981    NaN   m     014\n",
       "2       Afghanistan  1982    NaN   m     014\n",
       "...             ...   ...    ...  ..     ...\n",
       "101357     Zimbabwe  2011    NaN   f      65\n",
       "101358     Zimbabwe  2012    NaN   f      65\n",
       "101359     Zimbabwe  2013  725.0   f      65\n",
       "\n",
       "[101360 rows x 5 columns]"
      ]
     },
     "execution_count": 20,
     "metadata": {},
     "output_type": "execute_result"
    }
   ],
   "source": [
    "## define a function to introduce two columns 'sex' and 'agecodes'\n",
    "## The values of sex and agecodes should be extracted from the 'codes' value defined in the function\n",
    "## drop the entry column after you are done\n",
    "\n",
    "def split_entry(df):\n",
    "    codes = df['entry'].str.split('_').str[-1]\n",
    "    sex_vals = codes.str[0]\n",
    "    agecode_val = codes.str[1:]\n",
    "\n",
    "    new_df = df.assign(sex=sex_vals)\n",
    "    new_df = new_df.assign(agecode=agecode_val)\n",
    "\n",
    "    new_df = new_df.drop(columns = ['entry'])\n",
    "\n",
    "    return new_df\n",
    "\n",
    "tb_new_columns = split_entry(tidy_tb)\n",
    "tb_new_columns"
   ]
  },
  {
   "cell_type": "markdown",
   "metadata": {},
   "source": [
    "### Now we will define a function to format the age column"
   ]
  },
  {
   "cell_type": "code",
   "execution_count": 21,
   "metadata": {},
   "outputs": [],
   "source": [
    "def age_from_code(df):\n",
    "    return df.assign(age=df['agecode'].replace({\n",
    "        '014': '0-14',\n",
    "        '04': '0-4',\n",
    "        '1524': '15-24',\n",
    "        '2534': '25-34',\n",
    "        '3544': '35-44',\n",
    "        '4554': '45-54',\n",
    "        '5564': '55-64',\n",
    "        '65': '65+',\n",
    "    })).drop(columns='agecode')\n",
    "\n"
   ]
  },
  {
   "cell_type": "markdown",
   "metadata": {},
   "source": [
    "### Run the code below to see effects of the methods you implemented\n",
    "\n",
    "We will use the DataFrame.pipe function. You can read more about it here https://pandas.pydata.org/pandas-docs/stable/reference/api/pandas.DataFrame.pipe.html"
   ]
  },
  {
   "cell_type": "code",
   "execution_count": 22,
   "metadata": {},
   "outputs": [
    {
     "data": {
      "text/html": [
       "<div>\n",
       "<style scoped>\n",
       "    .dataframe tbody tr th:only-of-type {\n",
       "        vertical-align: middle;\n",
       "    }\n",
       "\n",
       "    .dataframe tbody tr th {\n",
       "        vertical-align: top;\n",
       "    }\n",
       "\n",
       "    .dataframe thead th {\n",
       "        text-align: right;\n",
       "    }\n",
       "</style>\n",
       "<table border=\"1\" class=\"dataframe\">\n",
       "  <thead>\n",
       "    <tr style=\"text-align: right;\">\n",
       "      <th></th>\n",
       "      <th>country</th>\n",
       "      <th>iso2</th>\n",
       "      <th>iso3</th>\n",
       "      <th>year</th>\n",
       "      <th>newrel_m014</th>\n",
       "      <th>newrel_m1524</th>\n",
       "      <th>newrel_m2534</th>\n",
       "      <th>newrel_m3544</th>\n",
       "      <th>newrel_m4554</th>\n",
       "      <th>newrel_m5564</th>\n",
       "      <th>newrel_m65</th>\n",
       "      <th>newrel_f014</th>\n",
       "      <th>newrel_f1524</th>\n",
       "      <th>newrel_f2534</th>\n",
       "      <th>newrel_f3544</th>\n",
       "      <th>newrel_f4554</th>\n",
       "      <th>newrel_f5564</th>\n",
       "      <th>newrel_f65</th>\n",
       "    </tr>\n",
       "  </thead>\n",
       "  <tbody>\n",
       "    <tr>\n",
       "      <th>0</th>\n",
       "      <td>Afghanistan</td>\n",
       "      <td>AF</td>\n",
       "      <td>AFG</td>\n",
       "      <td>1980</td>\n",
       "      <td>NaN</td>\n",
       "      <td>NaN</td>\n",
       "      <td>NaN</td>\n",
       "      <td>NaN</td>\n",
       "      <td>NaN</td>\n",
       "      <td>NaN</td>\n",
       "      <td>NaN</td>\n",
       "      <td>NaN</td>\n",
       "      <td>NaN</td>\n",
       "      <td>NaN</td>\n",
       "      <td>NaN</td>\n",
       "      <td>NaN</td>\n",
       "      <td>NaN</td>\n",
       "      <td>NaN</td>\n",
       "    </tr>\n",
       "    <tr>\n",
       "      <th>1</th>\n",
       "      <td>Afghanistan</td>\n",
       "      <td>AF</td>\n",
       "      <td>AFG</td>\n",
       "      <td>1981</td>\n",
       "      <td>NaN</td>\n",
       "      <td>NaN</td>\n",
       "      <td>NaN</td>\n",
       "      <td>NaN</td>\n",
       "      <td>NaN</td>\n",
       "      <td>NaN</td>\n",
       "      <td>NaN</td>\n",
       "      <td>NaN</td>\n",
       "      <td>NaN</td>\n",
       "      <td>NaN</td>\n",
       "      <td>NaN</td>\n",
       "      <td>NaN</td>\n",
       "      <td>NaN</td>\n",
       "      <td>NaN</td>\n",
       "    </tr>\n",
       "    <tr>\n",
       "      <th>2</th>\n",
       "      <td>Afghanistan</td>\n",
       "      <td>AF</td>\n",
       "      <td>AFG</td>\n",
       "      <td>1982</td>\n",
       "      <td>NaN</td>\n",
       "      <td>NaN</td>\n",
       "      <td>NaN</td>\n",
       "      <td>NaN</td>\n",
       "      <td>NaN</td>\n",
       "      <td>NaN</td>\n",
       "      <td>NaN</td>\n",
       "      <td>NaN</td>\n",
       "      <td>NaN</td>\n",
       "      <td>NaN</td>\n",
       "      <td>NaN</td>\n",
       "      <td>NaN</td>\n",
       "      <td>NaN</td>\n",
       "      <td>NaN</td>\n",
       "    </tr>\n",
       "    <tr>\n",
       "      <th>3</th>\n",
       "      <td>Afghanistan</td>\n",
       "      <td>AF</td>\n",
       "      <td>AFG</td>\n",
       "      <td>1983</td>\n",
       "      <td>NaN</td>\n",
       "      <td>NaN</td>\n",
       "      <td>NaN</td>\n",
       "      <td>NaN</td>\n",
       "      <td>NaN</td>\n",
       "      <td>NaN</td>\n",
       "      <td>NaN</td>\n",
       "      <td>NaN</td>\n",
       "      <td>NaN</td>\n",
       "      <td>NaN</td>\n",
       "      <td>NaN</td>\n",
       "      <td>NaN</td>\n",
       "      <td>NaN</td>\n",
       "      <td>NaN</td>\n",
       "    </tr>\n",
       "    <tr>\n",
       "      <th>4</th>\n",
       "      <td>Afghanistan</td>\n",
       "      <td>AF</td>\n",
       "      <td>AFG</td>\n",
       "      <td>1984</td>\n",
       "      <td>NaN</td>\n",
       "      <td>NaN</td>\n",
       "      <td>NaN</td>\n",
       "      <td>NaN</td>\n",
       "      <td>NaN</td>\n",
       "      <td>NaN</td>\n",
       "      <td>NaN</td>\n",
       "      <td>NaN</td>\n",
       "      <td>NaN</td>\n",
       "      <td>NaN</td>\n",
       "      <td>NaN</td>\n",
       "      <td>NaN</td>\n",
       "      <td>NaN</td>\n",
       "      <td>NaN</td>\n",
       "    </tr>\n",
       "  </tbody>\n",
       "</table>\n",
       "</div>"
      ],
      "text/plain": [
       "       country iso2 iso3  year  newrel_m014  newrel_m1524  newrel_m2534  \\\n",
       "0  Afghanistan   AF  AFG  1980          NaN           NaN           NaN   \n",
       "1  Afghanistan   AF  AFG  1981          NaN           NaN           NaN   \n",
       "2  Afghanistan   AF  AFG  1982          NaN           NaN           NaN   \n",
       "3  Afghanistan   AF  AFG  1983          NaN           NaN           NaN   \n",
       "4  Afghanistan   AF  AFG  1984          NaN           NaN           NaN   \n",
       "\n",
       "   newrel_m3544  newrel_m4554  newrel_m5564  newrel_m65  newrel_f014  \\\n",
       "0           NaN           NaN           NaN         NaN          NaN   \n",
       "1           NaN           NaN           NaN         NaN          NaN   \n",
       "2           NaN           NaN           NaN         NaN          NaN   \n",
       "3           NaN           NaN           NaN         NaN          NaN   \n",
       "4           NaN           NaN           NaN         NaN          NaN   \n",
       "\n",
       "   newrel_f1524  newrel_f2534  newrel_f3544  newrel_f4554  newrel_f5564  \\\n",
       "0           NaN           NaN           NaN           NaN           NaN   \n",
       "1           NaN           NaN           NaN           NaN           NaN   \n",
       "2           NaN           NaN           NaN           NaN           NaN   \n",
       "3           NaN           NaN           NaN           NaN           NaN   \n",
       "4           NaN           NaN           NaN           NaN           NaN   \n",
       "\n",
       "   newrel_f65  \n",
       "0         NaN  \n",
       "1         NaN  \n",
       "2         NaN  \n",
       "3         NaN  \n",
       "4         NaN  "
      ]
     },
     "execution_count": 22,
     "metadata": {},
     "output_type": "execute_result"
    }
   ],
   "source": [
    "tb.head()"
   ]
  },
  {
   "cell_type": "code",
   "execution_count": null,
   "metadata": {},
   "outputs": [
    {
     "data": {
      "text/html": [
       "<div>\n",
       "<style scoped>\n",
       "    .dataframe tbody tr th:only-of-type {\n",
       "        vertical-align: middle;\n",
       "    }\n",
       "\n",
       "    .dataframe tbody tr th {\n",
       "        vertical-align: top;\n",
       "    }\n",
       "\n",
       "    .dataframe thead th {\n",
       "        text-align: right;\n",
       "    }\n",
       "</style>\n",
       "<table border=\"1\" class=\"dataframe\">\n",
       "  <thead>\n",
       "    <tr style=\"text-align: right;\">\n",
       "      <th></th>\n",
       "      <th>country</th>\n",
       "      <th>year</th>\n",
       "      <th>count</th>\n",
       "      <th>sex</th>\n",
       "      <th>age</th>\n",
       "    </tr>\n",
       "  </thead>\n",
       "  <tbody>\n",
       "    <tr>\n",
       "      <th>0</th>\n",
       "      <td>Afghanistan</td>\n",
       "      <td>1980</td>\n",
       "      <td>NaN</td>\n",
       "      <td>m</td>\n",
       "      <td>0-14</td>\n",
       "    </tr>\n",
       "    <tr>\n",
       "      <th>1</th>\n",
       "      <td>Afghanistan</td>\n",
       "      <td>1981</td>\n",
       "      <td>NaN</td>\n",
       "      <td>m</td>\n",
       "      <td>0-14</td>\n",
       "    </tr>\n",
       "    <tr>\n",
       "      <th>2</th>\n",
       "      <td>Afghanistan</td>\n",
       "      <td>1982</td>\n",
       "      <td>NaN</td>\n",
       "      <td>m</td>\n",
       "      <td>0-14</td>\n",
       "    </tr>\n",
       "    <tr>\n",
       "      <th>...</th>\n",
       "      <td>...</td>\n",
       "      <td>...</td>\n",
       "      <td>...</td>\n",
       "      <td>...</td>\n",
       "      <td>...</td>\n",
       "    </tr>\n",
       "    <tr>\n",
       "      <th>101357</th>\n",
       "      <td>Zimbabwe</td>\n",
       "      <td>2011</td>\n",
       "      <td>NaN</td>\n",
       "      <td>f</td>\n",
       "      <td>65+</td>\n",
       "    </tr>\n",
       "    <tr>\n",
       "      <th>101358</th>\n",
       "      <td>Zimbabwe</td>\n",
       "      <td>2012</td>\n",
       "      <td>NaN</td>\n",
       "      <td>f</td>\n",
       "      <td>65+</td>\n",
       "    </tr>\n",
       "    <tr>\n",
       "      <th>101359</th>\n",
       "      <td>Zimbabwe</td>\n",
       "      <td>2013</td>\n",
       "      <td>725.0</td>\n",
       "      <td>f</td>\n",
       "      <td>65+</td>\n",
       "    </tr>\n",
       "  </tbody>\n",
       "</table>\n",
       "<p>101360 rows × 5 columns</p>\n",
       "</div>"
      ],
      "text/plain": [
       "            country  year  count sex   age\n",
       "0       Afghanistan  1980    NaN   m  0-14\n",
       "1       Afghanistan  1981    NaN   m  0-14\n",
       "2       Afghanistan  1982    NaN   m  0-14\n",
       "...             ...   ...    ...  ..   ...\n",
       "101357     Zimbabwe  2011    NaN   f   65+\n",
       "101358     Zimbabwe  2012    NaN   f   65+\n",
       "101359     Zimbabwe  2013  725.0   f   65+\n",
       "\n",
       "[101360 rows x 5 columns]"
      ]
     },
     "execution_count": 23,
     "metadata": {},
     "output_type": "execute_result"
    }
   ],
   "source": [
    "tidy = (tb.pipe(drop_iso).pipe(make_tidy).pipe(split_entry).pipe(age_from_code))\n",
    "tidy"
   ]
  },
  {
   "cell_type": "markdown",
   "metadata": {},
   "source": [
    "### Now there are a lots of NaN value in the dataframe, lets drop them "
   ]
  },
  {
   "cell_type": "code",
   "execution_count": 24,
   "metadata": {},
   "outputs": [
    {
     "data": {
      "text/plain": [
       "(2580, 5)"
      ]
     },
     "execution_count": 24,
     "metadata": {},
     "output_type": "execute_result"
    }
   ],
   "source": [
    "# YOUR CODE HERE\n",
    "df = tidy.dropna()\n",
    "df.shape"
   ]
  },
  {
   "cell_type": "markdown",
   "metadata": {},
   "source": [
    "### Let's select a subset of the data. Select a subset of the data that shows the average number of cases for countries that start with the letter H\n"
   ]
  },
  {
   "cell_type": "code",
   "execution_count": 25,
   "metadata": {},
   "outputs": [
    {
     "data": {
      "text/html": [
       "<div>\n",
       "<style scoped>\n",
       "    .dataframe tbody tr th:only-of-type {\n",
       "        vertical-align: middle;\n",
       "    }\n",
       "\n",
       "    .dataframe tbody tr th {\n",
       "        vertical-align: top;\n",
       "    }\n",
       "\n",
       "    .dataframe thead th {\n",
       "        text-align: right;\n",
       "    }\n",
       "</style>\n",
       "<table border=\"1\" class=\"dataframe\">\n",
       "  <thead>\n",
       "    <tr style=\"text-align: right;\">\n",
       "      <th></th>\n",
       "      <th>count</th>\n",
       "    </tr>\n",
       "    <tr>\n",
       "      <th>country</th>\n",
       "      <th></th>\n",
       "    </tr>\n",
       "  </thead>\n",
       "  <tbody>\n",
       "    <tr>\n",
       "      <th>Haiti</th>\n",
       "      <td>1217.14</td>\n",
       "    </tr>\n",
       "    <tr>\n",
       "      <th>Honduras</th>\n",
       "      <td>212.93</td>\n",
       "    </tr>\n",
       "    <tr>\n",
       "      <th>Hungary</th>\n",
       "      <td>74.29</td>\n",
       "    </tr>\n",
       "  </tbody>\n",
       "</table>\n",
       "</div>"
      ],
      "text/plain": [
       "            count\n",
       "country          \n",
       "Haiti     1217.14\n",
       "Honduras   212.93\n",
       "Hungary     74.29"
      ]
     },
     "execution_count": 25,
     "metadata": {},
     "output_type": "execute_result"
    }
   ],
   "source": [
    "# YOUR CODE HERE\n",
    "H_countries = df.loc[df['country'].str[0] == 'H']\n",
    "\n",
    "temp_df = H_countries[['country', 'count']]\n",
    "means = temp_df.groupby(by=['country']).mean()\n",
    "\n",
    "means"
   ]
  },
  {
   "cell_type": "markdown",
   "metadata": {},
   "source": [
    "Tidy data is especially useful for seaborn, the plotting library we will use extensively in this course!"
   ]
  },
  {
   "cell_type": "markdown",
   "metadata": {},
   "source": [
    "Create a barplot with the subset created. The x-axis should be the count and the y-axis should be the country."
   ]
  },
  {
   "cell_type": "code",
   "execution_count": 26,
   "metadata": {},
   "outputs": [
    {
     "data": {
      "text/plain": [
       "<Axes: xlabel='country', ylabel='count'>"
      ]
     },
     "execution_count": 26,
     "metadata": {},
     "output_type": "execute_result"
    },
    {
     "data": {
      "image/png": "[encoded data removed]",
      "text/plain": [
       "<Figure size 640x480 with 1 Axes>"
      ]
     },
     "metadata": {},
     "output_type": "display_data"
    }
   ],
   "source": [
    "# YOUR CODE HERE\n",
    "import seaborn as sb\n",
    "\n",
    "sb.barplot(means['count'])"
   ]
  },
  {
   "cell_type": "markdown",
   "metadata": {},
   "source": [
    "## Hierarchical Data"
   ]
  },
  {
   "cell_type": "markdown",
   "metadata": {},
   "source": [
    "A lot of structured data isn't in CSV format, but in HTML, XML, JSON, YAML, etc. JSON might have a structure that Pandas can't read directly.\n",
    "\n",
    "Here's an example: a group of people collected information about US congressional legislators in YAML format.\n",
    "\n",
    "https://github.com/unitedstates/congress-legislators\n",
    "\n",
    "Here's one of the data files:\n",
    "\n",
    "https://github.com/unitedstates/congress-legislators/blob/master/legislators-current.yaml"
   ]
  },
  {
   "cell_type": "code",
   "execution_count": 27,
   "metadata": {},
   "outputs": [
    {
     "name": "stdout",
     "output_type": "stream",
     "text": [
      "539\n",
      "4\n",
      "dict_keys(['id', 'name', 'bio', 'terms'])\n"
     ]
    }
   ],
   "source": [
    "import yaml\n",
    "legislators_path = 'legislators-current.yaml'\n",
    "legislators = yaml.safe_load(open(legislators_path))\n",
    "print(len(legislators))\n",
    "print(len(legislators[0]))\n",
    "print(legislators[0].keys())"
   ]
  },
  {
   "cell_type": "markdown",
   "metadata": {},
   "source": [
    "As we can see below, the data is mostly stored in several dictionaries. \n",
    "Hence, to access the data, we need to access the dictionaries."
   ]
  },
  {
   "cell_type": "code",
   "execution_count": 28,
   "metadata": {},
   "outputs": [
    {
     "data": {
      "text/plain": [
       "{'id': {'bioguide': 'F000062',\n",
       "  'thomas': '01332',\n",
       "  'lis': 'S221',\n",
       "  'govtrack': 300043,\n",
       "  'opensecrets': 'N00007364',\n",
       "  'votesmart': 53273,\n",
       "  'fec': ['S0CA00199'],\n",
       "  'cspan': 13061,\n",
       "  'wikipedia': 'Dianne Feinstein',\n",
       "  'house_history': 13044,\n",
       "  'ballotpedia': 'Dianne Feinstein',\n",
       "  'maplight': 567,\n",
       "  'icpsr': 49300,\n",
       "  'wikidata': 'Q230733',\n",
       "  'google_entity_id': 'kg:/m/01gqws'},\n",
       " 'name': {'first': 'Dianne',\n",
       "  'last': 'Feinstein',\n",
       "  'official_full': 'Dianne Feinstein'},\n",
       " 'bio': {'birthday': '1933-06-22', 'gender': 'F', 'religion': 'Jewish'},\n",
       " 'terms': [{'type': 'sen',\n",
       "   'start': '1992-11-10',\n",
       "   'end': '1995-01-03',\n",
       "   'state': 'CA',\n",
       "   'class': 1,\n",
       "   'party': 'Democrat'},\n",
       "  {'type': 'sen',\n",
       "   'start': '1995-01-04',\n",
       "   'end': '2001-01-03',\n",
       "   'state': 'CA',\n",
       "   'class': 1,\n",
       "   'party': 'Democrat'},\n",
       "  {'type': 'sen',\n",
       "   'start': '2001-01-03',\n",
       "   'end': '2007-01-03',\n",
       "   'state': 'CA',\n",
       "   'class': 1,\n",
       "   'party': 'Democrat',\n",
       "   'url': 'http://feinstein.senate.gov'},\n",
       "  {'type': 'sen',\n",
       "   'start': '2007-01-04',\n",
       "   'end': '2013-01-03',\n",
       "   'state': 'CA',\n",
       "   'class': 1,\n",
       "   'party': 'Democrat',\n",
       "   'url': 'http://feinstein.senate.gov',\n",
       "   'address': '331 HART SENATE OFFICE BUILDING WASHINGTON DC 20510',\n",
       "   'phone': '202-224-3841',\n",
       "   'fax': '202-228-3954',\n",
       "   'contact_form': 'http://www.feinstein.senate.gov/public/index.cfm/e-mail-me',\n",
       "   'office': '331 Hart Senate Office Building'},\n",
       "  {'type': 'sen',\n",
       "   'start': '2013-01-03',\n",
       "   'end': '2019-01-03',\n",
       "   'state': 'CA',\n",
       "   'party': 'Democrat',\n",
       "   'class': 1,\n",
       "   'url': 'https://www.feinstein.senate.gov',\n",
       "   'address': '331 Hart Senate Office Building Washington DC 20510',\n",
       "   'phone': '202-224-3841',\n",
       "   'fax': '202-228-3954',\n",
       "   'contact_form': 'https://www.feinstein.senate.gov/public/index.cfm/e-mail-me',\n",
       "   'office': '331 Hart Senate Office Building',\n",
       "   'state_rank': 'senior',\n",
       "   'rss_url': 'http://www.feinstein.senate.gov/public/?a=rss.feed'},\n",
       "  {'type': 'sen',\n",
       "   'start': '2019-01-03',\n",
       "   'end': '2025-01-03',\n",
       "   'state': 'CA',\n",
       "   'class': 1,\n",
       "   'party': 'Democrat',\n",
       "   'state_rank': 'senior',\n",
       "   'url': 'https://www.feinstein.senate.gov',\n",
       "   'rss_url': 'http://www.feinstein.senate.gov/public/?a=rss.feed',\n",
       "   'contact_form': 'https://www.feinstein.senate.gov/public/index.cfm/e-mail-me',\n",
       "   'address': '331 Hart Senate Office Building Washington DC 20510',\n",
       "   'office': '331 Hart Senate Office Building',\n",
       "   'phone': '202-224-3841'}]}"
      ]
     },
     "execution_count": 28,
     "metadata": {},
     "output_type": "execute_result"
    }
   ],
   "source": [
    "legislators[5]"
   ]
  },
  {
   "cell_type": "markdown",
   "metadata": {},
   "source": [
    "Let's look at the data pertaining to the first legislator."
   ]
  },
  {
   "cell_type": "code",
   "execution_count": 29,
   "metadata": {},
   "outputs": [
    {
     "data": {
      "text/plain": [
       "{'bioguide': 'B000944',\n",
       " 'thomas': '00136',\n",
       " 'lis': 'S307',\n",
       " 'govtrack': 400050,\n",
       " 'opensecrets': 'N00003535',\n",
       " 'votesmart': 27018,\n",
       " 'fec': ['H2OH13033', 'S6OH00163'],\n",
       " 'cspan': 5051,\n",
       " 'wikipedia': 'Sherrod Brown',\n",
       " 'house_history': 9996,\n",
       " 'ballotpedia': 'Sherrod Brown',\n",
       " 'maplight': 168,\n",
       " 'icpsr': 29389,\n",
       " 'wikidata': 'Q381880',\n",
       " 'google_entity_id': 'kg:/m/034s80'}"
      ]
     },
     "execution_count": 29,
     "metadata": {},
     "output_type": "execute_result"
    }
   ],
   "source": [
    "x = legislators[0]\n",
    "x['id']"
   ]
  },
  {
   "cell_type": "markdown",
   "metadata": {},
   "source": [
    "### Retrieve the name of the first legislator"
   ]
  },
  {
   "cell_type": "code",
   "execution_count": 30,
   "metadata": {},
   "outputs": [
    {
     "name": "stdout",
     "output_type": "stream",
     "text": [
      "Sherrod Brown\n"
     ]
    }
   ],
   "source": [
    "### YOUR CODE HERE\n",
    "name_legislator_1 = legislators[0]['name']['first'] + ' ' + legislators[0]['name']['last']\n",
    "print(name_legislator_1)"
   ]
  },
  {
   "cell_type": "markdown",
   "metadata": {},
   "source": [
    "### Retrieve the bio of the first legislator"
   ]
  },
  {
   "cell_type": "code",
   "execution_count": 31,
   "metadata": {},
   "outputs": [
    {
     "name": "stdout",
     "output_type": "stream",
     "text": [
      "{'birthday': '1952-11-09', 'gender': 'M', 'religion': 'Lutheran'}\n"
     ]
    }
   ],
   "source": [
    "### YOUR CODE HERE\n",
    "print(legislators[0]['bio'])"
   ]
  },
  {
   "cell_type": "markdown",
   "metadata": {},
   "source": [
    "### Create a function to generate a datetime object from the birthday string associated with a legislator's birthday. Use datetime.strptime(). Test your function on the first legilator, x. You can read more about it here https://www.programiz.com/python-programming/datetime/strptime"
   ]
  },
  {
   "cell_type": "code",
   "execution_count": 32,
   "metadata": {},
   "outputs": [
    {
     "name": "stdout",
     "output_type": "stream",
     "text": [
      "1952-11-09\n"
     ]
    }
   ],
   "source": [
    "### YOUR CODE HERE, mine is not so general\n",
    "from datetime import datetime\n",
    "\n",
    "def get_birthday_datetime(dict):\n",
    "    birthdays = [datetime.strptime(dict[i]['bio']['birthday'], \"%Y-%m-%d\").date() for i in range(len(dict))]\n",
    "    return birthdays\n",
    "\n",
    "birthdays = get_birthday_datetime(legislators)\n",
    "print(birthdays[0])"
   ]
  },
  {
   "cell_type": "markdown",
   "metadata": {},
   "source": [
    "### Create a dataframe called 'leg_df'  that has four columns 'id', 'first', 'last', and 'birthday' for all legislators. "
   ]
  },
  {
   "cell_type": "code",
   "execution_count": 33,
   "metadata": {},
   "outputs": [
    {
     "data": {
      "text/html": [
       "<div>\n",
       "<style scoped>\n",
       "    .dataframe tbody tr th:only-of-type {\n",
       "        vertical-align: middle;\n",
       "    }\n",
       "\n",
       "    .dataframe tbody tr th {\n",
       "        vertical-align: top;\n",
       "    }\n",
       "\n",
       "    .dataframe thead th {\n",
       "        text-align: right;\n",
       "    }\n",
       "</style>\n",
       "<table border=\"1\" class=\"dataframe\">\n",
       "  <thead>\n",
       "    <tr style=\"text-align: right;\">\n",
       "      <th></th>\n",
       "      <th>id</th>\n",
       "      <th>first</th>\n",
       "      <th>last</th>\n",
       "      <th>birthday</th>\n",
       "    </tr>\n",
       "  </thead>\n",
       "  <tbody>\n",
       "    <tr>\n",
       "      <th>0</th>\n",
       "      <td>B000944</td>\n",
       "      <td>Sherrod</td>\n",
       "      <td>Brown</td>\n",
       "      <td>1952-11-09</td>\n",
       "    </tr>\n",
       "    <tr>\n",
       "      <th>1</th>\n",
       "      <td>C000127</td>\n",
       "      <td>Maria</td>\n",
       "      <td>Cantwell</td>\n",
       "      <td>1958-10-13</td>\n",
       "    </tr>\n",
       "    <tr>\n",
       "      <th>2</th>\n",
       "      <td>C000141</td>\n",
       "      <td>Benjamin</td>\n",
       "      <td>Cardin</td>\n",
       "      <td>1943-10-05</td>\n",
       "    </tr>\n",
       "    <tr>\n",
       "      <th>...</th>\n",
       "      <td>...</td>\n",
       "      <td>...</td>\n",
       "      <td>...</td>\n",
       "      <td>...</td>\n",
       "    </tr>\n",
       "    <tr>\n",
       "      <th>536</th>\n",
       "      <td>R000615</td>\n",
       "      <td>Mitt</td>\n",
       "      <td>Romney</td>\n",
       "      <td>1947-03-12</td>\n",
       "    </tr>\n",
       "    <tr>\n",
       "      <th>537</th>\n",
       "      <td>M001197</td>\n",
       "      <td>Martha</td>\n",
       "      <td>McSally</td>\n",
       "      <td>1966-03-22</td>\n",
       "    </tr>\n",
       "    <tr>\n",
       "      <th>538</th>\n",
       "      <td>G000592</td>\n",
       "      <td>Jared</td>\n",
       "      <td>Golden</td>\n",
       "      <td>1982-07-25</td>\n",
       "    </tr>\n",
       "  </tbody>\n",
       "</table>\n",
       "<p>539 rows × 4 columns</p>\n",
       "</div>"
      ],
      "text/plain": [
       "          id     first      last    birthday\n",
       "0    B000944   Sherrod     Brown  1952-11-09\n",
       "1    C000127     Maria  Cantwell  1958-10-13\n",
       "2    C000141  Benjamin    Cardin  1943-10-05\n",
       "..       ...       ...       ...         ...\n",
       "536  R000615      Mitt    Romney  1947-03-12\n",
       "537  M001197    Martha   McSally  1966-03-22\n",
       "538  G000592     Jared    Golden  1982-07-25\n",
       "\n",
       "[539 rows x 4 columns]"
      ]
     },
     "execution_count": 33,
     "metadata": {},
     "output_type": "execute_result"
    }
   ],
   "source": [
    "## YOUR CODE HERE\n",
    "\n",
    "import numpy as np\n",
    "\n",
    "data = np.array([\n",
    "    [legislators[i]['id']['bioguide'] for i in range(len(legislators))],\n",
    "    [legislators[i]['name']['first'] for i in range(len(legislators))],\n",
    "    [legislators[i]['name']['last'] for i in range(len(legislators))],\n",
    "    [birthdays[i] for i in range(len(legislators))]\n",
    "])\n",
    "\n",
    "leg_df = pd.DataFrame(data.T, columns = ['id', 'first', 'last', 'birthday'])\n",
    "leg_df"
   ]
  },
  {
   "cell_type": "markdown",
   "metadata": {},
   "source": [
    "### Calculate the current age of the legistlators in a new column 'age'"
   ]
  },
  {
   "cell_type": "code",
   "execution_count": 34,
   "metadata": {},
   "outputs": [
    {
     "ename": "AttributeError",
     "evalue": "'datetime.date' object has no attribute 'date'",
     "output_type": "error",
     "traceback": [
      "\u001b[1;31m---------------------------------------------------------------------------\u001b[0m",
      "\u001b[1;31mAttributeError\u001b[0m                            Traceback (most recent call last)",
      "Cell \u001b[1;32mIn[34], line 15\u001b[0m\n\u001b[0;32m     11\u001b[0m         results\u001b[38;5;241m.\u001b[39mappend(age)\n\u001b[0;32m     13\u001b[0m     \u001b[38;5;28;01mreturn\u001b[39;00m results\n\u001b[1;32m---> 15\u001b[0m leg_df \u001b[38;5;241m=\u001b[39m leg_df\u001b[38;5;241m.\u001b[39massign(age\u001b[38;5;241m=\u001b[39m\u001b[43mget_age_from_brithday\u001b[49m\u001b[43m(\u001b[49m\u001b[43mleg_df\u001b[49m\u001b[43m[\u001b[49m\u001b[38;5;124;43m'\u001b[39;49m\u001b[38;5;124;43mbirthday\u001b[39;49m\u001b[38;5;124;43m'\u001b[39;49m\u001b[43m]\u001b[49m\u001b[43m)\u001b[49m)\n\u001b[0;32m     16\u001b[0m leg_df\n",
      "Cell \u001b[1;32mIn[34], line 9\u001b[0m, in \u001b[0;36mget_age_from_brithday\u001b[1;34m(birthdays)\u001b[0m\n\u001b[0;32m      6\u001b[0m results \u001b[38;5;241m=\u001b[39m []\n\u001b[0;32m      8\u001b[0m \u001b[38;5;28;01mfor\u001b[39;00m i \u001b[38;5;129;01min\u001b[39;00m \u001b[38;5;28mrange\u001b[39m(\u001b[38;5;28mlen\u001b[39m(birthdays)):\n\u001b[1;32m----> 9\u001b[0m     date \u001b[38;5;241m=\u001b[39m \u001b[43mbirthdays\u001b[49m\u001b[43m[\u001b[49m\u001b[43mi\u001b[49m\u001b[43m]\u001b[49m\u001b[38;5;241;43m.\u001b[39;49m\u001b[43mdate\u001b[49m()\n\u001b[0;32m     10\u001b[0m     age \u001b[38;5;241m=\u001b[39m relativedelta(today, date)\u001b[38;5;241m.\u001b[39myears\n\u001b[0;32m     11\u001b[0m     results\u001b[38;5;241m.\u001b[39mappend(age)\n",
      "\u001b[1;31mAttributeError\u001b[0m: 'datetime.date' object has no attribute 'date'"
     ]
    }
   ],
   "source": [
    "### YOUR CODE HERE\n",
    "from dateutil.relativedelta import relativedelta\n",
    "\n",
    "def get_age_from_brithday(birthdays):\n",
    "    today = datetime.today()\n",
    "    results = []\n",
    "\n",
    "    for i in range(len(birthdays)):\n",
    "        date = birthdays[i].date()\n",
    "        age = relativedelta(today, date).years\n",
    "        results.append(age)\n",
    "\n",
    "    return results\n",
    "\n",
    "leg_df = leg_df.assign(age=get_age_from_brithday(leg_df['birthday']))\n",
    "leg_df"
   ]
  },
  {
   "cell_type": "markdown",
   "metadata": {},
   "source": [
    "### Plot a histogram of the newly created age column"
   ]
  },
  {
   "cell_type": "code",
   "execution_count": 36,
   "metadata": {},
   "outputs": [
    {
     "data": {
      "text/plain": [
       "<Axes: xlabel='age', ylabel='Count'>"
      ]
     },
     "execution_count": 36,
     "metadata": {},
     "output_type": "execute_result"
    },
    {
     "data": {
      "image/png": "[encoded data removed]",
      "text/plain": [
       "<Figure size 640x480 with 1 Axes>"
      ]
     },
     "metadata": {},
     "output_type": "display_data"
    }
   ],
   "source": [
    "## YOUR CODE HERE\n",
    "sb.histplot(leg\n",
    "_df, x='age')"
   ]
  },
  {
   "cell_type": "markdown",
   "metadata": {},
   "source": [
    "## Missing Values\n",
    "The column religion from the original legistlators dataset has a few missing values. Create a new column in leg_df with the name 'religion' and extract the religion of each legislator for this colum.\n"
   ]
  },
  {
   "cell_type": "code",
   "execution_count": 60,
   "metadata": {},
   "outputs": [
    {
     "data": {
      "text/html": [
       "<div>\n",
       "<style scoped>\n",
       "    .dataframe tbody tr th:only-of-type {\n",
       "        vertical-align: middle;\n",
       "    }\n",
       "\n",
       "    .dataframe tbody tr th {\n",
       "        vertical-align: top;\n",
       "    }\n",
       "\n",
       "    .dataframe thead th {\n",
       "        text-align: right;\n",
       "    }\n",
       "</style>\n",
       "<table border=\"1\" class=\"dataframe\">\n",
       "  <thead>\n",
       "    <tr style=\"text-align: right;\">\n",
       "      <th></th>\n",
       "      <th>id</th>\n",
       "      <th>first</th>\n",
       "      <th>last</th>\n",
       "      <th>birthday</th>\n",
       "      <th>religion</th>\n",
       "    </tr>\n",
       "  </thead>\n",
       "  <tbody>\n",
       "    <tr>\n",
       "      <th>0</th>\n",
       "      <td>B000944</td>\n",
       "      <td>Sherrod</td>\n",
       "      <td>Brown</td>\n",
       "      <td>1952-11-09</td>\n",
       "      <td>Lutheran</td>\n",
       "    </tr>\n",
       "    <tr>\n",
       "      <th>1</th>\n",
       "      <td>C000127</td>\n",
       "      <td>Maria</td>\n",
       "      <td>Cantwell</td>\n",
       "      <td>1958-10-13</td>\n",
       "      <td>Roman Catholic</td>\n",
       "    </tr>\n",
       "    <tr>\n",
       "      <th>2</th>\n",
       "      <td>C000141</td>\n",
       "      <td>Benjamin</td>\n",
       "      <td>Cardin</td>\n",
       "      <td>1943-10-05</td>\n",
       "      <td>Jewish</td>\n",
       "    </tr>\n",
       "    <tr>\n",
       "      <th>...</th>\n",
       "      <td>...</td>\n",
       "      <td>...</td>\n",
       "      <td>...</td>\n",
       "      <td>...</td>\n",
       "      <td>...</td>\n",
       "    </tr>\n",
       "    <tr>\n",
       "      <th>536</th>\n",
       "      <td>R000615</td>\n",
       "      <td>Mitt</td>\n",
       "      <td>Romney</td>\n",
       "      <td>1947-03-12</td>\n",
       "      <td>NaN</td>\n",
       "    </tr>\n",
       "    <tr>\n",
       "      <th>537</th>\n",
       "      <td>M001197</td>\n",
       "      <td>Martha</td>\n",
       "      <td>McSally</td>\n",
       "      <td>1966-03-22</td>\n",
       "      <td>NaN</td>\n",
       "    </tr>\n",
       "    <tr>\n",
       "      <th>538</th>\n",
       "      <td>G000592</td>\n",
       "      <td>Jared</td>\n",
       "      <td>Golden</td>\n",
       "      <td>1982-07-25</td>\n",
       "      <td>NaN</td>\n",
       "    </tr>\n",
       "  </tbody>\n",
       "</table>\n",
       "<p>539 rows × 5 columns</p>\n",
       "</div>"
      ],
      "text/plain": [
       "          id     first      last    birthday        religion\n",
       "0    B000944   Sherrod     Brown  1952-11-09        Lutheran\n",
       "1    C000127     Maria  Cantwell  1958-10-13  Roman Catholic\n",
       "2    C000141  Benjamin    Cardin  1943-10-05          Jewish\n",
       "..       ...       ...       ...         ...             ...\n",
       "536  R000615      Mitt    Romney  1947-03-12             NaN\n",
       "537  M001197    Martha   McSally  1966-03-22             NaN\n",
       "538  G000592     Jared    Golden  1982-07-25             NaN\n",
       "\n",
       "[539 rows x 5 columns]"
      ]
     },
     "execution_count": 60,
     "metadata": {},
     "output_type": "execute_result"
    }
   ],
   "source": [
    "### YOUR CODE HERE\n",
    "for i in range(len(legislators)):\n",
    "    leg = legislators[i]['bio']\n",
    "    if 'religion' not in leg.keys():\n",
    "        leg['religion']=float('nan')\n",
    "\n",
    "leg_df = leg_df.assign(religion=[legislators[i]['bio']['religion'] for i in range(len(legislators))])\n",
    "leg_df"
   ]
  },
  {
   "cell_type": "markdown",
   "metadata": {},
   "source": [
    "### How many null values do we have in the religion column."
   ]
  },
  {
   "cell_type": "code",
   "execution_count": 38,
   "metadata": {},
   "outputs": [
    {
     "data": {
      "text/plain": [
       "410"
      ]
     },
     "execution_count": 38,
     "metadata": {},
     "output_type": "execute_result"
    }
   ],
   "source": [
    "### YOUR CODE HERE\n",
    "religion_nan_count = leg_df['religion'].isna().sum()\n",
    "religion_nan_count"
   ]
  },
  {
   "cell_type": "markdown",
   "metadata": {},
   "source": [
    "### Replace the null values in religion with 'Unknown'"
   ]
  },
  {
   "cell_type": "code",
   "execution_count": 39,
   "metadata": {},
   "outputs": [
    {
     "data": {
      "text/html": [
       "<div>\n",
       "<style scoped>\n",
       "    .dataframe tbody tr th:only-of-type {\n",
       "        vertical-align: middle;\n",
       "    }\n",
       "\n",
       "    .dataframe tbody tr th {\n",
       "        vertical-align: top;\n",
       "    }\n",
       "\n",
       "    .dataframe thead th {\n",
       "        text-align: right;\n",
       "    }\n",
       "</style>\n",
       "<table border=\"1\" class=\"dataframe\">\n",
       "  <thead>\n",
       "    <tr style=\"text-align: right;\">\n",
       "      <th></th>\n",
       "      <th>id</th>\n",
       "      <th>first</th>\n",
       "      <th>last</th>\n",
       "      <th>birthday</th>\n",
       "      <th>age</th>\n",
       "      <th>religion</th>\n",
       "    </tr>\n",
       "  </thead>\n",
       "  <tbody>\n",
       "    <tr>\n",
       "      <th>0</th>\n",
       "      <td>B000944</td>\n",
       "      <td>Sherrod</td>\n",
       "      <td>Brown</td>\n",
       "      <td>1952-11-09</td>\n",
       "      <td>71</td>\n",
       "      <td>Lutheran</td>\n",
       "    </tr>\n",
       "    <tr>\n",
       "      <th>1</th>\n",
       "      <td>C000127</td>\n",
       "      <td>Maria</td>\n",
       "      <td>Cantwell</td>\n",
       "      <td>1958-10-13</td>\n",
       "      <td>65</td>\n",
       "      <td>Roman Catholic</td>\n",
       "    </tr>\n",
       "    <tr>\n",
       "      <th>2</th>\n",
       "      <td>C000141</td>\n",
       "      <td>Benjamin</td>\n",
       "      <td>Cardin</td>\n",
       "      <td>1943-10-05</td>\n",
       "      <td>80</td>\n",
       "      <td>Jewish</td>\n",
       "    </tr>\n",
       "    <tr>\n",
       "      <th>...</th>\n",
       "      <td>...</td>\n",
       "      <td>...</td>\n",
       "      <td>...</td>\n",
       "      <td>...</td>\n",
       "      <td>...</td>\n",
       "      <td>...</td>\n",
       "    </tr>\n",
       "    <tr>\n",
       "      <th>536</th>\n",
       "      <td>R000615</td>\n",
       "      <td>Mitt</td>\n",
       "      <td>Romney</td>\n",
       "      <td>1947-03-12</td>\n",
       "      <td>77</td>\n",
       "      <td>Unknown</td>\n",
       "    </tr>\n",
       "    <tr>\n",
       "      <th>537</th>\n",
       "      <td>M001197</td>\n",
       "      <td>Martha</td>\n",
       "      <td>McSally</td>\n",
       "      <td>1966-03-22</td>\n",
       "      <td>58</td>\n",
       "      <td>Unknown</td>\n",
       "    </tr>\n",
       "    <tr>\n",
       "      <th>538</th>\n",
       "      <td>G000592</td>\n",
       "      <td>Jared</td>\n",
       "      <td>Golden</td>\n",
       "      <td>1982-07-25</td>\n",
       "      <td>42</td>\n",
       "      <td>Unknown</td>\n",
       "    </tr>\n",
       "  </tbody>\n",
       "</table>\n",
       "<p>539 rows × 6 columns</p>\n",
       "</div>"
      ],
      "text/plain": [
       "          id     first      last   birthday  age        religion\n",
       "0    B000944   Sherrod     Brown 1952-11-09   71        Lutheran\n",
       "1    C000127     Maria  Cantwell 1958-10-13   65  Roman Catholic\n",
       "2    C000141  Benjamin    Cardin 1943-10-05   80          Jewish\n",
       "..       ...       ...       ...        ...  ...             ...\n",
       "536  R000615      Mitt    Romney 1947-03-12   77         Unknown\n",
       "537  M001197    Martha   McSally 1966-03-22   58         Unknown\n",
       "538  G000592     Jared    Golden 1982-07-25   42         Unknown\n",
       "\n",
       "[539 rows x 6 columns]"
      ]
     },
     "execution_count": 39,
     "metadata": {},
     "output_type": "execute_result"
    }
   ],
   "source": [
    "### YOUR CODE HERE\n",
    "leg_df = leg_df.assign(religion=leg_df['religion'].fillna('Unknown'))\n",
    "leg_df"
   ]
  },
  {
   "cell_type": "markdown",
   "metadata": {},
   "source": [
    "## Merging Dataframes\n",
    "Now we will look at how to merge dataframes. Lets read in some new data."
   ]
  },
  {
   "cell_type": "code",
   "execution_count": 40,
   "metadata": {},
   "outputs": [
    {
     "name": "stdout",
     "output_type": "stream",
     "text": [
      "47 217\n"
     ]
    }
   ],
   "source": [
    "comm_path = 'committees-current.yaml'\n",
    "comm_membership_path = 'committee-membership-current.yaml'\n",
    "\n",
    "comms = yaml.safe_load(open(comm_path, encoding=\"utf8\"))    # Had to change the encodings manually to get them to open.\n",
    "comm_membership = yaml.safe_load(open(comm_membership_path, encoding=\"utf8\"))   # Had to change the encodings manually to get them to open.\n",
    "\n",
    "print(len(comms), len(comm_membership))"
   ]
  },
  {
   "cell_type": "code",
   "execution_count": 61,
   "metadata": {},
   "outputs": [
    {
     "ename": "NameError",
     "evalue": "name 'comms' is not defined",
     "output_type": "error",
     "traceback": [
      "\u001b[1;31m---------------------------------------------------------------------------\u001b[0m",
      "\u001b[1;31mNameError\u001b[0m                                 Traceback (most recent call last)",
      "Cell \u001b[1;32mIn[61], line 1\u001b[0m\n\u001b[1;32m----> 1\u001b[0m \u001b[43mcomms\u001b[49m[\u001b[38;5;241m0\u001b[39m:\u001b[38;5;241m10\u001b[39m]\n\u001b[0;32m      2\u001b[0m \u001b[38;5;66;03m# thomas_id is a unique reference to the committee \u001b[39;00m\n",
      "\u001b[1;31mNameError\u001b[0m: name 'comms' is not defined"
     ]
    }
   ],
   "source": [
    "comms[0:10]\n",
    "# thomas_id is a unique reference to the committee "
   ]
  },
  {
   "cell_type": "markdown",
   "metadata": {},
   "source": [
    "### Lets create a dataframe from the commitees dataset"
   ]
  },
  {
   "cell_type": "code",
   "execution_count": 42,
   "metadata": {},
   "outputs": [
    {
     "data": {
      "text/html": [
       "<div>\n",
       "<style scoped>\n",
       "    .dataframe tbody tr th:only-of-type {\n",
       "        vertical-align: middle;\n",
       "    }\n",
       "\n",
       "    .dataframe tbody tr th {\n",
       "        vertical-align: top;\n",
       "    }\n",
       "\n",
       "    .dataframe thead th {\n",
       "        text-align: right;\n",
       "    }\n",
       "</style>\n",
       "<table border=\"1\" class=\"dataframe\">\n",
       "  <thead>\n",
       "    <tr style=\"text-align: right;\">\n",
       "      <th></th>\n",
       "      <th>name</th>\n",
       "      <th>thomas_id</th>\n",
       "      <th>type</th>\n",
       "    </tr>\n",
       "  </thead>\n",
       "  <tbody>\n",
       "    <tr>\n",
       "      <th>0</th>\n",
       "      <td>House Committee on Agriculture</td>\n",
       "      <td>HSAG</td>\n",
       "      <td>house</td>\n",
       "    </tr>\n",
       "    <tr>\n",
       "      <th>1</th>\n",
       "      <td>House Committee on Appropriations</td>\n",
       "      <td>HSAP</td>\n",
       "      <td>house</td>\n",
       "    </tr>\n",
       "    <tr>\n",
       "      <th>2</th>\n",
       "      <td>House Committee on Armed Services</td>\n",
       "      <td>HSAS</td>\n",
       "      <td>house</td>\n",
       "    </tr>\n",
       "    <tr>\n",
       "      <th>...</th>\n",
       "      <td>...</td>\n",
       "      <td>...</td>\n",
       "      <td>...</td>\n",
       "    </tr>\n",
       "    <tr>\n",
       "      <th>44</th>\n",
       "      <td>Senate Committee on Rules and Administration</td>\n",
       "      <td>SSRA</td>\n",
       "      <td>senate</td>\n",
       "    </tr>\n",
       "    <tr>\n",
       "      <th>45</th>\n",
       "      <td>Senate Committee on Small Business and Entrepr...</td>\n",
       "      <td>SSSB</td>\n",
       "      <td>senate</td>\n",
       "    </tr>\n",
       "    <tr>\n",
       "      <th>46</th>\n",
       "      <td>Senate Committee on Veterans' Affairs</td>\n",
       "      <td>SSVA</td>\n",
       "      <td>senate</td>\n",
       "    </tr>\n",
       "  </tbody>\n",
       "</table>\n",
       "<p>47 rows × 3 columns</p>\n",
       "</div>"
      ],
      "text/plain": [
       "                                                 name thomas_id    type\n",
       "0                      House Committee on Agriculture      HSAG   house\n",
       "1                   House Committee on Appropriations      HSAP   house\n",
       "2                   House Committee on Armed Services      HSAS   house\n",
       "..                                                ...       ...     ...\n",
       "44       Senate Committee on Rules and Administration      SSRA  senate\n",
       "45  Senate Committee on Small Business and Entrepr...      SSSB  senate\n",
       "46              Senate Committee on Veterans' Affairs      SSVA  senate\n",
       "\n",
       "[47 rows x 3 columns]"
      ]
     },
     "execution_count": 42,
     "metadata": {},
     "output_type": "execute_result"
    }
   ],
   "source": [
    "comm_df = pd.DataFrame(\n",
    "    data=[[c['name'], c['thomas_id'], c['type']] for c in comms],\n",
    "    columns=['name', 'thomas_id', 'type']\n",
    ")\n",
    "comm_df"
   ]
  },
  {
   "cell_type": "markdown",
   "metadata": {},
   "source": [
    "### Now let's take a look at the commitee memberships"
   ]
  },
  {
   "cell_type": "code",
   "execution_count": 43,
   "metadata": {},
   "outputs": [
    {
     "data": {
      "text/plain": [
       "dict_keys(['HLIG', 'HLIG01', 'HLIG02', 'HLIG03', 'HLIG04', 'HSAG', 'HSAG03', 'HSAG14', 'HSAG15', 'HSAG16', 'HSAG22', 'HSAG29', 'HSAP', 'HSAP01', 'HSAP02', 'HSAP04', 'HSAP06', 'HSAP07', 'HSAP10', 'HSAP15', 'HSAP18', 'HSAP19', 'HSAP20', 'HSAP23', 'HSAP24', 'HSAS', 'HSAS02', 'HSAS03', 'HSAS06', 'HSAS25', 'HSAS26', 'HSAS28', 'HSAS29', 'HSBA', 'HSBA01', 'HSBA04', 'HSBA09', 'HSBA15', 'HSBA16', 'HSBA20', 'HSBU', 'HSED', 'HSED02', 'HSED10', 'HSED13', 'HSED14', 'HSFA', 'HSFA05', 'HSFA07', 'HSFA13', 'HSFA14', 'HSFA16', 'HSFA18', 'HSGO', 'HSGO06', 'HSGO24', 'HSGO25', 'HSGO27', 'HSGO28', 'HSGO29', 'HSHA', 'HSHM', 'HSHM05', 'HSHM07', 'HSHM08', 'HSHM09', 'HSHM11', 'HSHM12', 'HSIF', 'HSIF02', 'HSIF03', 'HSIF14', 'HSIF16', 'HSIF17', 'HSIF18', 'HSII', 'HSII06', 'HSII10', 'HSII13', 'HSII15', 'HSII24', 'HSJU', 'HSJU01', 'HSJU03', 'HSJU05', 'HSJU08', 'HSJU10', 'HSPW', 'HSPW02', 'HSPW05', 'HSPW07', 'HSPW12', 'HSPW13', 'HSPW14', 'HSRU', 'HSRU02', 'HSRU04', 'HSSM', 'HSSM23', 'HSSM24', 'HSSM25', 'HSSM26', 'HSSM27', 'HSSO', 'HSSY', 'HSSY15', 'HSSY16', 'HSSY18', 'HSSY20', 'HSSY21', 'HSVR', 'HSVR03', 'HSVR08', 'HSVR09', 'HSVR10', 'HSVR11', 'HSWM', 'HSWM01', 'HSWM02', 'HSWM03', 'HSWM04', 'HSWM05', 'HSWM06', 'JCSE', 'JSEC', 'JSLC', 'JSPR', 'JSTX', 'SCNC', 'SLET', 'SLIA', 'SLIN', 'SPAG', 'SSAF', 'SSAF13', 'SSAF14', 'SSAF15', 'SSAF16', 'SSAF17', 'SSAP', 'SSAP01', 'SSAP02', 'SSAP08', 'SSAP14', 'SSAP16', 'SSAP17', 'SSAP18', 'SSAP19', 'SSAP20', 'SSAP22', 'SSAP23', 'SSAP24', 'SSAS', 'SSAS13', 'SSAS14', 'SSAS15', 'SSAS16', 'SSAS17', 'SSAS20', 'SSAS21', 'SSBK', 'SSBK04', 'SSBK05', 'SSBK08', 'SSBK09', 'SSBK12', 'SSBU', 'SSCM', 'SSCM01', 'SSCM20', 'SSCM22', 'SSCM24', 'SSCM25', 'SSCM26', 'SSEG', 'SSEG01', 'SSEG03', 'SSEG04', 'SSEG07', 'SSEV', 'SSEV08', 'SSEV09', 'SSEV10', 'SSEV15', 'SSFI', 'SSFI02', 'SSFI10', 'SSFI11', 'SSFI12', 'SSFI13', 'SSFI14', 'SSFR', 'SSFR01', 'SSFR02', 'SSFR06', 'SSFR07', 'SSFR09', 'SSFR14', 'SSFR15', 'SSGA', 'SSGA01', 'SSGA18', 'SSGA19', 'SSHR', 'SSHR09', 'SSHR11', 'SSHR12', 'SSJU', 'SSJU01', 'SSJU04', 'SSJU21', 'SSJU22', 'SSJU23', 'SSJU25', 'SSRA', 'SSSB', 'SSVA'])"
      ]
     },
     "execution_count": 43,
     "metadata": {},
     "output_type": "execute_result"
    }
   ],
   "source": [
    "comm_membership.keys()"
   ]
  },
  {
   "cell_type": "code",
   "execution_count": 44,
   "metadata": {},
   "outputs": [
    {
     "data": {
      "text/plain": [
       "{'name': 'K. Michael Conaway',\n",
       " 'party': 'majority',\n",
       " 'rank': 1,\n",
       " 'title': 'Chair',\n",
       " 'thomas': '01805',\n",
       " 'bioguide': 'C001062'}"
      ]
     },
     "execution_count": 44,
     "metadata": {},
     "output_type": "execute_result"
    }
   ],
   "source": [
    "comm_membership['HSAG'][0]"
   ]
  },
  {
   "cell_type": "markdown",
   "metadata": {},
   "source": [
    "### Now let's create a dataframe from the commitee memberships dataset"
   ]
  },
  {
   "cell_type": "code",
   "execution_count": 45,
   "metadata": {},
   "outputs": [
    {
     "data": {
      "text/html": [
       "<div>\n",
       "<style scoped>\n",
       "    .dataframe tbody tr th:only-of-type {\n",
       "        vertical-align: middle;\n",
       "    }\n",
       "\n",
       "    .dataframe tbody tr th {\n",
       "        vertical-align: top;\n",
       "    }\n",
       "\n",
       "    .dataframe thead th {\n",
       "        text-align: right;\n",
       "    }\n",
       "</style>\n",
       "<table border=\"1\" class=\"dataframe\">\n",
       "  <thead>\n",
       "    <tr style=\"text-align: right;\">\n",
       "      <th></th>\n",
       "      <th>comm_id</th>\n",
       "      <th>leg_id</th>\n",
       "    </tr>\n",
       "  </thead>\n",
       "  <tbody>\n",
       "    <tr>\n",
       "      <th>0</th>\n",
       "      <td>HLIG</td>\n",
       "      <td>N000181</td>\n",
       "    </tr>\n",
       "    <tr>\n",
       "      <th>1</th>\n",
       "      <td>HLIG</td>\n",
       "      <td>C001062</td>\n",
       "    </tr>\n",
       "    <tr>\n",
       "      <th>2</th>\n",
       "      <td>HLIG</td>\n",
       "      <td>K000210</td>\n",
       "    </tr>\n",
       "    <tr>\n",
       "      <th>...</th>\n",
       "      <td>...</td>\n",
       "      <td>...</td>\n",
       "    </tr>\n",
       "    <tr>\n",
       "      <th>3268</th>\n",
       "      <td>SSVA</td>\n",
       "      <td>B001277</td>\n",
       "    </tr>\n",
       "    <tr>\n",
       "      <th>3269</th>\n",
       "      <td>SSVA</td>\n",
       "      <td>H001042</td>\n",
       "    </tr>\n",
       "    <tr>\n",
       "      <th>3270</th>\n",
       "      <td>SSVA</td>\n",
       "      <td>M001183</td>\n",
       "    </tr>\n",
       "  </tbody>\n",
       "</table>\n",
       "<p>3271 rows × 2 columns</p>\n",
       "</div>"
      ],
      "text/plain": [
       "     comm_id   leg_id\n",
       "0       HLIG  N000181\n",
       "1       HLIG  C001062\n",
       "2       HLIG  K000210\n",
       "...      ...      ...\n",
       "3268    SSVA  B001277\n",
       "3269    SSVA  H001042\n",
       "3270    SSVA  M001183\n",
       "\n",
       "[3271 rows x 2 columns]"
      ]
     },
     "execution_count": 45,
     "metadata": {},
     "output_type": "execute_result"
    }
   ],
   "source": [
    "member_df = pd.DataFrame(\n",
    "    data=[[c, m['bioguide']] for c, members in comm_membership.items() for m in members],\n",
    "    columns=['comm_id', 'leg_id']\n",
    ")\n",
    "member_df"
   ]
  },
  {
   "cell_type": "code",
   "execution_count": 46,
   "metadata": {},
   "outputs": [
    {
     "data": {
      "text/html": [
       "<div>\n",
       "<style scoped>\n",
       "    .dataframe tbody tr th:only-of-type {\n",
       "        vertical-align: middle;\n",
       "    }\n",
       "\n",
       "    .dataframe tbody tr th {\n",
       "        vertical-align: top;\n",
       "    }\n",
       "\n",
       "    .dataframe thead th {\n",
       "        text-align: right;\n",
       "    }\n",
       "</style>\n",
       "<table border=\"1\" class=\"dataframe\">\n",
       "  <thead>\n",
       "    <tr style=\"text-align: right;\">\n",
       "      <th></th>\n",
       "      <th>name</th>\n",
       "      <th>thomas_id</th>\n",
       "      <th>type</th>\n",
       "    </tr>\n",
       "  </thead>\n",
       "  <tbody>\n",
       "    <tr>\n",
       "      <th>0</th>\n",
       "      <td>House Committee on Agriculture</td>\n",
       "      <td>HSAG</td>\n",
       "      <td>house</td>\n",
       "    </tr>\n",
       "    <tr>\n",
       "      <th>1</th>\n",
       "      <td>House Committee on Appropriations</td>\n",
       "      <td>HSAP</td>\n",
       "      <td>house</td>\n",
       "    </tr>\n",
       "    <tr>\n",
       "      <th>2</th>\n",
       "      <td>House Committee on Armed Services</td>\n",
       "      <td>HSAS</td>\n",
       "      <td>house</td>\n",
       "    </tr>\n",
       "    <tr>\n",
       "      <th>...</th>\n",
       "      <td>...</td>\n",
       "      <td>...</td>\n",
       "      <td>...</td>\n",
       "    </tr>\n",
       "    <tr>\n",
       "      <th>44</th>\n",
       "      <td>Senate Committee on Rules and Administration</td>\n",
       "      <td>SSRA</td>\n",
       "      <td>senate</td>\n",
       "    </tr>\n",
       "    <tr>\n",
       "      <th>45</th>\n",
       "      <td>Senate Committee on Small Business and Entrepr...</td>\n",
       "      <td>SSSB</td>\n",
       "      <td>senate</td>\n",
       "    </tr>\n",
       "    <tr>\n",
       "      <th>46</th>\n",
       "      <td>Senate Committee on Veterans' Affairs</td>\n",
       "      <td>SSVA</td>\n",
       "      <td>senate</td>\n",
       "    </tr>\n",
       "  </tbody>\n",
       "</table>\n",
       "<p>47 rows × 3 columns</p>\n",
       "</div>"
      ],
      "text/plain": [
       "                                                 name thomas_id    type\n",
       "0                      House Committee on Agriculture      HSAG   house\n",
       "1                   House Committee on Appropriations      HSAP   house\n",
       "2                   House Committee on Armed Services      HSAS   house\n",
       "..                                                ...       ...     ...\n",
       "44       Senate Committee on Rules and Administration      SSRA  senate\n",
       "45  Senate Committee on Small Business and Entrepr...      SSSB  senate\n",
       "46              Senate Committee on Veterans' Affairs      SSVA  senate\n",
       "\n",
       "[47 rows x 3 columns]"
      ]
     },
     "execution_count": 46,
     "metadata": {},
     "output_type": "execute_result"
    }
   ],
   "source": [
    "comm_df"
   ]
  },
  {
   "cell_type": "markdown",
   "metadata": {},
   "source": [
    "### Merge the member-df with comm_df on 'comm_id' and 'thomas_id'. Name it member_comm\n",
    "\n",
    "Read more about pd.merge here: https://pandas.pydata.org/docs/reference/api/pandas.DataFrame.merge.html"
   ]
  },
  {
   "cell_type": "code",
   "execution_count": 47,
   "metadata": {},
   "outputs": [
    {
     "data": {
      "text/html": [
       "<div>\n",
       "<style scoped>\n",
       "    .dataframe tbody tr th:only-of-type {\n",
       "        vertical-align: middle;\n",
       "    }\n",
       "\n",
       "    .dataframe tbody tr th {\n",
       "        vertical-align: top;\n",
       "    }\n",
       "\n",
       "    .dataframe thead th {\n",
       "        text-align: right;\n",
       "    }\n",
       "</style>\n",
       "<table border=\"1\" class=\"dataframe\">\n",
       "  <thead>\n",
       "    <tr style=\"text-align: right;\">\n",
       "      <th></th>\n",
       "      <th>committee</th>\n",
       "      <th>thomas_id</th>\n",
       "      <th>type</th>\n",
       "      <th>leg_id</th>\n",
       "    </tr>\n",
       "  </thead>\n",
       "  <tbody>\n",
       "    <tr>\n",
       "      <th>0</th>\n",
       "      <td>House Committee on Agriculture</td>\n",
       "      <td>HSAG</td>\n",
       "      <td>house</td>\n",
       "      <td>C001062</td>\n",
       "    </tr>\n",
       "    <tr>\n",
       "      <th>1</th>\n",
       "      <td>House Committee on Agriculture</td>\n",
       "      <td>HSAG</td>\n",
       "      <td>house</td>\n",
       "      <td>L000491</td>\n",
       "    </tr>\n",
       "    <tr>\n",
       "      <th>2</th>\n",
       "      <td>House Committee on Agriculture</td>\n",
       "      <td>HSAG</td>\n",
       "      <td>house</td>\n",
       "      <td>K000362</td>\n",
       "    </tr>\n",
       "    <tr>\n",
       "      <th>...</th>\n",
       "      <td>...</td>\n",
       "      <td>...</td>\n",
       "      <td>...</td>\n",
       "      <td>...</td>\n",
       "    </tr>\n",
       "    <tr>\n",
       "      <th>1061</th>\n",
       "      <td>Senate Committee on Veterans' Affairs</td>\n",
       "      <td>SSVA</td>\n",
       "      <td>senate</td>\n",
       "      <td>B001277</td>\n",
       "    </tr>\n",
       "    <tr>\n",
       "      <th>1062</th>\n",
       "      <td>Senate Committee on Veterans' Affairs</td>\n",
       "      <td>SSVA</td>\n",
       "      <td>senate</td>\n",
       "      <td>H001042</td>\n",
       "    </tr>\n",
       "    <tr>\n",
       "      <th>1063</th>\n",
       "      <td>Senate Committee on Veterans' Affairs</td>\n",
       "      <td>SSVA</td>\n",
       "      <td>senate</td>\n",
       "      <td>M001183</td>\n",
       "    </tr>\n",
       "  </tbody>\n",
       "</table>\n",
       "<p>1064 rows × 4 columns</p>\n",
       "</div>"
      ],
      "text/plain": [
       "                                  committee thomas_id    type   leg_id\n",
       "0            House Committee on Agriculture      HSAG   house  C001062\n",
       "1            House Committee on Agriculture      HSAG   house  L000491\n",
       "2            House Committee on Agriculture      HSAG   house  K000362\n",
       "...                                     ...       ...     ...      ...\n",
       "1061  Senate Committee on Veterans' Affairs      SSVA  senate  B001277\n",
       "1062  Senate Committee on Veterans' Affairs      SSVA  senate  H001042\n",
       "1063  Senate Committee on Veterans' Affairs      SSVA  senate  M001183\n",
       "\n",
       "[1064 rows x 4 columns]"
      ]
     },
     "execution_count": 47,
     "metadata": {},
     "output_type": "execute_result"
    }
   ],
   "source": [
    "### YOUR CODE HERE\n",
    "member_df = member_df.rename(columns={'comm_id': 'thomas_id'})\n",
    "\n",
    "member_comm = pd.merge(comm_df, member_df, on='thomas_id')\n",
    "\n",
    "member_comm = member_comm.rename(columns={'name': 'committee'})\n",
    "member_comm"
   ]
  },
  {
   "cell_type": "markdown",
   "metadata": {},
   "source": [
    "### Count the number of legistlators belonging to each committee."
   ]
  },
  {
   "cell_type": "code",
   "execution_count": 48,
   "metadata": {},
   "outputs": [
    {
     "data": {
      "text/html": [
       "<div>\n",
       "<style scoped>\n",
       "    .dataframe tbody tr th:only-of-type {\n",
       "        vertical-align: middle;\n",
       "    }\n",
       "\n",
       "    .dataframe tbody tr th {\n",
       "        vertical-align: top;\n",
       "    }\n",
       "\n",
       "    .dataframe thead th {\n",
       "        text-align: right;\n",
       "    }\n",
       "</style>\n",
       "<table border=\"1\" class=\"dataframe\">\n",
       "  <thead>\n",
       "    <tr style=\"text-align: right;\">\n",
       "      <th></th>\n",
       "      <th>thomas_id</th>\n",
       "      <th>type</th>\n",
       "      <th>leg_id</th>\n",
       "    </tr>\n",
       "    <tr>\n",
       "      <th>committee</th>\n",
       "      <th></th>\n",
       "      <th></th>\n",
       "      <th></th>\n",
       "    </tr>\n",
       "  </thead>\n",
       "  <tbody>\n",
       "    <tr>\n",
       "      <th>Commission on Security and Cooperation in Europe</th>\n",
       "      <td>14</td>\n",
       "      <td>14</td>\n",
       "      <td>14</td>\n",
       "    </tr>\n",
       "    <tr>\n",
       "      <th>House Committee on Agriculture</th>\n",
       "      <td>40</td>\n",
       "      <td>40</td>\n",
       "      <td>40</td>\n",
       "    </tr>\n",
       "    <tr>\n",
       "      <th>House Committee on Appropriations</th>\n",
       "      <td>44</td>\n",
       "      <td>44</td>\n",
       "      <td>44</td>\n",
       "    </tr>\n",
       "    <tr>\n",
       "      <th>...</th>\n",
       "      <td>...</td>\n",
       "      <td>...</td>\n",
       "      <td>...</td>\n",
       "    </tr>\n",
       "    <tr>\n",
       "      <th>Senate Select Committee on Intelligence</th>\n",
       "      <td>19</td>\n",
       "      <td>19</td>\n",
       "      <td>19</td>\n",
       "    </tr>\n",
       "    <tr>\n",
       "      <th>Senate Special Committee on Aging</th>\n",
       "      <td>12</td>\n",
       "      <td>12</td>\n",
       "      <td>12</td>\n",
       "    </tr>\n",
       "    <tr>\n",
       "      <th>United States Senate Caucus on International Narcotics Control</th>\n",
       "      <td>5</td>\n",
       "      <td>5</td>\n",
       "      <td>5</td>\n",
       "    </tr>\n",
       "  </tbody>\n",
       "</table>\n",
       "<p>47 rows × 3 columns</p>\n",
       "</div>"
      ],
      "text/plain": [
       "                                                    thomas_id  type  leg_id\n",
       "committee                                                                  \n",
       "Commission on Security and Cooperation in Europe           14    14      14\n",
       "House Committee on Agriculture                             40    40      40\n",
       "House Committee on Appropriations                          44    44      44\n",
       "...                                                       ...   ...     ...\n",
       "Senate Select Committee on Intelligence                    19    19      19\n",
       "Senate Special Committee on Aging                          12    12      12\n",
       "United States Senate Caucus on International Na...          5     5       5\n",
       "\n",
       "[47 rows x 3 columns]"
      ]
     },
     "execution_count": 48,
     "metadata": {},
     "output_type": "execute_result"
    }
   ],
   "source": [
    "### YOUR CODE HERE\n",
    "counts = member_comm.groupby(by=['committee']).count()\n",
    "counts"
   ]
  },
  {
   "cell_type": "markdown",
   "metadata": {},
   "source": [
    "### Merge member_comm with with leg_df on 'leg_id',  and 'id'"
   ]
  },
  {
   "cell_type": "code",
   "execution_count": 49,
   "metadata": {},
   "outputs": [
    {
     "data": {
      "text/html": [
       "<div>\n",
       "<style scoped>\n",
       "    .dataframe tbody tr th:only-of-type {\n",
       "        vertical-align: middle;\n",
       "    }\n",
       "\n",
       "    .dataframe tbody tr th {\n",
       "        vertical-align: top;\n",
       "    }\n",
       "\n",
       "    .dataframe thead th {\n",
       "        text-align: right;\n",
       "    }\n",
       "</style>\n",
       "<table border=\"1\" class=\"dataframe\">\n",
       "  <thead>\n",
       "    <tr style=\"text-align: right;\">\n",
       "      <th></th>\n",
       "      <th>committee</th>\n",
       "      <th>thomas_id</th>\n",
       "      <th>type</th>\n",
       "      <th>id</th>\n",
       "      <th>first</th>\n",
       "      <th>last</th>\n",
       "      <th>birthday</th>\n",
       "      <th>age</th>\n",
       "      <th>religion</th>\n",
       "    </tr>\n",
       "  </thead>\n",
       "  <tbody>\n",
       "    <tr>\n",
       "      <th>0</th>\n",
       "      <td>House Committee on Agriculture</td>\n",
       "      <td>HSAG</td>\n",
       "      <td>house</td>\n",
       "      <td>C001062</td>\n",
       "      <td>K.</td>\n",
       "      <td>Conaway</td>\n",
       "      <td>1948-06-11</td>\n",
       "      <td>76</td>\n",
       "      <td>Baptist</td>\n",
       "    </tr>\n",
       "    <tr>\n",
       "      <th>1</th>\n",
       "      <td>House Committee on Agriculture</td>\n",
       "      <td>HSAG</td>\n",
       "      <td>house</td>\n",
       "      <td>L000491</td>\n",
       "      <td>Frank</td>\n",
       "      <td>Lucas</td>\n",
       "      <td>1960-01-06</td>\n",
       "      <td>64</td>\n",
       "      <td>Baptist</td>\n",
       "    </tr>\n",
       "    <tr>\n",
       "      <th>2</th>\n",
       "      <td>House Committee on Agriculture</td>\n",
       "      <td>HSAG</td>\n",
       "      <td>house</td>\n",
       "      <td>K000362</td>\n",
       "      <td>Steve</td>\n",
       "      <td>King</td>\n",
       "      <td>1949-05-28</td>\n",
       "      <td>75</td>\n",
       "      <td>Roman Catholic</td>\n",
       "    </tr>\n",
       "    <tr>\n",
       "      <th>...</th>\n",
       "      <td>...</td>\n",
       "      <td>...</td>\n",
       "      <td>...</td>\n",
       "      <td>...</td>\n",
       "      <td>...</td>\n",
       "      <td>...</td>\n",
       "      <td>...</td>\n",
       "      <td>...</td>\n",
       "      <td>...</td>\n",
       "    </tr>\n",
       "    <tr>\n",
       "      <th>1061</th>\n",
       "      <td>Senate Committee on Veterans' Affairs</td>\n",
       "      <td>SSVA</td>\n",
       "      <td>senate</td>\n",
       "      <td>B001277</td>\n",
       "      <td>Richard</td>\n",
       "      <td>Blumenthal</td>\n",
       "      <td>1946-02-13</td>\n",
       "      <td>78</td>\n",
       "      <td>Unknown</td>\n",
       "    </tr>\n",
       "    <tr>\n",
       "      <th>1062</th>\n",
       "      <td>Senate Committee on Veterans' Affairs</td>\n",
       "      <td>SSVA</td>\n",
       "      <td>senate</td>\n",
       "      <td>H001042</td>\n",
       "      <td>Mazie</td>\n",
       "      <td>Hirono</td>\n",
       "      <td>1947-11-03</td>\n",
       "      <td>76</td>\n",
       "      <td>Unknown</td>\n",
       "    </tr>\n",
       "    <tr>\n",
       "      <th>1063</th>\n",
       "      <td>Senate Committee on Veterans' Affairs</td>\n",
       "      <td>SSVA</td>\n",
       "      <td>senate</td>\n",
       "      <td>M001183</td>\n",
       "      <td>Joe</td>\n",
       "      <td>Manchin</td>\n",
       "      <td>1947-08-24</td>\n",
       "      <td>77</td>\n",
       "      <td>Unknown</td>\n",
       "    </tr>\n",
       "  </tbody>\n",
       "</table>\n",
       "<p>1064 rows × 9 columns</p>\n",
       "</div>"
      ],
      "text/plain": [
       "                                  committee thomas_id    type       id  \\\n",
       "0            House Committee on Agriculture      HSAG   house  C001062   \n",
       "1            House Committee on Agriculture      HSAG   house  L000491   \n",
       "2            House Committee on Agriculture      HSAG   house  K000362   \n",
       "...                                     ...       ...     ...      ...   \n",
       "1061  Senate Committee on Veterans' Affairs      SSVA  senate  B001277   \n",
       "1062  Senate Committee on Veterans' Affairs      SSVA  senate  H001042   \n",
       "1063  Senate Committee on Veterans' Affairs      SSVA  senate  M001183   \n",
       "\n",
       "        first        last   birthday  age        religion  \n",
       "0          K.     Conaway 1948-06-11   76         Baptist  \n",
       "1       Frank       Lucas 1960-01-06   64         Baptist  \n",
       "2       Steve        King 1949-05-28   75  Roman Catholic  \n",
       "...       ...         ...        ...  ...             ...  \n",
       "1061  Richard  Blumenthal 1946-02-13   78         Unknown  \n",
       "1062    Mazie      Hirono 1947-11-03   76         Unknown  \n",
       "1063      Joe     Manchin 1947-08-24   77         Unknown  \n",
       "\n",
       "[1064 rows x 9 columns]"
      ]
     },
     "execution_count": 49,
     "metadata": {},
     "output_type": "execute_result"
    }
   ],
   "source": [
    "### YOUR CODE HERE\n",
    "member_comm = member_comm.rename(columns={'leg_id':'id'})\n",
    "\n",
    "merge_membercomm_legdf = pd.merge(member_comm, leg_df, on='id')\n",
    "merge_membercomm_legdf"
   ]
  },
  {
   "cell_type": "markdown",
   "metadata": {},
   "source": [
    "### Compute the average age of legislators in each committee"
   ]
  },
  {
   "cell_type": "code",
   "execution_count": 65,
   "metadata": {},
   "outputs": [
    {
     "data": {
      "text/plain": [
       "committee\n",
       "House Committee on House Administration                           59.83\n",
       "House Permanent Select Committee on Intelligence                  59.89\n",
       "Joint Economic Committee                                          60.13\n",
       "                                                                  ...  \n",
       "Joint Committee on Taxation                                       76.20\n",
       "Joint Committee on the Library                                    78.71\n",
       "United States Senate Caucus on International Narcotics Control    80.40\n",
       "Name: age, Length: 47, dtype: float64"
      ]
     },
     "execution_count": 65,
     "metadata": {},
     "output_type": "execute_result"
    }
   ],
   "source": [
    "### YOUR CODE HERE\n",
    "grouped = merge_membercomm_legdf.groupby(by=['committee'])\n",
    "average_ages = grouped['age'].mean().sort_values()\n",
    "average_ages"
   ]
  },
  {
   "cell_type": "markdown",
   "metadata": {},
   "source": [
    "## Missing Values\n",
    "\n",
    "* Drop the data with missing values (we did that for previous examples)\n",
    "* Estimate the missing value\n",
    "    1. use mean, median or mode \n",
    "    2. Use inference engine to estimate \n",
    "    3. Some values should not be estimated (e.g., religion in previous example)\n",
    "* Zero fill or value fill "
   ]
  },
  {
   "cell_type": "markdown",
   "metadata": {},
   "source": [
    "## Random Sampling \n",
    "\n",
    "if we use pandas, we can simply use sample function. Read more here: https://pandas.pydata.org/docs/reference/api/pandas.DataFrame.sample.html"
   ]
  },
  {
   "cell_type": "code",
   "execution_count": 51,
   "metadata": {},
   "outputs": [
    {
     "name": "stdout",
     "output_type": "stream",
     "text": [
      "(20272, 5) (101360, 5)\n",
      "(20, 5) (101360, 5)\n"
     ]
    }
   ],
   "source": [
    "# sample 20% of data from the tidy dataframe\n",
    "A = tidy.sample(frac=0.2)\n",
    "print(A.shape, tidy.shape)\n",
    "\n",
    "# sample 20 data \n",
    "B = tidy.sample(n=20)\n",
    "print(B.shape, tidy.shape)"
   ]
  },
  {
   "cell_type": "markdown",
   "metadata": {},
   "source": [
    "## What if we need to randomly sample images or files. for example files in the current directory?\n",
    "We can use the Python funtion random. Read more about random here"
   ]
  },
  {
   "cell_type": "code",
   "execution_count": 52,
   "metadata": {},
   "outputs": [],
   "source": [
    "import os \n",
    "import random \n",
    "files = os.listdir(\".\")"
   ]
  },
  {
   "cell_type": "code",
   "execution_count": 53,
   "metadata": {},
   "outputs": [
    {
     "name": "stdout",
     "output_type": "stream",
     "text": [
      "['.DS_Store', '.ipynb_checkpoints', '.OTTER_LOG', 'committee-membership-current.yaml', 'committees-current.yaml', 'elections.csv', 'elections.json', 'LAB01.ipynb', 'legislators-current.yaml', 'tb.csv', 'TB_data_dictionary_2019-06-27.csv', 'tb_meta.csv', 'tidy.csv', 'untidy1.csv', 'untidy2.csv']\n"
     ]
    }
   ],
   "source": [
    "print(files)"
   ]
  },
  {
   "cell_type": "markdown",
   "metadata": {},
   "source": [
    "### Files is a list files in your current working directory. Sample 2 random files from your files directiory and print their names.  "
   ]
  },
  {
   "cell_type": "code",
   "execution_count": 54,
   "metadata": {},
   "outputs": [
    {
     "data": {
      "text/html": [
       "<div>\n",
       "<style scoped>\n",
       "    .dataframe tbody tr th:only-of-type {\n",
       "        vertical-align: middle;\n",
       "    }\n",
       "\n",
       "    .dataframe tbody tr th {\n",
       "        vertical-align: top;\n",
       "    }\n",
       "\n",
       "    .dataframe thead th {\n",
       "        text-align: right;\n",
       "    }\n",
       "</style>\n",
       "<table border=\"1\" class=\"dataframe\">\n",
       "  <thead>\n",
       "    <tr style=\"text-align: right;\">\n",
       "      <th></th>\n",
       "      <th>files in directory</th>\n",
       "    </tr>\n",
       "  </thead>\n",
       "  <tbody>\n",
       "    <tr>\n",
       "      <th>9</th>\n",
       "      <td>tb.csv</td>\n",
       "    </tr>\n",
       "    <tr>\n",
       "      <th>11</th>\n",
       "      <td>tb_meta.csv</td>\n",
       "    </tr>\n",
       "  </tbody>\n",
       "</table>\n",
       "</div>"
      ],
      "text/plain": [
       "   files in directory\n",
       "9              tb.csv\n",
       "11        tb_meta.csv"
      ]
     },
     "execution_count": 54,
     "metadata": {},
     "output_type": "execute_result"
    }
   ],
   "source": [
    "### YOUR CODE HERE\n",
    "files_df = pd.DataFrame(data=files, columns=['files in directory'])\n",
    "selected_files = files_df.sample(n=2, random_state=42)\n",
    "selected_files"
   ]
  },
  {
   "cell_type": "markdown",
   "metadata": {},
   "source": [
    "## What if we have to sample data from numpy array \n",
    "We can use np.random. Read more about it here https://numpy.org/doc/stable/reference/random/index.html. "
   ]
  },
  {
   "cell_type": "markdown",
   "metadata": {},
   "source": [
    "### First use any two np.random functions to generate an array of random numbers"
   ]
  },
  {
   "cell_type": "code",
   "execution_count": 55,
   "metadata": {},
   "outputs": [],
   "source": [
    "### YOUR CODE HERE\n",
    "rand_arr_1 = np.random.uniform(-1, 1, 100)\n",
    "rand_arr_2 = np.random.normal(-1, 1, 100)"
   ]
  },
  {
   "cell_type": "markdown",
   "metadata": {},
   "source": [
    "### Randomly sample 3 elements without replacement"
   ]
  },
  {
   "cell_type": "code",
   "execution_count": 56,
   "metadata": {},
   "outputs": [
    {
     "data": {
      "text/plain": [
       "array([-0.74, -0.75,  0.01])"
      ]
     },
     "execution_count": 56,
     "metadata": {},
     "output_type": "execute_result"
    }
   ],
   "source": [
    "### YOUR CODE HERE\n",
    "sample_rand_arr_1 = np.random.choice(rand_arr_1, 3, replace=False)\n",
    "sample_rand_arr_1"
   ]
  },
  {
   "cell_type": "markdown",
   "metadata": {},
   "source": [
    "### Randomly sample 3 elements with replacement"
   ]
  },
  {
   "cell_type": "code",
   "execution_count": 57,
   "metadata": {},
   "outputs": [
    {
     "data": {
      "text/plain": [
       "array([ 0.31,  0.18, -2.94])"
      ]
     },
     "execution_count": 57,
     "metadata": {},
     "output_type": "execute_result"
    }
   ],
   "source": [
    "### YOUR CODE HERE\n",
    "sample_rand_arr_2 = np.random.choice(rand_arr_2, 3, replace=True)\n",
    "sample_rand_arr_2"
   ]
  }
 ],
 "metadata": {
  "kernelspec": {
   "display_name": "Python 3 (ipykernel)",
   "language": "python",
   "name": "python3"
  },
  "language_info": {
   "codemirror_mode": {
    "name": "ipython",
    "version": 3
   },
   "file_extension": ".py",
   "mimetype": "text/x-python",
   "name": "python",
   "nbconvert_exporter": "python",
   "pygments_lexer": "ipython3",
   "version": "3.12.6"
  }
 },
 "nbformat": 4,
 "nbformat_minor": 2
}
