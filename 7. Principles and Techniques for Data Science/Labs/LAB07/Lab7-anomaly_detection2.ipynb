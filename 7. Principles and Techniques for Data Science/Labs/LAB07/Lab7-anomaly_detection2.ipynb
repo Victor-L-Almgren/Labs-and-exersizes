{
 "cells": [
  {
   "cell_type": "markdown",
   "metadata": {},
   "source": [
    "## Course Code: DS4003\n",
    "## Course Name: Principles and Techniques for Data Science\n",
    "## Lab Session: 07 - Anomaly Detection 2\n"
   ]
  },
  {
   "cell_type": "markdown",
   "metadata": {},
   "source": [
    "#### Objectives\n",
    "\n",
    "You will be able to: \n",
    "\n",
    "- Gain a practical understanding of how various anomaly detection algorithms operate.\n",
    "- Evaluate the results form anomaly detection.\n",
    "- Confidently apply anomaly detection to new datasets"
   ]
  },
  {
   "cell_type": "code",
   "execution_count": 1,
   "metadata": {
    "_cell_guid": "b1076dfc-b9ad-4769-8c92-a6c4dae69d19",
    "_uuid": "8f2839f25d086af736a60e9eeb907d3b93b6e0e5",
    "execution": {
     "iopub.execute_input": "2023-10-31T12:22:42.262428Z",
     "iopub.status.busy": "2023-10-31T12:22:42.26167Z",
     "iopub.status.idle": "2023-10-31T12:22:43.847396Z",
     "shell.execute_reply": "2023-10-31T12:22:43.846196Z",
     "shell.execute_reply.started": "2023-10-31T12:22:42.262378Z"
    }
   },
   "outputs": [],
   "source": [
    "import numpy as np \n",
    "import pandas as pd \n",
    "import seaborn as sns \n",
    "pd.set_option('display.max_columns', None)\n",
    "import matplotlib.pyplot as plt\n"
   ]
  },
  {
   "cell_type": "markdown",
   "metadata": {},
   "source": [
    "# Today's Topics \n",
    "\n",
    "## (Outlier) Anomaly Detection \n",
    "* AUROC curve \n",
    "* PCA based method \n",
    "* Matrix Factorization \n",
    "* Matrix Factorization + kNN\n",
    "* AutoEncoder \n",
    "* Angle Based Outlier Detector \n",
    "* Isolation Forest\n",
    "\n"
   ]
  },
  {
   "cell_type": "markdown",
   "metadata": {},
   "source": [
    "# Additional Library "
   ]
  },
  {
   "cell_type": "code",
   "execution_count": 2,
   "metadata": {
    "execution": {
     "iopub.execute_input": "2023-10-31T12:22:47.793477Z",
     "iopub.status.busy": "2023-10-31T12:22:47.792342Z",
     "iopub.status.idle": "2023-10-31T12:23:03.970089Z",
     "shell.execute_reply": "2023-10-31T12:23:03.968986Z",
     "shell.execute_reply.started": "2023-10-31T12:22:47.793436Z"
    }
   },
   "outputs": [
    {
     "name": "stdout",
     "output_type": "stream",
     "text": [
      "Requirement already satisfied: pyod in /Users/emmanuella.budu/opt/anaconda3/envs/CondTGAN/lib/python3.7/site-packages (1.1.0)\n",
      "Requirement already satisfied: numpy>=1.19 in /Users/emmanuella.budu/opt/anaconda3/envs/CondTGAN/lib/python3.7/site-packages (from pyod) (1.21.6)\n",
      "Requirement already satisfied: scipy>=1.5.1 in /Users/emmanuella.budu/opt/anaconda3/envs/CondTGAN/lib/python3.7/site-packages (from pyod) (1.7.3)\n",
      "Requirement already satisfied: joblib in /Users/emmanuella.budu/opt/anaconda3/envs/CondTGAN/lib/python3.7/site-packages (from pyod) (1.1.1)\n",
      "Requirement already satisfied: six in /Users/emmanuella.budu/opt/anaconda3/envs/CondTGAN/lib/python3.7/site-packages (from pyod) (1.16.0)\n",
      "Requirement already satisfied: scikit-learn>=0.20.0 in /Users/emmanuella.budu/opt/anaconda3/envs/CondTGAN/lib/python3.7/site-packages (from pyod) (0.24.1)\n",
      "Requirement already satisfied: numba>=0.51 in /Users/emmanuella.budu/opt/anaconda3/envs/CondTGAN/lib/python3.7/site-packages (from pyod) (0.56.3)\n",
      "Requirement already satisfied: matplotlib in /Users/emmanuella.budu/opt/anaconda3/envs/CondTGAN/lib/python3.7/site-packages (from pyod) (3.4.3)\n",
      "Requirement already satisfied: setuptools in /Users/emmanuella.budu/opt/anaconda3/envs/CondTGAN/lib/python3.7/site-packages (from numba>=0.51->pyod) (65.5.0)\n",
      "Requirement already satisfied: importlib-metadata in /Users/emmanuella.budu/opt/anaconda3/envs/CondTGAN/lib/python3.7/site-packages (from numba>=0.51->pyod) (4.11.3)\n",
      "Requirement already satisfied: llvmlite<0.40,>=0.39.0dev0 in /Users/emmanuella.budu/opt/anaconda3/envs/CondTGAN/lib/python3.7/site-packages (from numba>=0.51->pyod) (0.39.1)\n",
      "Requirement already satisfied: threadpoolctl>=2.0.0 in /Users/emmanuella.budu/opt/anaconda3/envs/CondTGAN/lib/python3.7/site-packages (from scikit-learn>=0.20.0->pyod) (3.1.0)\n",
      "Requirement already satisfied: python-dateutil>=2.7 in /Users/emmanuella.budu/opt/anaconda3/envs/CondTGAN/lib/python3.7/site-packages (from matplotlib->pyod) (2.8.2)\n",
      "Requirement already satisfied: kiwisolver>=1.0.1 in /Users/emmanuella.budu/opt/anaconda3/envs/CondTGAN/lib/python3.7/site-packages (from matplotlib->pyod) (1.4.2)\n",
      "Requirement already satisfied: pillow>=6.2.0 in /Users/emmanuella.budu/opt/anaconda3/envs/CondTGAN/lib/python3.7/site-packages (from matplotlib->pyod) (9.2.0)\n",
      "Requirement already satisfied: pyparsing>=2.2.1 in /Users/emmanuella.budu/opt/anaconda3/envs/CondTGAN/lib/python3.7/site-packages (from matplotlib->pyod) (3.0.9)\n",
      "Requirement already satisfied: cycler>=0.10 in /Users/emmanuella.budu/opt/anaconda3/envs/CondTGAN/lib/python3.7/site-packages (from matplotlib->pyod) (0.11.0)\n",
      "Requirement already satisfied: typing-extensions in /Users/emmanuella.budu/opt/anaconda3/envs/CondTGAN/lib/python3.7/site-packages (from kiwisolver>=1.0.1->matplotlib->pyod) (4.7.1)\n",
      "Requirement already satisfied: zipp>=0.5 in /Users/emmanuella.budu/opt/anaconda3/envs/CondTGAN/lib/python3.7/site-packages (from importlib-metadata->numba>=0.51->pyod) (3.8.0)\n"
     ]
    }
   ],
   "source": [
    "!pip install pyod"
   ]
  },
  {
   "cell_type": "code",
   "execution_count": 3,
   "metadata": {
    "execution": {
     "iopub.execute_input": "2023-10-31T12:23:13.35692Z",
     "iopub.status.busy": "2023-10-31T12:23:13.356548Z",
     "iopub.status.idle": "2023-10-31T12:23:27.388944Z",
     "shell.execute_reply": "2023-10-31T12:23:27.387946Z",
     "shell.execute_reply.started": "2023-10-31T12:23:13.356888Z"
    }
   },
   "outputs": [
    {
     "name": "stdout",
     "output_type": "stream",
     "text": [
      "Requirement already satisfied: idx2numpy in /Users/emmanuella.budu/opt/anaconda3/envs/CondTGAN/lib/python3.7/site-packages (1.2.3)\r\n",
      "Requirement already satisfied: six in /Users/emmanuella.budu/opt/anaconda3/envs/CondTGAN/lib/python3.7/site-packages (from idx2numpy) (1.16.0)\r\n",
      "Requirement already satisfied: numpy in /Users/emmanuella.budu/opt/anaconda3/envs/CondTGAN/lib/python3.7/site-packages (from idx2numpy) (1.21.6)\r\n"
     ]
    }
   ],
   "source": [
    "!pip install idx2numpy "
   ]
  },
  {
   "cell_type": "markdown",
   "metadata": {},
   "source": [
    "# Datasets we will use:\n",
    "* Wine Quality Dataset\n",
    "* Friends Dataset (from Lecture)\n",
    "* Arrhythmia Dataset (From Lecture)\n",
    "* MNIST dataset (for AutoEncoder)"
   ]
  },
  {
   "cell_type": "markdown",
   "metadata": {},
   "source": [
    "# Let's begin......"
   ]
  },
  {
   "cell_type": "markdown",
   "metadata": {},
   "source": [
    "# Let's read all the dataset first "
   ]
  },
  {
   "cell_type": "code",
   "execution_count": 4,
   "metadata": {
    "execution": {
     "iopub.execute_input": "2023-10-31T12:23:33.184009Z",
     "iopub.status.busy": "2023-10-31T12:23:33.183626Z",
     "iopub.status.idle": "2023-10-31T12:23:34.012073Z",
     "shell.execute_reply": "2023-10-31T12:23:34.010982Z",
     "shell.execute_reply.started": "2023-10-31T12:23:33.183977Z"
    }
   },
   "outputs": [],
   "source": [
    "import idx2numpy\n",
    "red_wine = pd.read_csv(\"winequality-red.csv\", sep=';')\n",
    "arrhythmia_data = pd.read_csv('arrhythmia.csv')\n",
    "arrhythmia_label = pd.read_csv('arrhythmia_true_labels.csv').to_numpy() \n",
    "friends_data = pd.read_csv('friends.csv')"
   ]
  },
  {
   "cell_type": "markdown",
   "metadata": {},
   "source": [
    "# AUROC helper function "
   ]
  },
  {
   "cell_type": "code",
   "execution_count": 5,
   "metadata": {
    "execution": {
     "iopub.execute_input": "2023-10-31T13:05:27.603045Z",
     "iopub.status.busy": "2023-10-31T13:05:27.602239Z",
     "iopub.status.idle": "2023-10-31T13:05:27.608781Z",
     "shell.execute_reply": "2023-10-31T13:05:27.60758Z",
     "shell.execute_reply.started": "2023-10-31T13:05:27.603017Z"
    }
   },
   "outputs": [],
   "source": [
    "from sklearn.metrics import roc_curve, auc, RocCurveDisplay\n",
    "def show_auroc(y_true, y_score, name): \n",
    "    fpr, tpr, thresholds = roc_curve(y_true, y_score)\n",
    "    roc_auc = auc(fpr, tpr)\n",
    "    display = RocCurveDisplay(fpr=fpr, tpr=tpr, roc_auc=roc_auc, estimator_name=name)\n",
    "    display.plot()\n",
    "    plt.show()"
   ]
  },
  {
   "cell_type": "markdown",
   "metadata": {},
   "source": [
    "# Other necessary imports"
   ]
  },
  {
   "cell_type": "code",
   "execution_count": 6,
   "metadata": {
    "execution": {
     "iopub.execute_input": "2023-10-31T12:35:02.077692Z",
     "iopub.status.busy": "2023-10-31T12:35:02.076821Z",
     "iopub.status.idle": "2023-10-31T12:35:02.082772Z",
     "shell.execute_reply": "2023-10-31T12:35:02.081883Z",
     "shell.execute_reply.started": "2023-10-31T12:35:02.077656Z"
    }
   },
   "outputs": [],
   "source": [
    "from pyod.utils.utility import standardizer \n",
    "from pyod.utils.example import visualize\n",
    "from sklearn.metrics import roc_auc_score \n",
    "from pyod.utils.data import generate_data \n"
   ]
  },
  {
   "cell_type": "markdown",
   "metadata": {},
   "source": [
    "#  We will start by applying PCA based Anomaly Detection on the red wine data"
   ]
  },
  {
   "cell_type": "code",
   "execution_count": 7,
   "metadata": {
    "execution": {
     "iopub.execute_input": "2023-10-31T12:35:24.348032Z",
     "iopub.status.busy": "2023-10-31T12:35:24.347187Z",
     "iopub.status.idle": "2023-10-31T12:35:24.36766Z",
     "shell.execute_reply": "2023-10-31T12:35:24.366331Z",
     "shell.execute_reply.started": "2023-10-31T12:35:24.34799Z"
    }
   },
   "outputs": [],
   "source": [
    "# your code here \n",
    "from pyod.models.pca import PCA \n",
    "std_data = standardizer(red_wine)\n",
    "clf = PCA(n_components=2, contamination=0.1)\n",
    "clf.fit(std_data)\n",
    "labels = clf.labels_ "
   ]
  },
  {
   "cell_type": "markdown",
   "metadata": {},
   "source": [
    "# Next, we will visualize PCA components and color them with predicted label (inlier or outlier)"
   ]
  },
  {
   "cell_type": "code",
   "execution_count": 8,
   "metadata": {
    "execution": {
     "iopub.execute_input": "2023-10-31T12:38:05.969068Z",
     "iopub.status.busy": "2023-10-31T12:38:05.968682Z",
     "iopub.status.idle": "2023-10-31T12:38:06.491739Z",
     "shell.execute_reply": "2023-10-31T12:38:06.490944Z",
     "shell.execute_reply.started": "2023-10-31T12:38:05.969038Z"
    }
   },
   "outputs": [
    {
     "data": {
      "text/plain": [
       "<AxesSubplot:xlabel='C1', ylabel='C2'>"
      ]
     },
     "execution_count": 8,
     "metadata": {},
     "output_type": "execute_result"
    },
    {
     "data": {
      "image/png": "[encoded data removed]",
      "text/plain": [
       "<Figure size 640x480 with 1 Axes>"
      ]
     },
     "metadata": {},
     "output_type": "display_data"
    }
   ],
   "source": [
    "# your code here \n",
    "pca = clf.detector_.transform(std_data)\n",
    "data = [[c[0], c[1], l] for c, l in zip(pca, labels)]\n",
    "df = pd.DataFrame(data, columns=['C1', 'C2', 'Label'])\n",
    "sns.scatterplot(data=df, x='C1', y='C2', hue='Label')"
   ]
  },
  {
   "cell_type": "markdown",
   "metadata": {},
   "source": [
    "# Task 1: Apply the PCA based method on friends dataset from lecture. Visualize the results like we did previously. Can you explain the results?"
   ]
  },
  {
   "cell_type": "code",
   "execution_count": 9,
   "metadata": {
    "execution": {
     "iopub.execute_input": "2023-10-31T12:40:21.405154Z",
     "iopub.status.busy": "2023-10-31T12:40:21.404815Z",
     "iopub.status.idle": "2023-10-31T12:40:21.430164Z",
     "shell.execute_reply": "2023-10-31T12:40:21.429282Z",
     "shell.execute_reply.started": "2023-10-31T12:40:21.405129Z"
    }
   },
   "outputs": [
    {
     "data": {
      "text/html": [
       "<div>\n",
       "<style scoped>\n",
       "    .dataframe tbody tr th:only-of-type {\n",
       "        vertical-align: middle;\n",
       "    }\n",
       "\n",
       "    .dataframe tbody tr th {\n",
       "        vertical-align: top;\n",
       "    }\n",
       "\n",
       "    .dataframe thead th {\n",
       "        text-align: right;\n",
       "    }\n",
       "</style>\n",
       "<table border=\"1\" class=\"dataframe\">\n",
       "  <thead>\n",
       "    <tr style=\"text-align: right;\">\n",
       "      <th></th>\n",
       "      <th>Name</th>\n",
       "      <th>Nearby</th>\n",
       "      <th>Funny</th>\n",
       "      <th>Loyal</th>\n",
       "      <th>Rich</th>\n",
       "      <th>Beautiful</th>\n",
       "      <th>Intelligent</th>\n",
       "      <th>Caring</th>\n",
       "      <th>Kind</th>\n",
       "      <th>Educated</th>\n",
       "      <th>OpenMind</th>\n",
       "      <th>Confidence</th>\n",
       "      <th>Fit</th>\n",
       "      <th>Teeth</th>\n",
       "      <th>Body</th>\n",
       "      <th>Nature</th>\n",
       "      <th>Independent</th>\n",
       "      <th>White</th>\n",
       "      <th>Muscular</th>\n",
       "      <th>Honest</th>\n",
       "      <th>SecureJob</th>\n",
       "      <th>Romantic</th>\n",
       "      <th>ShortHair</th>\n",
       "      <th>NonSmoker</th>\n",
       "      <th>Tall</th>\n",
       "      <th>Jewish</th>\n",
       "      <th>FamilyOR</th>\n",
       "      <th>BlueEye</th>\n",
       "      <th>RockMus</th>\n",
       "      <th>NoTattoo</th>\n",
       "      <th>SugarDad</th>\n",
       "      <th>LuxCar</th>\n",
       "      <th>LuxHouse</th>\n",
       "      <th>LuxBoat</th>\n",
       "    </tr>\n",
       "  </thead>\n",
       "  <tbody>\n",
       "    <tr>\n",
       "      <th>0</th>\n",
       "      <td>Joey</td>\n",
       "      <td>1</td>\n",
       "      <td>0</td>\n",
       "      <td>0</td>\n",
       "      <td>0</td>\n",
       "      <td>0</td>\n",
       "      <td>0</td>\n",
       "      <td>0</td>\n",
       "      <td>0</td>\n",
       "      <td>0</td>\n",
       "      <td>0</td>\n",
       "      <td>0</td>\n",
       "      <td>0</td>\n",
       "      <td>0</td>\n",
       "      <td>0</td>\n",
       "      <td>0</td>\n",
       "      <td>0</td>\n",
       "      <td>0</td>\n",
       "      <td>0</td>\n",
       "      <td>0</td>\n",
       "      <td>0</td>\n",
       "      <td>0</td>\n",
       "      <td>0</td>\n",
       "      <td>0</td>\n",
       "      <td>0</td>\n",
       "      <td>0</td>\n",
       "      <td>0</td>\n",
       "      <td>0</td>\n",
       "      <td>0</td>\n",
       "      <td>0</td>\n",
       "      <td>0</td>\n",
       "      <td>0</td>\n",
       "      <td>0</td>\n",
       "      <td>0</td>\n",
       "    </tr>\n",
       "    <tr>\n",
       "      <th>1</th>\n",
       "      <td>Chandler</td>\n",
       "      <td>1</td>\n",
       "      <td>1</td>\n",
       "      <td>1</td>\n",
       "      <td>0</td>\n",
       "      <td>0</td>\n",
       "      <td>0</td>\n",
       "      <td>0</td>\n",
       "      <td>0</td>\n",
       "      <td>0</td>\n",
       "      <td>0</td>\n",
       "      <td>0</td>\n",
       "      <td>0</td>\n",
       "      <td>0</td>\n",
       "      <td>0</td>\n",
       "      <td>0</td>\n",
       "      <td>0</td>\n",
       "      <td>0</td>\n",
       "      <td>0</td>\n",
       "      <td>0</td>\n",
       "      <td>0</td>\n",
       "      <td>0</td>\n",
       "      <td>0</td>\n",
       "      <td>0</td>\n",
       "      <td>0</td>\n",
       "      <td>0</td>\n",
       "      <td>0</td>\n",
       "      <td>0</td>\n",
       "      <td>0</td>\n",
       "      <td>0</td>\n",
       "      <td>0</td>\n",
       "      <td>0</td>\n",
       "      <td>0</td>\n",
       "      <td>0</td>\n",
       "    </tr>\n",
       "    <tr>\n",
       "      <th>2</th>\n",
       "      <td>Ross</td>\n",
       "      <td>1</td>\n",
       "      <td>1</td>\n",
       "      <td>0</td>\n",
       "      <td>0</td>\n",
       "      <td>1</td>\n",
       "      <td>1</td>\n",
       "      <td>1</td>\n",
       "      <td>1</td>\n",
       "      <td>1</td>\n",
       "      <td>1</td>\n",
       "      <td>1</td>\n",
       "      <td>1</td>\n",
       "      <td>1</td>\n",
       "      <td>1</td>\n",
       "      <td>1</td>\n",
       "      <td>1</td>\n",
       "      <td>0</td>\n",
       "      <td>0</td>\n",
       "      <td>0</td>\n",
       "      <td>0</td>\n",
       "      <td>0</td>\n",
       "      <td>0</td>\n",
       "      <td>0</td>\n",
       "      <td>0</td>\n",
       "      <td>0</td>\n",
       "      <td>0</td>\n",
       "      <td>0</td>\n",
       "      <td>0</td>\n",
       "      <td>0</td>\n",
       "      <td>0</td>\n",
       "      <td>0</td>\n",
       "      <td>0</td>\n",
       "      <td>0</td>\n",
       "    </tr>\n",
       "    <tr>\n",
       "      <th>3</th>\n",
       "      <td>Phoebe</td>\n",
       "      <td>1</td>\n",
       "      <td>0</td>\n",
       "      <td>0</td>\n",
       "      <td>0</td>\n",
       "      <td>0</td>\n",
       "      <td>0</td>\n",
       "      <td>0</td>\n",
       "      <td>0</td>\n",
       "      <td>0</td>\n",
       "      <td>0</td>\n",
       "      <td>0</td>\n",
       "      <td>0</td>\n",
       "      <td>0</td>\n",
       "      <td>0</td>\n",
       "      <td>0</td>\n",
       "      <td>0</td>\n",
       "      <td>0</td>\n",
       "      <td>0</td>\n",
       "      <td>0</td>\n",
       "      <td>0</td>\n",
       "      <td>0</td>\n",
       "      <td>0</td>\n",
       "      <td>0</td>\n",
       "      <td>0</td>\n",
       "      <td>0</td>\n",
       "      <td>0</td>\n",
       "      <td>0</td>\n",
       "      <td>0</td>\n",
       "      <td>0</td>\n",
       "      <td>0</td>\n",
       "      <td>0</td>\n",
       "      <td>0</td>\n",
       "      <td>0</td>\n",
       "    </tr>\n",
       "    <tr>\n",
       "      <th>4</th>\n",
       "      <td>Rachel</td>\n",
       "      <td>1</td>\n",
       "      <td>1</td>\n",
       "      <td>0</td>\n",
       "      <td>1</td>\n",
       "      <td>0</td>\n",
       "      <td>0</td>\n",
       "      <td>0</td>\n",
       "      <td>0</td>\n",
       "      <td>0</td>\n",
       "      <td>0</td>\n",
       "      <td>0</td>\n",
       "      <td>0</td>\n",
       "      <td>0</td>\n",
       "      <td>0</td>\n",
       "      <td>0</td>\n",
       "      <td>0</td>\n",
       "      <td>0</td>\n",
       "      <td>0</td>\n",
       "      <td>0</td>\n",
       "      <td>0</td>\n",
       "      <td>0</td>\n",
       "      <td>0</td>\n",
       "      <td>0</td>\n",
       "      <td>0</td>\n",
       "      <td>0</td>\n",
       "      <td>0</td>\n",
       "      <td>0</td>\n",
       "      <td>0</td>\n",
       "      <td>0</td>\n",
       "      <td>0</td>\n",
       "      <td>0</td>\n",
       "      <td>0</td>\n",
       "      <td>0</td>\n",
       "    </tr>\n",
       "  </tbody>\n",
       "</table>\n",
       "</div>"
      ],
      "text/plain": [
       "       Name  Nearby  Funny  Loyal  Rich  Beautiful  Intelligent  Caring  Kind  \\\n",
       "0      Joey       1      0      0     0          0            0       0     0   \n",
       "1  Chandler       1      1      1     0          0            0       0     0   \n",
       "2      Ross       1      1      0     0          1            1       1     1   \n",
       "3    Phoebe       1      0      0     0          0            0       0     0   \n",
       "4    Rachel       1      1      0     1          0            0       0     0   \n",
       "\n",
       "   Educated  OpenMind  Confidence  Fit  Teeth  Body  Nature  Independent  \\\n",
       "0         0         0           0    0      0     0       0            0   \n",
       "1         0         0           0    0      0     0       0            0   \n",
       "2         1         1           1    1      1     1       1            1   \n",
       "3         0         0           0    0      0     0       0            0   \n",
       "4         0         0           0    0      0     0       0            0   \n",
       "\n",
       "   White  Muscular  Honest  SecureJob  Romantic  ShortHair  NonSmoker  Tall  \\\n",
       "0      0         0       0          0         0          0          0     0   \n",
       "1      0         0       0          0         0          0          0     0   \n",
       "2      0         0       0          0         0          0          0     0   \n",
       "3      0         0       0          0         0          0          0     0   \n",
       "4      0         0       0          0         0          0          0     0   \n",
       "\n",
       "   Jewish  FamilyOR  BlueEye  RockMus  NoTattoo  SugarDad  LuxCar  LuxHouse  \\\n",
       "0       0         0        0        0         0         0       0         0   \n",
       "1       0         0        0        0         0         0       0         0   \n",
       "2       0         0        0        0         0         0       0         0   \n",
       "3       0         0        0        0         0         0       0         0   \n",
       "4       0         0        0        0         0         0       0         0   \n",
       "\n",
       "   LuxBoat  \n",
       "0        0  \n",
       "1        0  \n",
       "2        0  \n",
       "3        0  \n",
       "4        0  "
      ]
     },
     "execution_count": 9,
     "metadata": {},
     "output_type": "execute_result"
    }
   ],
   "source": [
    "friends_data.head()"
   ]
  },
  {
   "cell_type": "code",
   "execution_count": 10,
   "metadata": {
    "execution": {
     "iopub.execute_input": "2023-10-31T12:45:35.083736Z",
     "iopub.status.busy": "2023-10-31T12:45:35.083377Z",
     "iopub.status.idle": "2023-10-31T12:45:35.093407Z",
     "shell.execute_reply": "2023-10-31T12:45:35.09237Z",
     "shell.execute_reply.started": "2023-10-31T12:45:35.083709Z"
    }
   },
   "outputs": [],
   "source": [
    "# your code here \n"
   ]
  },
  {
   "cell_type": "code",
   "execution_count": 11,
   "metadata": {
    "execution": {
     "iopub.execute_input": "2023-10-31T12:46:55.53626Z",
     "iopub.status.busy": "2023-10-31T12:46:55.535889Z",
     "iopub.status.idle": "2023-10-31T12:46:55.869744Z",
     "shell.execute_reply": "2023-10-31T12:46:55.868843Z",
     "shell.execute_reply.started": "2023-10-31T12:46:55.536233Z"
    }
   },
   "outputs": [],
   "source": [
    "# your code here"
   ]
  },
  {
   "cell_type": "code",
   "execution_count": null,
   "metadata": {},
   "outputs": [],
   "source": []
  },
  {
   "cell_type": "markdown",
   "metadata": {},
   "source": [
    "# Matrix Factorization\n",
    "We will now attempt to apply matrix factorization on the friends dataset. This has already been implemented for you. "
   ]
  },
  {
   "cell_type": "code",
   "execution_count": 12,
   "metadata": {
    "execution": {
     "iopub.execute_input": "2023-10-31T12:51:57.713144Z",
     "iopub.status.busy": "2023-10-31T12:51:57.712231Z",
     "iopub.status.idle": "2023-10-31T12:51:57.722906Z",
     "shell.execute_reply": "2023-10-31T12:51:57.721971Z",
     "shell.execute_reply.started": "2023-10-31T12:51:57.71311Z"
    }
   },
   "outputs": [],
   "source": [
    "def matrix_factorization(R, K, alpha, beta, err_limit, n_iter):\n",
    "    N = R.shape[0]\n",
    "    M = R.shape[1]\n",
    "    P = np.random.rand(N, K)\n",
    "    Q = np.random.rand(K, M)\n",
    "    for iteration in range(n_iter): \n",
    "        for i in range(N): \n",
    "            for j in range(M): \n",
    "                if R[i, j] > 0: \n",
    "                    eij = R[i, j] - P[i, :] @ Q[:, j]\n",
    "                    for k in range(K): \n",
    "                        P[i, k] = P[i, k] + alpha * (2 * eij * Q[k, j] - beta * P[i, k])\n",
    "                        Q[k, j] = Q[k, j] + alpha * (2 * eij * P[i, k] - beta * Q[k, j])\n",
    "        e = 0 \n",
    "        for i in range(N): \n",
    "            for j in range(M): \n",
    "                if R[i, j] > 0: \n",
    "                    e += (R[i, j] - P[i, :] @ Q[:, j])**2 \n",
    "                    for k in range(K): \n",
    "                        e += (beta / 2) * (P[i, k]**2 + Q[k, j]**2)\n",
    "        if e < err_limit:\n",
    "            break\n",
    "            \n",
    "    return P, Q.T\n",
    "    "
   ]
  },
  {
   "cell_type": "code",
   "execution_count": 13,
   "metadata": {
    "execution": {
     "iopub.execute_input": "2023-10-31T12:52:03.075957Z",
     "iopub.status.busy": "2023-10-31T12:52:03.075284Z",
     "iopub.status.idle": "2023-10-31T12:52:10.159588Z",
     "shell.execute_reply": "2023-10-31T12:52:10.158778Z",
     "shell.execute_reply.started": "2023-10-31T12:52:03.075923Z"
    }
   },
   "outputs": [],
   "source": [
    "data = friends_data.drop(columns=\"Name\").values \n",
    "P, Q = matrix_factorization(data, K=1, alpha=2e-3, beta=2e-2, err_limit=1e-3, n_iter=10000)"
   ]
  },
  {
   "cell_type": "markdown",
   "metadata": {
    "execution": {
     "iopub.execute_input": "2023-10-30T09:14:16.358695Z",
     "iopub.status.busy": "2023-10-30T09:14:16.35781Z",
     "iopub.status.idle": "2023-10-30T09:14:16.364926Z",
     "shell.execute_reply": "2023-10-30T09:14:16.364074Z",
     "shell.execute_reply.started": "2023-10-30T09:14:16.358652Z"
    }
   },
   "source": [
    "# Task 2. Apply KNN based outlier detection on the P matrix from matrix factorization. Dont forget to visualize the results."
   ]
  },
  {
   "cell_type": "code",
   "execution_count": 14,
   "metadata": {
    "execution": {
     "iopub.execute_input": "2023-10-31T12:58:47.235783Z",
     "iopub.status.busy": "2023-10-31T12:58:47.235367Z",
     "iopub.status.idle": "2023-10-31T12:58:47.638112Z",
     "shell.execute_reply": "2023-10-31T12:58:47.637159Z",
     "shell.execute_reply.started": "2023-10-31T12:58:47.235751Z"
    }
   },
   "outputs": [],
   "source": [
    "# your code here \n"
   ]
  },
  {
   "cell_type": "markdown",
   "metadata": {},
   "source": [
    "# AutoEncoder\n",
    "We wil now look at AutoEncoders as discussed in the lectures.\n",
    "In the example below, we will apply the AutoEncoder method to some randomly generated data."
   ]
  },
  {
   "cell_type": "code",
   "execution_count": 15,
   "metadata": {
    "execution": {
     "iopub.execute_input": "2023-10-31T13:08:10.415737Z",
     "iopub.status.busy": "2023-10-31T13:08:10.414964Z",
     "iopub.status.idle": "2023-10-31T13:08:13.615949Z",
     "shell.execute_reply": "2023-10-31T13:08:13.615057Z",
     "shell.execute_reply.started": "2023-10-31T13:08:10.415703Z"
    },
    "scrolled": true
   },
   "outputs": [
    {
     "name": "stdout",
     "output_type": "stream",
     "text": [
      "InnerAutoencoder(\n",
      "  (activation): ReLU()\n",
      "  (encoder): Sequential(\n",
      "    (linear0): Linear(in_features=2000, out_features=64, bias=True)\n",
      "    (batch_norm0): BatchNorm1d(64, eps=1e-05, momentum=0.1, affine=True, track_running_stats=True)\n",
      "    (relu0): ReLU()\n",
      "    (dropout0): Dropout(p=0.2, inplace=False)\n",
      "    (linear1): Linear(in_features=64, out_features=32, bias=True)\n",
      "    (batch_norm1): BatchNorm1d(32, eps=1e-05, momentum=0.1, affine=True, track_running_stats=True)\n",
      "    (relu1): ReLU()\n",
      "    (dropout1): Dropout(p=0.2, inplace=False)\n",
      "  )\n",
      "  (decoder): Sequential(\n",
      "    (linear0): Linear(in_features=32, out_features=64, bias=True)\n",
      "    (batch_norm0): BatchNorm1d(64, eps=1e-05, momentum=0.1, affine=True, track_running_stats=True)\n",
      "    (relu0): ReLU()\n",
      "    (dropout0): Dropout(p=0.2, inplace=False)\n",
      "    (linear1): Linear(in_features=64, out_features=2000, bias=True)\n",
      "    (relu1): ReLU()\n",
      "  )\n",
      ")\n",
      "epoch 0: training loss 1.0961717729057585 \n",
      "epoch 1: training loss 1.2680000918252128 \n",
      "epoch 2: training loss 1.0956534487860543 \n",
      "epoch 3: training loss 1.0680664692606245 \n",
      "epoch 4: training loss 0.9245631375483104 \n",
      "epoch 5: training loss 1.0304179191589355 \n",
      "epoch 6: training loss 1.022447637149266 \n",
      "epoch 7: training loss 0.8910101247685296 \n",
      "epoch 8: training loss 1.1247297546693258 \n",
      "epoch 9: training loss 1.003100335597992 \n",
      "epoch 10: training loss 0.9994809510452407 \n",
      "epoch 11: training loss 1.2354199545724052 \n",
      "epoch 12: training loss 0.9813719476972308 \n",
      "epoch 13: training loss 0.8657387005431312 \n",
      "epoch 14: training loss 0.9814240506717137 \n",
      "epoch 15: training loss 1.0970305757863181 \n",
      "epoch 16: training loss 0.9730771439416068 \n",
      "epoch 17: training loss 1.1035986191460065 \n",
      "epoch 18: training loss 0.8552610203623772 \n",
      "epoch 19: training loss 0.8561518064567021 \n",
      "epoch 20: training loss 0.8545243665575981 \n",
      "epoch 21: training loss 0.8524699317557471 \n",
      "epoch 22: training loss 0.8553410837692874 \n",
      "epoch 23: training loss 0.8539788605911391 \n",
      "epoch 24: training loss 0.9664149880409241 \n",
      "epoch 25: training loss 0.9684356961931501 \n",
      "epoch 26: training loss 0.9672690204211644 \n",
      "epoch 27: training loss 0.8492696647133146 \n",
      "epoch 28: training loss 0.8441631554492882 \n",
      "epoch 29: training loss 0.962175224508558 \n",
      "epoch 30: training loss 0.9699069852275508 \n",
      "epoch 31: training loss 0.8464225589164666 \n",
      "epoch 32: training loss 0.9655650002615792 \n",
      "epoch 33: training loss 0.9669259802571365 \n",
      "epoch 34: training loss 1.087137452193669 \n",
      "epoch 35: training loss 0.9660359919071198 \n",
      "epoch 36: training loss 0.9652118938309806 \n",
      "epoch 37: training loss 0.9626397873674121 \n",
      "epoch 38: training loss 1.080754348209926 \n",
      "epoch 39: training loss 0.9620720488684518 \n",
      "epoch 40: training loss 0.8428008726664952 \n",
      "epoch 41: training loss 1.0880728619439262 \n",
      "epoch 42: training loss 0.8457058402044433 \n",
      "epoch 43: training loss 0.8421702331730297 \n",
      "epoch 44: training loss 0.8481682911515236 \n",
      "epoch 45: training loss 1.0891004912555218 \n",
      "epoch 46: training loss 1.0882380562169212 \n",
      "epoch 47: training loss 0.9602634608745575 \n",
      "epoch 48: training loss 0.8464838660189083 \n",
      "epoch 49: training loss 0.9597984084061214 \n",
      "epoch 50: training loss 1.0864619953291756 \n",
      "epoch 51: training loss 0.8393311926296779 \n",
      "epoch 52: training loss 0.8422187300665038 \n",
      "epoch 53: training loss 0.840708217982735 \n",
      "epoch 54: training loss 1.083042996270316 \n",
      "epoch 55: training loss 0.9558356489453997 \n",
      "epoch 56: training loss 0.8450723162719181 \n",
      "epoch 57: training loss 1.0875091637883867 \n",
      "epoch 58: training loss 1.0913254959242684 \n",
      "epoch 59: training loss 0.9555473327636719 \n",
      "epoch 60: training loss 0.8378956993775708 \n",
      "epoch 61: training loss 0.959225058555603 \n",
      "epoch 62: training loss 0.8383257607264178 \n",
      "epoch 63: training loss 0.836602087531771 \n",
      "epoch 64: training loss 0.8385484404861927 \n",
      "epoch 65: training loss 1.2021784612110682 \n",
      "epoch 66: training loss 0.8389978925032275 \n",
      "epoch 67: training loss 0.9552068795476641 \n",
      "epoch 68: training loss 0.837310009769031 \n",
      "epoch 69: training loss 0.9536987245082855 \n",
      "epoch 70: training loss 0.8422611281275749 \n",
      "epoch 71: training loss 0.8399048122976508 \n",
      "epoch 72: training loss 0.9543894869940621 \n",
      "epoch 73: training loss 0.9576799699238369 \n",
      "epoch 74: training loss 0.8357962353953293 \n",
      "epoch 75: training loss 1.0745149850845337 \n",
      "epoch 76: training loss 1.07989559003285 \n",
      "epoch 77: training loss 0.9555497510092599 \n",
      "epoch 78: training loss 0.9534243941307068 \n",
      "epoch 79: training loss 0.8365186138876847 \n",
      "epoch 80: training loss 1.084469118288585 \n",
      "epoch 81: training loss 0.8374812565743923 \n",
      "epoch 82: training loss 1.0794826916285925 \n",
      "epoch 83: training loss 1.0742963967578751 \n",
      "epoch 84: training loss 0.8382102384098938 \n",
      "epoch 85: training loss 0.8368207828274795 \n",
      "epoch 86: training loss 0.8356253648442882 \n",
      "epoch 87: training loss 0.8357034501220498 \n",
      "epoch 88: training loss 0.8418726229241916 \n",
      "epoch 89: training loss 0.8382240988846336 \n",
      "epoch 90: training loss 0.9550482886178153 \n",
      "epoch 91: training loss 0.957624933549336 \n",
      "epoch 92: training loss 1.0815845217023576 \n",
      "epoch 93: training loss 0.9515508328165326 \n",
      "epoch 94: training loss 0.9547312344823565 \n",
      "epoch 95: training loss 1.0773387125560216 \n",
      "epoch 96: training loss 0.8342935376401458 \n",
      "epoch 97: training loss 0.957347184419632 \n",
      "epoch 98: training loss 0.8340756329042571 \n",
      "epoch 99: training loss 0.9540305696427822 \n"
     ]
    },
    {
     "data": {
      "text/plain": [
       "AutoEncoder(batch_norm=True, batch_size=32, contamination=0.1,\n",
       "      device=device(type='cpu'), dropout_rate=0.2, epochs=100,\n",
       "      hidden_activation='relu', hidden_neurons=[64, 32],\n",
       "      learning_rate=0.001, loss_fn=MSELoss(), preprocessing=True,\n",
       "      weight_decay=1e-05)"
      ]
     },
     "execution_count": 15,
     "metadata": {},
     "output_type": "execute_result"
    }
   ],
   "source": [
    "from pyod.models.auto_encoder_torch import AutoEncoder\n",
    "import torch \n",
    "\n",
    "xtrain, ytrain = generate_data(n_train=200, n_test=100, n_features=2000, train_only=True, contamination=0.1)\n",
    "\n",
    "device = torch.device('cpu')\n",
    "clf = AutoEncoder(contamination=0.1, device=device)\n",
    "clf.fit(xtrain)"
   ]
  },
  {
   "cell_type": "markdown",
   "metadata": {},
   "source": [
    "# Since we have the labels, we can visualize the ROC curve and calculate the AUC"
   ]
  },
  {
   "cell_type": "code",
   "execution_count": 16,
   "metadata": {
    "execution": {
     "iopub.execute_input": "2023-10-31T13:08:18.743622Z",
     "iopub.status.busy": "2023-10-31T13:08:18.742747Z",
     "iopub.status.idle": "2023-10-31T13:08:18.991333Z",
     "shell.execute_reply": "2023-10-31T13:08:18.990399Z",
     "shell.execute_reply.started": "2023-10-31T13:08:18.743587Z"
    }
   },
   "outputs": [
    {
     "data": {
      "image/png": "[encoded data removed]",
      "text/plain": [
       "<Figure size 640x480 with 1 Axes>"
      ]
     },
     "metadata": {},
     "output_type": "display_data"
    },
    {
     "name": "stdout",
     "output_type": "stream",
     "text": [
      "1.0\n"
     ]
    }
   ],
   "source": [
    "y_train_score = clf.labels_ \n",
    "show_auroc(y_true=ytrain, y_score=clf.decision_scores_, name=\"AutoEncoder\")\n",
    "acc = np.sum((ytrain == y_train_score)) / ytrain.shape[0]\n",
    "print(acc)"
   ]
  },
  {
   "cell_type": "markdown",
   "metadata": {},
   "source": [
    "# Task 3: Apply AutoEncoder from pyod library on arrythmia dataset "
   ]
  },
  {
   "cell_type": "markdown",
   "metadata": {},
   "source": [
    "## Task 3.1: Prepare data for AutoEncoder\n",
    "\n"
   ]
  },
  {
   "cell_type": "code",
   "execution_count": 17,
   "metadata": {
    "execution": {
     "iopub.execute_input": "2023-10-31T13:18:55.608509Z",
     "iopub.status.busy": "2023-10-31T13:18:55.608091Z",
     "iopub.status.idle": "2023-10-31T13:18:55.696385Z",
     "shell.execute_reply": "2023-10-31T13:18:55.6955Z",
     "shell.execute_reply.started": "2023-10-31T13:18:55.608481Z"
    }
   },
   "outputs": [],
   "source": [
    "# your code here \n"
   ]
  },
  {
   "cell_type": "markdown",
   "metadata": {},
   "source": [
    "## Task 3.2: Apply AutoEncoder from pyod library on the data and visualize the roc curve"
   ]
  },
  {
   "cell_type": "code",
   "execution_count": 18,
   "metadata": {
    "execution": {
     "iopub.execute_input": "2023-10-31T13:22:31.325044Z",
     "iopub.status.busy": "2023-10-31T13:22:31.324624Z",
     "iopub.status.idle": "2023-10-31T13:23:52.609234Z",
     "shell.execute_reply": "2023-10-31T13:23:52.608267Z",
     "shell.execute_reply.started": "2023-10-31T13:22:31.325002Z"
    }
   },
   "outputs": [],
   "source": [
    "# your code here \n"
   ]
  },
  {
   "cell_type": "markdown",
   "metadata": {},
   "source": [
    "## Task 3.3 Visualize the results using the ROC."
   ]
  },
  {
   "cell_type": "code",
   "execution_count": null,
   "metadata": {
    "execution": {
     "iopub.execute_input": "2023-10-31T13:24:26.195326Z",
     "iopub.status.busy": "2023-10-31T13:24:26.194401Z",
     "iopub.status.idle": "2023-10-31T13:24:26.445318Z",
     "shell.execute_reply": "2023-10-31T13:24:26.444345Z",
     "shell.execute_reply.started": "2023-10-31T13:24:26.195291Z"
    }
   },
   "outputs": [],
   "source": [
    "\n"
   ]
  },
  {
   "cell_type": "markdown",
   "metadata": {},
   "source": [
    "# Angle Based Outlier Detector (ABOD)\n",
    "\n",
    "## First, let's try ABOD on a synthetically generated dataset. we will also visualize the ROC curve and the compute the AUC"
   ]
  },
  {
   "cell_type": "code",
   "execution_count": 19,
   "metadata": {
    "execution": {
     "iopub.execute_input": "2023-10-31T13:34:23.260175Z",
     "iopub.status.busy": "2023-10-31T13:34:23.259812Z",
     "iopub.status.idle": "2023-10-31T13:34:23.577138Z",
     "shell.execute_reply": "2023-10-31T13:34:23.576114Z",
     "shell.execute_reply.started": "2023-10-31T13:34:23.260147Z"
    }
   },
   "outputs": [
    {
     "data": {
      "image/png": "[encoded data removed]",
      "text/plain": [
       "<Figure size 640x480 with 1 Axes>"
      ]
     },
     "metadata": {},
     "output_type": "display_data"
    }
   ],
   "source": [
    "\n",
    "from pyod.models.abod import ABOD \n",
    "clf = ABOD(contamination=0.1)\n",
    "clf.fit(xtrain)\n",
    "labels = clf.labels_ \n",
    "scores = clf.decision_scores_ \n",
    "show_auroc(y_true=ytrain, y_score=scores, name=\"ABOD\")"
   ]
  },
  {
   "cell_type": "markdown",
   "metadata": {},
   "source": [
    "# Task: Let's apply ABOD on Friends data\n",
    "\n",
    "Can you explain the result?"
   ]
  },
  {
   "cell_type": "code",
   "execution_count": 20,
   "metadata": {
    "execution": {
     "iopub.execute_input": "2023-10-31T13:38:20.622961Z",
     "iopub.status.busy": "2023-10-31T13:38:20.62261Z",
     "iopub.status.idle": "2023-10-31T13:38:20.983491Z",
     "shell.execute_reply": "2023-10-31T13:38:20.982524Z",
     "shell.execute_reply.started": "2023-10-31T13:38:20.622936Z"
    }
   },
   "outputs": [],
   "source": [
    "# your code here\n"
   ]
  },
  {
   "cell_type": "markdown",
   "metadata": {},
   "source": [
    "# Task: Let's try it on arrhythmia dataset"
   ]
  },
  {
   "cell_type": "code",
   "execution_count": 21,
   "metadata": {
    "execution": {
     "iopub.execute_input": "2023-10-31T13:41:52.241855Z",
     "iopub.status.busy": "2023-10-31T13:41:52.241457Z",
     "iopub.status.idle": "2023-10-31T13:41:52.726351Z",
     "shell.execute_reply": "2023-10-31T13:41:52.725268Z",
     "shell.execute_reply.started": "2023-10-31T13:41:52.241824Z"
    }
   },
   "outputs": [],
   "source": [
    "# your code here \n"
   ]
  },
  {
   "cell_type": "markdown",
   "metadata": {},
   "source": [
    "# Isolation Forest\n",
    "\n",
    "In this section, we will apply Isolation Forest on the friends data."
   ]
  },
  {
   "cell_type": "code",
   "execution_count": 22,
   "metadata": {
    "execution": {
     "iopub.execute_input": "2023-10-31T13:43:40.511853Z",
     "iopub.status.busy": "2023-10-31T13:43:40.511285Z",
     "iopub.status.idle": "2023-10-31T13:43:40.883416Z",
     "shell.execute_reply": "2023-10-31T13:43:40.882258Z",
     "shell.execute_reply.started": "2023-10-31T13:43:40.511811Z"
    }
   },
   "outputs": [
    {
     "data": {
      "text/plain": [
       "<AxesSubplot:xlabel='Name', ylabel='C1'>"
      ]
     },
     "execution_count": 22,
     "metadata": {},
     "output_type": "execute_result"
    },
    {
     "data": {
      "image/png": "[encoded data removed]",
      "text/plain": [
       "<Figure size 640x480 with 1 Axes>"
      ]
     },
     "metadata": {},
     "output_type": "display_data"
    }
   ],
   "source": [
    "from pyod.models.iforest import IForest \n",
    "names = friends_data[\"Name\"].values \n",
    "data = friends_data.drop(columns=\"Name\").values \n",
    "std_data = standardizer(data)\n",
    "clf = IForest(contamination=0.05, n_estimators=1, max_features=1)\n",
    "clf.fit(std_data)\n",
    "labels = clf.labels_ \n",
    "scores = clf.decision_scores_ \n",
    "data = [[name, c, l] for name, c, l in zip(names, scores, labels)]\n",
    "\n",
    "df = pd.DataFrame(data, columns=[\"Name\", \"C1\", \"Label\"])\n",
    "sns.scatterplot(data=df, x='Name', y=\"C1\", hue=\"Label\")"
   ]
  },
  {
   "cell_type": "markdown",
   "metadata": {},
   "source": [
    "# Task: Apply Isolation forest for arrhythmia dataset \n"
   ]
  },
  {
   "cell_type": "code",
   "execution_count": 23,
   "metadata": {
    "execution": {
     "iopub.execute_input": "2023-10-31T13:46:16.710175Z",
     "iopub.status.busy": "2023-10-31T13:46:16.709408Z",
     "iopub.status.idle": "2023-10-31T13:46:17.23205Z",
     "shell.execute_reply": "2023-10-31T13:46:17.231061Z",
     "shell.execute_reply.started": "2023-10-31T13:46:16.710145Z"
    }
   },
   "outputs": [],
   "source": [
    "# your code here \n"
   ]
  },
  {
   "cell_type": "markdown",
   "metadata": {},
   "source": [
    "# Task: Apply Isolation Forest on Red Wine data and visualize the results"
   ]
  },
  {
   "cell_type": "code",
   "execution_count": 24,
   "metadata": {},
   "outputs": [],
   "source": [
    "# your code here"
   ]
  }
 ],
 "metadata": {
  "kaggle": {
   "accelerator": "gpu",
   "dataSources": [
    {
     "datasetId": 102285,
     "sourceId": 242592,
     "sourceType": "datasetVersion"
    },
    {
     "datasetId": 3598931,
     "sourceId": 6261626,
     "sourceType": "datasetVersion"
    },
    {
     "datasetId": 3928725,
     "sourceId": 6833492,
     "sourceType": "datasetVersion"
    },
    {
     "datasetId": 3929836,
     "sourceId": 6835327,
     "sourceType": "datasetVersion"
    }
   ],
   "dockerImageVersionId": 30559,
   "isGpuEnabled": true,
   "isInternetEnabled": true,
   "language": "python",
   "sourceType": "notebook"
  },
  "kernelspec": {
   "display_name": "Python 3 (ipykernel)",
   "language": "python",
   "name": "python3"
  },
  "language_info": {
   "codemirror_mode": {
    "name": "ipython",
    "version": 3
   },
   "file_extension": ".py",
   "mimetype": "text/x-python",
   "name": "python",
   "nbconvert_exporter": "python",
   "pygments_lexer": "ipython3",
   "version": "3.7.12"
  }
 },
 "nbformat": 4,
 "nbformat_minor": 4
}
