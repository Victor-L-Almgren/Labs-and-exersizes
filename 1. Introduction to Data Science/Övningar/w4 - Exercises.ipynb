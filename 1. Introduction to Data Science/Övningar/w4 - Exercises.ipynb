{
 "cells": [
  {
   "cell_type": "markdown",
   "id": "088eafd7",
   "metadata": {},
   "source": [
    "**Exercise 1:**\n",
    "\n",
    "Create a Python class called `Person` with the attributes `name` and `age`. Add a method called `greet` that prints a greeting message with the person's name.\n",
    "\n",
    "Then, create a subclass (or child) of the `Person` class called `Student`. Add an additional attribute `student_id` to the `Student` class. Override the `greet` method to include the student's ID in the greeting message.\n",
    "\n",
    "You can create instances of both the Person and Student classes and call their greet methods to see the different greetings based on the class they belong to."
   ]
  },
  {
   "cell_type": "code",
   "execution_count": null,
   "id": "ad296d89",
   "metadata": {},
   "outputs": [],
   "source": [
    "# Define the Person class ...\n",
    "class Person:\n",
    "    def __init__(self, name, age):\n",
    "        self.name = name\n",
    "        self.age = age\n",
    "    def greet(self):\n",
    "        print(f\"Hi, my name is {self.name}.\")\n",
    "    \n",
    "# Define the Student class ...\n",
    "class Student(Person):\n",
    "    def __init__(self, name, age, student_id):\n",
    "        super().__init__(name, age)\n",
    "        self.student_id = student_id\n",
    "    def greet(self):\n",
    "        print(f\"Hi, my name is {self.name}. My student id is {self.student_id}.\")\n",
    "\n",
    "# Create an instance of the Person class and call the greet method\n",
    "# Create an instance of the Student class and call the greet method\n",
    "\n",
    "stu1 = Student(\"Victor\", 23, 1111)\n",
    "stu1.greet()"
   ]
  },
  {
   "cell_type": "markdown",
   "id": "7878f73e",
   "metadata": {},
   "source": [
    "**Exercise 2:**\n",
    "\n",
    "Create a Python class called `Book` with the following attributes: `title`, `author`, `publication_year`. Add a method called `get_info` that prints the book's title, author, and publication year.\n",
    "\n",
    "Then, create a Python class called `Library` that can store a list of `Book` objects (i.e., instances of the `Book` class). Implement methods to:\n",
    "- Add a book to the library.\n",
    "- Remove a book from the library based on its title.\n",
    "- Display a list of all books in the library.\n",
    "\n",
    "You can then create instances of both the `Book` and `Library` classes, add books to the library, remove books, and display the list of books in the library using the provided methods."
   ]
  },
  {
   "cell_type": "code",
   "execution_count": null,
   "id": "d9e969e5",
   "metadata": {},
   "outputs": [],
   "source": [
    "class Book:\n",
    "    def __init__(self, title, author, publication_year):\n",
    "        self.title = title\n",
    "        self.author = author\n",
    "        self.publication_year = publication_year\n",
    "    \n",
    "    def get_info(self):\n",
    "        return f\"Title: {self.title}, Author: {self.author}, Publication Year: {self.publication_year}\"\n",
    "\n",
    "class Library():\n",
    "    def __init__(self):\n",
    "        self.books = []\n",
    "\n",
    "    def add_book(self, book):\n",
    "        self.books.append(book)\n",
    "        print(f\"Added {book.title} to the library.\")\n",
    "\n",
    "    def remove_book(self, title):\n",
    "        found_book = None\n",
    "        for book in self.books:\n",
    "                if book.title == title:\n",
    "                    found_book = book\n",
    "                    break\n",
    "        if found_book is not None:\n",
    "            self.books.remove(found_book)\n",
    "            print(f\"Removed {title} from the library.\")\n",
    "        else:\n",
    "            print(f\"{title} is not in the library.\")\n",
    "\n",
    "    def display_books(self):\n",
    "        for book in self.books:\n",
    "            print(book.get_info())\n",
    "\n",
    "\n",
    "book1 = Book(\"Python Programming\", \"John Smith\", 2022)\n",
    "book2 = Book(\"Data Science Fundamentals\", \"Alice Johnson\", 2021)\n",
    "book3 = Book(\"Web Development with Django\", \"Michael Brown\", 2020)\n",
    "\n",
    "library = Library()\n",
    "\n",
    "library.add_book(book1)\n",
    "library.add_book(book2)\n",
    "library.add_book(book3)\n",
    "\n",
    "library.display_books()\n",
    "\n",
    "library.remove_book(\"Python Programming\")\n",
    "\n",
    "library.display_books()"
   ]
  },
  {
   "cell_type": "markdown",
   "id": "82b0c95d",
   "metadata": {},
   "source": [
    "**Exercise 3:**\n",
    "\n",
    "Create a Python program that simulates a simple quiz game. Implement the following classes:\n",
    "\n",
    "1. `Question`: Represents a quiz question with the following attributes and methods:\n",
    "   - Attributes:\n",
    "     - `text`: The text of the question.\n",
    "     - `answer`: The correct answer to the question.\n",
    "   - Methods:\n",
    "     - `check_answer(user_answer)`: Checks if the user's answer matches the correct answer.\n",
    "<br /><br />\n",
    "2. `Quiz`: Represents a quiz game with the following attributes and methods:\n",
    "   - Attributes:\n",
    "     - `questions`: A list to store instances of the `Question` class.\n",
    "   - Methods:\n",
    "     - `add_question(question)`: Adds a question to the quiz.\n",
    "     - `take_quiz()`: Starts the quiz, presents each question to the user one by one, and checks if the user's answers are correct.\n",
    "     - `display_score()`: Displays the user's final score after completing the quiz.\n",
    "\n",
    "Now, create instances of the `Question` class and add them to an instance of the `Quiz` class. <br />\n",
    "Allow users to take the quiz and display their score at the end. Here is an example:\n",
    "\n",
    "        Welcome to the Quiz!\n",
    "        What is the capital of Algeria? Algiers\n",
    "        Correct!\n",
    "\n",
    "        What is 7 + 3? 10\n",
    "        Correct!\n",
    "\n",
    "        Which planet is known as the Red Planet? Earth\n",
    "        Incorrect!\n",
    "\n",
    "        Quiz completed. Your score: 2/3"
   ]
  },
  {
   "cell_type": "code",
   "execution_count": 3,
   "id": "9a248d70",
   "metadata": {},
   "outputs": [
    {
     "name": "stdout",
     "output_type": "stream",
     "text": [
      "*** Welcome to the quiz! ***\n"
     ]
    },
    {
     "name": "stdin",
     "output_type": "stream",
     "text": [
      "What is the capital of Algeria?  algn\n"
     ]
    },
    {
     "ename": "NameError",
     "evalue": "name 'user_anwser' is not defined",
     "output_type": "error",
     "traceback": [
      "\u001b[1;31m---------------------------------------------------------------------------\u001b[0m",
      "\u001b[1;31mNameError\u001b[0m                                 Traceback (most recent call last)",
      "Cell \u001b[1;32mIn[3], line 41\u001b[0m\n\u001b[0;32m     38\u001b[0m quiz\u001b[38;5;241m.\u001b[39madd_question(question2)\n\u001b[0;32m     39\u001b[0m quiz\u001b[38;5;241m.\u001b[39madd_question(question3)\n\u001b[1;32m---> 41\u001b[0m \u001b[43mquiz\u001b[49m\u001b[38;5;241;43m.\u001b[39;49m\u001b[43mtake_quiz\u001b[49m\u001b[43m(\u001b[49m\u001b[43m)\u001b[49m\n",
      "Cell \u001b[1;32mIn[3], line 21\u001b[0m, in \u001b[0;36mQuiz.take_quiz\u001b[1;34m(self)\u001b[0m\n\u001b[0;32m     19\u001b[0m \u001b[38;5;28;01mfor\u001b[39;00m question \u001b[38;5;129;01min\u001b[39;00m \u001b[38;5;28mself\u001b[39m\u001b[38;5;241m.\u001b[39mquestions:\n\u001b[0;32m     20\u001b[0m     user_anwser \u001b[38;5;241m=\u001b[39m \u001b[38;5;28minput\u001b[39m(question\u001b[38;5;241m.\u001b[39mtext \u001b[38;5;241m+\u001b[39m \u001b[38;5;124m\"\u001b[39m\u001b[38;5;124m \u001b[39m\u001b[38;5;124m\"\u001b[39m)\u001b[38;5;241m.\u001b[39mstrip()\n\u001b[1;32m---> 21\u001b[0m     \u001b[38;5;28;01mif\u001b[39;00m \u001b[43mquestion\u001b[49m\u001b[38;5;241;43m.\u001b[39;49m\u001b[43mcheck_anwser\u001b[49m\u001b[43m(\u001b[49m\u001b[43muser_anwser\u001b[49m\u001b[43m)\u001b[49m:\n\u001b[0;32m     22\u001b[0m         \u001b[38;5;28mprint\u001b[39m(\u001b[38;5;124m\"\u001b[39m\u001b[38;5;124mCorrect\u001b[39m\u001b[38;5;124m\"\u001b[39m)\n\u001b[0;32m     23\u001b[0m         score \u001b[38;5;241m+\u001b[39m\u001b[38;5;241m=\u001b[39m \u001b[38;5;241m1\u001b[39m\n",
      "Cell \u001b[1;32mIn[3], line 7\u001b[0m, in \u001b[0;36mQuestion.check_anwser\u001b[1;34m(self, user_input)\u001b[0m\n\u001b[0;32m      6\u001b[0m \u001b[38;5;28;01mdef\u001b[39;00m \u001b[38;5;21mcheck_anwser\u001b[39m(\u001b[38;5;28mself\u001b[39m, user_input):\n\u001b[1;32m----> 7\u001b[0m     \u001b[38;5;28;01mreturn\u001b[39;00m \u001b[43muser_anwser\u001b[49m\u001b[38;5;241m.\u001b[39mlower() \u001b[38;5;241m==\u001b[39m \u001b[38;5;28mself\u001b[39m\u001b[38;5;241m.\u001b[39manwser\u001b[38;5;241m.\u001b[39mlower()\n",
      "\u001b[1;31mNameError\u001b[0m: name 'user_anwser' is not defined"
     ]
    }
   ],
   "source": [
    "class Question:\n",
    "    def __init__(self, text, anwser):\n",
    "        self.text = text\n",
    "        self.anwser = anwser\n",
    "    \n",
    "    def check_anwser(self, user_input):\n",
    "        return user_anwser.lower() == self.anwser.lower()\n",
    "\n",
    "class Quiz:\n",
    "    def __init__(self):\n",
    "        self.questions = []\n",
    "\n",
    "    def add_question(self, question):\n",
    "        self.questions.append(question)\n",
    "\n",
    "    def take_quiz(self):\n",
    "        print(\"*** Welcome to the quiz! ***\")\n",
    "        score = 0\n",
    "        for question in self.questions:\n",
    "            user_anwser = input(question.text + \" \").strip()\n",
    "            if question.check_anwser(user_anwser):\n",
    "                print(\"Correct\")\n",
    "                score += 1\n",
    "            else:\n",
    "                print(\"Incorrect\")\n",
    "        print(f\"*** Quiz complete *** \\n Score: {score} / {len(self.question)}.\")\n",
    "\n",
    "\n",
    "        \n",
    "                \n",
    "question1 = Question(\"What is the capital of Algeria?\", \"Algiers\")\n",
    "question2 = Question(\"What is 7 + 3?\", \"10\")\n",
    "question3 = Question(\"Which planet is known as the Red Planet?\", \"Mars\")\n",
    "\n",
    "quiz = Quiz()\n",
    "\n",
    "quiz.add_question(question1)\n",
    "quiz.add_question(question2)\n",
    "quiz.add_question(question3)\n",
    "\n",
    "quiz.take_quiz()"
   ]
  },
  {
   "cell_type": "markdown",
   "id": "342e704f",
   "metadata": {},
   "source": [
    "**Exercise 4:**\n",
    "\n",
    "This exercise offers ample room for creativity and personalization. Feel free to approach it in your own unique way.\n",
    "\n",
    "Build a simple online store application using OOP principles. Create classes for:\n",
    "- `Product`: Represent products with attributes like name, price, and quantity in stock.\n",
    "- `ShoppingCart`: Allow users to add products to their cart, calculate the total cost, and display the contents of the cart.\n",
    "- `Customer`: Store customer information like name, email, and address.\n",
    "- `Order`: Create an order with a list of items from the shopping cart and customer information."
   ]
  },
  {
   "cell_type": "code",
   "execution_count": null,
   "id": "cd8e55d4",
   "metadata": {},
   "outputs": [],
   "source": []
  }
 ],
 "metadata": {
  "kernelspec": {
   "display_name": "Python 3 (ipykernel)",
   "language": "python",
   "name": "python3"
  },
  "language_info": {
   "codemirror_mode": {
    "name": "ipython",
    "version": 3
   },
   "file_extension": ".py",
   "mimetype": "text/x-python",
   "name": "python",
   "nbconvert_exporter": "python",
   "pygments_lexer": "ipython3",
   "version": "3.11.5"
  }
 },
 "nbformat": 4,
 "nbformat_minor": 5
}
