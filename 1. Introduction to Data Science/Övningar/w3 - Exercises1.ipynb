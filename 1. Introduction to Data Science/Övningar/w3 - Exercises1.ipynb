{
 "cells": [
  {
   "cell_type": "markdown",
   "id": "feb67f5e",
   "metadata": {},
   "source": [
    "**Exercise 1:**\n",
    "\n",
    "You are given a function `maximum_of_two(x, y)` that returns the maximum of 2 numbers `x` and `y`. Write a Python program that uses (or calls) this function in order to calculate le maximum of 4 numbers that the user inputs."
   ]
  },
  {
   "cell_type": "code",
   "execution_count": null,
   "id": "a1dfd669",
   "metadata": {},
   "outputs": [],
   "source": [
    "def maximum_of_two(x, y):\n",
    "    return x if x > y else y\n",
    "\n",
    "\n",
    "# ...\n",
    "# ..."
   ]
  },
  {
   "cell_type": "markdown",
   "id": "a50c90b8",
   "metadata": {},
   "source": [
    "**Exercise 2:**\n",
    "\n",
    "Define a function `thresholding(low, up, x)` that returns a thresholded value of `x` (to make it within the interval `[low, up]`). Then, write a program that allows you to calculate the sum of 10 real numbers entered through the keyboard, after each of them has been thresholded within the bounds of a given interval."
   ]
  },
  {
   "cell_type": "code",
   "execution_count": null,
   "id": "44cb689e",
   "metadata": {},
   "outputs": [],
   "source": []
  },
  {
   "cell_type": "markdown",
   "id": "a748a179",
   "metadata": {},
   "source": [
    "**Exercise 3:**\n",
    "\n",
    "To increase sales in his supermarket, the manager has decided to offer the following promotion: for any purchase exceeding 100 euros, the customer receives the cheapest item for free and a 10% discount on the most expensive item among their purchases. It is assumed that the customer buys at least 2 items.\n",
    "\n",
    "You are asked to write an algorithm that displays:\n",
    "\n",
    "    the total to pay before discounts,\n",
    "    the price of the cheapest item,\n",
    "    the price of the most expensive item,\n",
    "    the total to pay after taking discounts into account,\n",
    "    the savings made by the customer thanks to these discounts.\n",
    "\n",
    "You will read the prices of the items, and a value of 0 will mark the end of the input. You will write and use two functions, one that returns the minimum of 2 real numbers and the other the maximum of 2 real numbers."
   ]
  },
  {
   "cell_type": "code",
   "execution_count": null,
   "id": "bd3de1c7",
   "metadata": {},
   "outputs": [],
   "source": []
  },
  {
   "cell_type": "markdown",
   "id": "502b46fe",
   "metadata": {},
   "source": [
    "**Exercise 4:**\n",
    "\n",
    "Write a function that returns the maximum element of a matrix (provided as a list of lists)."
   ]
  },
  {
   "cell_type": "code",
   "execution_count": null,
   "id": "cd6f37b2",
   "metadata": {},
   "outputs": [],
   "source": []
  },
  {
   "cell_type": "markdown",
   "id": "e9e9e96c",
   "metadata": {},
   "source": [
    "**Exercise 5:**\n",
    "\n",
    "Write a function that reverses a list in-place (without creating a new list)."
   ]
  },
  {
   "cell_type": "code",
   "execution_count": null,
   "id": "03acfe14",
   "metadata": {},
   "outputs": [],
   "source": []
  },
  {
   "cell_type": "markdown",
   "id": "2c15388f",
   "metadata": {},
   "source": [
    "**Exercise 6:**\n",
    "\n",
    "This problem is concerned with deleting repeated elements from a sorted list. For example, for the list `[2, 3, 5, 5, 7, 11, 11, 11, 13]`, then after deletion, the list is `[2, 3, 5, 7, 11, 13, None, None, None]`. After deleting repeated elements, there are 6 valid entries. The values stored beyond the last valid element as just replaced with `None`.\n",
    "\n",
    "Define a Python function which takes a sorted list and updates it (in-place) so that all duplicates have been removed and the remaining elements have been shifted left to fill the emptied indices. The function should return the number of valid elements."
   ]
  },
  {
   "cell_type": "code",
   "execution_count": null,
   "id": "34a48b61",
   "metadata": {},
   "outputs": [],
   "source": []
  },
  {
   "cell_type": "markdown",
   "id": "1d54a1ea",
   "metadata": {},
   "source": [
    "**Exercise 7:**\n",
    "\n",
    "Define a function that calculates the sum of the digits of a positive integer. For example, sum_of_digits(12345) should return 15."
   ]
  },
  {
   "cell_type": "code",
   "execution_count": null,
   "id": "91685dfe",
   "metadata": {},
   "outputs": [],
   "source": []
  },
  {
   "cell_type": "markdown",
   "id": "39ce5d45",
   "metadata": {},
   "source": [
    "**Exercise 8:**\n",
    "\n",
    "Write a Python function that takes two strings as input and returns True if they are anagrams of each other, and False otherwise. An anagram is a word or phrase formed by rearranging the letters of another, such as \"listen\" vs \"silent\", or \"dusty\" vs \"study\"."
   ]
  },
  {
   "cell_type": "code",
   "execution_count": null,
   "id": "3d723a9e",
   "metadata": {},
   "outputs": [],
   "source": []
  },
  {
   "cell_type": "markdown",
   "id": "f3775669",
   "metadata": {},
   "source": [
    "**Exercise 9:**\n",
    "\n",
    "Create a function that calculates the factorial of a given positive integer using a recursive approach. For example, factorial(5) should return 120."
   ]
  },
  {
   "cell_type": "code",
   "execution_count": null,
   "id": "09d8baa7",
   "metadata": {},
   "outputs": [],
   "source": []
  },
  {
   "cell_type": "markdown",
   "id": "9f2c7607",
   "metadata": {},
   "source": [
    "**Exercise 10:**\n",
    "\n",
    "Write a function `transpose_matrix(matrix)` that transposes a square matrix (having the same number rows as columns) represented as a list of lists. The transposed matrix should have its rows and columns swapped. The matrix should be transposed in-place (without creating a new matrix)."
   ]
  },
  {
   "cell_type": "code",
   "execution_count": null,
   "id": "2d8d999d",
   "metadata": {},
   "outputs": [],
   "source": []
  }
 ],
 "metadata": {
  "kernelspec": {
   "display_name": "Python 3 (ipykernel)",
   "language": "python",
   "name": "python3"
  },
  "language_info": {
   "codemirror_mode": {
    "name": "ipython",
    "version": 3
   },
   "file_extension": ".py",
   "mimetype": "text/x-python",
   "name": "python",
   "nbconvert_exporter": "python",
   "pygments_lexer": "ipython3",
   "version": "3.9.13"
  }
 },
 "nbformat": 4,
 "nbformat_minor": 5
}
