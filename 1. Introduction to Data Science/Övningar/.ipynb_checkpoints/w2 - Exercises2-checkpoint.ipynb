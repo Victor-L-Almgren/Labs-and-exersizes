{
 "cells": [
  {
   "cell_type": "markdown",
   "id": "5c318525",
   "metadata": {},
   "source": [
    "# Strings\n",
    "\n",
    "**Exercise 1:**\n",
    "\n",
    "We are given a string of characters. We need a Python program to check if the substring between indices `a` and `b` (included) is a palindrome. <br />\n",
    "A palindrome is string that reads the same forwards and backwards; for example, `\"level\"`, `\"madam\"`, and `\"radar\"` are palindromes."
   ]
  },
  {
   "cell_type": "code",
   "execution_count": null,
   "id": "454bf692",
   "metadata": {},
   "outputs": [],
   "source": []
  },
  {
   "cell_type": "markdown",
   "id": "5130fb64",
   "metadata": {},
   "source": [
    "**Exercise 2:**\n",
    "\n",
    "Write a Python program that provides the binary representation of a positive integer as a string. For example, the binary representation of 9 is `\"1001\"`."
   ]
  },
  {
   "cell_type": "code",
   "execution_count": null,
   "id": "0d686b41",
   "metadata": {},
   "outputs": [],
   "source": []
  },
  {
   "cell_type": "markdown",
   "id": "6f7a24a7",
   "metadata": {},
   "source": [
    "**Exercise 3:**\n",
    "\n",
    "We are provided with a telegram text, word by word. Our goal is to calculate the total cost of the telegram, taking into account that it ends with the word `\"stop\"`. So, you should continue reading words until `\"stop\"` is encountered. Each word in the telegram incurs a cost based on its length: a word of length `n` costs `(n / 10) + 1` SEK; however, the word `\"stop\"` does not cost anything."
   ]
  },
  {
   "cell_type": "code",
   "execution_count": null,
   "id": "f44037f3",
   "metadata": {},
   "outputs": [],
   "source": []
  },
  {
   "cell_type": "markdown",
   "id": "8531ac2e",
   "metadata": {},
   "source": [
    "# Lists\n",
    "\n",
    "**Exercise 4:**\n",
    "\n",
    "Write a Python code that computes the sum, the average (or mean), the maximum, and the minimum of the elements of a given list `my_list` **without** using pre-defined Python functions such as `sum(L)`, `max(L)`, `min(L)`."
   ]
  },
  {
   "cell_type": "code",
   "execution_count": null,
   "id": "72d6aefa",
   "metadata": {},
   "outputs": [],
   "source": []
  },
  {
   "cell_type": "markdown",
   "id": "ef70057e",
   "metadata": {},
   "source": [
    "**Exercise 5:**\n",
    "\n",
    "Write a code that checks if a name given by the user is in the list of invited people `names_invited`.<br />\n",
    "Note: you can do that in different ways, with or without using a loop."
   ]
  },
  {
   "cell_type": "code",
   "execution_count": null,
   "id": "0d8e589a",
   "metadata": {},
   "outputs": [],
   "source": []
  },
  {
   "cell_type": "markdown",
   "id": "2c46fbb3",
   "metadata": {},
   "source": [
    "**Exercise 6:**\n",
    "\n",
    "Write a program that finds the index of the first element in a list `arr` that exceeds a given threshold."
   ]
  },
  {
   "cell_type": "code",
   "execution_count": null,
   "id": "d1058f0d",
   "metadata": {},
   "outputs": [],
   "source": []
  },
  {
   "cell_type": "markdown",
   "id": "fb552f10",
   "metadata": {},
   "source": [
    "**Exercise 7:**\n",
    "\n",
    "We want a Python program that searches for an element in a sorted list and provides the index of that element in the list. Such a search can be done sequentially or dichotomically. Since the list is already sorted, we are asking you to write the dichotomic search method, which is the most time-efficient.\n",
    "\n",
    "In this method, we compare the element being searched for with the one in the middle of the list. If the element being searched for is smaller, we continue the search in the first half of the list; otherwise, we search in the second half. We repeat this process on the selected half. We stop when we have found the element or when the search interval is empty.\n",
    "\n",
    "*Example:*<br />\n",
    "The following example illustrates how the dichotomic search efficiently narrows down the search space until it finds the desired element. Suppose we have a sorted list `lst = [2, 4, 7, 9, 12, 15, 21, 25, 30]`. The list is indexed from 0 to 8. We want to find the index of the element 15.\n",
    "\n",
    "- We start with the entire list `lst`. The middle element (at index `(0+8) // 2`) is `lst[4]`. This middle element (12) is smaller than 15.\n",
    "- So, we look at the second half of the list: `lst[5:8]` which is `[15, 21, 25, 30]`.\n",
    "- Now, the middle element in this sublist (at index `(5+8) // 2`) is `lst[6]`. This middle element (21) is greater than 15.\n",
    "- So, we look at the first half of the sublist, leaving us with `[15]`.\n",
    "- The element 15 matches what we are looking for, so we stop. The index of 15 in the original list is 5.\n"
   ]
  },
  {
   "cell_type": "code",
   "execution_count": null,
   "id": "d9e05454",
   "metadata": {},
   "outputs": [],
   "source": []
  },
  {
   "cell_type": "markdown",
   "id": "d7e4dbab",
   "metadata": {},
   "source": [
    "# Dictionaries\n",
    "**Exercise 8:**\n",
    "\n",
    "You are tasked with creating a Python dictionary to manage a small library. The library contains information about books, including their titles, authors, and the number of available copies. You need to perform various operations on this dictionary.\n",
    "\n",
    "Create an empty dictionary called library.\n",
    "\n",
    "Add the following book information to the library dictionary:\n",
    "\n",
    "    Title: \"Harry Potter and the Sorcerer's Stone\"\n",
    "    Author: \"J.K. Rowling\"\n",
    "    Copies Available: 5\n",
    "\n",
    "    Title: \"To Kill a Mockingbird\"\n",
    "    Author: \"Harper Lee\"\n",
    "    Copies Available: 3\n",
    "\n",
    "    Title: \"1984\"\n",
    "    Author: \"George Orwell\"\n",
    "    Copies Available: 2\n",
    "\n",
    "    Title: \"The Great Gatsby\"\n",
    "    Author: \"F. Scott Fitzgerald\"\n",
    "    Copies Available: 4\n",
    "\n",
    "Print the entire library dictionary.\n",
    "\n",
    "Write code to check if the book \"Harry Potter and the Sorcerer's Stone\" is in the library. If it is, print \"Harry Potter is available in the library.\" Otherwise, print \"Harry Potter is not available.\"\n",
    "\n",
    "Update the number of available copies for the book \"1984\" to 5.\n",
    "\n",
    "Add a new book to the library:\n",
    "    Title: \"The Hunger Games\"\n",
    "    Author: \"Suzanne Collins\"\n",
    "    Copies Available: 6\n",
    "\n",
    "Print the entire library dictionary again to see the changes.\n",
    "\n",
    "Write code to calculate and print the total number of copies available in the library.\n",
    "\n",
    "Remove the book \"To Kill a Mockingbird\" from the library.\n",
    "\n",
    "Print the updated library dictionary."
   ]
  },
  {
   "cell_type": "code",
   "execution_count": null,
   "id": "a9f0298c",
   "metadata": {},
   "outputs": [],
   "source": []
  },
  {
   "cell_type": "markdown",
   "id": "82aa150d",
   "metadata": {},
   "source": [
    "**Exercise 9:**\n",
    "\n",
    "You are given a list of students' names and their corresponding grades. Write a Python program that calculates and displays the average grade, the highest grade, and the lowest grade among the students.\n",
    "\n",
    "Your program should follow these rules:\n",
    "\n",
    "- Initialize a dictionary where the keys are students' names, and the values are their grades.\n",
    "- Calculate and display the average grade for all students.\n",
    "- Find and display the highest and lowest grades and the names of the students who achieved them.\n",
    "\n",
    "For example, for the dictionary `student_grades` below:\n",
    "```\n",
    "student_grades = {\n",
    "    \"Alice\": 95,\n",
    "    \"Bob\": 87,\n",
    "    \"Bob\": 98,\n",
    "    \"Charlie\": 92,\n",
    "    \"David\": 78,\n",
    "    \"Eve\": 98\n",
    "}\n",
    "```\n",
    "the exapect output should be:\n",
    "```\n",
    "Average Grade: 90.0\n",
    "Highest Grade: 98 (Islam, Eve)\n",
    "Lowest Grade: 78 (David)\n",
    "```"
   ]
  },
  {
   "cell_type": "code",
   "execution_count": null,
   "id": "db814d07",
   "metadata": {},
   "outputs": [],
   "source": []
  },
  {
   "cell_type": "markdown",
   "id": "71fbb271",
   "metadata": {},
   "source": [
    "**Exercise 10:**\n",
    "\n",
    "Write a Python program that takes a sentence as input and returns a dictionary where the keys are unique words in the sentence, and the values are the frequencies of each word.\n",
    "\n",
    "For example, if the input sentence is:<br />\n",
    "`\"This is a simple sentence. And this is another sentence.\"`\n",
    "\n",
    "The program should produce the following dictionary:<br />\n",
    "```\n",
    "{\n",
    "    \"This\": 1,\n",
    "    \"is\": 2,\n",
    "    \"a\": 1,\n",
    "    \"simple\": 1,\n",
    "    \"sentence\": 2,\n",
    "    \"And\": 1,\n",
    "    \"this\": 1,\n",
    "    \"another\": 1\n",
    "}\n",
    "```\n",
    "\n",
    "Your program should be case-insensitive, meaning that \"This\" and \"this\" should be considered the same word. <br />\n",
    "Hint: For a given string (e.g. `name`), you can use the `split()` method (e.g. `name.split()`) to break the sentence into words, and the lower() method (e.g. `name.lower()`) to convert the string to lowercase for case-insensitive comparison."
   ]
  },
  {
   "cell_type": "code",
   "execution_count": null,
   "id": "cd0b6165",
   "metadata": {},
   "outputs": [],
   "source": []
  }
 ],
 "metadata": {
  "kernelspec": {
   "display_name": "Python 3 (ipykernel)",
   "language": "python",
   "name": "python3"
  },
  "language_info": {
   "codemirror_mode": {
    "name": "ipython",
    "version": 3
   },
   "file_extension": ".py",
   "mimetype": "text/x-python",
   "name": "python",
   "nbconvert_exporter": "python",
   "pygments_lexer": "ipython3",
   "version": "3.9.13"
  }
 },
 "nbformat": 4,
 "nbformat_minor": 5
}
