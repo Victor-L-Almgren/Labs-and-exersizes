{
 "cells": [
  {
   "cell_type": "markdown",
   "id": "088eafd7",
   "metadata": {},
   "source": [
    "**Exercise 1:**\n",
    "\n",
    "Create a Python class called `Person` with the attributes `name` and `age`. Add a method called `greet` that prints a greeting message with the person's name.\n",
    "\n",
    "Then, create a subclass (or child) of the `Person` class called `Student`. Add an additional attribute `student_id` to the `Student` class. Override the `greet` method to include the student's ID in the greeting message.\n",
    "\n",
    "You can create instances of both the Person and Student classes and call their greet methods to see the different greetings based on the class they belong to."
   ]
  },
  {
   "cell_type": "code",
   "execution_count": null,
   "id": "ad296d89",
   "metadata": {},
   "outputs": [],
   "source": [
    "# Define the Person class ...\n",
    "class Person:\n",
    "    def __init__(self, name, age):\n",
    "        self.name = name\n",
    "        self.age = age\n",
    "    def greet(self):\n",
    "        print(f\"Hi, my name is {self.name}.\")\n",
    "    \n",
    "# Define the Student class ...\n",
    "class Student(Person):\n",
    "    def __init__(self, name, age, student_id):\n",
    "        super().__init__(name, age)\n",
    "        self.student_id = student_id\n",
    "    def greet(self):\n",
    "        print(f\"Hi, my name is {self.name}. My student id is {self.student_id}.\")\n",
    "\n",
    "# Create an instance of the Person class and call the greet method\n",
    "# Create an instance of the Student class and call the greet method\n",
    "\n",
    "stu1 = Student(\"Victor\", 23, 1111)\n",
    "stu1.greet()"
   ]
  },
  {
   "cell_type": "markdown",
   "id": "7878f73e",
   "metadata": {},
   "source": [
    "**Exercise 2:**\n",
    "\n",
    "Create a Python class called `Book` with the following attributes: `title`, `author`, `publication_year`. Add a method called `get_info` that prints the book's title, author, and publication year.\n",
    "\n",
    "Then, create a Python class called `Library` that can store a list of `Book` objects (i.e., instances of the `Book` class). Implement methods to:\n",
    "- Add a book to the library.\n",
    "- Remove a book from the library based on its title.\n",
    "- Display a list of all books in the library.\n",
    "\n",
    "You can then create instances of both the `Book` and `Library` classes, add books to the library, remove books, and display the list of books in the library using the provided methods."
   ]
  },
  {
   "cell_type": "code",
   "execution_count": 7,
   "id": "d9e969e5",
   "metadata": {},
   "outputs": [
    {
     "name": "stdout",
     "output_type": "stream",
     "text": [
      "Added Python Programming to the library.\n",
      "Added Data Science Fundamentals to the library.\n",
      "Added Web Development with Django to the library.\n",
      "Title: Python Programming, Author: John Smith, Publication Year: 2022\n",
      "Title: Data Science Fundamentals, Author: Alice Johnson, Publication Year: 2021\n",
      "Title: Web Development with Django, Author: Michael Brown, Publication Year: 2020\n",
      "Removed Python Programming from the library.\n",
      "Title: Data Science Fundamentals, Author: Alice Johnson, Publication Year: 2021\n",
      "Title: Web Development with Django, Author: Michael Brown, Publication Year: 2020\n"
     ]
    }
   ],
   "source": [
    "class Book:\n",
    "    def __init__(self, title, author, publication_year):\n",
    "        self.title = title\n",
    "        self.author = author\n",
    "        self.publication_year = publication_year\n",
    "    \n",
    "    def get_info(self):\n",
    "        return f\"Title: {self.title}, Author: {self.author}, Publication Year: {self.publication_year}\"\n",
    "\n",
    "class Library():\n",
    "    def __init__(self):\n",
    "        self.books = []\n",
    "\n",
    "    def add_book(self, book):\n",
    "        self.books.append(book)\n",
    "        print(f\"Added {book.title} to the library.\")\n",
    "\n",
    "    def remove_book(self, title):\n",
    "        found_book = None\n",
    "        for book in self.books:\n",
    "                if book.title == title:\n",
    "                    found_book = book\n",
    "                    break\n",
    "        if found_book is not None:\n",
    "            self.books.remove(found_book)\n",
    "            print(f\"Removed {title} from the library.\")\n",
    "        else:\n",
    "            print(f\"{title} is not in the library.\")\n",
    "\n",
    "    def display_books(self):\n",
    "        for book in self.books:\n",
    "            print(book.get_info())\n",
    "\n",
    "\n",
    "book1 = Book(\"Python Programming\", \"John Smith\", 2022)\n",
    "book2 = Book(\"Data Science Fundamentals\", \"Alice Johnson\", 2021)\n",
    "book3 = Book(\"Web Development with Django\", \"Michael Brown\", 2020)\n",
    "\n",
    "library = Library()\n",
    "\n",
    "library.add_book(book1)\n",
    "library.add_book(book2)\n",
    "library.add_book(book3)\n",
    "\n",
    "library.display_books()\n",
    "\n",
    "library.remove_book(\"Python Programming\")\n",
    "\n",
    "library.display_books()"
   ]
  },
  {
   "cell_type": "markdown",
   "id": "82b0c95d",
   "metadata": {},
   "source": [
    "**Exercise 3:**\n",
    "\n",
    "Create a Python program that simulates a simple quiz game. Implement the following classes:\n",
    "\n",
    "1. `Question`: Represents a quiz question with the following attributes and methods:\n",
    "   - Attributes:\n",
    "     - `text`: The text of the question.\n",
    "     - `answer`: The correct answer to the question.\n",
    "   - Methods:\n",
    "     - `check_answer(user_answer)`: Checks if the user's answer matches the correct answer.\n",
    "<br /><br />\n",
    "2. `Quiz`: Represents a quiz game with the following attributes and methods:\n",
    "   - Attributes:\n",
    "     - `questions`: A list to store instances of the `Question` class.\n",
    "   - Methods:\n",
    "     - `add_question(question)`: Adds a question to the quiz.\n",
    "     - `take_quiz()`: Starts the quiz, presents each question to the user one by one, and checks if the user's answers are correct.\n",
    "     - `display_score()`: Displays the user's final score after completing the quiz.\n",
    "\n",
    "Now, create instances of the `Question` class and add them to an instance of the `Quiz` class. <br />\n",
    "Allow users to take the quiz and display their score at the end. Here is an example:\n",
    "\n",
    "        Welcome to the Quiz!\n",
    "        What is the capital of Algeria? Algiers\n",
    "        Correct!\n",
    "\n",
    "        What is 7 + 3? 10\n",
    "        Correct!\n",
    "\n",
    "        Which planet is known as the Red Planet? Earth\n",
    "        Incorrect!\n",
    "\n",
    "        Quiz completed. Your score: 2/3"
   ]
  },
  {
   "cell_type": "code",
   "execution_count": 15,
   "id": "9a248d70",
   "metadata": {},
   "outputs": [
    {
     "name": "stdout",
     "output_type": "stream",
     "text": [
      "Correct\n",
      "Incorrect\n"
     ]
    }
   ],
   "source": [
    "class Question:\n",
    "    def __init__(self, text, anwser):\n",
    "        self.text = text\n",
    "        self.anwser = anwser\n",
    "        self.question = {self.text: self.anwser}\n",
    "    \n",
    "    def check_anwser(self, user_input):\n",
    "        if self.anwser == user_input:\n",
    "            print (\"Correct\")\n",
    "        else:\n",
    "            print(\"Incorrect\")\n",
    "\n",
    "q = Question(\"1 + 2 = ?\", \"3\") \n",
    "q.check_anwser(\"3\")\n",
    "q.check_anwser(\"5\")\n",
    "\n",
    "\n",
    "class Quiz:\n",
    "    \n",
    "\n",
    "\n"
   ]
  },
  {
   "cell_type": "markdown",
   "id": "342e704f",
   "metadata": {},
   "source": [
    "**Exercise 4:**\n",
    "\n",
    "This exercise offers ample room for creativity and personalization. Feel free to approach it in your own unique way.\n",
    "\n",
    "Build a simple online store application using OOP principles. Create classes for:\n",
    "- `Product`: Represent products with attributes like name, price, and quantity in stock.\n",
    "- `ShoppingCart`: Allow users to add products to their cart, calculate the total cost, and display the contents of the cart.\n",
    "- `Customer`: Store customer information like name, email, and address.\n",
    "- `Order`: Create an order with a list of items from the shopping cart and customer information."
   ]
  },
  {
   "cell_type": "code",
   "execution_count": null,
   "id": "cd8e55d4",
   "metadata": {},
   "outputs": [],
   "source": []
  }
 ],
 "metadata": {
  "kernelspec": {
   "display_name": "Python 3 (ipykernel)",
   "language": "python",
   "name": "python3"
  },
  "language_info": {
   "codemirror_mode": {
    "name": "ipython",
    "version": 3
   },
   "file_extension": ".py",
   "mimetype": "text/x-python",
   "name": "python",
   "nbconvert_exporter": "python",
   "pygments_lexer": "ipython3",
   "version": "3.11.5"
  }
 },
 "nbformat": 4,
 "nbformat_minor": 5
}
