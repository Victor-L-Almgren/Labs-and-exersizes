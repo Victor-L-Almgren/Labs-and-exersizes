{
 "cells": [
  {
   "cell_type": "markdown",
   "id": "616e55f4",
   "metadata": {},
   "source": [
    "# 1) Basics\n",
    "\n",
    "**Exercise 1:**\n",
    "\n",
    "Write a Python code that calculates the perimeter (omkretsen) of a circle with a given `radius`, and calculates the perimeter of a rectangle with a given `length` and `width`. The `radius`, `length` and `width` are provided by the user as an input."
   ]
  },
  {
   "cell_type": "code",
   "execution_count": null,
   "id": "3c516c3e",
   "metadata": {},
   "outputs": [],
   "source": [
    "import math\n",
    "pi = math.pi\n",
    "r = int(input(\"Enter a radius\"))\n",
    "circ = print(f\"The circumference of the circle is {2 * r * pi}\")"
   ]
  },
  {
   "cell_type": "markdown",
   "id": "e211233f",
   "metadata": {},
   "source": [
    "**Exercise 2:**\n",
    "\n",
    "We are given the number of kilometers traveled by a car `kmCount`, as well as the duration of the journey `hourCount` and the amount of fuel consumed `literCount`. Your program should calculate the average speed `avgSpeed` and the fuel consumption per kilometer `fuelPerKm`."
   ]
  },
  {
   "cell_type": "code",
   "execution_count": null,
   "id": "bea6eb9e",
   "metadata": {},
   "outputs": [],
   "source": [
    "kmCount = float(input(\"Enter a distance in km\"))\n",
    "hourCount = float(input(\"Enter a time in hours\"))\n",
    "literCount = float(input(\"Enter liters of fuel\")) \n",
    "\n",
    "print(f\"Average speed was {kmCount / hourCount} km/h\")\n",
    "print(f\"Fuel consumption in L/10km was {(literCount / kmCount) * 10}\")"
   ]
  },
  {
   "cell_type": "markdown",
   "id": "2aa5fe98",
   "metadata": {},
   "source": [
    "# 2) Conditional statements (if ... elif ... else)\n",
    "\n",
    "**Exercise 3:**\n",
    "\n",
    "Write a program to check whether a given number is even or odd. "
   ]
  },
  {
   "cell_type": "code",
   "execution_count": null,
   "id": "61db034d",
   "metadata": {},
   "outputs": [],
   "source": [
    "num = int(input(\"enter a real number to check if even\"))\n",
    "if num % 2 == 0:\n",
    "    print(\"even\")\n",
    "else:\n",
    "    print(\"odd\")"
   ]
  },
  {
   "cell_type": "markdown",
   "id": "a16f455c",
   "metadata": {},
   "source": [
    "**Exercise 4:**\n",
    "\n",
    "Write a program that gives the maximum of 3 integers (provided by the user)."
   ]
  },
  {
   "cell_type": "code",
   "execution_count": null,
   "id": "dad222de",
   "metadata": {},
   "outputs": [],
   "source": [
    "num1 = int(input(\"enter a real number\"))\n",
    "num2 = int(input(\"enter a real number\"))\n",
    "num3 = int(input(\"enter a real number\"))\n",
    "\n",
    "max = 0\n",
    "if num1 > num2:\n",
    "    max = num1\n",
    "    if num3 > max:\n",
    "        max = num3\n",
    "if num1 < num2:\n",
    "    max = num2\n",
    "    if num3 > max:\n",
    "        max = num3\n",
    "print(\"max num is:\", max)"
   ]
  },
  {
   "cell_type": "markdown",
   "id": "f89346c8",
   "metadata": {},
   "source": [
    "**Exercise 5:**\n",
    "\n",
    "Write a code that displays a student's result for a course (i.e., passed or failed). This course is evaluated based on an oral exam score with a coefficient of 1 and a written exam with a coefficient of 2. To successfully complete the module, the average score must be 10 or higher.\n",
    "Note that the exam scores to input are between 0 and 20."
   ]
  },
  {
   "cell_type": "code",
   "execution_count": null,
   "id": "549cff55",
   "metadata": {},
   "outputs": [],
   "source": [
    "oex = int(input(\"Enter score of oral exam\"))\n",
    "wex = int(input(\"Enter score of written exam\"))\n",
    "wex *= 2\n",
    "\n",
    "if (oex + wex) >= 10:\n",
    "    print(\"passed\")\n",
    "else:\n",
    "    print(\"failed\")"
   ]
  },
  {
   "cell_type": "markdown",
   "id": "48ba2a33",
   "metadata": {},
   "source": [
    "**Exercise 7:**\n",
    "\n",
    "Write a program that allows you to input coordinates `x`, `y` corresponding to a point, and determines the quadrant in which the point lies. The plane is divided into four distinct quadrants: Northeast, Southeast, Southwest, and Northwest.\n",
    "\n",
    "We suppose that the point is not at the origin (0, 0)."
   ]
  },
  {
   "cell_type": "code",
   "execution_count": null,
   "id": "fdf1c81a",
   "metadata": {},
   "outputs": [],
   "source": [
    "x = float(input(\"Enter x coordinate\"))\n",
    "y = float(input(\"Enter y coordinate\"))\n",
    "\n",
    "if x > 0:\n",
    "    if y > 0:\n",
    "        print(\"northeast\")\n",
    "    else:\n",
    "        print(\"southeast\")\n",
    "if x < 0:\n",
    "    if y > 0:\n",
    "        print(\"northwest\")\n",
    "    else:\n",
    "        print(\"southwest\")"
   ]
  },
  {
   "cell_type": "markdown",
   "id": "be6a42a1",
   "metadata": {},
   "source": [
    "**Exercise 8:**\n",
    "\n",
    "Write a program to check whether a character is an alphabet, digit or special character. If the user enters a string of characters (instead of a single character), then you should just indicate that: `This is a string, not a single character`."
   ]
  },
  {
   "cell_type": "code",
   "execution_count": null,
   "id": "a9a3fbcd",
   "metadata": {},
   "outputs": [],
   "source": [
    "ch = input(\"enter something\")\n",
    "if len(ch) > 1:\n",
    "    print(\"this is not a single character\")\n",
    "if((ch >= 'a' and ch <= 'z') or (ch >= 'A' and ch <= 'Z')): \n",
    "    print(\"The Given Character \", ch, \"is an Alphabet\") \n",
    "elif(ch >= '0' and ch <= '9'):\n",
    "    print(\"The Given Character \", ch, \"is a Digit\")\n",
    "else:\n",
    "    print(\"The Given Character \", ch, \"is a Special Character\")"
   ]
  },
  {
   "cell_type": "markdown",
   "id": "9a94efc9",
   "metadata": {},
   "source": [
    "**Exercise 9:**\n",
    "\n",
    "Write a program to check whether an alphabet is a vowel or a consonant. "
   ]
  },
  {
   "cell_type": "code",
   "execution_count": null,
   "id": "a9881108",
   "metadata": {},
   "outputs": [],
   "source": [
    "vowels = [\"a\", \"o\", \"u\", \"e\", \"i\", \"y\", \"A\", \"O\", \"U\", \"E\", \"I\", \"Y\"]\n",
    "char = input(\"enter a letter\")\n",
    "if char in vowels: \n",
    "    print(\"vowel\")\n",
    "else:\n",
    "    print(\"consonant\")"
   ]
  },
  {
   "cell_type": "markdown",
   "id": "d218c788",
   "metadata": {},
   "source": [
    "**Exercise 10:**\n",
    "\n",
    "Write a program that enables users to input two numbers, `a` and `b`, along with an operation specified as a string (`\"addition\"`, `\"substraction\"`, `\"multiplication\"`, `\"division\"`). Then, the program should perform that operation using the provided numbers."
   ]
  },
  {
   "cell_type": "code",
   "execution_count": null,
   "id": "ef4280be-4ab5-445c-9147-013efdcd28c3",
   "metadata": {},
   "outputs": [],
   "source": [
    "a = float(input(\"Enter a number\"))\n",
    "b = float(input(\"Enter a number\"))\n",
    "op = input(\"enter desired operation (addition, subtraction, multiplication or division).\")\n",
    "\n",
    "if op == \"addition\":\n",
    "    x = a + b\n",
    "elif op == \"subtraction\":\n",
    "    x = a - b\n",
    "elif op == \"multiplication\":\n",
    "    x = a * b\n",
    "elif op == \"division\":\n",
    "    x = a / b\n",
    "print(f\"Result is: {x}\")"
   ]
  },
  {
   "cell_type": "markdown",
   "id": "151b0ef3",
   "metadata": {},
   "source": [
    "**Exercise 11:**\n",
    "\n",
    "Write a Python code that calculates the salary of an employee based on their hourly wage and the number of hours worked. The calculation should take care of the fact that the hourly rate is increased for overtime hours:\n",
    "- by 25% beyond 160 hours \n",
    "- and by 50% beyond 200 hours."
   ]
  },
  {
   "cell_type": "code",
   "execution_count": null,
   "id": "0cbdc4dd",
   "metadata": {},
   "outputs": [],
   "source": [
    "hours = float(input(\"Enter hours worked\"))\n",
    "wage = float(input(\"Enter wage per hour\"))\n",
    "\n",
    "if hours < 160:\n",
    "    salary = hours * wage\n",
    "elif hours > 160 and hours < 200:\n",
    "    oth25 = (hours - 160) * 1.25\n",
    "    salary = (160 * wage) + (oth25 * wage)\n",
    "elif hours > 200:\n",
    "    oth50 = (hours - 200) * 1.5\n",
    "    salary = (160 * wage) + (40 * wage * 1.25) + (oth50 * wage)\n",
    "\n",
    "print(salary, \"kr\")"
   ]
  },
  {
   "cell_type": "markdown",
   "id": "64b21fc1",
   "metadata": {},
   "source": [
    "# 3) Repetitive statements (loops)\n",
    "\n",
    "**Exercise 12:**\n",
    "\n",
    "We intend to derive statistical insights from monthly temperature records. Create a Python program that allows a user to input the number of recorded temperatures, followed by inputting the actual values of these records. The program should then display the minimum, maximum, and average values of the recorded temperatures."
   ]
  },
  {
   "cell_type": "code",
   "execution_count": null,
   "id": "1b7f8392",
   "metadata": {},
   "outputs": [],
   "source": [
    "num_of_temps = int(input(\"Enter a number of tempteratures\"))\n",
    "temperatures = []\n",
    "for temp in range(num_of_temps):\n",
    "    temp = float(input(\"enter a temperature\"))\n",
    "    temperatures.append(temp)\n",
    "\n",
    "max = temperatures[0]\n",
    "for value in temperatures:\n",
    "    if value > max:\n",
    "        max = value\n",
    "        \n",
    "min = temperatures[0]\n",
    "for value in temperatures:\n",
    "    if value < min:\n",
    "        min = value\n",
    "        \n",
    "sum = 0\n",
    "for value in temperatures: \n",
    "    sum += value\n",
    "avg_temp = sum / len(temperatures)\n",
    "\n",
    "print(f\"Max temp was {max}, min temp was {min}, average temp was {avg_temp}.\")"
   ]
  },
  {
   "cell_type": "markdown",
   "id": "e9edde53",
   "metadata": {},
   "source": [
    "**Exercise 13:**\n",
    "\n",
    "Write a program that prompts the user to input a month as a number between 1 and 12. If the number is less than 1 or greater than 12, the user is notified and asked to enter a valid number again. This request is repeated until a correct input is provided."
   ]
  },
  {
   "cell_type": "code",
   "execution_count": null,
   "id": "3ca7f44e",
   "metadata": {},
   "outputs": [],
   "source": []
  },
  {
   "cell_type": "markdown",
   "id": "8214752c",
   "metadata": {},
   "source": [
    "**Exercise 14:**\n",
    "\n",
    "Write a Python code that calculates the quotient `q` of the division of `a` by `b`, where `a` and `b` are two strictly positive integers. Use only addition and subtraction operators.\n",
    "Note that: $a = b \\times q + r$ and $r < b$, where $r$ is the remainder of the division."
   ]
  },
  {
   "cell_type": "code",
   "execution_count": null,
   "id": "68821012",
   "metadata": {},
   "outputs": [],
   "source": [
    "\n",
    "\n"
   ]
  },
  {
   "cell_type": "code",
   "execution_count": 3,
   "id": "4bd519e3-a4ff-483c-9aa8-127e71918cb5",
   "metadata": {},
   "outputs": [
    {
     "ename": "TypeError",
     "evalue": "'bool' object is not callable",
     "output_type": "error",
     "traceback": [
      "\u001b[1;31m---------------------------------------------------------------------------\u001b[0m",
      "\u001b[1;31mTypeError\u001b[0m                                 Traceback (most recent call last)",
      "Cell \u001b[1;32mIn[3], line 3\u001b[0m\n\u001b[0;32m      1\u001b[0m \u001b[38;5;28minput\u001b[39m \u001b[38;5;241m=\u001b[39m \u001b[38;5;28;01mTrue\u001b[39;00m\n\u001b[0;32m      2\u001b[0m \u001b[38;5;28;01mwhile\u001b[39;00m \u001b[38;5;28minput\u001b[39m:\n\u001b[1;32m----> 3\u001b[0m     a \u001b[38;5;241m=\u001b[39m \u001b[38;5;28mint\u001b[39m(\u001b[38;5;28;43minput\u001b[39;49m\u001b[43m(\u001b[49m\u001b[38;5;124;43m\"\u001b[39;49m\u001b[38;5;124;43mEnter a number\u001b[39;49m\u001b[38;5;124;43m\"\u001b[39;49m\u001b[43m)\u001b[49m)\n\u001b[0;32m      4\u001b[0m     b \u001b[38;5;241m=\u001b[39m \u001b[38;5;28mint\u001b[39m(\u001b[38;5;28minput\u001b[39m(\u001b[38;5;124m\"\u001b[39m\u001b[38;5;124mEnter a number\u001b[39m\u001b[38;5;124m\"\u001b[39m))\n\u001b[0;32m      5\u001b[0m     \u001b[38;5;28;01mif\u001b[39;00m a \u001b[38;5;241m<\u001b[39m \u001b[38;5;241m0\u001b[39m \u001b[38;5;129;01mor\u001b[39;00m b \u001b[38;5;241m<\u001b[39m \u001b[38;5;241m0\u001b[39m:\n",
      "\u001b[1;31mTypeError\u001b[0m: 'bool' object is not callable"
     ]
    }
   ],
   "source": [
    "input = True\n",
    "while input:\n",
    "    a = int(input(\"Enter a number\"))\n",
    "    b = int(input(\"Enter a number\"))\n",
    "    if a < 0 or b < 0:\n",
    "        print(\"both numbers must be positive\")\n",
    "    else: \n",
    "        input = False"
   ]
  },
  {
   "cell_type": "code",
   "execution_count": 1,
   "id": "e41757d1-41a9-43b8-a9c2-3917c4dc8440",
   "metadata": {},
   "outputs": [
    {
     "name": "stdin",
     "output_type": "stream",
     "text": [
      "Enter a number 5\n"
     ]
    }
   ],
   "source": [
    "h = int(input(\"Enter a number\"))"
   ]
  },
  {
   "cell_type": "markdown",
   "id": "8121b1c7",
   "metadata": {},
   "source": [
    "**Exercise 15:**\n",
    "\n",
    "Write the Python code that counts the number of 1s in the binary representation of a given positive integer. <br />\n",
    "Example - Calculating the number of 1s present in the binary representation of 10:\n",
    "<img src=\" data:image/png;base64,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\" />\n",
    "The binary representation of the integer 10 is `1010`, and the number of 1s in this representation is: 2."
   ]
  },
  {
   "cell_type": "code",
   "execution_count": null,
   "id": "6b50c59e",
   "metadata": {},
   "outputs": [],
   "source": []
  },
  {
   "cell_type": "markdown",
   "id": "e881cef1",
   "metadata": {},
   "source": [
    "**Exercise 16:**\n",
    "\n",
    "Skiers are queuing at a cable car that can carry up to 5000 kilograms. The names and weights (in kilograms) of successive skiers entering the cable car are provided. Determine the name of the last admitted skier."
   ]
  },
  {
   "cell_type": "code",
   "execution_count": null,
   "id": "3c077934",
   "metadata": {},
   "outputs": [],
   "source": []
  },
  {
   "cell_type": "markdown",
   "id": "fe7b4b7b",
   "metadata": {},
   "source": [
    "**Exercise 17:**\n",
    "\n",
    "Write a program that calculate the average age of `n` persons (`n` is given). The input should be validated (or controled) : each person has an age between 18 and 25. <br />\n",
    "Each time the age entered for some person is not between 18 and 25, the program should display an error message `Invalid age. Please enter an age between 18 and 25` and allow the user to enter the age again."
   ]
  },
  {
   "cell_type": "code",
   "execution_count": null,
   "id": "8a914c4b",
   "metadata": {},
   "outputs": [],
   "source": [
    "n = int(input(\"enter the number of persons\"))\n",
    "\n"
   ]
  }
 ],
 "metadata": {
  "kernelspec": {
   "display_name": "Python 3 (ipykernel)",
   "language": "python",
   "name": "python3"
  },
  "language_info": {
   "codemirror_mode": {
    "name": "ipython",
    "version": 3
   },
   "file_extension": ".py",
   "mimetype": "text/x-python",
   "name": "python",
   "nbconvert_exporter": "python",
   "pygments_lexer": "ipython3",
   "version": "3.11.5"
  }
 },
 "nbformat": 4,
 "nbformat_minor": 5
}
