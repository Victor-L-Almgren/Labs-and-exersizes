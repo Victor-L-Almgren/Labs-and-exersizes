{
 "cells": [
  {
   "cell_type": "code",
   "execution_count": 5,
   "id": "deac5a56-3c25-482f-a8ae-fb12e719cb3b",
   "metadata": {},
   "outputs": [],
   "source": [
    "# Caesar cipher\n",
    "\n",
    "# Encryption function\n",
    "def encrypt(msg, n=3):\n",
    "    numbers = []\n",
    "    encrypted_msg = []\n",
    "    for letter in msg:\n",
    "        letter = ord(letter)\n",
    "        if letter in range(97, 123):\n",
    "            if (letter - n) < 97:\n",
    "                letter = letter - n + 26\n",
    "                numbers.append(letter)\n",
    "            else:\n",
    "                letter = letter - n\n",
    "                numbers.append(letter)\n",
    "        elif letter in range(65, 91):\n",
    "            if (letter - n) < 65:\n",
    "                letter = letter - n + 26\n",
    "                numbers.append(letter)\n",
    "            else:\n",
    "                letter = letter - n\n",
    "                numbers.append(letter)\n",
    "        elif not letter in range(97, 123):\n",
    "            numbers.append(letter)\n",
    "        elif not letter in range(65, 91):\n",
    "            numbers.append(letter)\n",
    "    for number in numbers:\n",
    "        number = chr(number)\n",
    "        encrypted_msg.append(number)\n",
    "    return \"\".join(encrypted_msg)\n",
    "\n",
    "# Decryption function\n",
    "def decrypt(msg, n=3):\n",
    "    n = 26 - n\n",
    "    return encrypt(msg, n)\n",
    "\n",
    "# Read function\n",
    "def read():\n",
    "    list = []\n",
    "    file = open(input(\"Enter the name of target\"), \"r\")\n",
    "    lines = file.readlines()\n",
    "    for line in lines:\n",
    "        list.append(line)\n",
    "    return \"\".join(list)\n",
    "\n",
    "# Write function\n",
    "def write(msg):\n",
    "    file = open(input(\"Enter the name of destination\"), \"a\")\n",
    "    lines = file.write(msg)\n",
    "\n",
    "# Letter frequency analysis\n",
    "def letter_analysis():\n",
    "    text_for_analysis = read()\n",
    "    letter_list = []\n",
    "    letter_dict = {}\n",
    "    for letter in text_for_analysis:\n",
    "        letter = letter.upper()\n",
    "        letter_list.append(letter)\n",
    "    letter_list.sort()\n",
    "    for letter in letter_list:\n",
    "        if letter.isalpha() == True:\n",
    "            if not letter in letter_dict:\n",
    "                letter_dict[letter] = 1\n",
    "            else:\n",
    "                letter_dict[letter] = letter_dict[letter] + 1\n",
    "    for elem in letter_dict:\n",
    "        print(f\"The letter {elem} appears {letter_dict[elem]} times in the selected text.\")"
   ]
  },
  {
   "cell_type": "code",
   "execution_count": 7,
   "id": "1e6d177f-c7e3-4d2e-8433-3ca5b3238ac0",
   "metadata": {},
   "outputs": [
    {
     "name": "stdin",
     "output_type": "stream",
     "text": [
      "Enter the name of target sample.txt\n"
     ]
    },
    {
     "name": "stdout",
     "output_type": "stream",
     "text": [
      "\n",
      "*** Sample text ***\n",
      "The quick?\n",
      "brown fox. \n",
      "JUMPES OVER; \n",
      "THE LAZY dog!\n",
      "\n",
      "*** Encrypted text ***\n",
      "Ocz lpdxf?\n",
      "wmjri ajs. \n",
      "EPHKZN JQZM; \n",
      "OCZ GVUT yjb!\n",
      "\n"
     ]
    },
    {
     "name": "stdin",
     "output_type": "stream",
     "text": [
      "Enter the name of destination encrypted.txt\n",
      "Enter the name of target encrypted.txt\n"
     ]
    },
    {
     "name": "stdout",
     "output_type": "stream",
     "text": [
      "\n",
      "*** Decrypted text ***\n",
      "The quick?\n",
      "brown fox. \n",
      "JUMPES OVER; \n",
      "THE LAZY dog!\n",
      "\n"
     ]
    },
    {
     "name": "stdin",
     "output_type": "stream",
     "text": [
      "Enter the name of destination decrypted.txt\n"
     ]
    },
    {
     "name": "stdout",
     "output_type": "stream",
     "text": [
      "\n",
      "***Letter frequency analysis***\n"
     ]
    },
    {
     "name": "stdin",
     "output_type": "stream",
     "text": [
      "Enter the name of target encrypted.txt\n"
     ]
    },
    {
     "name": "stdout",
     "output_type": "stream",
     "text": [
      "The letter A appears 1 times in the selected text.\n",
      "The letter B appears 1 times in the selected text.\n",
      "The letter C appears 2 times in the selected text.\n",
      "The letter D appears 1 times in the selected text.\n",
      "The letter E appears 1 times in the selected text.\n",
      "The letter F appears 1 times in the selected text.\n",
      "The letter G appears 1 times in the selected text.\n",
      "The letter H appears 1 times in the selected text.\n",
      "The letter I appears 1 times in the selected text.\n",
      "The letter J appears 4 times in the selected text.\n",
      "The letter K appears 1 times in the selected text.\n",
      "The letter L appears 1 times in the selected text.\n",
      "The letter M appears 2 times in the selected text.\n",
      "The letter N appears 1 times in the selected text.\n",
      "The letter O appears 2 times in the selected text.\n",
      "The letter P appears 2 times in the selected text.\n",
      "The letter Q appears 1 times in the selected text.\n",
      "The letter R appears 1 times in the selected text.\n",
      "The letter S appears 1 times in the selected text.\n",
      "The letter T appears 1 times in the selected text.\n",
      "The letter U appears 1 times in the selected text.\n",
      "The letter V appears 1 times in the selected text.\n",
      "The letter W appears 1 times in the selected text.\n",
      "The letter X appears 1 times in the selected text.\n",
      "The letter Y appears 1 times in the selected text.\n",
      "The letter Z appears 4 times in the selected text.\n"
     ]
    }
   ],
   "source": [
    "# Test for reading-encrypting-writing:\n",
    "non_encr_msg = read()\n",
    "print()\n",
    "print(\"*** Sample text ***\")\n",
    "print(non_encr_msg)\n",
    "encr_msg = encrypt(non_encr_msg, 5)\n",
    "print()\n",
    "print(\"*** Encrypted text ***\")\n",
    "print(encr_msg)\n",
    "print()\n",
    "write(encr_msg)\n",
    "\n",
    "# Test for reading-decrypting-writing:\n",
    "encr_sample = read()\n",
    "print()\n",
    "decr_msg = decrypt(encr_sample, 5)\n",
    "print(\"*** Decrypted text ***\")\n",
    "print(decr_msg)\n",
    "print()\n",
    "write(decr_msg)\n",
    "\n",
    "# Test for letter frequency analysis:\n",
    "print()\n",
    "print(\"***Letter frequency analysis***\")\n",
    "analysis = letter_analysis()"
   ]
  },
  {
   "cell_type": "code",
   "execution_count": null,
   "id": "aac1c5d8-c9b7-432b-b1fa-e57a67e163f9",
   "metadata": {},
   "outputs": [],
   "source": []
  }
 ],
 "metadata": {
  "kernelspec": {
   "display_name": "Python 3 (ipykernel)",
   "language": "python",
   "name": "python3"
  },
  "language_info": {
   "codemirror_mode": {
    "name": "ipython",
    "version": 3
   },
   "file_extension": ".py",
   "mimetype": "text/x-python",
   "name": "python",
   "nbconvert_exporter": "python",
   "pygments_lexer": "ipython3",
   "version": "3.11.5"
  }
 },
 "nbformat": 4,
 "nbformat_minor": 5
}
