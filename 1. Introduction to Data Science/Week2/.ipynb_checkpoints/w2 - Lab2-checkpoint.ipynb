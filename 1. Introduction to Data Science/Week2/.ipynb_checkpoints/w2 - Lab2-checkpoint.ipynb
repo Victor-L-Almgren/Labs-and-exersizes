{
 "cells": [
  {
   "cell_type": "markdown",
   "metadata": {},
   "source": [
    "# Part 1: Lists\n",
    "\n",
    "## Question 1.1\n"
   ]
  },
  {
   "cell_type": "markdown",
   "metadata": {},
   "source": [
    "Write a program that calculates the average (or mean) of the values of a given list `lst` (suppose that the list is already given to you).<br>\n",
    "Note that there exist a built-in Python function `sum(...)` that directly computes the sum of the values of a list. We could use it to compute the average as shown in the example below. However, in this question, you are asked to code it by yourself (using a loop) without using the built-in `sum(...)` function."
   ]
  },
  {
   "cell_type": "code",
   "execution_count": null,
   "metadata": {},
   "outputs": [],
   "source": [
    "lst = [9, 3, 7, 10, 5, 38] \n",
    "\n",
    "result = sum(lst) / len(lst)\n",
    "print(result)"
   ]
  },
  {
   "cell_type": "code",
   "execution_count": null,
   "metadata": {},
   "outputs": [],
   "source": [
    "lst = [9, 3, 7, 10, 5, 38] \n",
    "sum=0\n",
    "for x in lst:\n",
    "    sum = sum + x\n",
    "avg=sum / len(lst)\n",
    "print(avg)"
   ]
  },
  {
   "cell_type": "markdown",
   "metadata": {},
   "source": [
    "## Question 1.2\n",
    "Write a program that allows the user to continuously enter numbers with the keyboard. Each time the user enters a number $x$, the program should compute $f(x) = -2 x$ and save it in a list. The program should stop and display the resulting list when the user finally enters `stop` instead of a number. \n",
    "\n",
    "Here is an example:<br>\n",
    "```\n",
    "Enter a number: 5\n",
    "Enter a number: 3\n",
    "Enter a number: -4\n",
    "Enter a number: 1\n",
    "Enter a number: stop\n",
    "Result:  [-10, -6, 8, -2]\n",
    "```"
   ]
  },
  {
   "cell_type": "code",
   "execution_count": null,
   "metadata": {},
   "outputs": [],
   "source": [
    "lst=[]\n",
    "while True:\n",
    "    x = input(\"Enter a number\")\n",
    "    if x == \"stop\":\n",
    "        break\n",
    "    else:\n",
    "        x = int(x) \n",
    "        x = (-2) * x\n",
    "        lst.append(x)\n",
    "print(lst)"
   ]
  },
  {
   "cell_type": "markdown",
   "metadata": {},
   "source": [
    "## Question 1.3\n",
    "You are given two lists `A` and `B` of the same length. Write a program that calculates the dot product of `A` and `B`. The dot product is a single value computed by multiplying each element $a_i$ of `A` with the corresponding element $b_i$ of `B`, then summing the result. For example, if `A = [3, 5, 2, 6]` and `B = [1, 10, 2, 7]`, then the dot product is computed as: `3*1 + 5*10 + 2*2 + 6*7`"
   ]
  },
  {
   "cell_type": "code",
   "execution_count": null,
   "metadata": {},
   "outputs": [],
   "source": [
    "A = [3, 5, 2, 6]\n",
    "B = [1, 10, 2, 7]\n",
    "\n",
    "length = len(A)\n",
    "AB = [A[x]*B[x] for x in range(length)]\n",
    "print(AB)"
   ]
  },
  {
   "cell_type": "markdown",
   "metadata": {},
   "source": [
    "## Question 1.4\n"
   ]
  },
  {
   "cell_type": "markdown",
   "metadata": {},
   "source": [
    "Write a program allowing the teacher to enter the grades of a class. Once this is done, the program should count the number of grades that are larger than the class average.<br>\n",
    "Note 1: for simplicity, we suppose that the class contains 5 students, and the grades are between 0 and 10.<br>\n",
    "Note 2: you can use the built-in function `sum(...)` if you want to.\n",
    "\n",
    "Here is an example:\n",
    "```\n",
    "Enter a grade: 6\n",
    "Enter a grade: 7\n",
    "Enter a grade: 2\n",
    "Enter a grade: 4\n",
    "Enter a grade: 9\n",
    "Gardes: [6.0, 7.0, 2.0, 4.0, 9.0]\n",
    "Average grade: 5.6\n",
    "The number of gardes larger than the average is 3\n",
    "```"
   ]
  },
  {
   "cell_type": "code",
   "execution_count": null,
   "metadata": {},
   "outputs": [],
   "source": [
    "grades=[]\n",
    "for x in range(0, 5):\n",
    "    x=float(input(\"enter a grade\"))\n",
    "    grades.append(x)\n",
    "sum_lst=0\n",
    "for y in grades:\n",
    "    sum_lst = sum_lst + y\n",
    "avg = sum_lst / len(grades)\n",
    "print(\"Grades: \", grades)\n",
    "print(\"the average grade is: \", avg)\n",
    "lg_grades=[]\n",
    "for x in grades:\n",
    "    if x>avg:\n",
    "        lg_grades.append(x)\n",
    "num_lg_grades = len(lg_grades)\n",
    "print(\"The number of gardes larger than the average is\", num_lg_grades)"
   ]
  },
  {
   "cell_type": "markdown",
   "metadata": {},
   "source": [
    "# Part 2: Dictionaries\n",
    "## Question 2.1\n",
    "You are given a list of strings. Write a program that creates a dictionary with each string as a key, and its length as a value.\n",
    "For example, if the list is: <br>\n",
    "`[\"Python\", \"is\", \"a\", \"cool\", \"programming\", \"language\"]` <br>\n",
    "the expected dictionary would be: <br>\n",
    "`{'Python': 6, 'is': 2, 'a': 1, 'cool': 4, 'programming': 11, 'language': 8}`."
   ]
  },
  {
   "cell_type": "code",
   "execution_count": null,
   "metadata": {},
   "outputs": [],
   "source": [
    "strings = [\"Python\", \"is\", \"a\", \"cool\", \"programming\", \"language\"]\n",
    "word_length = []\n",
    "for x in strings:\n",
    "    x = len(x)\n",
    "    word_length.append(x)\n",
    "combo=dict(zip(strings, word_length))\n",
    "print(combo)"
   ]
  },
  {
   "cell_type": "markdown",
   "metadata": {},
   "source": [
    "## Question 2.2\n",
    "Create a dictionary that maps each employee name (key) to the corresponding department name (value), according to the following table. Then, perform the following operations:\n",
    "- Add \"Alice\" to \"Customer Service\" department\n",
    "- \"Kevin\" moves from \"Customer Service\" to \"R&D\"\n",
    "- Remove \"Ray\" from the dictionary\n",
    "\n",
    "| Employee | Department |\n",
    "| -------- | ---------  |\n",
    "| Peter    | Sales      |\n",
    "| Mary     | Sales      |\n",
    "| Linda    | R&D        |\n",
    "| Kevin    | Customer Service |\n",
    "| Jack     | Customer Service |\n",
    "| Ray      | Customer Service |\n",
    "\n"
   ]
  },
  {
   "cell_type": "code",
   "execution_count": null,
   "metadata": {},
   "outputs": [],
   "source": [
    "emp = {'Peter':'Sales', 'Mary':'Sales', 'Linda':'R&D', 'Kevin':'Customer service', 'Jack':'Customer service', 'Ray':'Customer service'}\n",
    "emp['Alice']='Customer service'\n",
    "print(emp)\n",
    "emp['Kevin']='R&D'\n",
    "print(emp)\n",
    "del emp['Ray']\n",
    "print(emp)"
   ]
  },
  {
   "cell_type": "markdown",
   "metadata": {},
   "source": [
    "## Question 2.3\n",
    "- You are given a dictionary called `info`. \n",
    "- First, write a code that asks the user to enter 3 keys that should be saved in a list called `keys_to_remove`. Note that the user is free to input keys that already exist in `info` or not.\n",
    "- Then, write a code that deletes entries corresponding to `keys_to_remove` from the dictionary `info` (if they exist in the dictionary)."
   ]
  },
  {
   "cell_type": "code",
   "execution_count": null,
   "metadata": {},
   "outputs": [],
   "source": [
    "\n",
    "info = {\n",
    "    \"name\": \"Lisa\", \n",
    "    \"age\": 29, \n",
    "    \"salary\": 46000, \n",
    "    \"married\": True, \n",
    "    \"city\": \"Gothenburg\", \n",
    "    \"country\": \"Sweden\", \n",
    "}\n",
    "\n",
    "keys_to_remove=[]\n",
    "for x in range(0, 3):\n",
    "    x = input(\"Enter a key to remove\")\n",
    "    keys_to_remove.append(x)\n",
    "\n",
    "for y in keys_to_remove:\n",
    "    del info[y]\n",
    "print(info)"
   ]
  },
  {
   "cell_type": "markdown",
   "metadata": {},
   "source": [
    "## Question 2.4\n",
    "\n",
    "You are given a dictionary `dico` that maps each student name (key) to the list of his/her grades (value). Write a program to:\n",
    "- create a new dictionary `new_dico` containing for each student: the student average grade as a key, and the student name as a value.\n",
    "- find the name of the best student (having the largest average grade) using `new_dico`.\n",
    "- display the list of grades of the best student (from `dico`).\n",
    "\n",
    "Note: you are allowed to use Python built-in functions such as `sum(...)` and `max(...)` if needed.<br>\n",
    "Here is an example of the expected output for the example dictionary given below:\n",
    "```\n",
    "new_dico is {7.5: 'Mark', 7.0: 'Alice', 4.75: 'Bob', 8.0: 'Maja', 7.25: 'Mohamed'}\n",
    "The best student is Maja\n",
    "The grades of Maja are: [8, 9, 7, 8]\n",
    "```"
   ]
  },
  {
   "cell_type": "code",
   "execution_count": null,
   "metadata": {},
   "outputs": [],
   "source": [
    "dico = {\n",
    "    \"Mark\": [6, 7, 9, 8], \n",
    "    \"Alice\": [6, 9, 6, 7], \n",
    "    \"Bob\": [3, 7, 4, 5], \n",
    "    \"Maja\": [8, 9, 7, 8], \n",
    "    \"Mohamed\": [7, 5, 8, 9]\n",
    "}\n",
    "\n",
    "value_list = list(dico.keys())\n",
    "key_list = list(dico.values())\n",
    "avg_grade_list = []\n",
    "avg_grade = 0\n",
    "\n",
    "for x in key_list:\n",
    "    avg_grade = float(sum(x)) / len(x)\n",
    "    avg_grade_list.append(avg_grade)\n",
    "\n",
    "new_dico = dict(zip(avg_grade_list, value_list))\n",
    "print(\"new_dico is\", new_dico)\n",
    "\n",
    "best_student = new_dico[max(new_dico)]\n",
    "print(\"The best student is\", best_student)\n",
    "\n",
    "print(\"The grades of\", best_student, \"are: \", dico[str(best_student)])"
   ]
  },
  {
   "cell_type": "code",
   "execution_count": null,
   "metadata": {},
   "outputs": [],
   "source": []
  }
 ],
 "metadata": {
  "kernelspec": {
   "display_name": "Python 3 (ipykernel)",
   "language": "python",
   "name": "python3"
  },
  "language_info": {
   "codemirror_mode": {
    "name": "ipython",
    "version": 3
   },
   "file_extension": ".py",
   "mimetype": "text/x-python",
   "name": "python",
   "nbconvert_exporter": "python",
   "pygments_lexer": "ipython3",
   "version": "3.11.5"
  }
 },
 "nbformat": 4,
 "nbformat_minor": 4
}
