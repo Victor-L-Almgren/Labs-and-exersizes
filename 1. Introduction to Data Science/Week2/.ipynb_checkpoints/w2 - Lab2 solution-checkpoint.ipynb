{
 "cells": [
  {
   "cell_type": "markdown",
   "metadata": {},
   "source": [
    "# Part 1: Lists\n",
    "\n",
    "## Question 1.1\n"
   ]
  },
  {
   "cell_type": "markdown",
   "metadata": {},
   "source": [
    "Write a program that calculates the average (or mean) of the values of a given list `lst` (suppose that the list is already given to you).<br>\n",
    "Note that there exist a built-in Python function `sum(...)` that directly computes the sum of the values of a list. We could use it to compute the average as shown in the example below. However, in this question, you are asked to code it by yourself (using a loop) without using the built-in `sum(...)` function."
   ]
  },
  {
   "cell_type": "code",
   "execution_count": 1,
   "metadata": {},
   "outputs": [
    {
     "name": "stdout",
     "output_type": "stream",
     "text": [
      "12.0\n"
     ]
    }
   ],
   "source": [
    "lst = [9, 3, 7, 10, 5, 38]  # list given to you\n",
    "\n",
    "result = sum(lst) / len(lst)\n",
    "print(result)"
   ]
  },
  {
   "cell_type": "code",
   "execution_count": 2,
   "metadata": {},
   "outputs": [
    {
     "name": "stdout",
     "output_type": "stream",
     "text": [
      "12.0\n"
     ]
    }
   ],
   "source": [
    "# TODO: write your own code to do the same as the above (without using the sum(...) function)\n",
    "result = 0\n",
    "for v in lst:\n",
    "    result = result + v\n",
    "\n",
    "result = result / len(lst)\n",
    "print(result)"
   ]
  },
  {
   "cell_type": "markdown",
   "metadata": {},
   "source": [
    "## Question 1.2\n",
    "Write a program that allows the user to continuously enter numbers with the keyboard. Each time the user enters a number $x$, the program should compute $f(x) = -2 x$ and save it in a list. The program should stop and display the resulting list when the user finally enters `stop` instead of a number. \n",
    "\n",
    "Here is an example:<br>\n",
    "```\n",
    "Enter a number: 5\n",
    "Enter a number: 3\n",
    "Enter a number: -4\n",
    "Enter a number: 1\n",
    "Enter a number: stop\n",
    "Result:  [-10, -6, 8, -2]\n",
    "```"
   ]
  },
  {
   "cell_type": "code",
   "execution_count": 3,
   "metadata": {},
   "outputs": [
    {
     "name": "stdout",
     "output_type": "stream",
     "text": [
      "Enter a number: 5\n",
      "Enter a number: 3\n",
      "Enter a number: -4\n",
      "Enter a number: 7\n",
      "Enter a number: stop\n",
      "Result:  [-10, -6, 8, -14]\n"
     ]
    }
   ],
   "source": [
    "L = []\n",
    "\n",
    "while True:\n",
    "    x = input(\"Enter a number: \")\n",
    "    if x == \"stop\":\n",
    "        break\n",
    "        \n",
    "    x = int(x)\n",
    "    fx = -2*x\n",
    "    L.append(fx)\n",
    "    \n",
    "print(\"Result: \", L)"
   ]
  },
  {
   "cell_type": "markdown",
   "metadata": {},
   "source": [
    "## Question 1.3\n",
    "You are given two lists `A` and `B` of the same length. Write a program that calculates the dot product of `A` and `B`. The dot product is a single value computed by multiplying each element $a_i$ of `A` with the corresponding element $b_i$ of `B`, then summing the result. For example, if `A = [3, 5, 2, 6]` and `B = [1, 10, 2, 7]`, then the dot product is computed as: `3*1 + 5*10 + 2*2 + 6*7`"
   ]
  },
  {
   "cell_type": "code",
   "execution_count": 5,
   "metadata": {},
   "outputs": [
    {
     "name": "stdout",
     "output_type": "stream",
     "text": [
      "99\n"
     ]
    }
   ],
   "source": [
    "A = [3, 5, 2, 6]\n",
    "B = [1, 10, 2, 7]\n",
    "\n",
    "s = 0\n",
    "for i in range(len(A)):\n",
    "    s = s + A[i] * B[i]\n",
    "\n",
    "print(s)"
   ]
  },
  {
   "cell_type": "markdown",
   "metadata": {},
   "source": [
    "## Question 1.4\n"
   ]
  },
  {
   "cell_type": "markdown",
   "metadata": {},
   "source": [
    "Write a program allowing the teacher to enter the grades of a class. Once this is done, the program should count the number of grades that are larger than the class average.<br>\n",
    "Note 1: for simplicity, we suppose that the class contains 5 students, and the grades are between 0 and 10.<br>\n",
    "Note 2: you can use the built-in function `sum(...)` if you want to.\n",
    "\n",
    "Here is an example:\n",
    "```\n",
    "Enter a grade: 6\n",
    "Enter a grade: 7\n",
    "Enter a grade: 2\n",
    "Enter a grade: 4\n",
    "Enter a grade: 9\n",
    "Gardes: [6.0, 7.0, 2.0, 4.0, 9.0]\n",
    "Average grade: 5.6\n",
    "The number of gardes larger than the average is 3\n",
    "```"
   ]
  },
  {
   "cell_type": "code",
   "execution_count": 7,
   "metadata": {},
   "outputs": [
    {
     "name": "stdout",
     "output_type": "stream",
     "text": [
      "Enter a grade: 6\n",
      "Enter a grade: 7\n",
      "Enter a grade: 2\n",
      "Enter a grade: 4\n",
      "Enter a grade: 9\n",
      "Gardes: [6.0, 7.0, 2.0, 4.0, 9.0]\n",
      "Average grade: 5.6\n",
      "The number of gardes larger than the average is 3\n"
     ]
    }
   ],
   "source": [
    "nb_students = 5\n",
    "grades = []\n",
    "\n",
    "for i in range(nb_students):\n",
    "    grade = float( input(\"Enter a grade: \") )\n",
    "    grades.append(grade)\n",
    "    \n",
    "avg = sum(grades) / len(grades)\n",
    "count = 0\n",
    "\n",
    "for grade in grades:\n",
    "    if grade > avg:\n",
    "        count = count + 1\n",
    "\n",
    "print(\"Gardes:\", grades)\n",
    "print(\"Average grade:\", avg)\n",
    "print(\"The number of gardes larger than the average is\", count)"
   ]
  },
  {
   "cell_type": "markdown",
   "metadata": {},
   "source": [
    "# Part 2: Dictionaries\n",
    "## Question 2.1\n",
    "You are given a list of strings. Write a program that creates a dictionary with each string as a key, and its length as a value.\n",
    "For example, if the list is: <br>\n",
    "`[\"Python\", \"is\", \"a\", \"cool\", \"programming\", \"language\"]` <br>\n",
    "the expected dictionary would be: <br>\n",
    "`{'Python': 6, 'is': 2, 'a': 1, 'cool': 4, 'programming': 11, 'language': 8}`."
   ]
  },
  {
   "cell_type": "code",
   "execution_count": 8,
   "metadata": {},
   "outputs": [
    {
     "name": "stdout",
     "output_type": "stream",
     "text": [
      "{'Python': 6, 'is': 2, 'a': 1, 'cool': 4, 'programming': 11, 'language': 8}\n"
     ]
    }
   ],
   "source": [
    "# TODO: complete the code below\n",
    "\n",
    "strings = [\"Python\", \"is\", \"a\", \"cool\", \"programming\", \"language\"]\n",
    "mydico = {s : len(s) for s in strings}\n",
    "print(mydico)"
   ]
  },
  {
   "cell_type": "markdown",
   "metadata": {},
   "source": [
    "## Question 2.2\n",
    "Create a dictionary that maps each employee name (key) to the corresponding department name (value), according to the following table. Then, perform the following operations:\n",
    "- Add \"Alice\" to \"Customer Service\" department\n",
    "- \"Kevin\" moves from \"Customer Service\" to \"R&D\"\n",
    "- Remove \"Ray\" from the dictionary\n",
    "\n",
    "| Employee | Department |\n",
    "| -------- | ---------  |\n",
    "| Peter    | Sales      |\n",
    "| Mary     | Sales      |\n",
    "| Linda    | R&D        |\n",
    "| Kevin    | Customer Service |\n",
    "| Jack     | Customer Service |\n",
    "| Ray      | Customer Service |\n",
    "\n"
   ]
  },
  {
   "cell_type": "code",
   "execution_count": 9,
   "metadata": {},
   "outputs": [
    {
     "name": "stdout",
     "output_type": "stream",
     "text": [
      "{'Peter': 'Sales', 'Mary': 'Sales', 'Linda': 'R&D', 'Kevin': 'R&D', 'Jack': 'Customer Service', 'Alice': 'Customer Service'}\n"
     ]
    }
   ],
   "source": [
    "d = {'Peter': 'Sales',\n",
    "     'Mary': 'Sales',\n",
    "     'Linda': 'R&D',\n",
    "     'Kevin': 'Customer Service',\n",
    "     'Jack': 'Customer Service',\n",
    "     'Ray': 'Customer Service'}\n",
    "\n",
    "d[\"Alice\"] = \"Customer Service\"\n",
    "d[\"Kevin\"] = \"R&D\"\n",
    "del d[\"Ray\"]\n",
    "\n",
    "print(d)"
   ]
  },
  {
   "cell_type": "markdown",
   "metadata": {},
   "source": [
    "## Question 2.3\n",
    "- You are given a dictionary called `info`. \n",
    "- First, write a code that asks the user to enter 3 keys that should be saved in a list called `keys_to_remove`. Note that the user is free to input keys that already exist in `info` or not.\n",
    "- Then, write a code that deletes entries corresponding to `keys_to_remove` from the dictionary `info` (if they exist in the dictionary)."
   ]
  },
  {
   "cell_type": "code",
   "execution_count": 10,
   "metadata": {},
   "outputs": [
    {
     "name": "stdout",
     "output_type": "stream",
     "text": [
      "Enter a key: name\n",
      "Enter a key: salary\n",
      "Enter a key: married\n",
      "{'age': 29, 'city': 'Gothenburg', 'country': 'Sweden'}\n"
     ]
    }
   ],
   "source": [
    "# This is an example dictionary, feel free to change it if you want\n",
    "info = {\n",
    "    \"name\": \"Lisa\", \n",
    "    \"age\": 29, \n",
    "    \"salary\": 46000, \n",
    "    \"married\": True, \n",
    "    \"city\": \"Gothenburg\", \n",
    "    \"country\": \"Sweden\", \n",
    "}\n",
    "\n",
    "# TODO: ask the user to enter 3 keys that you should save in a list called keys_to_remove\n",
    "keys_to_remove = [input(\"Enter a key: \") for _ in range(3)]\n",
    "\n",
    "# TODO: remove entries corresponding to keys_to_remove from info\n",
    "for k in keys_to_remove:\n",
    "    if k in info.keys():\n",
    "        info.pop(k) # or del info[k]\n",
    "\n",
    "print(info)"
   ]
  },
  {
   "cell_type": "markdown",
   "metadata": {},
   "source": [
    "## Question 2.4\n",
    "\n",
    "You are given a dictionary `dico` that maps each student name (key) to the list of his/her grades (value). Write a program to:\n",
    "- create a new dictionary `new_dico` containing for each student: the student average grade as a key, and the student name as a value.\n",
    "- find the name of the best student (having the largest average grade) using `new_dico`.\n",
    "- display the list of grades of the best student (from `dico`).\n",
    "\n",
    "Note: you are allowed to use Python built-in functions such as `sum(...)` and `max(...)` if needed.<br>\n",
    "Here is an example of the expected output for the example dictionary given below:\n",
    "```\n",
    "new_dico is {7.5: 'Mark', 7.0: 'Alice', 4.75: 'Bob', 8.0: 'Maja', 7.25: 'Mohamed'}\n",
    "The best student is Maja\n",
    "The grades of Maja are: [8, 9, 7, 8]\n",
    "```"
   ]
  },
  {
   "cell_type": "code",
   "execution_count": 11,
   "metadata": {},
   "outputs": [
    {
     "name": "stdout",
     "output_type": "stream",
     "text": [
      "new_dico is {7.5: 'Mark', 7.0: 'Alice', 4.75: 'Bob', 8.0: 'Maja', 7.25: 'Mohamed'}\n",
      "The best student is Maja\n",
      "The grades of Maja are: [8, 9, 7, 8]\n"
     ]
    }
   ],
   "source": [
    "dico = {\n",
    "    \"Mark\": [6, 7, 9, 8], \n",
    "    \"Alice\": [6, 9, 6, 7], \n",
    "    \"Bob\": [3, 7, 4, 5], \n",
    "    \"Maja\": [8, 9, 7, 8], \n",
    "    \"Mohamed\": [7, 5, 8, 9]\n",
    "}\n",
    "\n",
    "# TODO: create the new dictionary new_dico (keys are floats, and values are strings)\n",
    "new_dico = { sum(lst)/len(lst) : name for name, lst in dico.items() }\n",
    "print(\"new_dico is\", new_dico)\n",
    "\n",
    "# TODO: find the name of the best student (having the best average grade)\n",
    "best_avg_grade = max(new_dico.keys())\n",
    "best_student = new_dico[best_avg_grade]\n",
    "print(\"The best student is\", best_student)\n",
    "\n",
    "# TODO: display list of grades of the best student (from dico)\n",
    "print(f\"The grades of {best_student} are: {dico[best_student]}\")"
   ]
  }
 ],
 "metadata": {
  "kernelspec": {
   "display_name": "Python 3",
   "language": "python",
   "name": "python3"
  },
  "language_info": {
   "codemirror_mode": {
    "name": "ipython",
    "version": 3
   },
   "file_extension": ".py",
   "mimetype": "text/x-python",
   "name": "python",
   "nbconvert_exporter": "python",
   "pygments_lexer": "ipython3",
   "version": "3.7.4"
  }
 },
 "nbformat": 4,
 "nbformat_minor": 2
}
