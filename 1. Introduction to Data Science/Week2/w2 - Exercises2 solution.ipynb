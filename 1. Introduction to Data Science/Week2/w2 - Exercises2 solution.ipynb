{
 "cells": [
  {
   "cell_type": "markdown",
   "id": "5c318525",
   "metadata": {},
   "source": [
    "# Strings\n",
    "\n",
    "**Exercise 1:**\n",
    "\n",
    "We are given a string of characters. We need a Python program to check if the substring between indices `a` and `b` (included) is a palindrome. <br />\n",
    "A palindrome is string that reads the same forwards and backwards; for example, `\"level\"`, `\"madam\"`, and `\"radar\"` are palindromes."
   ]
  },
  {
   "cell_type": "code",
   "execution_count": 1,
   "id": "454bf692",
   "metadata": {},
   "outputs": [
    {
     "name": "stdout",
     "output_type": "stream",
     "text": [
      "Enter a string: Your level is high\n",
      "Enter the starting index 'a': 5\n",
      "Enter the ending index 'b': 9\n",
      "The substring 'level' from index 5 to 9 is a palindrome.\n"
     ]
    }
   ],
   "source": [
    "input_string = input(\"Enter a string: \")\n",
    "a = int(input(\"Enter the starting index 'a': \"))\n",
    "b = int(input(\"Enter the ending index 'b': \"))\n",
    "\n",
    "i = a\n",
    "j = b\n",
    "is_palindrome = True\n",
    "\n",
    "while is_palindrome and i < j:\n",
    "    if input_string[i] != input_string[j]:\n",
    "        is_palindrome = False\n",
    "    i += 1\n",
    "    j -= 1\n",
    "\n",
    "if is_palindrome:\n",
    "    print(f\"The substring '{input_string[a:b+1]}' from index {a} to {b} is a palindrome.\")\n",
    "else:\n",
    "    print(f\"The substring '{input_string[a:b+1]}' from index {a} to {b} is not a palindrome.\")\n"
   ]
  },
  {
   "cell_type": "markdown",
   "id": "5130fb64",
   "metadata": {},
   "source": [
    "**Exercise 2:**\n",
    "\n",
    "Write a Python program that provides the binary representation of a positive integer as a string. For example, the binary representation of 9 is `\"1001\"`."
   ]
  },
  {
   "cell_type": "code",
   "execution_count": 2,
   "id": "0d686b41",
   "metadata": {},
   "outputs": [
    {
     "name": "stdout",
     "output_type": "stream",
     "text": [
      "Enter a positive integer: 9\n",
      "The binary representation is: 1001\n"
     ]
    }
   ],
   "source": [
    "x = int(input(\"Enter a positive integer: \"))\n",
    "binary_rep = \"\"\n",
    "\n",
    "while x != 0:\n",
    "    remainder = x % 2\n",
    "    binary_rep = str(remainder) + binary_rep\n",
    "    x = x // 2\n",
    "\n",
    "print(f\"The binary representation is: {binary_rep}\")"
   ]
  },
  {
   "cell_type": "markdown",
   "id": "6f7a24a7",
   "metadata": {},
   "source": [
    "**Exercise 3:**\n",
    "\n",
    "We are provided with a telegram text, word by word. Our goal is to calculate the total cost of the telegram, taking into account that it ends with the word `\"stop\"`. So, you should continue reading words until `\"stop\"` is encountered. Each word in the telegram incurs a cost based on its length: a word of length `n` costs `(n / 10) + 1` SEK; however, the word `\"stop\"` does not cost anything."
   ]
  },
  {
   "cell_type": "code",
   "execution_count": 3,
   "id": "f44037f3",
   "metadata": {},
   "outputs": [
    {
     "name": "stdout",
     "output_type": "stream",
     "text": [
      "Enter a word: Hello\n",
      "Enter the next word: how\n",
      "Enter the next word: are\n",
      "Enter the next word: you?\n",
      "Enter the next word: stop\n",
      "The total cost of the telegram is 5.5 SEK.\n"
     ]
    }
   ],
   "source": [
    "total_cost = 0\n",
    "word = input(\"Enter a word: \")\n",
    "\n",
    "while word != \"stop\":\n",
    "    word_cost = (len(word) / 10) + 1\n",
    "    total_cost = total_cost + word_cost\n",
    "    word = input(\"Enter the next word: \")\n",
    "\n",
    "print(f\"The total cost of the telegram is {total_cost} SEK.\")\n"
   ]
  },
  {
   "cell_type": "markdown",
   "id": "8531ac2e",
   "metadata": {},
   "source": [
    "# Lists\n",
    "\n",
    "**Exercise 4:**\n",
    "\n",
    "Write a Python code that computes the sum, the average (or mean), the maximum, and the minimum of the elements of a given list `my_list` **without** using pre-defined Python functions such as `sum(L)`, `max(L)`, `min(L)`."
   ]
  },
  {
   "cell_type": "code",
   "execution_count": 4,
   "id": "72d6aefa",
   "metadata": {},
   "outputs": [
    {
     "name": "stdout",
     "output_type": "stream",
     "text": [
      " Sum: 146 \n",
      " Average: 12.166666666666666 \n",
      " Maximum: 20 \n",
      " Mininum: 2\n"
     ]
    }
   ],
   "source": [
    "my_list = [14, 17, 8, 19, 11, 14, 20, 3, 13, 16, 9, 2]\n",
    "\n",
    "su = 0\n",
    "ma = my_list[0]\n",
    "mi = my_list[0]\n",
    "\n",
    "for v in my_list:\n",
    "    su = su + v\n",
    "    if v > ma:\n",
    "        ma = v\n",
    "    if v < mi:\n",
    "        mi = v\n",
    "\n",
    "avg = su / len(my_list)\n",
    "print(f\" Sum: {su} \\n Average: {avg} \\n Maximum: {ma} \\n Mininum: {mi}\")"
   ]
  },
  {
   "cell_type": "markdown",
   "id": "ef70057e",
   "metadata": {},
   "source": [
    "**Exercise 5:**\n",
    "\n",
    "Write a code that checks if a name given by the user is in the list of invited people `names_invited`.<br />\n",
    "Note: you can do that in different ways, with or without using a loop."
   ]
  },
  {
   "cell_type": "code",
   "execution_count": 6,
   "id": "0d8e589a",
   "metadata": {},
   "outputs": [
    {
     "name": "stdout",
     "output_type": "stream",
     "text": [
      "Enter a name: Adam\n",
      "Yes Adam is invited\n",
      "Yes Adam is invited\n",
      "Yes Adam is invited\n"
     ]
    }
   ],
   "source": [
    "names_invited = [\"Sara\", \"Bob\", \"Sophia\", \"Khabib\", \"Anna\", \"Jones\", \"Ines\", \"Adam\"]\n",
    "name = input(\"Enter a name: \")\n",
    "\n",
    "# ========== Solution 1 ==========\n",
    "invited = False\n",
    "for n in names_invited:\n",
    "    if name == n:\n",
    "        invited = True\n",
    "        break\n",
    "\n",
    "display = f\"Yes {name} is invited\" if invited else f\"No {name} is not invited\"\n",
    "print(display)\n",
    "\n",
    "# ========== Solution 2 ==========\n",
    "invited = name in names_invited\n",
    "display = f\"Yes {name} is invited\" if invited else f\"No {name} is not invited\"\n",
    "print(display)\n",
    "    \n",
    "# ========== Solution 3 ==========\n",
    "invited = False\n",
    "i = 0\n",
    "while (not invited) and (i < len(names_invited)):\n",
    "    if name == names_invited[i]:\n",
    "        invited = True\n",
    "    i = i + 1\n",
    "\n",
    "display = f\"Yes {name} is invited\" if invited else f\"No {name} is not invited\"\n",
    "print(display)\n"
   ]
  },
  {
   "cell_type": "markdown",
   "id": "2c46fbb3",
   "metadata": {},
   "source": [
    "**Exercise 6:**\n",
    "\n",
    "Write a program that finds the index of the first element in a list `arr` that exceeds a given threshold."
   ]
  },
  {
   "cell_type": "code",
   "execution_count": 7,
   "id": "d1058f0d",
   "metadata": {},
   "outputs": [
    {
     "name": "stdout",
     "output_type": "stream",
     "text": [
      "The first element exceeding 14 is at index 2.\n"
     ]
    }
   ],
   "source": [
    "arr = [12, 8, 15, 6, 10, 20]\n",
    "threshold = 14\n",
    "\n",
    "index = None\n",
    "\n",
    "for i in range(len(arr)):\n",
    "    if arr[i] > threshold:\n",
    "        index = i\n",
    "        break  # Exit the loop when the first element exceeding the threshold is found\n",
    "\n",
    "# Check if an element exceeding the threshold was found\n",
    "if index is None:\n",
    "    print(f\"No element exceeds the threshold of {threshold}.\")\n",
    "else:\n",
    "    print(f\"The first element exceeding {threshold} is at index {index}.\")\n"
   ]
  },
  {
   "cell_type": "markdown",
   "id": "fb552f10",
   "metadata": {},
   "source": [
    "**Exercise 7:**\n",
    "\n",
    "We want a Python program that searches for an element in a sorted list and provides the index of that element in the list. Such a search can be done sequentially or dichotomically. Since the list is already sorted, we are asking you to write the dichotomic search method, which is the most time-efficient.\n",
    "\n",
    "In this method, we compare the element being searched for with the one in the middle of the list. If the element being searched for is smaller, we continue the search in the first half of the list; otherwise, we search in the second half. We repeat this process on the selected half. We stop when we have found the element or when the search interval is empty.\n",
    "\n",
    "*Example:*<br />\n",
    "The following example illustrates how the dichotomic search efficiently narrows down the search space until it finds the desired element. Suppose we have a sorted list `lst = [2, 4, 7, 9, 12, 15, 21, 25, 30]`. The list is indexed from 0 to 8. We want to find the index of the element 15.\n",
    "\n",
    "- We start with the entire list `lst`. The middle element (at index `(0+8) // 2`) is `lst[4]`. This middle element (12) is smaller than 15.\n",
    "- So, we look at the second half of the list: `lst[5:8]` which is `[15, 21, 25, 30]`.\n",
    "- Now, the middle element in this sublist (at index `(5+8) // 2`) is `lst[6]`. This middle element (21) is greater than 15.\n",
    "- So, we look at the first half of the sublist, leaving us with `[15]`.\n",
    "- The element 15 matches what we are looking for, so we stop. The index of 15 in the original list is 5.\n"
   ]
  },
  {
   "cell_type": "code",
   "execution_count": 8,
   "id": "d9e05454",
   "metadata": {},
   "outputs": [
    {
     "name": "stdout",
     "output_type": "stream",
     "text": [
      "Enter the target element: 7\n",
      "Element 7 found at index 3\n"
     ]
    }
   ],
   "source": [
    "lst = [1, 3, 5, 7, 9, 11, 13, 15, 17, 19]\n",
    "target = int(input(\"Enter the target element: \"))\n",
    "\n",
    "left = 0\n",
    "right = len(lst) - 1\n",
    "found = False\n",
    "\n",
    "while (left <= right) and (not found) :\n",
    "    mid = (left + right) // 2\n",
    "    \n",
    "    if lst[mid] == target:\n",
    "        found = True\n",
    "    elif lst[mid] < target:\n",
    "        left = mid + 1  # To continue searching the right half\n",
    "    else:\n",
    "        right = mid - 1  # To continue searching the left half\n",
    "\n",
    "if found:\n",
    "    print(f\"Element {target} found at index {mid}\")\n",
    "else:\n",
    "    print(f\"Element {target} not found\")"
   ]
  },
  {
   "cell_type": "markdown",
   "id": "d7e4dbab",
   "metadata": {},
   "source": [
    "# Dictionaries\n",
    "**Exercise 8:**\n",
    "\n",
    "You are tasked with creating a Python dictionary to manage a small library. The library contains information about books, including their titles, authors, and the number of available copies. You need to perform various operations on this dictionary.\n",
    "\n",
    "Create an empty dictionary called library.\n",
    "\n",
    "Add the following book information to the library dictionary:\n",
    "\n",
    "    Title: \"Harry Potter and the Sorcerer's Stone\"\n",
    "    Author: \"J.K. Rowling\"\n",
    "    Copies Available: 5\n",
    "\n",
    "    Title: \"To Kill a Mockingbird\"\n",
    "    Author: \"Harper Lee\"\n",
    "    Copies Available: 3\n",
    "\n",
    "    Title: \"1984\"\n",
    "    Author: \"George Orwell\"\n",
    "    Copies Available: 2\n",
    "\n",
    "    Title: \"The Great Gatsby\"\n",
    "    Author: \"F. Scott Fitzgerald\"\n",
    "    Copies Available: 4\n",
    "\n",
    "Print the entire library dictionary.\n",
    "\n",
    "Write code to check if the book \"Harry Potter and the Sorcerer's Stone\" is in the library. If it is, print \"Harry Potter is available in the library.\" Otherwise, print \"Harry Potter is not available.\"\n",
    "\n",
    "Update the number of available copies for the book \"1984\" to 5.\n",
    "\n",
    "Add a new book to the library:\n",
    "    Title: \"The Hunger Games\"\n",
    "    Author: \"Suzanne Collins\"\n",
    "    Copies Available: 6\n",
    "\n",
    "Print the entire library dictionary again to see the changes.\n",
    "\n",
    "Write code to calculate and print the total number of copies available in the library.\n",
    "\n",
    "Remove the book \"To Kill a Mockingbird\" from the library.\n",
    "\n",
    "Print the updated library dictionary."
   ]
  },
  {
   "cell_type": "code",
   "execution_count": 9,
   "id": "a9f0298c",
   "metadata": {},
   "outputs": [
    {
     "name": "stdout",
     "output_type": "stream",
     "text": [
      "Library Contents:\n",
      "{\"Harry Potter and the Sorcerer's Stone\": {'Author': 'J.K. Rowling', 'Copies Available': 5}, 'To Kill a Mockingbird': {'Author': 'Harper Lee', 'Copies Available': 3}, '1984': {'Author': 'George Orwell', 'Copies Available': 2}, 'The Great Gatsby': {'Author': 'F. Scott Fitzgerald', 'Copies Available': 4}}\n",
      "\n",
      "Harry Potter is available in the library.\n",
      "\n",
      "Updated Library Contents:\n",
      "{\"Harry Potter and the Sorcerer's Stone\": {'Author': 'J.K. Rowling', 'Copies Available': 5}, 'To Kill a Mockingbird': {'Author': 'Harper Lee', 'Copies Available': 3}, '1984': {'Author': 'George Orwell', 'Copies Available': 5}, 'The Great Gatsby': {'Author': 'F. Scott Fitzgerald', 'Copies Available': 4}, 'The Hunger Games': {'Author': 'Suzanne Collins', 'Copies Available': 6}}\n",
      "\n",
      "Total copies available in the library: 23\n",
      "\n",
      "Updated Library Contents after removing 'To Kill a Mockingbird':\n",
      "{\"Harry Potter and the Sorcerer's Stone\": {'Author': 'J.K. Rowling', 'Copies Available': 5}, '1984': {'Author': 'George Orwell', 'Copies Available': 5}, 'The Great Gatsby': {'Author': 'F. Scott Fitzgerald', 'Copies Available': 4}, 'The Hunger Games': {'Author': 'Suzanne Collins', 'Copies Available': 6}}\n"
     ]
    }
   ],
   "source": [
    "# Create an empty dictionary called library\n",
    "library = {}\n",
    "\n",
    "# Add book information to the library dictionary\n",
    "library[\"Harry Potter and the Sorcerer's Stone\"] = {\n",
    "    \"Author\": \"J.K. Rowling\",\n",
    "    \"Copies Available\": 5\n",
    "}\n",
    "library[\"To Kill a Mockingbird\"] = {\n",
    "    \"Author\": \"Harper Lee\",\n",
    "    \"Copies Available\": 3\n",
    "}\n",
    "library[\"1984\"] = {\n",
    "    \"Author\": \"George Orwell\",\n",
    "    \"Copies Available\": 2\n",
    "}\n",
    "library[\"The Great Gatsby\"] = {\n",
    "    \"Author\": \"F. Scott Fitzgerald\",\n",
    "    \"Copies Available\": 4\n",
    "}\n",
    "\n",
    "# Print the entire library dictionary\n",
    "print(\"Library Contents:\")\n",
    "print(library)\n",
    "print()\n",
    "\n",
    "# Check if \"Harry Potter and the Sorcerer's Stone\" is in the library\n",
    "if \"Harry Potter and the Sorcerer's Stone\" in library:\n",
    "    print(\"Harry Potter is available in the library.\")\n",
    "else:\n",
    "    print(\"Harry Potter is not available.\")\n",
    "print()\n",
    "\n",
    "# Update the number of available copies for the book \"1984\" to 5\n",
    "library[\"1984\"][\"Copies Available\"] = 5\n",
    "\n",
    "# Add a new book to the library\n",
    "library[\"The Hunger Games\"] = {\n",
    "    \"Author\": \"Suzanne Collins\",\n",
    "    \"Copies Available\": 6\n",
    "}\n",
    "\n",
    "# Print the entire updated library dictionary\n",
    "print(\"Updated Library Contents:\")\n",
    "print(library)\n",
    "print()\n",
    "\n",
    "# Calculate and print the total number of copies available in the library\n",
    "total_copies = sum(book[\"Copies Available\"] for book in library.values())\n",
    "print(f\"Total copies available in the library: {total_copies}\")\n",
    "print()\n",
    "\n",
    "# Remove the book \"To Kill a Mockingbird\" from the library\n",
    "if \"To Kill a Mockingbird\" in library:\n",
    "    del library[\"To Kill a Mockingbird\"]\n",
    "\n",
    "# Print the updated library dictionary\n",
    "print(\"Updated Library Contents after removing 'To Kill a Mockingbird':\")\n",
    "print(library)\n"
   ]
  },
  {
   "cell_type": "markdown",
   "id": "82aa150d",
   "metadata": {},
   "source": [
    "**Exercise 9:**\n",
    "\n",
    "You are given a list of students' names and their corresponding grades. Write a Python program that calculates and displays the average grade, the highest grade, and the lowest grade among the students.\n",
    "\n",
    "Your program should follow these rules:\n",
    "\n",
    "- Initialize a dictionary where the keys are students' names, and the values are their grades.\n",
    "- Calculate and display the average grade for all students.\n",
    "- Find and display the highest and lowest grades and the names of the students who achieved them.\n",
    "\n",
    "For example, for the dictionary `student_grades` below:\n",
    "```\n",
    "student_grades = {\n",
    "    \"Alice\": 95,\n",
    "    \"Bob\": 87,\n",
    "    \"Bob\": 98,\n",
    "    \"Charlie\": 92,\n",
    "    \"David\": 78,\n",
    "    \"Eve\": 98\n",
    "}\n",
    "```\n",
    "the exapect output should be:\n",
    "```\n",
    "Average Grade: 90.0\n",
    "Highest Grade: 98 (Islam, Eve)\n",
    "Lowest Grade: 78 (David)\n",
    "```"
   ]
  },
  {
   "cell_type": "code",
   "execution_count": 10,
   "id": "db814d07",
   "metadata": {},
   "outputs": [
    {
     "name": "stdout",
     "output_type": "stream",
     "text": [
      "Average Grade: 91.3\n",
      "Highest Grade: 98 (Islam, Eve)\n",
      "Lowest Grade: 78 (David)\n"
     ]
    }
   ],
   "source": [
    "# Given dictionary of student grades\n",
    "student_grades = {\n",
    "    \"Alice\": 95,\n",
    "    \"Bob\": 87,\n",
    "    \"Islam\": 98,\n",
    "    \"Charlie\": 92,\n",
    "    \"David\": 78,\n",
    "    \"Eve\": 98\n",
    "}\n",
    "\n",
    "# Calculate and display the average grade\n",
    "total_grades = sum(student_grades.values())\n",
    "average_grade = total_grades / len(student_grades)\n",
    "print(f\"Average Grade: {average_grade:.1f}\")\n",
    "\n",
    "# Find and display the highest and lowest grades and the respective students\n",
    "highest_grade = max(student_grades.values())\n",
    "lowest_grade = min(student_grades.values())\n",
    "\n",
    "highest_students = [name for name, grade in student_grades.items() if grade == highest_grade]\n",
    "lowest_students = [name for name, grade in student_grades.items() if grade == lowest_grade]\n",
    "\n",
    "# Concatenate the names of the list into a single string where names are separated by \", \"\n",
    "highest_students_str = \", \".join(highest_students)\n",
    "lowest_students_str = \", \".join(lowest_students)\n",
    "\n",
    "print(f\"Highest Grade: {highest_grade} ({highest_students_str})\")\n",
    "print(f\"Lowest Grade: {lowest_grade} ({lowest_students_str})\")\n"
   ]
  },
  {
   "cell_type": "markdown",
   "id": "71fbb271",
   "metadata": {},
   "source": [
    "**Exercise 10:**\n",
    "\n",
    "Write a Python program that takes a sentence as input and returns a dictionary where the keys are unique words in the sentence, and the values are the frequencies of each word.\n",
    "\n",
    "For example, if the input sentence is:<br />\n",
    "`\"This is a simple sentence. And this is another sentence.\"`\n",
    "\n",
    "The program should produce the following dictionary:<br />\n",
    "```\n",
    "{\n",
    "    \"This\": 1,\n",
    "    \"is\": 2,\n",
    "    \"a\": 1,\n",
    "    \"simple\": 1,\n",
    "    \"sentence\": 2,\n",
    "    \"And\": 1,\n",
    "    \"this\": 1,\n",
    "    \"another\": 1\n",
    "}\n",
    "```\n",
    "\n",
    "Your program should be case-insensitive, meaning that \"This\" and \"this\" should be considered the same word. <br />\n",
    "Hint: For a given string (e.g. `name`), you can use the `split()` method (e.g. `name.split()`) to break the sentence into words, and the lower() method (e.g. `name.lower()`) to convert the string to lowercase for case-insensitive comparison."
   ]
  },
  {
   "cell_type": "code",
   "execution_count": 11,
   "id": "cd0b6165",
   "metadata": {},
   "outputs": [
    {
     "name": "stdout",
     "output_type": "stream",
     "text": [
      "{'this': 2, 'is': 2, 'a': 1, 'simple': 1, 'sentence.': 2, 'and': 1, 'another': 1}\n"
     ]
    }
   ],
   "source": [
    "# Initialize an empty dictionary to store word frequencies\n",
    "word_freq = {}\n",
    "\n",
    "# Input sentence\n",
    "input_sentence = \"This is a simple sentence. And this is another sentence.\"\n",
    "\n",
    "# Split the sentence into words\n",
    "words = input_sentence.split()\n",
    "\n",
    "# Process each word\n",
    "for word in words:\n",
    "    # Convert the word to lowercase to make it case-insensitive\n",
    "    word = word.lower()\n",
    "    \n",
    "    # Check if the word is already in the dictionary\n",
    "    if word in word_freq:\n",
    "        # If yes, increment its frequency\n",
    "        word_freq[word] = word_freq[word] + 1\n",
    "    else:\n",
    "        # If no, add it to the dictionary with a frequency of 1\n",
    "        word_freq[word] = 1\n",
    "\n",
    "# Print the dictionary of word frequencies\n",
    "print(word_freq)"
   ]
  },
  {
   "cell_type": "code",
   "execution_count": null,
   "id": "e99dc052",
   "metadata": {},
   "outputs": [],
   "source": []
  },
  {
   "cell_type": "code",
   "execution_count": null,
   "id": "25900d2d",
   "metadata": {},
   "outputs": [],
   "source": []
  }
 ],
 "metadata": {
  "kernelspec": {
   "display_name": "Python 3 (ipykernel)",
   "language": "python",
   "name": "python3"
  },
  "language_info": {
   "codemirror_mode": {
    "name": "ipython",
    "version": 3
   },
   "file_extension": ".py",
   "mimetype": "text/x-python",
   "name": "python",
   "nbconvert_exporter": "python",
   "pygments_lexer": "ipython3",
   "version": "3.11.5"
  }
 },
 "nbformat": 4,
 "nbformat_minor": 5
}
