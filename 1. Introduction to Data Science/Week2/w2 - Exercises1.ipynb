{
 "cells": [
  {
   "cell_type": "markdown",
   "id": "616e55f4",
   "metadata": {},
   "source": [
    "# 1) Basics\n",
    "\n",
    "**Exercise 1:**\n",
    "\n",
    "Write a Python code that calculates the perimeter (omkretsen) of a circle with a given `radius`, and calculates the perimeter of a rectangle with a given `length` and `width`. The `radius`, `length` and `width` are provided by the user as an input."
   ]
  },
  {
   "cell_type": "code",
   "execution_count": null,
   "id": "3c516c3e",
   "metadata": {},
   "outputs": [],
   "source": [
    "r=float(input(\"Enter a radius\"))\n",
    "import math\n",
    "print(math.pi*r**2)\n",
    "l=float(input(\"enter a lenth of a rectangle\"))\n",
    "w=float(input(\"enter a width of a rectangle\"))\n",
    "print((2*l)+(2*w))"
   ]
  },
  {
   "cell_type": "markdown",
   "id": "e211233f",
   "metadata": {},
   "source": [
    "**Exercise 2:**\n",
    "\n",
    "We are given the number of kilometers traveled by a car `kmCount`, as well as the duration of the journey `hourCount` and the amount of fuel consumed `literCount`. Your program should calculate the average speed `avgSpeed` and the fuel consumption per kilometer `fuelPerKm`."
   ]
  },
  {
   "cell_type": "code",
   "execution_count": null,
   "id": "bea6eb9e",
   "metadata": {},
   "outputs": [],
   "source": [
    "kmcount=float(input(\"enter the cars distance in kilometers\"))\n",
    "hourcount=float(input(\"enter the duration of travel in hours\"))\n",
    "avgspeed=kmcount/hourcount\n",
    "print(\"The cars average speed during travel was\", avgspeed, \"km/h\")\n",
    "litercount=float(input(\"enter the average ......"
   ]
  },
  {
   "cell_type": "markdown",
   "id": "2aa5fe98",
   "metadata": {},
   "source": [
    "# 2) Conditional statements (if ... elif ... else)\n",
    "\n",
    "**Exercise 3:**\n",
    "\n",
    "Write a program to check whether a given number is even or odd. "
   ]
  },
  {
   "cell_type": "code",
   "execution_count": null,
   "id": "61db034d",
   "metadata": {},
   "outputs": [],
   "source": [
    "x=int(input(\"Enter a real number to see if its odd or even: \"))\n",
    "if x % 2 == 0:\n",
    "    print(\"even\")\n",
    "else:\n",
    "    print(\"odd\")"
   ]
  },
  {
   "cell_type": "markdown",
   "id": "a16f455c",
   "metadata": {},
   "source": [
    "**Exercise 4:**\n",
    "\n",
    "Write a program that gives the maximum of 3 integers (provided by the user)."
   ]
  },
  {
   "cell_type": "code",
   "execution_count": null,
   "id": "dad222de",
   "metadata": {},
   "outputs": [],
   "source": [
    "x=int(input(\"enter a real number\"))\n",
    "y=int(input(\"enter a real number\"))\n",
    "z=int(input(\"enter a real number\"))\n",
    "if (x>y) and (x>z):\n",
    "    print(\"the biggest number is: \", x)\n",
    "elif (y>x) and (y>z):\n",
    "    print(\"the biggest number is: \", y)\n",
    "else:\n",
    "    print(\"the biggest number is: \", z)"
   ]
  },
  {
   "cell_type": "markdown",
   "id": "f89346c8",
   "metadata": {},
   "source": [
    "**Exercise 5:**\n",
    "\n",
    "Write a code that displays a student's result for a course (i.e., passed or failed). This course is evaluated based on an oral exam score with a coefficient of 1 and a written exam with a coefficient of 2. To successfully complete the module, the average score must be 10 or higher.\n",
    "Note that the exam scores to input are between 0 and 20."
   ]
  },
  {
   "cell_type": "code",
   "execution_count": null,
   "id": "549cff55",
   "metadata": {},
   "outputs": [],
   "source": [
    "osc=int(input(\"enter oral exam score\"))\n",
    "wsc=int(input(\"enter written exam score\"))\n",
    "avsc=((1*osc)+(2*wsc))/3\n",
    "print(avsc)\n",
    "if avsc >= 10:\n",
    "    print(\"pass\")\n",
    "else:\n",
    "    print(\"fail\")"
   ]
  },
  {
   "cell_type": "markdown",
   "id": "f25f247d",
   "metadata": {},
   "source": [
    "**Exercise 6:**\n",
    "\n",
    "Write a code that determines whether the lamp is illuminated based on the state (open or closed) of the 6 switches labeled i1, i2, ..., i6. These switches can be considered as boolean variables. Here is the circuit diagram (the circuit always starts with a power source) :\n",
    "\n",
    "<img src=\" data:image/png;base64,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\" />"
   ]
  },
  {
   "cell_type": "code",
   "execution_count": null,
   "id": "349989ae",
   "metadata": {},
   "outputs": [],
   "source": [
    "i1=bool(int(input(\"enter value for i1, 0 for off or 1 for on\")))\n",
    "i2=bool(int(input(\"enter value for i2, 0 for off or 1 for on\")))\n",
    "i3=bool(int(input(\"enter value for i3, 0 for off or 1 for on\")))\n",
    "i4=bool(int(input(\"enter value for i4, 0 for off or 1 for on\")))\n",
    "i5=bool(int(input(\"enter value for i5, 0 for off or 1 for on\")))\n",
    "i6=bool(int(input(\"enter value for i6, 0 for off or 1 for on\")))\n",
    "if i1 == True and i5 == True:\n",
    "    print(\"The lamp is on\")\n",
    "elif i2 == True and i6 == True:\n",
    "    print(\"The lamp is on\")\n",
    "elif i1 == True and i3 == True and i4 == True:\n",
    "    print(\"The lamp is on\")\n",
    "else:\n",
    "    print(\"The lamp is off\")"
   ]
  },
  {
   "cell_type": "markdown",
   "id": "48ba2a33",
   "metadata": {},
   "source": [
    "**Exercise 7:**\n",
    "\n",
    "Write a program that allows you to input coordinates `x`, `y` corresponding to a point, and determines the quadrant in which the point lies. The plane is divided into four distinct quadrants: Northeast, Southeast, Southwest, and Northwest.\n",
    "\n",
    "We suppose that the point is not at the origin (0, 0)."
   ]
  },
  {
   "cell_type": "code",
   "execution_count": null,
   "id": "fdf1c81a",
   "metadata": {},
   "outputs": [],
   "source": [
    "y=float(input(\"Enter coordinate y: \"))\n",
    "x=float(input(\"Enter coordinate x: \"))\n",
    "if y<0:\n",
    "    if x<0:\n",
    "        print(\"Southwest\")\n",
    "    else:\n",
    "        print(\"Southeast\")\n",
    "if y>0:\n",
    "    if x>0:\n",
    "        print(\"Northeast\")\n",
    "    else:\n",
    "        print(\"Nortwest\")"
   ]
  },
  {
   "cell_type": "markdown",
   "id": "be6a42a1",
   "metadata": {},
   "source": [
    "**Exercise 8:**\n",
    "\n",
    "Write a program to check whether a character is an alphabet, digit or special character. If the user enters a string of characters (instead of a single character), then you should just indicate that: `This is a string, not a single character`."
   ]
  },
  {
   "cell_type": "code",
   "execution_count": null,
   "id": "a9a3fbcd",
   "metadata": {},
   "outputs": [],
   "source": [
    "str=input(\"Input a character\")\n",
    "if len(str) != 1\n",
    "    print(\"Enter a single character\")\n",
    "else:\n",
    "    if (str >= \"z\" and str <= \"a\") or (str >= \"A\" and str <= \"Z\")\n",
    "        print(\"This is alphabet\")\n",
    "    \n",
    "........"
   ]
  },
  {
   "cell_type": "markdown",
   "id": "9a94efc9",
   "metadata": {},
   "source": [
    "**Exercise 9:**\n",
    "\n",
    "Write a program to check whether an alphabet is a vowel or a consonant. "
   ]
  },
  {
   "cell_type": "code",
   "execution_count": null,
   "id": "a9881108",
   "metadata": {},
   "outputs": [],
   "source": []
  },
  {
   "cell_type": "markdown",
   "id": "d218c788",
   "metadata": {},
   "source": [
    "**Exercise 10:**\n",
    "\n",
    "Write a program that enables users to input two numbers, `a` and `b`, along with an operation specified as a string (`\"addition\"`, `\"substraction\"`, `\"multiplication\"`, `\"division\"`). Then, the program should perform that operation using the provided numbers."
   ]
  },
  {
   "cell_type": "code",
   "execution_count": null,
   "id": "2bcf675b",
   "metadata": {},
   "outputs": [],
   "source": []
  },
  {
   "cell_type": "markdown",
   "id": "151b0ef3",
   "metadata": {},
   "source": [
    "**Exercise 11:**\n",
    "\n",
    "Write a Python code that calculates the salary of an employee based on their hourly wage and the number of hours worked. The calculation should take care of the fact that the hourly rate is increased for overtime hours:\n",
    "- by 25% beyond 160 hours \n",
    "- and by 50% beyond 200 hours."
   ]
  },
  {
   "cell_type": "code",
   "execution_count": null,
   "id": "0cbdc4dd",
   "metadata": {},
   "outputs": [],
   "source": []
  },
  {
   "cell_type": "markdown",
   "id": "64b21fc1",
   "metadata": {},
   "source": [
    "# 3) Repetitive statements (loops)\n",
    "\n",
    "**Exercise 12:**\n",
    "\n",
    "We intend to derive statistical insights from monthly temperature records. Create a Python program that allows a user to input the number of recorded temperatures, followed by inputting the actual values of these records. The program should then display the minimum, maximum, and average values of the recorded temperatures."
   ]
  },
  {
   "cell_type": "code",
   "execution_count": null,
   "id": "97cb9381-16db-406b-a7c5-44d55c242cac",
   "metadata": {},
   "outputs": [],
   "source": [
    "ammount_temp=int(input(\"Enter the number of temperatures you want to enter\"))\n",
    "sum_temp = float(input(\"Enter a temperature: \"))\n",
    "max_temp = sum_temp\n",
    "min_temp = sum_temp\n",
    "\n",
    "for x in range(1, ammount_temp):\n",
    "    x = float(input(\"Enter a temperature: \"))\n",
    "    sum_temp = sum_temp + x\n",
    "    avg_temp = sum_temp / len(range(0, ammount_temp))\n",
    "    \n",
    "    if x > max_temp:\n",
    "        max_temp = x\n",
    "    elif x < min_temp:\n",
    "        min_temp = x\n",
    "\n",
    "print(\"Max temp is: \", max_temp)\n",
    "print(\"Min temp is: \", min_temp)\n",
    "print(\"The average temp is: \", avg_temp)"
   ]
  },
  {
   "cell_type": "markdown",
   "id": "e9edde53",
   "metadata": {},
   "source": [
    "**Exercise 13:**\n",
    "\n",
    "Write a program that prompts the user to input a month as a number between 1 and 12. If the number is less than 1 or greater than 12, the user is notified and asked to enter a valid number again. This request is repeated until a correct input is provided."
   ]
  },
  {
   "cell_type": "code",
   "execution_count": null,
   "id": "fc8bf607-9f23-425a-a4bd-bfca1f4f137f",
   "metadata": {},
   "outputs": [],
   "source": [
    "month = int(input(\"Enter a number of a month: \"))\n",
    "while True:\n",
    "    if month < 1 or month > 12:\n",
    "        month = int(input(\"Please enter a valid number of a month: \"))\n",
    "    else:\n",
    "        print(\"You have entered month\", month)\n",
    "        break"
   ]
  },
  {
   "cell_type": "markdown",
   "id": "8214752c",
   "metadata": {},
   "source": [
    "**Exercise 14:**\n",
    "\n",
    "Write a Python code that calculates the quotient `q` of the division of `a` by `b`, where `a` and `b` are two strictly positive integers. Use only addition and subtraction operators.\n",
    "Note that: $a = b \\times q + r$ and $r < b$, where $r$ is the remainder of the division."
   ]
  },
  {
   "cell_type": "code",
   "execution_count": null,
   "id": "68821012",
   "metadata": {},
   "outputs": [],
   "source": [
    "a = int(input(\"Enter a value for a: \"))\n",
    "b = int(input(\"Enter a a value for b: \"))\n",
    "\n",
    "r = a\n",
    "q = 0\n",
    "while r >= b:\n",
    "    r = r - b\n",
    "    q = q + 1\n",
    "\n",
    "print(\"the quotient of the division between\", a, \"and\", b, \"is\", q)"
   ]
  },
  {
   "cell_type": "markdown",
   "id": "8121b1c7",
   "metadata": {},
   "source": [
    "**Exercise 15:**\n",
    "\n",
    "Write the Python code that counts the number of 1s in the binary representation of a given positive integer. <br />\n",
    "Example - Calculating the number of 1s present in the binary representation of 10:\n",
    "<img src=\" data:image/png;base64,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\" />\n",
    "The binary representation of the integer 10 is `1010`, and the number of 1s in this representation is: 2."
   ]
  },
  {
   "cell_type": "code",
   "execution_count": null,
   "id": "6b50c59e",
   "metadata": {},
   "outputs": [],
   "source": []
  },
  {
   "cell_type": "markdown",
   "id": "e881cef1",
   "metadata": {},
   "source": [
    "**Exercise 16:**\n",
    "\n",
    "Skiers are queuing at a cable car that can carry up to 5000 kilograms. The names and weights (in kilograms) of successive skiers entering the cable car are provided. Determine the name of the last admitted skier."
   ]
  },
  {
   "cell_type": "code",
   "execution_count": null,
   "id": "3c077934",
   "metadata": {},
   "outputs": [],
   "source": [
    "total_weight = 0\n",
    "skier_name = \"\"\n",
    "\n",
    "while total_weight <= 5000:\n",
    "    last_skier_name = skier_name\n",
    "    skier_name = input(\"Enter name of skier\")\n",
    "    weight = float(input(\"enter weight of skier\"))\n",
    "    total_weight = total_weight + weight\n",
    "\n",
    "print(\"the last admitted skier is: \", last_skier_name)\n"
   ]
  },
  {
   "cell_type": "markdown",
   "id": "fe7b4b7b",
   "metadata": {},
   "source": [
    "**Exercise 17:**\n",
    "\n",
    "Write a program that calculate the average age of `n` persons (`n` is given). The input should be validated (or controled) : each person has an age between 18 and 25. <br />\n",
    "Each time the age entered for some person is not between 18 and 25, the program should display an error message `Invalid age. Please enter an age between 18 and 25` and allow the user to enter the age again."
   ]
  },
  {
   "cell_type": "code",
   "execution_count": 1,
   "id": "8a914c4b",
   "metadata": {},
   "outputs": [
    {
     "name": "stdin",
     "output_type": "stream",
     "text": [
      "Enter the total number of persons between ages 18-25:  5\n",
      "Enter age of person:  4\n"
     ]
    },
    {
     "name": "stdout",
     "output_type": "stream",
     "text": [
      "Please enter a valid number.\n"
     ]
    },
    {
     "name": "stdin",
     "output_type": "stream",
     "text": [
      "Enter age of person:  18\n",
      "Enter age of person:  18\n",
      "Enter age of person:  18\n",
      "Enter age of person:  18\n",
      "Enter age of person:  18\n"
     ]
    },
    {
     "name": "stdout",
     "output_type": "stream",
     "text": [
      "the average age is 18.0\n"
     ]
    }
   ],
   "source": [
    "n = int(input(\"Enter the total number of persons between ages 18-25: \"))\n",
    "total_age = 0\n",
    "\n",
    "for age in range(0, n):\n",
    "    age = int(input(\"Enter age of person: \"))\n",
    "\n",
    "    while (age < 18) or (age > 25):\n",
    "        print(\"Please enter a valid number.\")\n",
    "        age = int(input(\"Enter age of person: \"))\n",
    "    \n",
    "    total_age = total_age + age\n",
    "\n",
    "average_age = total_age / n\n",
    "print(\"the average age is\", average_age)"
   ]
  },
  {
   "cell_type": "code",
   "execution_count": null,
   "id": "ad8af0d3-65cb-4ef2-b8c3-2ec93a81e55b",
   "metadata": {},
   "outputs": [],
   "source": []
  }
 ],
 "metadata": {
  "kernelspec": {
   "display_name": "Python 3 (ipykernel)",
   "language": "python",
   "name": "python3"
  },
  "language_info": {
   "codemirror_mode": {
    "name": "ipython",
    "version": 3
   },
   "file_extension": ".py",
   "mimetype": "text/x-python",
   "name": "python",
   "nbconvert_exporter": "python",
   "pygments_lexer": "ipython3",
   "version": "3.11.5"
  }
 },
 "nbformat": 4,
 "nbformat_minor": 5
}
