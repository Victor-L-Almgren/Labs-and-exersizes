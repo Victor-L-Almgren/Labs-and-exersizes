{
 "cells": [
  {
   "cell_type": "markdown",
   "metadata": {},
   "source": [
    "# Part 1: Conditional statements\n",
    "## Question 1.1\n",
    "Take a look at the following code. In the if statement, it starts by testing the condition `(x > y + 4) or (z == \"OK\")` that allows you to increase `x`."
   ]
  },
  {
   "cell_type": "code",
   "execution_count": null,
   "metadata": {},
   "outputs": [],
   "source": [
    "x = 5\n",
    "y = 2\n",
    "z = \"OK\"\n",
    "\n",
    "if (x > y + 4) or (z == \"OK\"):\n",
    "    x = x + 1  \n",
    "else:\n",
    "    x = x - 1  \n",
    "\n",
    "print(x)"
   ]
  },
  {
   "cell_type": "markdown",
   "metadata": {},
   "source": [
    "Complete the code below to produce a code equivalent to the previous one; but this time, the code starts by testing the condition that allows you to decrease `x`."
   ]
  },
  {
   "cell_type": "code",
   "execution_count": null,
   "metadata": {},
   "outputs": [],
   "source": [
    "x = 5\n",
    "y = 2\n",
    "z = \"OK\"\n",
    "\n",
    "if (x > y + 4) or (z == \"OK\"):\n",
    "    x = x - 1 \n",
    "else:\n",
    "    x = x + 1 \n",
    "\n",
    "print(x)"
   ]
  },
  {
   "cell_type": "markdown",
   "metadata": {},
   "source": [
    "## Question 1.2\n",
    "Write a program that asks the user to input the current hour (in a variable $h$) and the minutes (in a variable $m$), and then displays the time it will be one minute later. For example, if the user enters 21 for $h$ and 32 for $m$, the program must respond:\n",
    "`In a minute, it will be 21 hour(s) and 33 minute(s)`.<br>\n",
    "Note: we assume that the user enters a valid time, so no need to check it.\n",
    "Also, note that $0 \\leq h \\leq 23$ and that $0 \\leq m \\leq 59$. So, for example, your program should never display 24 hour(s) or 60 minute(s)."
   ]
  },
  {
   "cell_type": "code",
   "execution_count": null,
   "metadata": {},
   "outputs": [],
   "source": [
    "h = int( input(\"Enter the hour: \") )\n",
    "m = int( input(\"Enter the minutes: \") )\n",
    "\n",
    "if m == 59:\n",
    "    h = h + 1\n",
    "    print(\"In a minute, it will be\", h, \"hour(s) and 00 minute(s)\")\n",
    "else:\n",
    "    m = m + 1\n",
    "    print(\"In a minute, it will be\", h, \"hour(s) and\", m, \"minute(s)\")"
   ]
  },
  {
   "cell_type": "markdown",
   "metadata": {},
   "source": [
    "## Question 1.3\n",
    "Similar to the previous question, this program should ask for the time and display another one. But this time, it must also manage the seconds $s$, and display the time that it will be one second later.\n",
    "For example, if the user enters 21 for $h$, 32 for $m$, and 8 for $s$, the program should respond: `In one second, it will be 21 hour(s), 32 minute(s) and 9 second(s)`."
   ]
  },
  {
   "cell_type": "code",
   "execution_count": null,
   "metadata": {},
   "outputs": [],
   "source": [
    "h = int( input(\"Enter the hour: \") )\n",
    "m = int( input(\"Enter the minutes: \") )\n",
    "s = int( input(\"Enter the seconds: \") )\n",
    "\n",
    "if s==59 and m==59:\n",
    "    h=h+1\n",
    "    print(\"In one second, it will be\", h, \"hour(s), 00 minute(s) and 00 second(s)\")\n",
    "elif s==59 and m!=59:\n",
    "    m=m+1\n",
    "    print(\"In one second, it will be\", h, \"hour(s),\", m, \"minutes and 00 second(s)\")\n",
    "else:\n",
    "    s=s+1\n",
    "    print(\"In one second, it will be\", h, \"hour(s),\", m, \"minute(s) and\", s, \"second(s)\")"
   ]
  },
  {
   "cell_type": "markdown",
   "metadata": {},
   "source": [
    "## Question 1.4\n",
    "Inhabitants of Mars pay tax according to the following rules:\n",
    "- Men over 20 years old pay tax\n",
    "- Women pay tax if they are between 18 and 35 years old\n",
    "- Others do not pay tax\n",
    "\n",
    "Your program should therefore ask for the age and sex of the Martian and will then decide whether the inhabitant is taxable or not."
   ]
  },
  {
   "cell_type": "code",
   "execution_count": null,
   "metadata": {},
   "outputs": [],
   "source": [
    "age=int(input(\"Enter your age: \"))\n",
    "gender=int(input(\"Enter your gender, 1 for woman or 0 for man: \"))\n",
    "if 18<=age<=35 and gender==1:\n",
    "    print(\"You are taxable\")\n",
    "elif 20<=age and gender==0:\n",
    "    print(\"You are taxable\")\n",
    "else:\n",
    "    print(\"You are not taxable\")"
   ]
  },
  {
   "cell_type": "markdown",
   "metadata": {},
   "source": [
    "# Part 2: Repetitive statements (loops)\n",
    "\n",
    "## Question 2.1\n",
    "Write a program that asks for a starting number, and then writes the multiplication table of this number, presented as follows (case where the user enters the number 7): \n",
    "\n",
    "    7 x 0 = 0\n",
    "    7 x 1 = 7\n",
    "    ...\n",
    "    7 x 8 = 56\n",
    "    7 x 9 = 63\n"
   ]
  },
  {
   "cell_type": "code",
   "execution_count": null,
   "metadata": {},
   "outputs": [],
   "source": [
    "start_number=int(input(\"Enter a real number\"))\n",
    "print(\"0 *\", start_number, \"= 0\")\n",
    "for i in range(1, 10):\n",
    "    print(i, \"*\", start_number, \"=\", i*start_number)"
   ]
  },
  {
   "cell_type": "markdown",
   "metadata": {},
   "source": [
    "## Question 2.2\n",
    "Write a program that asks for a starting number, and calculates its factorial.<br>\n",
    "Note: the factorial of 8 (denoted as 8!) is $1 \\times 2 \\times 3 \\times 4 \\times 5 \\times 6 \\times 7 \\times 8$"
   ]
  },
  {
   "cell_type": "code",
   "execution_count": null,
   "metadata": {},
   "outputs": [],
   "source": [
    "num=int(input(\"Enter a number\"))\n",
    "fact=1\n",
    "for x in range(1, num+1):\n",
    "    fact=fact*x\n",
    "print(fact)"
   ]
  },
  {
   "cell_type": "markdown",
   "metadata": {},
   "source": [
    "## Question 2.3\n",
    "Write a program that asks to input two numbers $a$ and $b$, then calculates the sum of all integers between these\n",
    "two numbers.<br>\n",
    "For example, if the user inputs $a=11$ and $b=14$, the program should give $50$ (which is $11+12+13+14$).\n",
    "The program should work even if $a$ is smaller than $b$. For example, if $a=14$ and $b=11$, the program should also display $50$."
   ]
  },
  {
   "cell_type": "code",
   "execution_count": null,
   "metadata": {},
   "outputs": [],
   "source": [
    "a=int(input(\"Enter a number\"))\n",
    "b=int(input(\"Enter a second number\"))\n",
    "b, sum=(b+1), 0\n",
    "for c in range(a, b):\n",
    "    sum=sum+c\n",
    "print(sum)"
   ]
  },
  {
   "cell_type": "markdown",
   "metadata": {},
   "source": [
    "## Question 2.4\n",
    "Write an algorithm that successively asks the user for 20 numbers, and then tells which was the largest among these 20 numbers. Example:\n",
    "\n",
    "```\n",
    "Enter a number: 12\n",
    "Enter a number: 14\n",
    "etc\n",
    "Enter a number: 6\n",
    "The largest of these numbers is: 14\n",
    "```"
   ]
  },
  {
   "cell_type": "code",
   "execution_count": null,
   "metadata": {},
   "outputs": [],
   "source": [
    "max_num=1\n",
    "num=1\n",
    "for x in range(1, 21):\n",
    "    num=float(input(\"enter a number: \"))\n",
    "    if max_num<num:\n",
    "        max_num=num\n",
    "print(\"The largest of the entered numbers is\", max_num)"
   ]
  },
  {
   "cell_type": "markdown",
   "metadata": {},
   "source": [
    "## Question 2.5\n",
    "Rewrite the previous program, but this time we do not know in advance how many numbers the user wants to enter. Number entry stops when the user enters a zero."
   ]
  },
  {
   "cell_type": "code",
   "execution_count": 1,
   "metadata": {},
   "outputs": [
    {
     "name": "stdin",
     "output_type": "stream",
     "text": [
      "enter a number:  9\n",
      "enter a number:  9\n",
      "enter a number:  9\n",
      "enter a number:  49\n",
      "enter a number:  3\n",
      "enter a number:  5\n",
      "enter a number:  6\n",
      "enter a number:  0\n"
     ]
    },
    {
     "name": "stdout",
     "output_type": "stream",
     "text": [
      "The largest of the entered numbers is 49.0\n"
     ]
    }
   ],
   "source": [
    "max_num=1\n",
    "num=1\n",
    "while num!=0:\n",
    "    num=float(input(\"enter a number: \"))\n",
    "    if max_num<num:\n",
    "        max_num=num\n",
    "print(\"The largest of the entered numbers is\", max_num)"
   ]
  },
  {
   "cell_type": "code",
   "execution_count": null,
   "metadata": {},
   "outputs": [],
   "source": []
  }
 ],
 "metadata": {
  "kernelspec": {
   "display_name": "Python 3 (ipykernel)",
   "language": "python",
   "name": "python3"
  },
  "language_info": {
   "codemirror_mode": {
    "name": "ipython",
    "version": 3
   },
   "file_extension": ".py",
   "mimetype": "text/x-python",
   "name": "python",
   "nbconvert_exporter": "python",
   "pygments_lexer": "ipython3",
   "version": "3.11.5"
  }
 },
 "nbformat": 4,
 "nbformat_minor": 4
}
