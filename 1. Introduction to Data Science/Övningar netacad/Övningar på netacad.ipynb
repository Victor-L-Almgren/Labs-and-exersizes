{
 "cells": [
  {
   "cell_type": "code",
   "execution_count": null,
   "id": "e2d4c729-3b80-4391-8e12-f889590e1abe",
   "metadata": {},
   "outputs": [],
   "source": [
    "user_word = input(\"Enter a word to eat vowels\") #vokalätaren\n",
    "\n",
    "for letter in user_word:\n",
    "    if letter == \"a\" or letter == \"e\" or letter == \"i\" or letter == \"o\" or letter == \"u\":\n",
    "        continue \n",
    "    print(letter)\n",
    "\n",
    "# continue fortsätter loopen och börjar om den om condition blir mött. Hade man använt break hade programmet slutat efter den första hittade vokalen."
   ]
  },
  {
   "cell_type": "code",
   "execution_count": null,
   "id": "82398272-111b-4839-a607-e50fa300c5c0",
   "metadata": {},
   "outputs": [],
   "source": [
    "blocks = int(input(\"Enter the number of blocks: \")) #block i en pyramid\n",
    "layers = 0\n",
    "\n",
    "while layers < blocks:\n",
    "    layers += 1\n",
    "    blocks = blocks - layers\n",
    "print(layers)"
   ]
  },
  {
   "cell_type": "code",
   "execution_count": null,
   "id": "8c575566-2e8f-4ca5-816d-b76c2dd67475",
   "metadata": {},
   "outputs": [],
   "source": [
    "num = int(input(\"Enter a positive whole number\")) # Lothar Collatz theorem\n",
    "steps = 0\n",
    "\n",
    "while num != 1:\n",
    "    if num % 2 == 0:\n",
    "        num = int(num / 2)\n",
    "        print(num)\n",
    "        steps += 1\n",
    "    else:\n",
    "        num = int(((3 * num) + 1))\n",
    "        steps += 1\n",
    "\n",
    "print(\"The amount of steps were\", steps)"
   ]
  },
  {
   "cell_type": "code",
   "execution_count": null,
   "id": "fe787388-784a-4eef-87ac-cc60ed48b381",
   "metadata": {},
   "outputs": [],
   "source": [
    "hat_list = [1, 2, 3, 4, 5]  # This is an existing list of numbers hidden in the hat.\n",
    "\n",
    "num = int(input(\"Enter a real number\"))\n",
    "hat_list[2] = num\n",
    "del hat_list[-1]\n",
    "print(\"the length is\", len(hat_list))\n",
    "\n",
    "print(hat_list)"
   ]
  },
  {
   "cell_type": "code",
   "execution_count": null,
   "id": "dc86de11-3d29-435a-a7f8-f3d208a43b3e",
   "metadata": {},
   "outputs": [],
   "source": [
    "my_list = [\"white\", \"purple\", \"blue\", \"yellow\", \"green\"]\n",
    "\n",
    "for color in my_list:\n",
    "    print(color)\n",
    "\n",
    "print()\n",
    "\n",
    "for index in range(len(my_list)):\n",
    "    print(my_list[index])"
   ]
  },
  {
   "cell_type": "code",
   "execution_count": null,
   "id": "160fa50d-02ee-4d34-a449-06abe96c58b5",
   "metadata": {},
   "outputs": [],
   "source": [
    "lst = [1, 2, 3, 4, 5]\n",
    "lst.insert(1, 6)\n",
    "del lst[0]\n",
    "lst.append(1)\n",
    "\n",
    "print(lst)"
   ]
  },
  {
   "cell_type": "code",
   "execution_count": null,
   "id": "7798afbc-7991-4c0c-b880-2a930b9adb2a",
   "metadata": {},
   "outputs": [],
   "source": [
    "my_list = []  # Bubble sort\n",
    "swapped = True\n",
    "num = int(input(\"How many elements do you want to sort: \"))\n",
    "\n",
    "for i in range(num):\n",
    "    val = float(input(\"Enter a list element: \"))\n",
    "    my_list.append(val)\n",
    "\n",
    "while swapped:\n",
    "    swapped = False\n",
    "    for i in range(len(my_list) - 1):\n",
    "        if my_list[i] > my_list[i + 1]:\n",
    "            swapped = True\n",
    "            my_list[i], my_list[i + 1] = my_list[i + 1], my_list[i]\n",
    "\n",
    "print(\"\\nSorted:\")\n",
    "print(my_list)"
   ]
  },
  {
   "cell_type": "code",
   "execution_count": null,
   "id": "9b6b3325-b22e-49ef-a37e-416f0da54608",
   "metadata": {},
   "outputs": [],
   "source": [
    "lst = [5, 3, 1, 2, 4] # reverse lst\n",
    "print(lst)\n",
    "\n",
    "lst.reverse()\n",
    "print(lst)  # outputs: [4, 2, 1, 3, 5]"
   ]
  },
  {
   "cell_type": "code",
   "execution_count": null,
   "id": "5eb618b8-d587-4ace-9cc3-efc2758c1d60",
   "metadata": {},
   "outputs": [],
   "source": [
    "lst = [5, 3, 1, 2, 4] # sort list method\n",
    "print(lst)\n",
    "\n",
    "lst.sort()\n",
    "print(lst)  # outputs: [1, 2, 3, 4, 5]"
   ]
  },
  {
   "cell_type": "code",
   "execution_count": null,
   "id": "3b307b66-14ca-4937-9980-c2f9b8929477",
   "metadata": {},
   "outputs": [],
   "source": [
    "my_list = [1, 2, 3, 4, 5, 6, 7, 8, 9, 10] # hur man hittar ett element i en kod. \n",
    "to_find = 5\n",
    "found = False\n",
    "\n",
    "for i in range(len(my_list)):\n",
    "    found = my_list[i] == to_find\n",
    "    if found:\n",
    "        break\n",
    "\n",
    "if found:\n",
    "    print(\"Element found at index\", i)\n",
    "else:\n",
    "    print(\"absent\")\n"
   ]
  },
  {
   "cell_type": "code",
   "execution_count": null,
   "id": "3bd80ac0-cbce-45b4-8273-3182e519968e",
   "metadata": {},
   "outputs": [],
   "source": [
    "my_list = [1, 2, 4, 4, 1, 4, 2, 6, 2, 9] # skapa en ny lista utan dubletter\n",
    "new_list = []\n",
    "\n",
    "for number in my_list:\n",
    "    if number not in new_list:\n",
    "        new_list.append(number)\n",
    "\n",
    "print(my_list)\n",
    "print(\"The list with unique elements only:\")\n",
    "print(new_list)"
   ]
  },
  {
   "cell_type": "code",
   "execution_count": null,
   "id": "efee33b7-16ce-4592-915f-43267d0eeed0",
   "metadata": {},
   "outputs": [],
   "source": [
    "squares = [x ** 2 for x in range(10)] # list comprehension\n",
    "\n",
    "odds = [x for x in squares if x % 2 != 0 ] #tar bort jämna siffror från squares\n",
    "\n",
    "print(squares)\n",
    "print(odds)"
   ]
  },
  {
   "cell_type": "code",
   "execution_count": 20,
   "id": "f61b8506-0320-49d0-8fbb-fb511e7e415f",
   "metadata": {},
   "outputs": [
    {
     "name": "stdout",
     "output_type": "stream",
     "text": [
      "['-', '-', '-', '-', '-', '-', '-', '-']\n",
      "\n",
      "['-', 'PAWN', '-', '-', '-', '-', '-', '-']\n",
      "\n",
      "['-', '-', '-', '-', '-', '-', '-', '-']\n",
      "\n",
      "['-', '-', '-', '-', '-', '-', '-', '-']\n",
      "\n",
      "['-', '-', '-', '-', '-', '-', '-', '-']\n",
      "\n",
      "['-', '-', '-', '-', 'PAWN', '-', '-', '-']\n",
      "\n",
      "['-', '-', '-', '-', '-', '-', '-', '-']\n",
      "\n",
      "['-', '-', '-', '-', '-', '-', '-', '-']\n",
      "\n"
     ]
    }
   ],
   "source": [
    "EMPTY = \"-\"\n",
    "board = [[EMPTY for i in range(8)] for j in range(8)] # en tom chackbräda. (lista i lista)\n",
    "\n",
    "board[1][1] = \"PAWN\"\n",
    "board[5][4] = \"PAWN\"\n",
    "\n",
    "for i in board:\n",
    "    print(i)\n",
    "    print()"
   ]
  },
  {
   "cell_type": "code",
   "execution_count": 26,
   "id": "5eb438da-00d4-4806-955d-6ec231d02179",
   "metadata": {},
   "outputs": [
    {
     "name": "stdout",
     "output_type": "stream",
     "text": [
      "5\n"
     ]
    }
   ],
   "source": [
    "def add_numbers(a, b=2, c=2): # default värden i en egendefinierad funktion måste komma sist. \n",
    "    print(a + b + c)\n",
    "\n",
    "add_numbers(a=1)"
   ]
  },
  {
   "cell_type": "code",
   "execution_count": 32,
   "id": "b350455b-c714-4f1f-9e31-e0481167340e",
   "metadata": {},
   "outputs": [
    {
     "name": "stdin",
     "output_type": "stream",
     "text": [
      "Enter a year 2016\n",
      "Enter a month 2\n",
      "Enter a day 29\n"
     ]
    },
    {
     "name": "stdout",
     "output_type": "stream",
     "text": [
      "The day nr of that day of that year was:  60\n"
     ]
    }
   ],
   "source": [
    "def is_year_leap(year):\n",
    "    if (year%4 == 0 and year%100 != 0) or (year%400 == 0):\n",
    "        return True\n",
    "    else:\n",
    "        return False\n",
    "\n",
    "def days_in_month(year, month):\n",
    "    if (year%4 == 0 and year%100 != 0) or (year%400 == 0):\n",
    "        if month == 2:\n",
    "            return 29\n",
    "        elif month % 2 == 0:\n",
    "            return 30\n",
    "        else:\n",
    "            return 31\n",
    "    elif month == 2:\n",
    "        return 28\n",
    "    elif month % 2 == 0:\n",
    "        return 31\n",
    "    else:\n",
    "        return 30\n",
    "\n",
    "def day_of_year(year, month, day):\n",
    "    if year < 0 or month < 0 or month > 12 or day < 0 or day > 31:\n",
    "        return\n",
    "    elif (year%4 == 0 and year%100 != 0) or (year%400 == 0):\n",
    "        if month == 2 and day > 29:\n",
    "            return\n",
    "        months_of_year = [31, 29, 31, 30, 31, 30, 31, 31, 30, 31, 30, 31]\n",
    "        day_of_year = sum(months_of_year[0:month-1]) + day\n",
    "        return day_of_year\n",
    "    else:\n",
    "        if month == 2 and day > 28:\n",
    "            return\n",
    "        months_of_year = [31, 28, 31, 30, 31, 30, 31, 31, 30, 31, 30, 31]\n",
    "        day_of_year = sum(months_of_year[0:month-1]) + day\n",
    "        return day_of_year\n",
    "        \n",
    "year = int(input(\"Enter a year\"))\n",
    "month = int(input(\"Enter a month\"))\n",
    "day = int(input(\"Enter a day\"))\n",
    "\n",
    "print(\"The day nr of that day of that year was: \", day_of_year(year, month, day))\n"
   ]
  },
  {
   "cell_type": "code",
   "execution_count": 60,
   "id": "78e9460d-ff97-4e85-8d71-1fa34bfa30c5",
   "metadata": {},
   "outputs": [
    {
     "name": "stdin",
     "output_type": "stream",
     "text": [
      "enter a number 8\n"
     ]
    },
    {
     "name": "stdout",
     "output_type": "stream",
     "text": [
      "[2]\n",
      "this is a prime numer\n"
     ]
    }
   ],
   "source": [
    "def is_prime(num):\n",
    "    num = int(num)\n",
    "    list = []\n",
    "    if num <= 1:\n",
    "        return \"this is not a prime number\"\n",
    "    elif num > 1:\n",
    "        for i in range(2, 10):\n",
    "            if num % i == 0:\n",
    "                list.append(i)\n",
    "                print(list)\n",
    "                continue\n",
    "            return \"this is a prime numer\"\n",
    "    else:\n",
    "        return \"this is not a prime numer\"\n",
    "\n",
    "num = int(input(\"enter a number\"))\n",
    "print(is_prime(num))"
   ]
  },
  {
   "cell_type": "code",
   "execution_count": 1,
   "id": "e56631d0-02a1-4b45-b084-af512c18ff0e",
   "metadata": {},
   "outputs": [
    {
     "name": "stdin",
     "output_type": "stream",
     "text": [
      "enter a number 2\n"
     ]
    },
    {
     "name": "stdout",
     "output_type": "stream",
     "text": [
      "this is a prime numer\n"
     ]
    }
   ],
   "source": [
    "def is_prime(num):    #Prime numbers finder\n",
    "    num = int(num)\n",
    "    list = []\n",
    "    \n",
    "    if num <= 1:\n",
    "        return \"this is not a prime number\"\n",
    "    else:\n",
    "        for i in range(2, num + 1):\n",
    "            if num % i == 0:\n",
    "                list.append(i)\n",
    "    \n",
    "    if len(list) == 1:\n",
    "        return \"this is a prime numer\"\n",
    "    else:\n",
    "        return \"this is not a prime numer\"\n",
    "\n",
    "num = int(input(\"enter a number\"))\n",
    "print(is_prime(num))"
   ]
  },
  {
   "cell_type": "code",
   "execution_count": null,
   "id": "5c5c5db2-3d3a-46ce-9e01-a999d217dae8",
   "metadata": {},
   "outputs": [],
   "source": [
    "def fib(n): # fibonacci sekvensen, hur man kan addera två sifror i en ordnad lista som ligger intill varandra. \n",
    "    if n < 1:\n",
    "        return None\n",
    "    if n < 3:\n",
    "        return 1\n",
    "\n",
    "    elem_1 = elem_2 = 1\n",
    "    the_sum = 0\n",
    "    for i in range(3, n + 1):\n",
    "        the_sum = elem_1 + elem_2\n",
    "        elem_1, elem_2 = elem_2, the_sum\n",
    "    return the_sum\n",
    "\n",
    "\n",
    "for n in range(1, 10):  # testing\n",
    "    print(n, \"->\", fib(n))"
   ]
  },
  {
   "cell_type": "code",
   "execution_count": null,
   "id": "16f8f253-cbc7-4528-840f-319501f0b404",
   "metadata": {},
   "outputs": [],
   "source": [
    "def factorial_function(n): # Ett sätt att definiera factorials på???\n",
    "    if n < 0:\n",
    "        return None\n",
    "    if n < 2:\n",
    "        return 1\n",
    "    return n * factorial_function(n - 1)\n"
   ]
  },
  {
   "cell_type": "code",
   "execution_count": 104,
   "id": "1935b556-926f-4e6e-a931-b246da8555c4",
   "metadata": {},
   "outputs": [
    {
     "name": "stdout",
     "output_type": "stream",
     "text": [
      "starting board\n",
      "+-------+-------+-------+\n",
      "|       |       |       |\n",
      "|   1   |   2   |   3   |\n",
      "|       |       |       |\n",
      "+-------+-------+-------+\n",
      "|       |       |       |\n",
      "|   4   |   X   |   6   |\n",
      "|       |       |       |\n",
      "+-------+-------+-------+\n",
      "|       |       |       |\n",
      "|   7   |   8   |   9   |\n",
      "|       |       |       |\n",
      "+-------+-------+-------+\n"
     ]
    },
    {
     "name": "stdin",
     "output_type": "stream",
     "text": [
      "Enter number 9\n"
     ]
    },
    {
     "ename": "IndexError",
     "evalue": "list assignment index out of range",
     "output_type": "error",
     "traceback": [
      "\u001b[1;31m---------------------------------------------------------------------------\u001b[0m",
      "\u001b[1;31mIndexError\u001b[0m                                Traceback (most recent call last)",
      "Cell \u001b[1;32mIn[104], line 38\u001b[0m\n\u001b[0;32m     35\u001b[0m         \u001b[38;5;28mprint\u001b[39m(\u001b[38;5;124m\"\u001b[39m\u001b[38;5;124mPlease enter another number between 1-9\u001b[39m\u001b[38;5;124m\"\u001b[39m)\n\u001b[0;32m     36\u001b[0m         enter_move(x)\n\u001b[1;32m---> 38\u001b[0m \u001b[43menter_move\u001b[49m\u001b[43m(\u001b[49m\u001b[38;5;124;43m\"\u001b[39;49m\u001b[38;5;124;43mtake turn\u001b[39;49m\u001b[38;5;124;43m\"\u001b[39;49m\u001b[43m)\u001b[49m         \n\u001b[0;32m     40\u001b[0m     \u001b[38;5;66;03m# The function accepts the board's current status, asks the user about their move, \u001b[39;00m\n\u001b[0;32m     41\u001b[0m     \u001b[38;5;66;03m# checks the input, and updates the board according to the user's decision.\u001b[39;00m\n\u001b[0;32m     45\u001b[0m \u001b[38;5;28;01mdef\u001b[39;00m \u001b[38;5;21mmake_list_of_free_fields\u001b[39m(board):\n",
      "Cell \u001b[1;32mIn[104], line 30\u001b[0m, in \u001b[0;36menter_move\u001b[1;34m(x)\u001b[0m\n\u001b[0;32m     28\u001b[0m         \u001b[38;5;28;01mfor\u001b[39;00m position \u001b[38;5;129;01min\u001b[39;00m row:\n\u001b[0;32m     29\u001b[0m             \u001b[38;5;28;01mif\u001b[39;00m move \u001b[38;5;241m==\u001b[39m position:\n\u001b[1;32m---> 30\u001b[0m                 \u001b[43mrow\u001b[49m\u001b[43m[\u001b[49m\u001b[43mposition\u001b[49m\u001b[38;5;241;43m-\u001b[39;49m\u001b[38;5;241;43m1\u001b[39;49m\u001b[43m]\u001b[49m \u001b[38;5;241m=\u001b[39m \u001b[38;5;124m\"\u001b[39m\u001b[38;5;124mO\u001b[39m\u001b[38;5;124m\"\u001b[39m\n\u001b[0;32m     31\u001b[0m                 \u001b[38;5;28mprint\u001b[39m(board)\n\u001b[0;32m     34\u001b[0m \u001b[38;5;28;01melse\u001b[39;00m:\n",
      "\u001b[1;31mIndexError\u001b[0m: list assignment index out of range"
     ]
    }
   ],
   "source": [
    "\n",
    "board = [[1, 2, 3],[4, \"X\", 6],[7, 8, 9]]\n",
    "from random import randrange\n",
    "\n",
    "print(\"starting board\")\n",
    "def display_board():\n",
    "    print(\"+-------+-------+-------+\")\n",
    "    print(\"|       |       |       |\")\n",
    "    print(\"|  \", board[0][0],\"  |  \", board[0][1],\"  |  \", board[0][2],\"  |\")\n",
    "    print(\"|       |       |       |\")\n",
    "    print(\"+-------+-------+-------+\")\n",
    "    print(\"|       |       |       |\")\n",
    "    print(\"|  \", board[1][0],\"  |  \", board[1][1],\"  |  \", board[1][2],\"  |\")\n",
    "    print(\"|       |       |       |\")\n",
    "    print(\"+-------+-------+-------+\")\n",
    "    print(\"|       |       |       |\")\n",
    "    print(\"|  \", board[2][0],\"  |  \", board[2][1],\"  |  \", board[2][2],\"  |\")\n",
    "    print(\"|       |       |       |\")\n",
    "    print(\"+-------+-------+-------+\")\n",
    "    \n",
    "display_board()\n",
    "\n",
    "def enter_move(x):\n",
    "    move = input(\"Enter number\")\n",
    "    if move.isnumeric() and int(move) > 0 and int(move) < 10 and int(move) != 5:\n",
    "        move = int(move)\n",
    "        \n",
    "        for row in board:\n",
    "            for position in row:\n",
    "                if move == position:\n",
    "                    row[position] = \"O\"\n",
    "                    print(board)\n",
    "                    \n",
    "                    \n",
    "    else:\n",
    "        print(\"Please enter another number between 1-9\")\n",
    "        enter_move(x)\n",
    "\n",
    "enter_move(\"take turn\")         \n",
    "\n",
    "    # The function accepts the board's current status, asks the user about their move, \n",
    "    # checks the input, and updates the board according to the user's decision.\n",
    "\n",
    "\n",
    "\n",
    "def make_list_of_free_fields(board):\n",
    "    pass\n",
    "    # The function browses the board and builds a list of all the free squares; \n",
    "    # the list consists of tuples, while each tuple is a pair of row and column numbers.\n",
    "\n",
    "\n",
    "def victory_for(board, sign):\n",
    "    pass\n",
    "    # The function analyzes the board's status in order to check if \n",
    "    # the player using 'O's or 'X's has won the game\n",
    "\n",
    "\n",
    "def draw_move(board):\n",
    "    pass\n",
    "    # The function draws the computer's move and updates the board.\n",
    "\n",
    "    "
   ]
  },
  {
   "cell_type": "code",
   "execution_count": null,
   "id": "571e837d-54af-48b3-8727-769aaf252df7",
   "metadata": {},
   "outputs": [],
   "source": []
  }
 ],
 "metadata": {
  "kernelspec": {
   "display_name": "Python 3 (ipykernel)",
   "language": "python",
   "name": "python3"
  },
  "language_info": {
   "codemirror_mode": {
    "name": "ipython",
    "version": 3
   },
   "file_extension": ".py",
   "mimetype": "text/x-python",
   "name": "python",
   "nbconvert_exporter": "python",
   "pygments_lexer": "ipython3",
   "version": "3.11.5"
  }
 },
 "nbformat": 4,
 "nbformat_minor": 5
}
