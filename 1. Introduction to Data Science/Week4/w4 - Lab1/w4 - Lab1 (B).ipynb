{
 "cells": [
  {
   "cell_type": "markdown",
   "id": "ddb07d2d",
   "metadata": {},
   "source": [
    "### Vehicles - Object-Oriented Programming (OOP)\n",
    "\n",
    "Create a class in Python called `Vehicle`. Each instance of this class has the following attributes:\n",
    "- name\n",
    "- brand\n",
    "- color\n",
    "- year\n",
    "\n",
    "and the following methods:\n",
    "- _change_color(new_color)_: change the original color with _new_color_\n",
    "- get_description(): returns a string like this for example `\"Name: Rio, Brand: Kia, Color: White, Year: 2016\"`."
   ]
  },
  {
   "cell_type": "code",
   "execution_count": 34,
   "id": "c5a73b63",
   "metadata": {},
   "outputs": [],
   "source": [
    "class Vehicle:\n",
    "    def __init__(self, name, brand, color, year):\n",
    "        self.name = name\n",
    "        self.brand = brand\n",
    "        self.color = color\n",
    "        self.year = year\n",
    "\n",
    "    def change_color(self, new_color):\n",
    "        self.color = new_color\n",
    "\n",
    "    def get_description(self):\n",
    "        return (f\"Name: {self.name} Brand: {self.brand} Color: {self.color} Year: {self.year}\")"
   ]
  },
  {
   "cell_type": "markdown",
   "id": "65de98d0",
   "metadata": {},
   "source": [
    "Now that we have a class for general vehicles we want to implement a subclass that inherits from this one. \n",
    "\n",
    "Implement the subclass _Car_ that inherits all attributes and methods from Vehicles. The class _Car_ has three more attributes:\n",
    "- used: True/False\n",
    "- fuel_consumption: fuel consumption in L/100km\n",
    "- price\n",
    "\n",
    "and two more methods:\n",
    "- _set_new_price(new_price)_: set a new price\n",
    "- _calculate_fuel_(distance): calculate the amount of fuel needed to travel the required distance and return the number of liters. The parameter _distance_ is in km and it is a multiple of 100 (e.g., 200, 600, 1000). Then print a sentence like this \"It needs 10 liters to travel 200 km.\"\n",
    "\n",
    "This class inherites the method `get_description(...)` from the class `Vehicle` and it returns the description of the car with the following format, for example: `\"Name: Rio, Brand: Kia, Color: White, Year: 2016, Used: True, Price: 60000 SEK\"`. Note that you don't have to implement this method again but to inherit it from the class `Vehicle` and add the required information to the returned string. "
   ]
  },
  {
   "cell_type": "code",
   "execution_count": 51,
   "id": "c4d3d53e",
   "metadata": {},
   "outputs": [],
   "source": [
    "class Car(Vehicle):\n",
    "    def __init__(self, name, brand, color, year, used, fuel_consumption, price):\n",
    "        super().__init__(name, brand, color, year)\n",
    "        self.used = used\n",
    "        self.fuel_consumption = fuel_consumption\n",
    "        self.price = price\n",
    "\n",
    "    def set_new_price(self, new_price):\n",
    "        self.price = new_price\n",
    "        print(\"The new price for the car is \", self.price, \".\", sep=\"\")\n",
    "\n",
    "    def calculate_fuel(self, distance):\n",
    "        distance = distance * 100\n",
    "        fuel_amount = self.fuel_consumption * distance\n",
    "        print(\"The car needs\", fuel_amount, \"L of fuel to travel\", distance, \"km.\")\n",
    "\n",
    "    def get_description(self):\n",
    "        return super().get_description() + \" \" + (f\"Used: {self.used} Price: {self.price}\") "
   ]
  },
  {
   "cell_type": "markdown",
   "id": "e76d7728",
   "metadata": {},
   "source": [
    "Now test your code by creating an object corresponding to an instance of `Car`. Then call the various methods to check if it works."
   ]
  },
  {
   "cell_type": "code",
   "execution_count": 52,
   "id": "29b68dfc",
   "metadata": {},
   "outputs": [
    {
     "name": "stdout",
     "output_type": "stream",
     "text": [
      "\n",
      "The car needs 18.0 L of fuel to travel 200 km.\n",
      "\n",
      "The new price for the car is 25000.\n",
      "\n"
     ]
    },
    {
     "data": {
      "text/plain": [
       "'Name: 240 Brand: Volvo Color: Red Year: 1974 Used: True Price: 25000'"
      ]
     },
     "execution_count": 52,
     "metadata": {},
     "output_type": "execute_result"
    }
   ],
   "source": [
    "car1 = Car(\"240\", \"Volvo\", \"Red\", \"1974\", True, 9/100, 20000)\n",
    "\n",
    "print()\n",
    "car1.calculate_fuel(2)\n",
    "print()\n",
    "car1.set_new_price(25000)\n",
    "print()\n",
    "car1.get_description()"
   ]
  },
  {
   "cell_type": "code",
   "execution_count": null,
   "id": "c9f6cd0d-048d-40bb-9015-fa57064f345c",
   "metadata": {},
   "outputs": [],
   "source": []
  }
 ],
 "metadata": {
  "kernelspec": {
   "display_name": "Python 3 (ipykernel)",
   "language": "python",
   "name": "python3"
  },
  "language_info": {
   "codemirror_mode": {
    "name": "ipython",
    "version": 3
   },
   "file_extension": ".py",
   "mimetype": "text/x-python",
   "name": "python",
   "nbconvert_exporter": "python",
   "pygments_lexer": "ipython3",
   "version": "3.11.5"
  }
 },
 "nbformat": 4,
 "nbformat_minor": 5
}
