{
 "cells": [
  {
   "cell_type": "markdown",
   "id": "ccf6d7ef",
   "metadata": {},
   "source": [
    "### Dice Roll Simulator with OOP\n",
    "\n",
    "The goal is to create a Dice Roll Simulator using Object-Oriented Programming (OOP) principles. The simulator should repeatedly roll `n` (two or more) dice until one of the following conditions is met: either getting the same number on all dice or the user decides not to roll again.\n",
    "\n",
    "Note: In English, the word **dice** is the plural form of a single **die**.\n",
    "\n",
    "*1) Create a Dice Class* <br />\n",
    "Start by creating a `Die` class that represents a single die. It should have an attribute to store its current value and a method to roll the die, updating its value to a random number between 1 and 6. <br />\n",
    "Note: you can generate a random integer number between `a` and `b` with the function `random.randint(a, b)`."
   ]
  },
  {
   "cell_type": "code",
   "execution_count": 1,
   "id": "97207f7b",
   "metadata": {},
   "outputs": [],
   "source": [
    "import random\n",
    "\n",
    "class Die:\n",
    "    def __init__(self):\n",
    "        self.value = None\n",
    "\n",
    "    def roll(self):\n",
    "        self.value = random.randint(1, 6)"
   ]
  },
  {
   "cell_type": "markdown",
   "id": "e7a337de",
   "metadata": {},
   "source": [
    "*2) Create a DiceRoller Class* <br />\n",
    "Next, create a `DiceRoller` class that will handle rolling `n` dice (where `n` is an argument to the constructor of the class, with a default value of `n=2`). In this class you should implement the following methods:\n",
    "- a method to roll all the dice,\n",
    "- a method to check if all dice have the same value or not, \n",
    "- and a method to play: rolling the dice, then checking the stopping conditions (either winning by getting the same value on all dice, or the user decides not to roll again). You also display the number of attempts (rolls) the user had before winning."
   ]
  },
  {
   "cell_type": "code",
   "execution_count": 2,
   "id": "943a47bf",
   "metadata": {},
   "outputs": [],
   "source": [
    "class DiceRoller:\n",
    "    def __init__(self, n=2):\n",
    "        self.no_of_dice = n\n",
    "        self.dice_list = []\n",
    "        for dice in range(n):\n",
    "            dice = Die()\n",
    "            self.dice_list.append(dice)\n",
    "\n",
    "    def roll_all(self):\n",
    "        for dice in self.dice_list:\n",
    "            dice.roll()    ##här gjordes en ändring\n",
    "            \n",
    "    def check_same_value(self):\n",
    "        self.same_value = True\n",
    "        comparison = (self.dice_list[0]).value\n",
    "        for x in self.dice_list:\n",
    "            if x.value != comparison:\n",
    "                self.same_value = False\n",
    "                break\n",
    "                \n",
    "    def play(self):\n",
    "        print(\"**** Welcome to the dice roller! ****\")\n",
    "        count = 1\n",
    "        try_again = None\n",
    "        self.roll_all()\n",
    "        self.check_same_value()\n",
    "        print(\"Attempt\", count, \"==> the values are:\", [dice.value for dice in self.dice_list])\n",
    "        if self.same_value:\n",
    "                print(\"***** You won after\", count, \"attempt! *****\")\n",
    "        \n",
    "        while self.same_value != True:\n",
    "            try_again = input(\"Try again (yes/no) ?\")\n",
    "            if try_again != \"yes\":\n",
    "                break\n",
    "            count = count + 1\n",
    "            self.roll_all()\n",
    "            self.check_same_value()\n",
    "            print(\"Attempt\", count, \"==> the values are:\", [dice.value for dice in self.dice_list])\n",
    "            if self.same_value:\n",
    "                print(\"***** You won after\", count, \"attempts! *****\")"
   ]
  },
  {
   "cell_type": "markdown",
   "id": "40ab8d03",
   "metadata": {},
   "source": [
    "*3) Write the main program* <br />\n",
    "In the cell below, you should first ask the user to input the number of dice to use in the game (two or more). As long as the user enters an invalid number (e.g. 1, or 0) then the program should again ask the user to enter a valid number of dice (larger than or equal to 2). Then you should instanciate the `DiceRoller` class (i.e., create an object `dice_roller` of type `DiceRoller`)."
   ]
  },
  {
   "cell_type": "code",
   "execution_count": 3,
   "id": "68ffdc19",
   "metadata": {},
   "outputs": [
    {
     "name": "stdin",
     "output_type": "stream",
     "text": [
      "Enter a a number of dice to use in the simulator.  2\n"
     ]
    }
   ],
   "source": [
    "n = int(input(\"Enter a a number of dice to use in the simulator. \"))\n",
    "while n < 2:\n",
    "        n = int(input(\"You need to enter a bigger number! \"))\n",
    "\n",
    "dice_roller = DiceRoller(n)"
   ]
  },
  {
   "cell_type": "markdown",
   "id": "f8562b34",
   "metadata": {},
   "source": [
    "Next, you play by calling the play method. Here are two examples showing the expected behaviour (when the number of dice used is 2) : <br />\n",
    "<img src=\"example.png\">"
   ]
  },
  {
   "cell_type": "code",
   "execution_count": 8,
   "id": "209ae54f",
   "metadata": {},
   "outputs": [
    {
     "name": "stdout",
     "output_type": "stream",
     "text": [
      "**** Welcome to the dice roller! ****\n",
      "Attempt 1 ==> the values are: [4, 3]\n"
     ]
    },
    {
     "name": "stdin",
     "output_type": "stream",
     "text": [
      "Try again (yes/no) ? yes\n"
     ]
    },
    {
     "name": "stdout",
     "output_type": "stream",
     "text": [
      "Attempt 2 ==> the values are: [6, 1]\n"
     ]
    },
    {
     "name": "stdin",
     "output_type": "stream",
     "text": [
      "Try again (yes/no) ? yes\n"
     ]
    },
    {
     "name": "stdout",
     "output_type": "stream",
     "text": [
      "Attempt 3 ==> the values are: [4, 5]\n"
     ]
    },
    {
     "name": "stdin",
     "output_type": "stream",
     "text": [
      "Try again (yes/no) ? yes\n"
     ]
    },
    {
     "name": "stdout",
     "output_type": "stream",
     "text": [
      "Attempt 4 ==> the values are: [3, 6]\n"
     ]
    },
    {
     "name": "stdin",
     "output_type": "stream",
     "text": [
      "Try again (yes/no) ? yes\n"
     ]
    },
    {
     "name": "stdout",
     "output_type": "stream",
     "text": [
      "Attempt 5 ==> the values are: [6, 6]\n",
      "***** You won after 5 attempts! *****\n"
     ]
    }
   ],
   "source": [
    "dice_roller.play()"
   ]
  },
  {
   "cell_type": "markdown",
   "id": "d03e2674",
   "metadata": {},
   "source": [
    "Re-play by calling the play method again. You should **not** re-instanciate the `DiceRoller` class. Just use the already existing object `dice_roller`."
   ]
  },
  {
   "cell_type": "code",
   "execution_count": 5,
   "id": "b5e6b30b",
   "metadata": {},
   "outputs": [
    {
     "name": "stdout",
     "output_type": "stream",
     "text": [
      "**** Welcome to the dice roller! ****\n",
      "Attempt 1 ==> the values are: [1, 1]\n",
      "***** You won after 1 attempt! *****\n"
     ]
    }
   ],
   "source": [
    "dice_roller.play()"
   ]
  },
  {
   "cell_type": "code",
   "execution_count": null,
   "id": "cfdb9446",
   "metadata": {},
   "outputs": [],
   "source": []
  },
  {
   "cell_type": "code",
   "execution_count": null,
   "id": "5cedad5b",
   "metadata": {},
   "outputs": [],
   "source": []
  }
 ],
 "metadata": {
  "kernelspec": {
   "display_name": "Python 3 (ipykernel)",
   "language": "python",
   "name": "python3"
  },
  "language_info": {
   "codemirror_mode": {
    "name": "ipython",
    "version": 3
   },
   "file_extension": ".py",
   "mimetype": "text/x-python",
   "name": "python",
   "nbconvert_exporter": "python",
   "pygments_lexer": "ipython3",
   "version": "3.11.5"
  }
 },
 "nbformat": 4,
 "nbformat_minor": 5
}
