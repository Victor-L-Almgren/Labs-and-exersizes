{
 "cells": [
  {
   "cell_type": "code",
   "execution_count": null,
   "id": "8d33f5f7-60cd-4fee-871d-44584a3fd2b1",
   "metadata": {},
   "outputs": [],
   "source": [
    "def myFunction(x):\n",
    "    y = x * 2\n",
    "    y = y + 1\n",
    "    return y\n",
    "\n",
    "result = myFunction(5)\n",
    "print(result)"
   ]
  },
  {
   "cell_type": "code",
   "execution_count": null,
   "id": "97fb9ecd-8233-46b2-8a09-23935927747e",
   "metadata": {},
   "outputs": [],
   "source": [
    "def factorial(n):\n",
    "    result = 1 \n",
    "    for i in range(2, n+1):\n",
    "        result = result * i\n",
    "    return result\n",
    "\n",
    "a = factorial(3)\n",
    "print(a)"
   ]
  },
  {
   "cell_type": "code",
   "execution_count": null,
   "id": "0a53e3aa-a51e-4395-8245-20a6932f7171",
   "metadata": {},
   "outputs": [],
   "source": [
    "def function(p, q, s):\n",
    "    if s == \"squared\":\n",
    "        return (p - q) ** 2\n",
    "    else:\n",
    "        abs(p - q) #absolute value\n",
    "\n",
    "print(function(1, 2, 3))\n",
    "# ???"
   ]
  },
  {
   "cell_type": "code",
   "execution_count": null,
   "id": "80e0f6f0-b9d0-4ed2-b779-733e9c90fb3d",
   "metadata": {},
   "outputs": [],
   "source": [
    "def function1(a, n):\n",
    "    for i in range(n+1):\n",
    "        print(a, \"*\", i, \"=\", a*i)\n",
    "\n",
    "function(5, 10)\n",
    "\n",
    "# om man inte har en return kommer den nya funktionen att direkt ge ut väret."
   ]
  },
  {
   "cell_type": "code",
   "execution_count": null,
   "id": "1ebe04d8-3c76-4e20-8235-68b8f634f126",
   "metadata": {},
   "outputs": [],
   "source": [
    "def intro(firstName, lastName=\"Eriksson\"):\n",
    "    print(\"Hello my name is\", firstName, lastName)\n",
    "\n",
    "print(intro(\"Erik\"))\n",
    "\n",
    "# varför kommer det en None???"
   ]
  },
  {
   "cell_type": "code",
   "execution_count": null,
   "id": "b66d7cc8-6490-409b-8da8-6eb1acb45961",
   "metadata": {},
   "outputs": [],
   "source": [
    "def get_list(n):\n",
    "    L = []\n",
    "    for i in range(n):\n",
    "        L.insert(0, i)    #insert i at position 0\n",
    "    return L\n",
    "\n",
    "print(get_list(5))"
   ]
  },
  {
   "cell_type": "code",
   "execution_count": null,
   "id": "cd0316db-3049-4add-8ace-dd7568782122",
   "metadata": {},
   "outputs": [],
   "source": [
    "def get_list(n):\n",
    "    L = []\n",
    "    for i in range(n):\n",
    "        L.append(i + 1)    #insert i at position 0\n",
    "    return L\n",
    "\n",
    "print(get_list(5))"
   ]
  },
  {
   "cell_type": "code",
   "execution_count": null,
   "id": "1f6eeaa0-3897-4c6c-b99a-cdeb0ea03b62",
   "metadata": {},
   "outputs": [],
   "source": [
    "def summa(a, b, c):\n",
    "    value = a + b + c\n",
    "    return value\n",
    "    \n",
    "x = int(input(\"Enter a number\"))\n",
    "y = int(input(\"Enter a number\"))\n",
    "z = int(input(\"Enter a number\"))\n",
    "\n",
    "print(\"the sum of the entered numbers are: \", summa(x, y, z))"
   ]
  },
  {
   "cell_type": "code",
   "execution_count": null,
   "id": "4f11ee33-9c78-43b4-9478-ad8af05eee1f",
   "metadata": {},
   "outputs": [],
   "source": [
    "def summa(lst):\n",
    "    s = 0\n",
    "    for e in lst:\n",
    "        s = s + e\n",
    "    return s\n",
    "\n",
    "result = summa([1, 2, 3, 4, 5]) # Detta är ett argument, listan är enbart ETT objekt\n",
    "print(result)"
   ]
  },
  {
   "cell_type": "code",
   "execution_count": null,
   "id": "fdd62b6f-7a67-48f7-bac7-aecd03848063",
   "metadata": {},
   "outputs": [],
   "source": [
    "def antal(string, char): # program som räknar antaret bokstäver, char, i ett ord, string.\n",
    "    num = 0\n",
    "    for index in range(len(string)):\n",
    "        if char == string[index]:\n",
    "            num = num + 1\n",
    "        else:\n",
    "            num = num\n",
    "    return num\n",
    "    \n",
    "print(antal(\"Melek\", \"e\"))"
   ]
  },
  {
   "cell_type": "code",
   "execution_count": null,
   "id": "0dc8c8e0-77cb-46c3-8ae4-b75d6a8b5482",
   "metadata": {},
   "outputs": [],
   "source": [
    "def sum_of_number(n): # Detta är ett program som räknar ut en summa för 1+2+3+4+5 som inte använder en for loop, istället använder den en recursive function\n",
    "    if n == 1:\n",
    "        return 1\n",
    "    else:\n",
    "        return n + sum_of_number(n - 1)\n",
    "\n",
    "result = sum_of_number(5)\n",
    "print(result)"
   ]
  },
  {
   "cell_type": "code",
   "execution_count": 2,
   "id": "d4d9e81a-b47c-4cbe-8205-25ca62fc3c89",
   "metadata": {},
   "outputs": [
    {
     "name": "stdout",
     "output_type": "stream",
     "text": [
      "15\n"
     ]
    }
   ],
   "source": [
    "def sum_of_num(n): # Anledningen att svaret inte är 1 är på grund av att det skapas en stack i det sista else-statementet. \n",
    "    if n == 1:\n",
    "        return 1\n",
    "    else:\n",
    "        return n + sum_of_num(n-1)\n",
    "\n",
    "print(sum_of_num(5))"
   ]
  },
  {
   "cell_type": "code",
   "execution_count": 15,
   "id": "063fea54-701c-461a-9791-756f43a20685",
   "metadata": {},
   "outputs": [
    {
     "name": "stdout",
     "output_type": "stream",
     "text": [
      "[4, 11, 12, 25, 40, 87, 101]\n"
     ]
    }
   ],
   "source": [
    "lst  = [87, 25, 40, 11, 12, 4, 101] # selection sort\n",
    "\n",
    "for i in range(len(lst)):\n",
    "    min_pos = i\n",
    "\t\n",
    "    for j in range(i+1, len(lst)):\n",
    "    \tif lst[j] < lst[min_pos]:\n",
    "    \t\tmin_pos = j\n",
    "    lst[i], lst[min_pos] = lst[min_pos], lst[i]\n",
    "\n",
    "print(list)"
   ]
  },
  {
   "cell_type": "code",
   "execution_count": 25,
   "id": "b92f26ec-18bd-4ae9-9f89-700ee352079d",
   "metadata": {},
   "outputs": [
    {
     "name": "stdout",
     "output_type": "stream",
     "text": [
      "[4, 11, 12, 25, 40, 87, 101]\n"
     ]
    }
   ],
   "source": [
    "lst  = [87, 25, 40, 11, 12, 4, 101] # bubble sort\n",
    "\n",
    "swapped = True # vi behöver denna variabel för att vet när vi är klara\n",
    "\n",
    "while swapped:\n",
    "    swapped = False \n",
    "    for i in range(len(lst)-1): # Här har vi -1 eftersom vi annars kommer att hamna utanfär range. \n",
    "        if lst[i] > lst[i+1]:\n",
    "            lst[i], lst[i+1] = lst[i+1], lst[i]\n",
    "            swapped = True\n",
    "\n",
    "print(lst)"
   ]
  },
  {
   "cell_type": "code",
   "execution_count": null,
   "id": "3cde45a5-b04d-4cc4-9ad1-c91873077a59",
   "metadata": {},
   "outputs": [],
   "source": []
  },
  {
   "cell_type": "code",
   "execution_count": null,
   "id": "0869d659-2f21-49f0-b92f-f23d1e30a6e0",
   "metadata": {},
   "outputs": [],
   "source": []
  }
 ],
 "metadata": {
  "kernelspec": {
   "display_name": "Python 3 (ipykernel)",
   "language": "python",
   "name": "python3"
  },
  "language_info": {
   "codemirror_mode": {
    "name": "ipython",
    "version": 3
   },
   "file_extension": ".py",
   "mimetype": "text/x-python",
   "name": "python",
   "nbconvert_exporter": "python",
   "pygments_lexer": "ipython3",
   "version": "3.11.5"
  }
 },
 "nbformat": 4,
 "nbformat_minor": 5
}
