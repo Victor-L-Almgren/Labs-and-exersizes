{
 "cells": [
  {
   "cell_type": "markdown",
   "metadata": {},
   "source": [
    "# Functions\n",
    "\n",
    "## Question 1\n",
    "Define a function named `get_even_numbers` that returns a list containing only the even numbers from a given list.\n",
    "For example, if the list given as argument is `[1, 2, 3, 4, 5, 6, 7, 8, 9]`, the function should return `[2, 4, 6, 8]`.\n",
    "\n",
    "Hint: an *even* number means that it is a multiple of 2 (which means that the reminder of the division of that number by 2 is 0). So think about using the <a href=\"https://www.geeksforgeeks.org/what-is-a-modulo-operator-in-python/\">modulo</a> operator (%) in Python."
   ]
  },
  {
   "cell_type": "code",
   "execution_count": 3,
   "metadata": {},
   "outputs": [
    {
     "data": {
      "text/plain": [
       "[2, 4, 6, 8]"
      ]
     },
     "execution_count": 3,
     "metadata": {},
     "output_type": "execute_result"
    }
   ],
   "source": [
    "def get_even_numbers(lst):\n",
    "    new_lst = []\n",
    "    for i in lst:\n",
    "        if i % 2 == 0:\n",
    "            new_lst.append(i)\n",
    "    return new_lst\n",
    "\n",
    "\n",
    "get_even_numbers([1, 2, 3, 4, 5, 6, 7, 8, 9])"
   ]
  },
  {
   "cell_type": "markdown",
   "metadata": {},
   "source": [
    "## Question 2\n",
    "Define a function named `distance` that takes as arguments two lists `x` and `z` of equal size and computes the Euclidean distance between them. This distance is mathematically defined as: <br>\n",
    "$\\sqrt {\\sum\\limits_{i=0}^{n-1}  \\left( x_i - z_i \\right)^2 }$, where $x_i$ is the $i^{th}$ element of `x`, and $z_i$ is the $i^{th}$ element of `z`, and $n$ is the size of the lists.<br>\n",
    "For example, if `x = [3, 2, 8]` and `z = [5, 1, 6]`, then `distance(x, z)` is $\\sqrt {(3-5)^2 + (2-1)^2 + (8-6)^2}$ \n",
    "\n",
    "Note: you can use `math.sqrt(...)` to compute the square root in Python."
   ]
  },
  {
   "cell_type": "code",
   "execution_count": 4,
   "metadata": {},
   "outputs": [
    {
     "data": {
      "text/plain": [
       "3.0"
      ]
     },
     "execution_count": 4,
     "metadata": {},
     "output_type": "execute_result"
    }
   ],
   "source": [
    "def distance(x, z):\n",
    "    length = len(x)\n",
    "    sum = 0\n",
    "    for i in range(length):\n",
    "        sum = sum + ((x[i] - z[i]) ** 2)\n",
    "        euclidean = sum ** 0.5\n",
    "    return euclidean \n",
    "\n",
    "lst1 = [3., 2., 8.]\n",
    "lst2 = [5., 1., 6.]\n",
    "distance(lst1, lst2)"
   ]
  },
  {
   "cell_type": "markdown",
   "metadata": {},
   "source": [
    "## Question 3\n",
    "Define a function named `is_sorted` that informs whether or not a list given as argument contains elements that are all sorted in ascending order (from smallest to largest).<br>\n",
    "For example, if the function is called with `is_sorted([2 ,7, 9, 15])`, then it should return `True` (since all the numbers in this list are sorted in the ascending order). However, `is_sorted([2 ,7, 3, 15])` should return `False` (since 7 > 3, but 7 is positioned before 3).\n"
   ]
  },
  {
   "cell_type": "code",
   "execution_count": 5,
   "metadata": {},
   "outputs": [
    {
     "name": "stdout",
     "output_type": "stream",
     "text": [
      "True\n",
      "False\n"
     ]
    }
   ],
   "source": [
    "def is_sorted(lst):\n",
    "    ordered = True\n",
    "    for i in range(len(lst)-1):\n",
    "        if lst[i] > lst[i+1]:\n",
    "            ordered = False\n",
    "    return ordered\n",
    "\n",
    "\n",
    "# Check if the function works as expected:\n",
    "lst1 = [2 ,7, 9, 15]\n",
    "lst2 = [2 ,7, 3, 15]\n",
    "print( is_sorted(lst1) )\n",
    "print( is_sorted(lst2) )"
   ]
  },
  {
   "cell_type": "markdown",
   "metadata": {},
   "source": [
    "## Question 4\n",
    "Write a function named `reverse` that takes a list as argument and returns a **new list** that contains the elements of the first list in a reverse order.\n",
    "For example, if the function is called with `reverse([\"tata\", \"toto\", \"titi\", \"foo\"])`, it should return `[\"foo\", \"titi\", \"toto\", \"tata\"]`."
   ]
  },
  {
   "cell_type": "code",
   "execution_count": 6,
   "metadata": {},
   "outputs": [
    {
     "name": "stdout",
     "output_type": "stream",
     "text": [
      "['tata', 'toto', 'titi', 'foo']\n",
      "['foo', 'titi', 'toto', 'tata']\n"
     ]
    }
   ],
   "source": [
    "def reverse(lst):\n",
    "    rev_lst = []\n",
    "    for i in range(len(lst)):\n",
    "        rev_lst.append(lst[-1-i])\n",
    "    return rev_lst\n",
    "\n",
    "mylist = [\"tata\", \"toto\", \"titi\", \"foo\"]\n",
    "new_list = reverse(mylist)\n",
    "print(mylist)\n",
    "print(new_list)"
   ]
  },
  {
   "cell_type": "markdown",
   "metadata": {},
   "source": [
    "Now you are asked to do the same as in the above question, however, this time the function is called `reverse_inplace` and should not return anything. Instead of returning a new list, it should modify the original list given as argument (that's what *in-place* means)."
   ]
  },
  {
   "cell_type": "code",
   "execution_count": 7,
   "metadata": {},
   "outputs": [
    {
     "name": "stdout",
     "output_type": "stream",
     "text": [
      "['tata', 'toto', 'titi', 'foo']\n",
      "['foo', 'titi', 'toto', 'tata']\n"
     ]
    }
   ],
   "source": [
    "def reverse_inplace(lst):\n",
    "    length = len(lst)\n",
    "    for index in range(length // 2):\n",
    "        lst[index], lst[length -index -1] = lst[length -index -1], lst[index]\n",
    "\n",
    "\n",
    "mylist = [\"tata\", \"toto\", \"titi\", \"foo\"]\n",
    "print(mylist)\n",
    "reverse_inplace(mylist)\n",
    "print(mylist)"
   ]
  },
  {
   "cell_type": "markdown",
   "metadata": {},
   "source": [
    "## Question 5\n",
    "The goal of this question is to write a program that allows the user to guess the secret number generated randomly by the program. But before doing that, let's first start by defining some useful functions.\n",
    "\n",
    "#### Defining the function `input_number(...)`\n",
    "The first function you are asked to define is called `input_number`. This function takes as argument a string `msg` to display to the user (just like the usual `input(msg)` function) and should force the user to enter a numeric value (an integer number). As long as the user enters something which not numeric, the function should display `\"That's not an integer number!\"` and should ask for the user's input again.<br>\n",
    "To test if a string `s` correspond to a numeric value in Python, you can use `s.isnumeric()`. For example, `\"hello\".isnumeric()` would give you `False` (so you can not convert it to an int using `int(\"hello\")`), but `\"32\".isnumeric()` would be `True` (so you can convert it to an int using `int(\"32\")`).\n",
    "\n",
    "Here is an example of an exchange with the user when the function is called as follows `nbr = input_number(\"Enter a number: \")`\n",
    "```\n",
    "Enter a number: hej hej\n",
    "That's not an integer number!\n",
    "\n",
    "Enter a number: hello\n",
    "That's not an integer number!\n",
    "\n",
    "Enter a number: 32\n",
    "```"
   ]
  },
  {
   "cell_type": "code",
   "execution_count": 8,
   "metadata": {},
   "outputs": [
    {
     "name": "stdin",
     "output_type": "stream",
     "text": [
      "Enter number:  9\n"
     ]
    },
    {
     "name": "stdout",
     "output_type": "stream",
     "text": [
      "9\n"
     ]
    }
   ],
   "source": [
    "def input_number(msg):\n",
    "    s = input(msg)\n",
    "    while not s.isnumeric():\n",
    "        print(\"That's not an integer number!\")\n",
    "        s = input(\"Enter an integer number: \")\n",
    "    if s.isnumeric():\n",
    "        s = int(s)\n",
    "        return s\n",
    "        \n",
    "\n",
    "nbr = input_number(\"Enter number: \")\n",
    "print(nbr)"
   ]
  },
  {
   "cell_type": "markdown",
   "metadata": {},
   "source": [
    "#### Defining the function `generate_random_secret_number()`\n",
    "The second function you are asked to define is called `generate_random_secret_number`. This function does not take any argument. It should ask the user to enter a number `A` and a number `B` (using the `input_number` function you define previously), then it returns a random integer generated between `A` and `B`. To randomly generate an integer between `A` and `B` you can use `random.randint(A, B)`."
   ]
  },
  {
   "cell_type": "code",
   "execution_count": 10,
   "metadata": {},
   "outputs": [
    {
     "name": "stdin",
     "output_type": "stream",
     "text": [
      "Enter a number for A: 1\n",
      "Enter a larger number for B:  100\n"
     ]
    },
    {
     "data": {
      "text/plain": [
       "66"
      ]
     },
     "execution_count": 10,
     "metadata": {},
     "output_type": "execute_result"
    }
   ],
   "source": [
    "import random\n",
    "\n",
    "def input_number(msg):\n",
    "    s = input(msg)\n",
    "    while not s.isnumeric():\n",
    "        print(\"That's not an integer number!\")\n",
    "        s = input(\"Enter an integer number: \")\n",
    "    if s.isnumeric():\n",
    "        s = int(s)\n",
    "        return s\n",
    "\n",
    "def generate_random_secret_number():\n",
    "    a = input_number(\"Enter a number for A:\")\n",
    "    b = input_number(\"Enter a larger number for B: \")\n",
    "    if a >= b:\n",
    "        while (a >= b):\n",
    "            b = input_number(\"Enter an even larger number for B!\")\n",
    "    secret = random.randint(a, b)\n",
    "    return secret\n",
    "\n",
    "generate_random_secret_number()"
   ]
  },
  {
   "cell_type": "markdown",
   "metadata": {},
   "source": [
    "#### Defining the function `game(...)`\n",
    "The last function you are asked to define is called `game`. This function generates randomly a secret number and challenges the user to guess it in a limited number of trials. The function takes the number of `trials` as an argument (with a default value of 10).\n",
    "Here is an example after calling the function `game(trials=10)` :\n",
    "```\n",
    "Enter a number A: 1\n",
    "Enter a number B: 100\n",
    "Some secret number was generated between A and B, try to guess it in less than 10 trials.\n",
    "\n",
    "(trial 1) Guess the secret number: 50\n",
    "The secret number is smaller than this\n",
    "\n",
    "(trial 2) Guess the secret number: 25\n",
    "The secret number is larger than this\n",
    "\n",
    "(trial 3) Guess the secret number: 40\n",
    "Congratulations, the secret number is 40. You found it after 3 trials.\n",
    "```"
   ]
  },
  {
   "cell_type": "code",
   "execution_count": 11,
   "metadata": {},
   "outputs": [
    {
     "name": "stdin",
     "output_type": "stream",
     "text": [
      "Enter a number for A: hej\n"
     ]
    },
    {
     "name": "stdout",
     "output_type": "stream",
     "text": [
      "That's not an integer number!\n"
     ]
    },
    {
     "name": "stdin",
     "output_type": "stream",
     "text": [
      "Enter an integer number:  1\n",
      "Enter a larger number for B:  100\n"
     ]
    },
    {
     "name": "stdout",
     "output_type": "stream",
     "text": [
      "Some secret number was generated between A and B, try to guess it in less than 10 trials.\n",
      "Trial 1:\n"
     ]
    },
    {
     "name": "stdin",
     "output_type": "stream",
     "text": [
      "Guess a number:  50\n"
     ]
    },
    {
     "name": "stdout",
     "output_type": "stream",
     "text": [
      "The secret number is smaller than this.\n",
      "Trial 2:\n"
     ]
    },
    {
     "name": "stdin",
     "output_type": "stream",
     "text": [
      "Guess a number:  25\n"
     ]
    },
    {
     "name": "stdout",
     "output_type": "stream",
     "text": [
      "The secret number is smaller than this.\n",
      "Trial 3:\n"
     ]
    },
    {
     "name": "stdin",
     "output_type": "stream",
     "text": [
      "Guess a number:  12\n"
     ]
    },
    {
     "name": "stdout",
     "output_type": "stream",
     "text": [
      "The secret number is smaller than this.\n",
      "Trial 4:\n"
     ]
    },
    {
     "name": "stdin",
     "output_type": "stream",
     "text": [
      "Guess a number:  7\n"
     ]
    },
    {
     "name": "stdout",
     "output_type": "stream",
     "text": [
      "The secret number is smaller than this.\n",
      "Trial 5:\n"
     ]
    },
    {
     "name": "stdin",
     "output_type": "stream",
     "text": [
      "Guess a number:  4\n"
     ]
    },
    {
     "name": "stdout",
     "output_type": "stream",
     "text": [
      "The secret number is bigger than this.\n",
      "Trial 6:\n"
     ]
    },
    {
     "name": "stdin",
     "output_type": "stream",
     "text": [
      "Guess a number:  5\n"
     ]
    },
    {
     "name": "stdout",
     "output_type": "stream",
     "text": [
      "Congratulations, the secret number was 5. You found it after 6 trials. \n"
     ]
    }
   ],
   "source": [
    "import random\n",
    "# input function\n",
    "def input_number(msg):\n",
    "    s = input(msg)\n",
    "    while not s.isnumeric():\n",
    "        print(\"That's not an integer number!\")\n",
    "        s = input(\"Enter an integer number: \")\n",
    "    if s.isnumeric():\n",
    "        s = int(s)\n",
    "        return s\n",
    "# Random number function\n",
    "def generate_random_secret_number():\n",
    "    a = input_number(\"Enter a number for A:\")\n",
    "    b = input_number(\"Enter a larger number for B: \")\n",
    "    if a >= b:\n",
    "        while (a >= b):\n",
    "            b = input_number(\"Enter an even larger number for B!\")\n",
    "    secret = random.randint(a, b)\n",
    "    return secret\n",
    "# game\n",
    "def game(trials=10):\n",
    "    anwser = generate_random_secret_number()\n",
    "    print(\"Some secret number was generated between A and B, try to guess it in less than 10 trials.\")\n",
    "    for attempt in range(trials):\n",
    "        print(\"Trial \", attempt + 1, \":\", sep=\"\")\n",
    "        guess = input_number(\"Guess a number: \")\n",
    "        if guess == anwser:\n",
    "            print(\"Congratulations, the secret number was \", anwser, \".\", \" You found it after \", (attempt + 1), \" trials. \", sep=\"\")\n",
    "            break\n",
    "        elif guess < anwser:\n",
    "            print(\"The secret number is bigger than this.\")\n",
    "        elif guess > anwser:\n",
    "            print(\"The secret number is smaller than this.\")\n",
    "    if guess != anwser:\n",
    "        print(\"Sorry, you lost.\")\n",
    "\n",
    "game()"
   ]
  },
  {
   "cell_type": "code",
   "execution_count": null,
   "metadata": {},
   "outputs": [],
   "source": []
  }
 ],
 "metadata": {
  "kernelspec": {
   "display_name": "Python 3 (ipykernel)",
   "language": "python",
   "name": "python3"
  },
  "language_info": {
   "codemirror_mode": {
    "name": "ipython",
    "version": 3
   },
   "file_extension": ".py",
   "mimetype": "text/x-python",
   "name": "python",
   "nbconvert_exporter": "python",
   "pygments_lexer": "ipython3",
   "version": "3.11.5"
  }
 },
 "nbformat": 4,
 "nbformat_minor": 4
}
