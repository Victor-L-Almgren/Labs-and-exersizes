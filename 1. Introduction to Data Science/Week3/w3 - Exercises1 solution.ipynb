{
 "cells": [
  {
   "cell_type": "markdown",
   "id": "feb67f5e",
   "metadata": {},
   "source": [
    "**Exercise 1:**\n",
    "\n",
    "You are given a function `maximum_of_two(x, y)` that returns the maximum of 2 numbers `x` and `y`. Write a Python program that uses (or calls) this function in order to calculate le maximum of 4 numbers that the user inputs."
   ]
  },
  {
   "cell_type": "code",
   "execution_count": 1,
   "id": "a1dfd669",
   "metadata": {},
   "outputs": [
    {
     "name": "stdout",
     "output_type": "stream",
     "text": [
      "Enter a number: 5\n",
      "Enter a number: 2\n",
      "Enter a number: 12\n",
      "Enter a number: -3\n",
      "The maximum is: 12\n"
     ]
    }
   ],
   "source": [
    "def maximum_of_two(x, y):\n",
    "    return x if x > y else y\n",
    "\n",
    "maximum = int(input(\"Enter a number: \"))\n",
    "for i in range(1, 4):\n",
    "    nbr = int(input(\"Enter a number: \"))\n",
    "    maximum = maximum_of_two(nbr, maximum)\n",
    "\n",
    "print(f\"The maximum is: {maximum}\")"
   ]
  },
  {
   "cell_type": "markdown",
   "id": "a50c90b8",
   "metadata": {},
   "source": [
    "**Exercise 2:**\n",
    "\n",
    "Define a function `thresholding(low, up, x)` that returns a thresholded value of `x` (to make it within the interval `[low, up]`). Then, write a program that allows you to calculate the sum of 10 real numbers entered through the keyboard, after each of them has been thresholded within the bounds of a given interval."
   ]
  },
  {
   "cell_type": "code",
   "execution_count": 2,
   "id": "44cb689e",
   "metadata": {},
   "outputs": [
    {
     "name": "stdout",
     "output_type": "stream",
     "text": [
      "Enter the lower bound: 10\n",
      "Enter the upper bound: 20\n",
      "Enter real number 1: 5\n",
      "Enter real number 2: 11\n",
      "Enter real number 3: 26\n",
      "Enter real number 4: 84\n",
      "Enter real number 5: 14\n",
      "Enter real number 6: 12\n",
      "Enter real number 7: -8\n",
      "Enter real number 8: 1\n",
      "Enter real number 9: 0\n",
      "Enter real number 10: 16\n",
      "The sum after thresholding each value is: 133.0\n"
     ]
    }
   ],
   "source": [
    "def thresholding(low, up, x):\n",
    "    if x < low:\n",
    "        return low\n",
    "    elif x > up:\n",
    "        return up\n",
    "    else:\n",
    "        return x\n",
    "\n",
    "lower_bound = float(input(f\"Enter the lower bound: \"))\n",
    "upper_bound = float(input(f\"Enter the upper bound: \"))\n",
    "\n",
    "total_sum = 0\n",
    "for i in range(10):\n",
    "    num = float(input(f\"Enter real number {i+1}: \"))\n",
    "    num = thresholding(lower_bound, upper_bound, num)\n",
    "    total_sum = total_sum + num\n",
    "\n",
    "print(f\"The sum after thresholding each value is: {total_sum}\")"
   ]
  },
  {
   "cell_type": "markdown",
   "id": "a748a179",
   "metadata": {},
   "source": [
    "**Exercise 3:**\n",
    "\n",
    "To increase sales in his supermarket, the manager has decided to offer the following promotion: for any purchase exceeding 100 euros, the customer receives the cheapest item for free and a 10% discount on the most expensive item among their purchases. It is assumed that the customer buys at least 2 items.\n",
    "\n",
    "You are asked to write an algorithm that displays:\n",
    "\n",
    "    the total to pay before discounts,\n",
    "    the price of the cheapest item,\n",
    "    the price of the most expensive item,\n",
    "    the total to pay after taking discounts into account,\n",
    "    the savings made by the customer thanks to these discounts.\n",
    "\n",
    "You will read the prices of the items, and a value of 0 will mark the end of the input. You will write and use two functions, one that returns the minimum of 2 real numbers and the other the maximum of 2 real numbers."
   ]
  },
  {
   "cell_type": "code",
   "execution_count": 3,
   "id": "bd3de1c7",
   "metadata": {},
   "outputs": [
    {
     "name": "stdout",
     "output_type": "stream",
     "text": [
      "Enter price: 50\n",
      "Enter price: 20\n",
      "Enter price: 100\n",
      "Enter price: 0\n",
      "The total to pay before discounts is: 170.0\n",
      "The price of the cheapest item is: 20.0\n",
      "The price of the most expensive item is: 100.0\n",
      "The total to pay after discounts is: 140.0\n",
      "The customer has saved: 30.0\n"
     ]
    }
   ],
   "source": [
    "def find_minimum(a, b):\n",
    "    if a < b:\n",
    "        return a\n",
    "    else:\n",
    "        return b\n",
    "\n",
    "def find_maximum(a, b):\n",
    "    if a > b:\n",
    "        return a\n",
    "    else:\n",
    "        return b\n",
    "\n",
    "price = float(input(\"Enter price: \"))\n",
    "total = price\n",
    "cheapest_price = price\n",
    "most_expensive_price = price\n",
    "price = float(input(\"Enter price: \"))\n",
    "\n",
    "while price != 0:\n",
    "    total += price\n",
    "    cheapest_price = find_minimum(price, cheapest_price)\n",
    "    most_expensive_price = find_maximum(price, most_expensive_price)\n",
    "    price = float(input(\"Enter price: \"))\n",
    "\n",
    "if total >= 100:\n",
    "    total_after_discounts = total - cheapest_price - (most_expensive_price * 0.1)\n",
    "else:\n",
    "    total_after_discounts = total\n",
    "\n",
    "savings = total - total_after_discounts\n",
    "\n",
    "print(f\"The total to pay before discounts is: {total}\")\n",
    "print(f\"The price of the cheapest item is: {cheapest_price}\")\n",
    "print(f\"The price of the most expensive item is: {most_expensive_price}\")\n",
    "print(f\"The total to pay after discounts is: {total_after_discounts}\")\n",
    "print(f\"The customer has saved: {savings}\")\n"
   ]
  },
  {
   "cell_type": "markdown",
   "id": "502b46fe",
   "metadata": {},
   "source": [
    "**Exercise 4:**\n",
    "\n",
    "Write a function that returns the maximum element of a matrix (provided as a list of lists)."
   ]
  },
  {
   "cell_type": "code",
   "execution_count": 4,
   "id": "cd6f37b2",
   "metadata": {},
   "outputs": [
    {
     "name": "stdout",
     "output_type": "stream",
     "text": [
      "The maximum element in the matrix is: 9\n"
     ]
    }
   ],
   "source": [
    "def find_maximum_element(matrix):\n",
    "    # Initialize the maximum value to the first value in the matrix\n",
    "    max_element = matrix[0][0]\n",
    "\n",
    "    # Iterate through each element in the matrix\n",
    "    for row in matrix:\n",
    "        for element in row:\n",
    "            # If the current element is greater than the current max_element\n",
    "            if element > max_element:\n",
    "                max_element = element\n",
    "\n",
    "    return max_element\n",
    "\n",
    "\n",
    "# Example of usage:\n",
    "matrix = [\n",
    "    [3, 7, 2],\n",
    "    [9, 4, 1],\n",
    "    [8, 5, 6]\n",
    "]\n",
    "\n",
    "result = find_maximum_element(matrix)\n",
    "print(\"The maximum element in the matrix is:\", result)\n"
   ]
  },
  {
   "cell_type": "markdown",
   "id": "e9e9e96c",
   "metadata": {},
   "source": [
    "**Exercise 5:**\n",
    "\n",
    "Write a function that reverses a list in-place (without creating a new list)."
   ]
  },
  {
   "cell_type": "code",
   "execution_count": 5,
   "id": "03acfe14",
   "metadata": {},
   "outputs": [
    {
     "name": "stdout",
     "output_type": "stream",
     "text": [
      "[5, 4, 3, 2, 1]\n"
     ]
    }
   ],
   "source": [
    "def reverse_list_in_place(my_list):\n",
    "    # Calculate the length of the list\n",
    "    length = len(my_list)\n",
    "    \n",
    "    # Iterate through the first half of the list\n",
    "    for i in range(length // 2):\n",
    "        # Swap elements from the beginning and end of the list\n",
    "        my_list[i], my_list[length - i - 1] = my_list[length - i - 1], my_list[i]\n",
    "\n",
    "# Example usage:\n",
    "my_list = [1, 2, 3, 4, 5]\n",
    "reverse_list_in_place(my_list)\n",
    "print(my_list)  # Output: [5, 4, 3, 2, 1]\n"
   ]
  },
  {
   "cell_type": "markdown",
   "id": "2c15388f",
   "metadata": {},
   "source": [
    "**Exercise 6:**\n",
    "\n",
    "This problem is concerned with deleting repeated elements from a sorted list. For example, for the list `[2, 3, 5, 5, 7, 11, 11, 11, 13]`, then after deletion, the list is `[2, 3, 5, 7, 11, 13, None, None, None]`. After deleting repeated elements, there are 6 valid entries. The values stored beyond the last valid element as just replaced with `None`.\n",
    "\n",
    "Define a Python function which takes a sorted list and updates it (in-place) so that all duplicates have been removed and the remaining elements have been shifted left to fill the emptied indices. The function should return the number of valid elements."
   ]
  },
  {
   "cell_type": "code",
   "execution_count": 6,
   "id": "34a48b61",
   "metadata": {},
   "outputs": [
    {
     "name": "stdout",
     "output_type": "stream",
     "text": [
      "Updated List: [2, 3, 5, 7, 11, 13, None, None, None]\n",
      "Number of Valid Elements: 6\n"
     ]
    }
   ],
   "source": [
    "def remove_duplicates(arr):\n",
    "    write_index = 1\n",
    "    \n",
    "    for i in range(1, len(arr)):\n",
    "        if arr[write_index - 1] != arr[i]:\n",
    "            arr[write_index] = arr[i]\n",
    "            write_index = write_index + 1\n",
    "\n",
    "    # Fill the remaining elements with None\n",
    "    for i in range(write_index, len(arr)):\n",
    "        arr[i] = None\n",
    "\n",
    "    return write_index\n",
    "\n",
    "# Example usage:\n",
    "arr = [2, 3, 5, 5, 7, 11, 11, 11, 13]\n",
    "valid_count = remove_duplicates(arr)\n",
    "print(\"Updated List:\", arr)\n",
    "print(\"Number of Valid Elements:\", valid_count)\n"
   ]
  },
  {
   "cell_type": "markdown",
   "id": "1d54a1ea",
   "metadata": {},
   "source": [
    "**Exercise 7:**\n",
    "\n",
    "Define a function that calculates the sum of the digits of a positive integer. For example, sum_of_digits(12345) should return 15."
   ]
  },
  {
   "cell_type": "code",
   "execution_count": 7,
   "id": "91685dfe",
   "metadata": {},
   "outputs": [
    {
     "name": "stdout",
     "output_type": "stream",
     "text": [
      "15\n"
     ]
    }
   ],
   "source": [
    "def sum_of_digits(n):\n",
    "    # Initialize the sum\n",
    "    digit_sum = 0\n",
    "    \n",
    "    # Iterate through each digit of the number\n",
    "    while n > 0:\n",
    "        # Get the last digit\n",
    "        digit = n % 10\n",
    "        \n",
    "        # Add the digit to the sum\n",
    "        digit_sum += digit\n",
    "        \n",
    "        # Remove the last digit from the number\n",
    "        n = n // 10\n",
    "    \n",
    "    return digit_sum\n",
    "\n",
    "# Example usage:\n",
    "result = sum_of_digits(12345)\n",
    "print(result)  # Output: 15\n"
   ]
  },
  {
   "cell_type": "markdown",
   "id": "39ce5d45",
   "metadata": {},
   "source": [
    "**Exercise 8:**\n",
    "\n",
    "Write a Python function that takes two strings as input and returns True if they are anagrams of each other, and False otherwise. An anagram is a word or phrase formed by rearranging the letters of another, such as \"listen\" vs \"silent\", or \"dusty\" vs \"study\"."
   ]
  },
  {
   "cell_type": "code",
   "execution_count": 8,
   "id": "3d723a9e",
   "metadata": {},
   "outputs": [
    {
     "name": "stdout",
     "output_type": "stream",
     "text": [
      "Enter the first string: thing\n",
      "Enter the second string: night\n",
      "These strings are anagrams.\n"
     ]
    }
   ],
   "source": [
    "def are_anagrams(str1, str2):\n",
    "    # Remove spaces and convert both strings to lowercase\n",
    "    str1 = str1.lower()\n",
    "    str2 = str2.lower()\n",
    "\n",
    "    # Check if the sorted characters of both strings are the same\n",
    "    return sorted(str1) == sorted(str2)\n",
    "\n",
    "# Example usage:\n",
    "string1 = input(\"Enter the first string: \")\n",
    "string2 = input(\"Enter the second string: \")\n",
    "\n",
    "if are_anagrams(string1, string2):\n",
    "    print(\"These strings are anagrams.\")\n",
    "else:\n",
    "    print(\"These strings are not anagrams.\")\n"
   ]
  },
  {
   "cell_type": "markdown",
   "id": "f3775669",
   "metadata": {},
   "source": [
    "**Exercise 9:**\n",
    "\n",
    "Create a function that calculates the factorial of a given positive integer using a recursive approach. For example, factorial(5) should return 120."
   ]
  },
  {
   "cell_type": "code",
   "execution_count": 9,
   "id": "09d8baa7",
   "metadata": {},
   "outputs": [
    {
     "name": "stdout",
     "output_type": "stream",
     "text": [
      "120\n"
     ]
    }
   ],
   "source": [
    "def factorial(n):\n",
    "    # Base case: factorial of 0 or 1 is 1\n",
    "    if n == 0 or n == 1:\n",
    "        return 1\n",
    "    else:\n",
    "        # Recursive case: factorial(n) = n * factorial(n-1)\n",
    "        return n * factorial(n - 1)\n",
    "\n",
    "# Example usage:\n",
    "result = factorial(5)\n",
    "print(result)  # Output: 120\n"
   ]
  },
  {
   "cell_type": "markdown",
   "id": "9f2c7607",
   "metadata": {},
   "source": [
    "**Exercise 10:**\n",
    "\n",
    "Write a function `transpose_matrix(matrix)` that transposes a square matrix (having the same number rows as columns) represented as a list of lists. The transposed matrix should have its rows and columns swapped. The matrix should be transposed in-place (without creating a new matrix)."
   ]
  },
  {
   "cell_type": "code",
   "execution_count": 10,
   "id": "2d8d999d",
   "metadata": {},
   "outputs": [
    {
     "name": "stdout",
     "output_type": "stream",
     "text": [
      "[1, 4, 7]\n",
      "[2, 5, 8]\n",
      "[3, 6, 9]\n"
     ]
    }
   ],
   "source": [
    "def transpose_matrix(matrix):\n",
    "    # Get the number of rows and columns in the original matrix\n",
    "    num_rows = len(matrix)\n",
    "    num_cols = len(matrix[0])\n",
    "\n",
    "    # Check if the matrix is empty or square\n",
    "    if num_rows != num_cols:\n",
    "        raise ValueError(\"Input matrix must be square for in-place transpose.\")\n",
    "\n",
    "    for i in range(num_rows):\n",
    "        for j in range(i + 1, num_cols):\n",
    "            # Swap the elements at (i, j) and (j, i)\n",
    "            matrix[i][j], matrix[j][i] = matrix[j][i], matrix[i][j]\n",
    "\n",
    "# Example usage:\n",
    "matrix = [\n",
    "    [1, 2, 3],\n",
    "    [4, 5, 6],\n",
    "    [7, 8, 9],\n",
    "]\n",
    "\n",
    "transpose_matrix(matrix)\n",
    "\n",
    "for row in matrix:\n",
    "    print(row)\n"
   ]
  }
 ],
 "metadata": {
  "kernelspec": {
   "display_name": "Python 3 (ipykernel)",
   "language": "python",
   "name": "python3"
  },
  "language_info": {
   "codemirror_mode": {
    "name": "ipython",
    "version": 3
   },
   "file_extension": ".py",
   "mimetype": "text/x-python",
   "name": "python",
   "nbconvert_exporter": "python",
   "pygments_lexer": "ipython3",
   "version": "3.9.13"
  }
 },
 "nbformat": 4,
 "nbformat_minor": 5
}
