{
 "cells": [
  {
   "cell_type": "markdown",
   "id": "feb67f5e",
   "metadata": {},
   "source": [
    "**Exercise 1:**\n",
    "\n",
    "Write a program that allows you to enter any number of values, and it stores them in a list as you go. Once the input is complete, the program should determine whether the elements in the array are all consecutive or not.\n",
    "\n",
    "For example, if the list is: `[12, 13, 14, 15, 16, 17, 18]`, its elements are all consecutive. <br />\n",
    "However, if the list is: `[9, 10, 11, 15, 16, 17, 18]`, its elements are not all consecutive."
   ]
  },
  {
   "cell_type": "code",
   "execution_count": null,
   "id": "a1dfd669",
   "metadata": {},
   "outputs": [],
   "source": []
  },
  {
   "cell_type": "markdown",
   "id": "a50c90b8",
   "metadata": {},
   "source": [
    "**Exercise 2:**\n",
    "\n",
    "Define a function that sorts a list, in-place, in descending order (from larger to smaller). You will, of course, write two versions of this algorithm, one using selection sort and the other using bubble sort, without looking at the solution provided in the course."
   ]
  },
  {
   "cell_type": "code",
   "execution_count": null,
   "id": "44cb689e",
   "metadata": {},
   "outputs": [],
   "source": []
  },
  {
   "cell_type": "markdown",
   "id": "a748a179",
   "metadata": {},
   "source": [
    "**Exercise 3:**\n",
    "\n",
    "Define a function that searches for a word entered via the keyboard in a list of words. The list is assumed to be pre-sorted (so no need to sort it). Your function is supposed to return True if the word exists in the list, otherwise it returns False."
   ]
  },
  {
   "cell_type": "code",
   "execution_count": null,
   "id": "bd3de1c7",
   "metadata": {},
   "outputs": [],
   "source": []
  },
  {
   "cell_type": "markdown",
   "id": "502b46fe",
   "metadata": {},
   "source": [
    "**Exercise 4:**\n",
    "\n",
    "Define a function that merges two existing lists (`list1`, `list2`) into a third list, which should be sorted.<br />\n",
    "Please note that we assume the two lists `list1` and `list2` are already sorted. It would be irrational to simply concatenate the two lists and then sort the result. There is a much more efficient (and thus, more rational) method to achieve this."
   ]
  },
  {
   "cell_type": "code",
   "execution_count": null,
   "id": "cd6f37b2",
   "metadata": {},
   "outputs": [],
   "source": []
  }
 ],
 "metadata": {
  "kernelspec": {
   "display_name": "Python 3 (ipykernel)",
   "language": "python",
   "name": "python3"
  },
  "language_info": {
   "codemirror_mode": {
    "name": "ipython",
    "version": 3
   },
   "file_extension": ".py",
   "mimetype": "text/x-python",
   "name": "python",
   "nbconvert_exporter": "python",
   "pygments_lexer": "ipython3",
   "version": "3.9.13"
  }
 },
 "nbformat": 4,
 "nbformat_minor": 5
}
